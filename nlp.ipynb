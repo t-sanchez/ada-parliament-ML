{
 "cells": [
  {
   "cell_type": "code",
   "execution_count": 18,
   "metadata": {
    "collapsed": false
   },
   "outputs": [],
   "source": [
    "import pandas as pd\n",
    "import glob\n",
    "import os\n",
    "import numpy as np\n",
    "import lda\n",
    "import lda.datasets\n",
    "\n",
    "from time import time\n",
    "\n",
    "from sklearn.feature_extraction.text import TfidfVectorizer, CountVectorizer\n",
    "from sklearn.decomposition import NMF, LatentDirichletAllocation\n",
    "from sklearn.datasets import fetch_20newsgroups"
   ]
  },
  {
   "cell_type": "code",
   "execution_count": 29,
   "metadata": {
    "collapsed": false
   },
   "outputs": [
    {
     "name": "stdout",
     "output_type": "stream",
     "text": [
      "27405\n"
     ]
    },
    {
     "data": {
      "text/plain": [
       "'Aujourd\\'hui, nous connaissons une distinction entre la fraude fiscale et la soustraction fiscale. La fraude fiscale conduit en général à l\\'utilisation de faux dans les titres; elle tombe sous le coup du droit pénal, avec des procédures judiciaires; elle aboutit à des peines sous forme d\\'amendes ou à des peines privatives de liberté. La soustraction fiscale, quant à elle, relève de la négligence; elle est soumise à une procédure administrative et elle aboutit à une contravention, à une amende.\\nL\\'auteur de l\\'initiative nous propose de faire une distinction à l\\'intérieur du concept de soustraction fiscale, soit entre la soustraction intentionnelle ou répétée et la soustraction par négligence ou unique. Avec la soustraction intentionnelle, nous serions en présence d\\'une fraude fiscale, c\\'est-à-dire que nous aurions affaire à un délit ou à un crime, avec une procédure judiciaire à la clé. La notion de \"soustraction intentionnelle\" serait en relation avec des montants importants. Par contre, une soustraction par négligence qui aboutirait à une contravention serait caractérisée essentiellement par le fait que cela touche de petits montants.\\nQuel a été le débat en commission? Tout d\\'abord, il a eu lieu dans le cadre des discussions entre la Suisse et l\\'OCDE sur l\\'échange d\\'informations. Aujourd\\'hui, la Suisse est la seule à reconnaître la distinction entre fraude et soustraction fiscale. Il y a des pressions internationales dont vous avez connaissance, des pressions qui vont jusqu\\'à exiger l\\'échange automatique d\\'informations. Le Conseil fédéral a décidé au mois de mars 2009 d\\'appliquer l\\'article 26 du Modèle de [PAGE 674] convention de l\\'OCDE, à savoir de procéder à un échange de renseignements sur demande, de cas en cas. Cet échange peut avoir lieu également en cas de soustraction fiscale.\\nPour la majorité de la commission, le débat sur l\\'échange d\\'informations et sur l\\'atténuation qu\\'on observe, dans ce cadre, depuis mars 2009, dans la distinction entre fraude et soustraction fiscale porte sur une question qui relève de notre politique extérieure. Nous pouvons parfaitement garder la distinction telle que nous la connaissons aujourd\\'hui dans notre droit interne; c\\'est une décision souveraine que nous pouvons tout à fait prendre.\\nDu reste, le Conseil fédéral lui-même rappelle que la décision de mars 2009 ne change rien pour les contribuables qui sont domiciliés en Suisse. La majorité de la commission tient à la distinction, telle que nous la connaissons aujourd\\'hui, entre fraude et soustraction fiscale. La distinction qui est faite par l\\'auteur de l\\'initiative, qui définit deux catégories de soustraction fiscale, n\\'aplanirait pas nos divergences avec l\\'OCDE et l\\'Union européenne. En effet, ces institutions souhaitent tout simplement aller vers la transmission intégrale et automatique d\\'informations, et non pas vers une nouvelle catégorie de soustraction fiscale.\\nJ\\'en arrive au troisième argument de la majorité: le droit suisse actuel n\\'est de loin pas laxiste en la matière puisqu\\'il prévoit, en cas de soustraction fiscale, des amendes qui peuvent être importantes et progressives. Donc, il existe bien une distinction entre la soustraction fiscale que j\\'appellerai bénigne et la soustraction fiscale plus importante. Du reste, si le délit va plus loin, avec notamment l\\'usage de faux, on tombe dans la fraude fiscale, avec une procédure de type judiciaire et éventuellement de la prison à la clé.\\nCe système, progressif, a pour avantages de sanctionner l\\'ensemble des délits selon leur gravité et de ne pas pousser la criminalisation trop loin.\\nDans le cadre de la soustraction fiscale, pour la minorité de la commission, vous l\\'avez entendu tout à l\\'heure, la palette des cas est extrêmement diverse. Cela nécessite donc d\\'avoir une palette de sanctions qui soit plus large que celle que l\\'on connaît aujourd\\'hui. Il faut donc faire une distinction très nette entre le simple oubli et la récidive, avec à la clé une distinction entre fraude et soustraction fiscale.\\nAinsi, aux yeux de la minorité de la commission, il faut revoir ce système-là, \"déplacer le curseur\" - comme cela a été dit tout à l\\'heure. \\nAu terme de ses débats, la commission, par 17 voix contre 8 et aucune abstention, a proposé de ne pas donner suite à cette initiative parlementaire.\\n'"
      ]
     },
     "execution_count": 29,
     "metadata": {},
     "output_type": "execute_result"
    }
   ],
   "source": [
    "dataset = []\n",
    "\n",
    "path = 'datas/Transcript/'\n",
    "allFiles = glob.glob(os.path.join(path, '*.csv'))\n",
    "\n",
    "for file_ in allFiles:\n",
    "    data = pd.read_csv(file_)\n",
    "    dataset = dataset + list(data[(data['Text'] == data['Text']) & (data['LanguageOfText'] == 'FR')]['Text'].values)\n",
    "    \n",
    "print(len(dataset))\n",
    "dataset[0]"
   ]
  },
  {
   "cell_type": "code",
   "execution_count": 41,
   "metadata": {
    "collapsed": false
   },
   "outputs": [
    {
     "name": "stdout",
     "output_type": "stream",
     "text": [
      "Je commencerai par éclaircir un point, au sujet de la proposition de la minorité Moret et de celle de la majorité, qui a donné lieu à des interprétations diverses. Il s'agit, concernant les médicaments qui bénéficient d'une autorisation cantonale, de savoir s'il y a une différence matérielle entre le fait d'inscrire cela à l'article 95b ou à l'article 9 alinéa 2 lettre f. En réalité, par rapport à la situation de départ aujourd'hui, et qui évoluerait en application de l'une ou l'autre disposition, il n'y a matériellement aucune différence. C'est la raison pour laquelle je vous laisse libres de décider. Cela ne change rien quant au contenu.\n",
      "L'autre élément sur lequel je souhaite revenir concerne la question de l'octroi ou de la prolongation de l'exclusivité des données et la question de l'exclusivité commerciale. En complément à l'exclusivité des données, en général d'une durée de dix ans, comme le prévoit l'article 11a, la révision prévoit à l'article 11b alinéa 1 une durée de protection supplémentaire de trois ans pour les développements nouveaux relatifs aux médicaments bénéficiant de l'exclusivité des données selon l'article 11a. En vertu de l'article 11b alinéa 2, l'exclusivité peut être prolongée à cinq ans en cas, et il est important de le mentionner, de \"bénéfice clinique important par rapport aux thérapies existantes\". Cette mesure vise à promouvoir les innovations concernant les médicaments connus, par exemple le développement d'un nouveau mode d'administration d'un médicament.\n",
      "Pour ce qui concerne les médicaments pour les maladies rares, la loi ne prévoit pas d'incitation particulière, par exemple une prolongation de l'exclusivité des données. Ce n'est que pour les médicaments à usage pédiatrique que la révision prévoit une prolongation à douze ans de l'exclusivité des données dans le cas des médicaments pour les maladies rares. Il s'agit là aussi d'encourager le développement de médicaments à usage pédiatrique.\n",
      "La commission souhaiterait qu'il soit possible d'accorder une protection supplémentaire des données à d'autres sociétés que le titulaire de l'autorisation de la préparation originale, par exemple pour celles qui développent une nouvelle indication pour un principe actif connu. Le Conseil fédéral soutient cette proposition, qui encourage de façon adéquate la recherche sur des médicaments déjà autorisés. \n",
      "La proposition de la majorité de la commission vise à accorder une exclusivité de dix ans pour les données déposées concernant une nouvelle indication d'un médicament lorsque les données se fondent sur des études précliniques et cliniques significatives.\n",
      "La proposition de la minorité Carobbio Guscetti soutient quant à elle le projet du Conseil fédéral et prévoit de s'en tenir à cinq ans. Mais j'attire votre attention sur le fait que cette protection supplémentaire de cinq ans ne doit être accordée que - et c'est important - si l'innovation apporte effectivement un bénéfice important par rapport aux thérapies existantes. Or si on accorde cette exclusivité en raison du niveau des investissements uniquement, on risque de protéger des innovations qui n'en sont pas, de protéger de fausses innovations.\n",
      "La question est donc de savoir si vous souhaitez donner cette extension de l'exclusivité des données pour des innovations qui sont effectivement disponibles pour les patients, qui apportent vraiment quelque chose, ou si vous souhaitez donner cette exclusivité pour celles et ceux qui investissent des moyens dans la recherche. Autrement dit: est-ce que vous souhaitez soutenir les chercheurs qui trouvent ou les chercheurs qui se contentent de chercher sans trouver grand-chose? Ce n'est pas exactement le même principe. C'est la raison pour laquelle le Conseil fédéral soutient la proposition de la minorité Carobbio Guscetti à l'article 11b alinéa 2bis. \n",
      "S'agissant de l'exclusivité commerciale, la majorité de la commission souhaite, afin d'améliorer l'accès aux médicaments pour les maladies rares, garantir une exclusivité commerciale de dix ans. Celle-ci pourrait être prolongée de deux ans pour les médicaments à usage pédiatrique et être ainsi portée à douze ans. Il faut dire que cela correspond à la réglementation en vigueur dans l'Union européenne ainsi qu'aux Etats-Unis. Dans le fond, cet instrument de l'exclusivité commerciale empêche qu'un autre acteur du marché n'obtienne une autorisation pour le même domaine d'application thérapeutique pendant la période de protection. Là aussi, une minorité de la commission reconnaît la nécessité de créer des incitations. Pourtant, elle estime que cela ne doit pas reposer sur l'exclusivité commerciale, mais précisément sur l'autre point, à savoir l'exclusivité des données pendant dix ans.\n",
      "Ici aussi, le Conseil fédéral vous invite à adopter la proposition de la minorité Carobbio Guscetti.\n",
      "Ce que propose la majorité de la commission, c'est-à-dire l'exclusivité commerciale pour dix ans, est une restriction extrêmement forte de la concurrence. C'est la création temporaire, mais pour une période tout de même assez longue, de monopoles privés. C'est ce que peut souhaiter le Parlement, mais ce n'est pas ce que souhaite le Conseil fédéral. Il faut dire aussi clairement que là où cela a été réalisé, notamment aux Etats-Unis, cela n'a pas conduit aux effets escomptés. Cela n'a pas contribué à améliorer l'approvisionnement en médicaments pour les maladies rares, mais a conduit par contre à une augmentation des prix parfois extrêmement brutale. A ce sujet, des études qui comparent les prix des médicaments pour les maladies rares existent et sont disponibles. On peut faire quelques comparaisons avec les Etats-Unis où on voit que certains prix sont incroyablement élevés, ce qui rend les médicaments moins accessibles, voire inaccessibles pour les patients.\n",
      "Cela ne peut pas être le but. Si nous avons la chance de pouvoir bénéficier des expériences réalisées dans d'autres pays et que l'on voit que cela ne marche pas, il faut en tenir compte dans les réflexions faites en Suisse avant de prendre une décision. Quand d'autres font des erreurs et que cela ne les conduit pas là où ils souhaitaient aller, alors nous ne sommes pas obligés de faire les mêmes erreurs. C'est la raison pour laquelle le Conseil fédéral, dans cette question de l'exclusivité commerciale, vous invite à soutenir la proposition de la minorité Carobbio Guscetti, pour éviter une restriction de la concurrence, pour éviter la création de monopoles privés qui nous paraissent injustifiés, pour éviter une hausse du prix des médicaments pour les maladies rares et pour éviter, en définitive, le risque d'une restriction d'accès pour les patients.\n",
      "La vente de médicaments par correspondance, dont il est question à l'article 27, est en principe interdite en Suisse. Les cantons ont néanmoins la possibilité de délivrer une autorisation aux pharmacies publiques, en plus de l'autorisation de commerce de détail, avec naturellement des conditions. Une de ces conditions prévoit que les médicaments ne peuvent être achetés par correspondance que s'ils font l'objet d'une ordonnance établie par un médecin. Cela vaut aussi bien pour les médicaments soumis à ordonnance que pour ceux qui ne sont pas soumis à ordonnance. Cette disposition vise à garantir que la personne qui commande des produits bénéficie de conseils professionnels pour que le médicament soit utilisé en toute sécurité. [PAGE 687] \n",
      "On voit que dans le cas de la vente en ligne, cette disposition est partiellement contournée par le biais des questionnaires de santé sur la base desquels une ordonnance est établie par un médecin mandaté par la pharmacie en ligne. Je me suis fait livrer les impressions d'écran de ces pharmacies en ligne: on complète quelques points, on remplit un petit questionnaire de santé; à l'autre bout de la ligne, un médecin lit le document et peut effectivement rédiger l'ordonnance. Cela nous paraît aller à la fois à l'encontre de la volonté du législateur et ne pas être, évidemment, tout à fait en conformité avec ce que l'on attend en matière de sécurité pour les patients.\n",
      "A l'article 27 alinéa 2 lettre a, la majorité de la commission propose d'autoriser l'expédition de médicaments uniquement si le patient dispose d'une ordonnance médicale avant la commande. La minorité de Courten propose de s'en tenir au droit en vigueur. Le Conseil fédéral soutient la proposition de la majorité.\n",
      "A l'alinéa 4 du même article, qui concerne l'autorité compétente pour délivrer l'autorisation, la majorité de la commission propose de transférer cette compétence à l'institut, soit à Swissmedic. La minorité de Courten propose d'en rester à la situation actuelle, où ce sont les cantons qui délivrent l'autorisation. Le Conseil fédéral soutient sur ce point la proposition de la minorité de Courten, car il est d'avis qu'il ne faut pas mettre en place un système plus compliqué que celui que nous avons. Ce n'est que sur ce point précis que la minorité de Courten peut être suivie.\n",
      "S'agissant des propositions individuelles, je m'exprimerai uniquement sur la proposition Humbel à l'article 26. En principe, le Conseil fédéral rejette toutes les propositions individuelles parce que les discussions durant les travaux de la commission ont déjà été assez longues. La première partie de la proposition Humbel vise à garantir ce que nous souhaitons, à savoir qu'une ordonnance soit délivrée. La deuxième partie de la proposition pose quelques difficultés qui devront être encore débattues si la proposition est acceptée. Il s'agit de savoir si, et comment, le patient peut renoncer à recevoir une ordonnance sous forme papier. Si oui, l'ordonnance serait envoyée au patient par voie électronique. Dans ce cas, la liberté de choix du patient doit être garantie de façon qu'il puisse ensuite s'adresser à qui il veut pour se faire livrer ou pour acheter les médicaments. On peut faire le lien ici avec le dossier électronique du patient qui est en discussion, pour autant que la liberté de choix du patient soit absolument garantie. C'est un point qui me paraît très important.\n",
      "Au cas où la proposition Humbel serait acceptée - car elle nous paraît aller dans la bonne direction -, le deuxième conseil aura certainement l'occasion d'y apporter les précisions nécessaires.\n",
      "Je vous invite à rejeter toutes les autres propositions individuelles.\n",
      "\n"
     ]
    }
   ],
   "source": [
    "print(dataset[301])"
   ]
  },
  {
   "cell_type": "code",
   "execution_count": 42,
   "metadata": {
    "collapsed": false
   },
   "outputs": [
    {
     "name": "stdout",
     "output_type": "stream",
     "text": [
      "Extracting tf features for LDA...\n",
      "done in 14.338s.\n"
     ]
    }
   ],
   "source": [
    "n_samples = 2000\n",
    "n_features = 1000\n",
    "n_topics = 10\n",
    "n_top_words = 20\n",
    "\n",
    "def print_top_words(model, feature_names, n_top_words):\n",
    "    for topic_idx, topic in enumerate(model.components_):\n",
    "        print(\"Topic #%d:\" % topic_idx)\n",
    "        print(\" \".join([feature_names[i]\n",
    "                        for i in topic.argsort()[:-n_top_words - 1:-1]]))\n",
    "    print()\n",
    "\n",
    "data_samples = dataset\n",
    "\n",
    "stop_words = ['de', 'il', 'je', 'nous', 'sur', 'par', 'der', 'die', 'und', 'le', 'la', 'les', 'qui', 'que', 'du', 'un', 'une',\n",
    "             'dans', 'ne', 'on']\n",
    "# Use tf (raw term count) features for LDA.\n",
    "print(\"Extracting tf features for LDA...\")\n",
    "tf_vectorizer = CountVectorizer(max_df=0.95, min_df=2,\n",
    "                                max_features=n_features,\n",
    "                                stop_words=stop_words)\n",
    "t0 = time()\n",
    "tf = tf_vectorizer.fit_transform(data_samples)\n",
    "print(\"done in %0.3fs.\" % (time() - t0))"
   ]
  },
  {
   "cell_type": "code",
   "execution_count": 43,
   "metadata": {
    "collapsed": false
   },
   "outputs": [
    {
     "name": "stdout",
     "output_type": "stream",
     "text": [
      "Fitting LDA models with tf features, n_samples=2000 and n_features=1000...\n",
      "done in 120.410s.\n",
      "\n",
      "Topics in LDA model:\n",
      "Topic #0:\n",
      "initiative cantons cette pas pour contre commission au parlementaire elle populaire aux qu suite plus canton notre donner ce ont\n",
      "Topic #1:\n",
      "conseil motion fédéral commission assurance cette pour maladie au ce prestations coûts soins été santé qu primes vous aux pas\n",
      "Topic #2:\n",
      "pour francs cent millions au ce fédéral plus montant été dépenses taux confédération budget augmentation aux sont milliards ces conseil\n",
      "Topic #3:\n",
      "droit pour au vs ans fédéral commission ou cas personnes tribunal article conseil procédure aux loi code cette pénal révision\n",
      "Topic #4:\n",
      "pas ce qu pour mais vous plus si cela tout peut sont même être aussi cette fait se faire bien\n",
      "Topic #5:\n",
      "proposition commission minorité article majorité pas conseil pour vous qu cette alinéa ce donc au groupe loi etats elle contre\n",
      "Topic #6:\n",
      "suisse au pays pour avec notre conseil ce européenne politique fédéral union pas accord été etats cette qu rapport plus\n",
      "Topic #7:\n",
      "pour pas sont ce plus aux ou ces au suisse cette qu être entreprises loi se marché leur ont prix\n",
      "Topic #8:\n",
      "pour au formation politique suisse ce confédération aux notre sont fédéral développement recherche ces plus aussi cantons pays avec domaine\n",
      "Topic #9:\n",
      "conseil vous fédéral ce projet au été loi pas commission monsieur cette parlement national fédérale votre matière qu question avez\n",
      "\n"
     ]
    }
   ],
   "source": [
    "def print_top_words(model, feature_names, n_top_words):\n",
    "    for topic_idx, topic in enumerate(model.components_):\n",
    "        print(\"Topic #%d:\" % topic_idx)\n",
    "        print(\" \".join([feature_names[i]\n",
    "                        for i in topic.argsort()[:-n_top_words - 1:-1]]))\n",
    "    print()\n",
    "\n",
    "print(\"Fitting LDA models with tf features, \"\n",
    "      \"n_samples=%d and n_features=%d...\"\n",
    "      % (n_samples, n_features))\n",
    "lda = LatentDirichletAllocation(n_topics=n_topics, max_iter=5,\n",
    "                                learning_method='online',\n",
    "                                learning_offset=50.,\n",
    "                                random_state=0)\n",
    "t0 = time()\n",
    "lda.fit(tf)\n",
    "print(\"done in %0.3fs.\" % (time() - t0))\n",
    "\n",
    "print(\"\\nTopics in LDA model:\")\n",
    "tf_feature_names = tf_vectorizer.get_feature_names()\n",
    "print_top_words(lda, tf_feature_names, n_top_words)"
   ]
  },
  {
   "cell_type": "code",
   "execution_count": 36,
   "metadata": {
    "collapsed": false
   },
   "outputs": [
    {
     "name": "stdout",
     "output_type": "stream",
     "text": [
      "Topic #0:\n",
      "sécurité service armée armes militaire médicaments police civile civil protection engagement paix défense services la en pour être obligation assurer\n",
      "Topic #1:\n",
      "nous la le et que est les des en qui pour du il groupe une un pas ce notre avons\n",
      "Topic #2:\n",
      "la et des les en suisse le est pays dans que qui un pour une du il sur avec au\n",
      "Topic #3:\n",
      "la le commission conseil et des en une par du que est les article qui il proposition minorité majorité sur\n",
      "Topic #4:\n",
      "que est il pas qui on le je la qu ce un une et ne vous en dans les des\n",
      "Topic #5:\n",
      "le la du fédéral conseil et des au en sur pour par les dans été un ce que rapport commission\n",
      "Topic #6:\n",
      "la les des pour et le en francs une est qui par cent un que millions plus du assurance ce\n",
      "Topic #7:\n",
      "la les des et le en une par initiative du dans un que sur pour est qui ne au cette\n",
      "Topic #8:\n",
      "la les des et le en dans que pour est qui une sur il un ce du par nous cantons\n",
      "Topic #9:\n",
      "vs der die la und des in art proposition du président conseil vote adopté commission et je session page au\n",
      "\n"
     ]
    }
   ],
   "source": [
    "\n",
    "    \n",
    "print_top_words(lda, tf_feature_names, n_top_words)"
   ]
  }
 ],
 "metadata": {
  "kernelspec": {
   "display_name": "Python 3",
   "language": "python",
   "name": "python3"
  },
  "language_info": {
   "codemirror_mode": {
    "name": "ipython",
    "version": 3
   },
   "file_extension": ".py",
   "mimetype": "text/x-python",
   "name": "python",
   "nbconvert_exporter": "python",
   "pygments_lexer": "ipython3",
   "version": "3.5.2"
  }
 },
 "nbformat": 4,
 "nbformat_minor": 1
}
