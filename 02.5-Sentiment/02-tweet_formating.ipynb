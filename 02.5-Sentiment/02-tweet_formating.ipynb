{
 "cells": [
  {
   "cell_type": "code",
   "execution_count": null,
   "metadata": {
    "collapsed": false
   },
   "outputs": [],
   "source": [
    "import pandas as pd\n",
    "import glob\n",
    "import os\n",
    "import numpy as np\n",
    "from time import time\n",
    "import logging\n",
    "import gensim\n",
    "import bz2\n",
    "import re"
   ]
  },
  {
   "cell_type": "code",
   "execution_count": null,
   "metadata": {
    "collapsed": true
   },
   "outputs": [],
   "source": [
    "filename = 'positive.txt'\n",
    "with open(filename) as f:\n",
    "    datas = f.readlines()"
   ]
  },
  {
   "cell_type": "code",
   "execution_count": null,
   "metadata": {
    "collapsed": false
   },
   "outputs": [],
   "source": [
    "treated  = []\n",
    "for data in datas :\n",
    "    no_at = \" \".join(filter(lambda x:x[0]!='@', data.split()))\n",
    "    no_hash = \" \".join(filter(lambda x:x[0]!='#', no_at.split()))\n",
    "    no_web = \" \".join(filter(lambda x:x[0:4]!='http', no_hash.split()))\n",
    "    if len(no_web)>1 :\n",
    "        treated += [no_web]"
   ]
  },
  {
   "cell_type": "code",
   "execution_count": null,
   "metadata": {
    "collapsed": false
   },
   "outputs": [],
   "source": [
    "dict_ = {}\n",
    "dict_['Text'] = list(set(treated))\n",
    "dict_['sentiment'] = [1]*len(list(set(treated)))\n",
    "pos_df = pd.DataFrame(dict_)\n",
    "pos_df.head()"
   ]
  },
  {
   "cell_type": "code",
   "execution_count": null,
   "metadata": {
    "collapsed": true
   },
   "outputs": [],
   "source": [
    "filename = 'negative.txt'\n",
    "with open(filename) as f:\n",
    "    datas = f.readlines()"
   ]
  },
  {
   "cell_type": "code",
   "execution_count": null,
   "metadata": {
    "collapsed": true
   },
   "outputs": [],
   "source": [
    "treated  = []\n",
    "for data in datas :\n",
    "    no_at = \" \".join(filter(lambda x:x[0]!='@', data.split()))\n",
    "    no_hash = \" \".join(filter(lambda x:x[0]!='#', no_at.split()))\n",
    "    no_web = \" \".join(filter(lambda x:x[0:4]!='http', no_hash.split()))\n",
    "    if len(no_web)>1 :\n",
    "        treated += [no_web]"
   ]
  },
  {
   "cell_type": "code",
   "execution_count": null,
   "metadata": {
    "collapsed": false
   },
   "outputs": [],
   "source": [
    "dict_ = {}\n",
    "dict_['Text'] = list(set(treated))\n",
    "dict_['sentiment'] = [0]*len(list(set(treated)))\n",
    "neg_df = pd.DataFrame(dict_)\n",
    "neg_df.head()"
   ]
  },
  {
   "cell_type": "code",
   "execution_count": null,
   "metadata": {
    "collapsed": true
   },
   "outputs": [],
   "source": [
    "df_neg_pos = pd.concat([neg_df,pos_df])"
   ]
  },
  {
   "cell_type": "code",
   "execution_count": null,
   "metadata": {
    "collapsed": false
   },
   "outputs": [],
   "source": [
    "df_neg_pos.to_csv('../datas/tweet/dataset.csv',index=False)"
   ]
  },
  {
   "cell_type": "code",
   "execution_count": null,
   "metadata": {
    "collapsed": true
   },
   "outputs": [],
   "source": []
  }
 ],
 "metadata": {
  "anaconda-cloud": {},
  "kernelspec": {
   "display_name": "Python [Root]",
   "language": "python",
   "name": "Python [Root]"
  },
  "language_info": {
   "codemirror_mode": {
    "name": "ipython",
    "version": 3
   },
   "file_extension": ".py",
   "mimetype": "text/x-python",
   "name": "python",
   "nbconvert_exporter": "python",
   "pygments_lexer": "ipython3",
   "version": "3.5.2"
  }
 },
 "nbformat": 4,
 "nbformat_minor": 0
}
