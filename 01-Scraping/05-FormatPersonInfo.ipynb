{
 "cells": [
  {
   "cell_type": "markdown",
   "metadata": {},
   "source": [
    "# 05 - Format Personal Information\n",
    "From the scraped data from `MemberCouncil`, we want to format a file containing all the information relevant to the deputies we're dealing with, in order to be able to access it simply and have it centred at one place."
   ]
  },
  {
   "cell_type": "code",
   "execution_count": 2,
   "metadata": {
    "collapsed": true
   },
   "outputs": [],
   "source": [
    "import pandas as pd\n",
    "import numpy as np\n",
    "import glob\n",
    "import os"
   ]
  },
  {
   "cell_type": "markdown",
   "metadata": {},
   "source": [
    "Import the *Voting*. It is heavy, but we load it in order to know which are the deputies for which we need to get additional data."
   ]
  },
  {
   "cell_type": "code",
   "execution_count": 4,
   "metadata": {
    "collapsed": false
   },
   "outputs": [],
   "source": [
    "dataset_tmp = []\n",
    "path = '../datas/scrap/Voting'\n",
    "allFiles = glob.glob(os.path.join(path, 'Session*.csv'))\n",
    "\n",
    "for file_ in allFiles:\n",
    "    data_tmp = pd.read_csv(file_,index_col=0)\n",
    "    dataset_tmp += [data_tmp] \n",
    "voting_df = pd.concat(dataset_tmp)"
   ]
  },
  {
   "cell_type": "markdown",
   "metadata": {},
   "source": [
    "We create an array called *names* which contains all the unique name entries into the *Voting* dataframe."
   ]
  },
  {
   "cell_type": "code",
   "execution_count": 6,
   "metadata": {
    "collapsed": false
   },
   "outputs": [],
   "source": [
    "voting_df['Name'] = voting_df['FirstName']+' '+voting_df['LastName']\n",
    "\n",
    "names = voting_df['Name'].unique()"
   ]
  },
  {
   "cell_type": "markdown",
   "metadata": {},
   "source": [
    "We now get the *MemberCouncil* dataframe, from which we'll scrap what we need for the infos on each deputee."
   ]
  },
  {
   "cell_type": "code",
   "execution_count": 15,
   "metadata": {
    "collapsed": true
   },
   "outputs": [],
   "source": [
    "dataset_tmp = []\n",
    "path = '../datas/scrap/MemberCouncil'\n",
    "allFiles = glob.glob(os.path.join(path, 'MemberCouncilid*.csv'))\n",
    "\n",
    "for file_ in allFiles:\n",
    "    data_tmp = pd.read_csv(file_,index_col=0)\n",
    "    dataset_tmp += [data_tmp] \n",
    "member_df = pd.concat(dataset_tmp)\n",
    "\n",
    "member_df['Name'] = member_df['FirstName']+' '+member_df['LastName']"
   ]
  },
  {
   "cell_type": "markdown",
   "metadata": {},
   "source": [
    "We see below that there are quite some information available. We'll consider only a few ones:\n",
    "- Active\n",
    "- Canton\n",
    "- Name\n",
    "- PartyName\n",
    "- PartyAbbreviation\n",
    "- DateOfBirth\n",
    "- ...\n",
    "\n",
    "But it wil be easy to add some other fields when needed."
   ]
  },
  {
   "cell_type": "code",
   "execution_count": 14,
   "metadata": {
    "collapsed": false,
    "scrolled": false
   },
   "outputs": [
    {
     "data": {
      "text/plain": [
       "Index(['Active', 'AdditionalActivity', 'AdditionalMandate',\n",
       "       'BirthPlace_Canton', 'BirthPlace_City', 'Canton', 'CantonAbbreviation',\n",
       "       'CantonName', 'Citizenship', 'Council', 'CouncilAbbreviation',\n",
       "       'CouncilName', 'DateElection', 'DateJoining', 'DateLeaving', 'DateOath',\n",
       "       'DateOfBirth', 'DateOfDeath', 'DateResignation', 'FirstName',\n",
       "       'GenderAsString', 'ID', 'IdPredecessor', 'Language', 'LastName',\n",
       "       'Mandates', 'MaritalStatus', 'MaritalStatusText', 'MilitaryRank',\n",
       "       'MilitaryRankText', 'Modified', 'NumberOfChildren', 'OfficialName',\n",
       "       'ParlGroupAbbreviation', 'ParlGroupFunction', 'ParlGroupFunctionText',\n",
       "       'ParlGroupName', 'ParlGroupNumber', 'Party', 'PartyAbbreviation',\n",
       "       'PartyName', 'PersonIdCode', 'PersonNumber'],\n",
       "      dtype='object')"
      ]
     },
     "execution_count": 14,
     "metadata": {},
     "output_type": "execute_result"
    }
   ],
   "source": [
    "member_df.columns\n",
    "member_df = member_df.loc[member_df['Name'].isin(names)]\n",
    "member_df_final = member_df[['Name','Active','CantonName','PartyName','PartyAbbreviation','DateOfBirth']]\n",
    "member_df_final.loc[:,'DateOfBirth'] = member_df_final['DateOfBirth'].apply(pd.to_datetime).apply(lambda x: x.date())"
   ]
  },
  {
   "cell_type": "markdown",
   "metadata": {},
   "source": [
    "Now we match the party names to the ones we have in our database, in order to prevent as much as possible clashes in the data."
   ]
  },
  {
   "cell_type": "code",
   "execution_count": 69,
   "metadata": {
    "collapsed": false
   },
   "outputs": [
    {
     "name": "stderr",
     "output_type": "stream",
     "text": [
      "/home/thomas/anaconda3/lib/python3.5/site-packages/pandas/core/generic.py:3443: SettingWithCopyWarning: \n",
      "A value is trying to be set on a copy of a slice from a DataFrame\n",
      "\n",
      "See the caveats in the documentation: http://pandas.pydata.org/pandas-docs/stable/indexing.html#indexing-view-versus-copy\n",
      "  self._update_inplace(new_data)\n",
      "/home/thomas/anaconda3/lib/python3.5/site-packages/pandas/core/indexing.py:549: SettingWithCopyWarning: \n",
      "A value is trying to be set on a copy of a slice from a DataFrame.\n",
      "Try using .loc[row_indexer,col_indexer] = value instead\n",
      "\n",
      "See the caveats in the documentation: http://pandas.pydata.org/pandas-docs/stable/indexing.html#indexing-view-versus-copy\n",
      "  self.obj[item_labels[indexer[info_axis]]] = value\n"
     ]
    },
    {
     "data": {
      "text/html": [
       "<div>\n",
       "<table border=\"1\" class=\"dataframe\">\n",
       "  <thead>\n",
       "    <tr style=\"text-align: right;\">\n",
       "      <th></th>\n",
       "      <th>Name</th>\n",
       "      <th>Active</th>\n",
       "      <th>CantonName</th>\n",
       "      <th>PartyName</th>\n",
       "      <th>PartyAbbreviation</th>\n",
       "      <th>DateOfBirth</th>\n",
       "    </tr>\n",
       "  </thead>\n",
       "  <tbody>\n",
       "    <tr>\n",
       "      <th>11</th>\n",
       "      <td>Max Binder</td>\n",
       "      <td>False</td>\n",
       "      <td>Zurich</td>\n",
       "      <td>Union démocratique du centre</td>\n",
       "      <td>UDC</td>\n",
       "      <td>1947-11-26</td>\n",
       "    </tr>\n",
       "    <tr>\n",
       "      <th>17</th>\n",
       "      <td>Christoph Blocher</td>\n",
       "      <td>False</td>\n",
       "      <td>Zurich</td>\n",
       "      <td>Union démocratique du centre</td>\n",
       "      <td>UDC</td>\n",
       "      <td>1940-10-11</td>\n",
       "    </tr>\n",
       "    <tr>\n",
       "      <th>22</th>\n",
       "      <td>Roland F. Borer</td>\n",
       "      <td>False</td>\n",
       "      <td>Soleure</td>\n",
       "      <td>Union démocratique du centre</td>\n",
       "      <td>UDC</td>\n",
       "      <td>1951-01-27</td>\n",
       "    </tr>\n",
       "    <tr>\n",
       "      <th>24</th>\n",
       "      <td>Toni Bortoluzzi</td>\n",
       "      <td>False</td>\n",
       "      <td>Zurich</td>\n",
       "      <td>Union démocratique du centre</td>\n",
       "      <td>UDC</td>\n",
       "      <td>1947-02-16</td>\n",
       "    </tr>\n",
       "    <tr>\n",
       "      <th>68</th>\n",
       "      <td>Christoph Eymann</td>\n",
       "      <td>True</td>\n",
       "      <td>Bâle-Ville</td>\n",
       "      <td>Parti libéral démocrate</td>\n",
       "      <td>PLD</td>\n",
       "      <td>1951-01-15</td>\n",
       "    </tr>\n",
       "  </tbody>\n",
       "</table>\n",
       "</div>"
      ],
      "text/plain": [
       "                 Name Active  CantonName                     PartyName  \\\n",
       "11         Max Binder  False      Zurich  Union démocratique du centre   \n",
       "17  Christoph Blocher  False      Zurich  Union démocratique du centre   \n",
       "22    Roland F. Borer  False     Soleure  Union démocratique du centre   \n",
       "24    Toni Bortoluzzi  False      Zurich  Union démocratique du centre   \n",
       "68   Christoph Eymann   True  Bâle-Ville       Parti libéral démocrate   \n",
       "\n",
       "   PartyAbbreviation DateOfBirth  \n",
       "11               UDC  1947-11-26  \n",
       "17               UDC  1940-10-11  \n",
       "22               UDC  1951-01-27  \n",
       "24               UDC  1947-02-16  \n",
       "68               PLD  1951-01-15  "
      ]
     },
     "execution_count": 69,
     "metadata": {},
     "output_type": "execute_result"
    }
   ],
   "source": [
    "parties_name_dict = {'Alliance verte':'Parti écologiste suisse (Les Verts)', 'Groupe socialiste':'Parti socialiste', \n",
    "        \"Parti vert'libéral\":'Parti vert-libéral', 'PLR.Les Libéraux-Radicaux':'Parti libéral-radical',\n",
    "        'Union Démocratique du Centre':'Union démocratique du centre',\n",
    "        'Parti démocrate-chrétien suisse':'Parti démocrate-chrétien', \n",
    "        'Parti bourgeois-démocratique suisse':'Parti Bourgeois-Démocratique'}\n",
    "parties_dict = {'PSS':'PS', 'pvl':'PVL', '-':'Sans Parti', 'nan':'Other'}\n",
    "   \n",
    "    \n",
    "member_df_final['PartyName'].replace(pd.Series(parties_name_dict), inplace=True)\n",
    "member_df_final['PartyAbbreviation'].replace(pd.Series(parties_dict), inplace=True)\n",
    "member_df_final.loc[:,'Active'] = member_df_final['Active'].astype(str)\n",
    "member_df_final.head()"
   ]
  },
  {
   "cell_type": "markdown",
   "metadata": {},
   "source": [
    "The list of parties below shows all the parties we consider in a vote. This is more extensive than what we have in the voting fields."
   ]
  },
  {
   "cell_type": "code",
   "execution_count": 64,
   "metadata": {
    "collapsed": false,
    "scrolled": true
   },
   "outputs": [
    {
     "data": {
      "text/plain": [
       "array(['Union démocratique du centre', 'Parti libéral démocrate',\n",
       "       'Parti socialiste suisse', 'Parti libéral-radical', 'La Gauche',\n",
       "       'Parti Bourgeois-Démocratique', 'Parti démocrate-chrétien',\n",
       "       'Parti écologiste suisse', 'Parti évangélique suisse',\n",
       "       'Lega dei Ticinesi', 'Parti vert-libéral',\n",
       "       'Parti écologiste suisse (Les Verts)', 'Alternative Canton de Zoug',\n",
       "       nan, 'sans parti', 'Parti chrétien-social',\n",
       "       'Union Démocratique Féderale', 'Christlich-soziale Partei Obwalden',\n",
       "       'Mouvement Citoyens Genevois', 'Grüne (Basels starke Alternative)',\n",
       "       'Parti Suisse du travail'], dtype=object)"
      ]
     },
     "execution_count": 64,
     "metadata": {},
     "output_type": "execute_result"
    }
   ],
   "source": [
    "member_df_final.PartyName.unique()"
   ]
  },
  {
   "cell_type": "markdown",
   "metadata": {},
   "source": [
    "Exporting the names in a single json file each time. We have to perform a little trick to get each row into the dict we want, and then formatting it properly for exportation into a `.json` file."
   ]
  },
  {
   "cell_type": "code",
   "execution_count": 95,
   "metadata": {
    "collapsed": false
   },
   "outputs": [],
   "source": [
    "import json\n",
    "directory = '../datas/analysis/deputee_names/'\n",
    "if not os.path.exists(directory):\n",
    "    os.makedirs(directory)\n",
    "    \n",
    "for deputee in names:\n",
    "    deputee_list = member_df_final.loc[member_df_final.Name==deputee].to_dict(orient='records')\n",
    "    deputee_list=deputee_list[0]\n",
    "    deputee_list['DateOfBirth'] = deputee_list['DateOfBirth'].isoformat()\n",
    "    with open(directory+deputee+'_info.json', 'w') as f:\n",
    "        json.dump(deputee_list, f)"
   ]
  }
 ],
 "metadata": {
  "anaconda-cloud": {},
  "kernelspec": {
   "display_name": "Python [Root]",
   "language": "python",
   "name": "Python [Root]"
  },
  "language_info": {
   "codemirror_mode": {
    "name": "ipython",
    "version": 3
   },
   "file_extension": ".py",
   "mimetype": "text/x-python",
   "name": "python",
   "nbconvert_exporter": "python",
   "pygments_lexer": "ipython3",
   "version": "3.5.2"
  }
 },
 "nbformat": 4,
 "nbformat_minor": 0
}
