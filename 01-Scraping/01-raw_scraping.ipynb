{
 "cells": [
  {
   "cell_type": "markdown",
   "metadata": {},
   "source": [
    "# 01 - Raw Scraping\n",
    "\n",
    "What we do here is the scraping of the Swiss Parliament website from the hierarchy described in the [metadata]() we were given. We were able to create a typical URL from which we start our queries for the different fields, as we will describe below. This URL is saved in the *base_url.txt* and has the form \n",
    "\n",
    "```\n",
    "https://ws.parlament.ch/odata.svc/[]?$filter=()%20gt%20{0}L%20and%20()%20lt%20{1}L%20and%20Language%20eq%20%27FR%27\n",
    "```\n",
    "\n",
    "with a lot of missing fields that will be completed for a specific query further down. \n",
    "\n",
    "## 0. Usual Imports\n",
    "A lot of libraries are required to successfully scrap the data and put them to csv files. To install\n",
    "\n",
    "```\n",
    "pip install xmljson\n",
    "```"
   ]
  },
  {
   "cell_type": "code",
   "execution_count": 1,
   "metadata": {
    "collapsed": false
   },
   "outputs": [],
   "source": [
    "from bs4 import BeautifulSoup\n",
    "import urllib.request\n",
    "import pandas as pd\n",
    "import html5lib \n",
    "from lxml import *\n",
    "import numpy as np\n",
    "import xmljson \n",
    "from xmljson import badgerfish as bf\n",
    "from json import *\n",
    "import xml.etree.ElementTree as ET\n",
    "from io import StringIO\n",
    "import webbrowser\n",
    "import requests\n",
    "import os as os"
   ]
  },
  {
   "cell_type": "markdown",
   "metadata": {},
   "source": [
    "## 1. Key Parsing Functions\n",
    "Before starting, we just check whether the path we will use as our data folder exists. If it does, we store it there."
   ]
  },
  {
   "cell_type": "code",
   "execution_count": 2,
   "metadata": {
    "collapsed": true
   },
   "outputs": [],
   "source": [
    "if not os.path.exists(\"../datas\"):\n",
    "    os.makedirs(\"../datas\")\n",
    "if not os.path.exists(\"../datas/scrap\"):\n",
    "    os.makedirs(\"../datas/scrap\")\n",
    "directory = '../datas/scrap'"
   ]
  },
  {
   "cell_type": "markdown",
   "metadata": {},
   "source": [
    "`parse_data` is the first parsing function that we use. Given a completed url, it fetches a dictionary which contains everything related to a field, and formats it into a DataFrame. For instance, given a get query associated to the *LegislativePeriod*, it will get all the fields in it (e.g. *ID*, *Language*, *LegislativePeriodNumber*, ...), then format it in a DataFrame where the ID will be the row, and the other fields the column.\n",
    "\n",
    "**Important note : ** The *Language* field, present in every field, will systematically be filtered with the French entries (*FR*), because the only thing that it changes is for instance the name of the partys that will be in German instead of french and so on. The same goes for the other languages."
   ]
  },
  {
   "cell_type": "code",
   "execution_count": 3,
   "metadata": {
    "collapsed": false
   },
   "outputs": [],
   "source": [
    "def parse_data(base_url) :\n",
    "    \"\"\"\n",
    "        Fetches and parses data from the base_url given as parameter. Then formats it into a DataFrame\n",
    "        which is returned. The quadruple for loop is due to the particular form of the website. \n",
    "        @param base_url : the precise get request we want to formulate.\n",
    "        @return data : a DataFrame which contains the formatted result from the query.\n",
    "    \"\"\"\n",
    "    \n",
    "    with urllib.request.urlopen(base_url) as url:\n",
    "        s = url.read()\n",
    "    \n",
    "    root = ET.fromstring(s)\n",
    "    \n",
    "    dict_ = {}\n",
    "    base = \"{http://www.w3.org/2005/Atom}\"\n",
    "    for child in root.iter(base+'entry'):\n",
    "        for children in child.iter(base+'content') :\n",
    "            for properties in children :\n",
    "                for subject in properties : \n",
    "                        #print(subject.text)\n",
    "                    s = subject.tag.split('}')\n",
    "                    if s[1] in dict_ :\n",
    "                        dict_[s[1]].append(subject.text)\n",
    "                    else : \n",
    "                        dict_[s[1]] = [subject.text]\n",
    "    data = pd.DataFrame(dict_)\n",
    "    return data"
   ]
  },
  {
   "cell_type": "markdown",
   "metadata": {},
   "source": [
    "`save_data` is our most important function here. It allows us to form the url with which we want to make our query, then calls the `parse_data` function and finally stores the resuting DataFrame to the corresponding directory. \n",
    "\n",
    "TODO : describe why the completing is done like that\n",
    "TODO : understand the id\\_ \"game\". "
   ]
  },
  {
   "cell_type": "code",
   "execution_count": 4,
   "metadata": {
    "collapsed": false
   },
   "outputs": [],
   "source": [
    "def save_data(parent_id, directory, id_name, parent_name = None, subject = None, url = None) :\n",
    "    \"\"\"\n",
    "        Forms the correct url to use to query the website. \n",
    "        Then, fetches the data and parses them into a usable csv file.\n",
    "        @param parent_id :  the ID of the parent field \n",
    "                            (i.e. the last one we parsed and from which we got the ID \n",
    "                            -> necessary to make the query on the correct IDs) \n",
    "        @param directory : the directory in which the parsing will be saved\n",
    "        @param id_name : the name of the parent field for exporting purposes\n",
    "        @param parent_name : the name of the parent field formatted for the query\n",
    "        @param subject : The topic we're currently parsing.\n",
    "        @param url :   the specific url for the topic we're treating, if we need a special one \n",
    "                       (otherwise we load the base_url)\n",
    "        @return index : the indices on which our data range\n",
    "        @return data : the formatted DataFrame containing all the infos that were scraped.\n",
    "    \"\"\"\n",
    "    if url == None :\n",
    "        with open('base_url.txt', 'r') as myfile:\n",
    "            url=myfile.read()\n",
    "    if subject != None :\n",
    "        url = url.replace('[]',subject)\n",
    "    if parent_name != None :   \n",
    "        url = url.replace('()',parent_name)\n",
    "    url = url.replace('{0}',str(np.maximum(min(parent_id)-1,0)))\n",
    "    url = url.replace('{1}',str(max(parent_id)+1))\n",
    "    print(url)\n",
    "    \n",
    "    data = parse_data(url)\n",
    "    \n",
    "    # The website might return empty data. In the case where that happens, we return nothing.\n",
    "    # In the case where useful data is returned, we save it to a specific location with a name given\n",
    "    # by the parameters we passed.\n",
    "    if not data.empty :\n",
    "        if not os.path.exists(directory):\n",
    "            os.makedirs(directory)\n",
    "        index = list(map(int, data['ID'].unique().tolist()))\n",
    "        data.to_csv(directory+'/'+id_name+ 'id_'+str(min(parent_id))+'-'+str(max(parent_id))+'.csv')\n",
    "        return index ,data\n",
    "    else :\n",
    "        return None"
   ]
  },
  {
   "cell_type": "markdown",
   "metadata": {},
   "source": [
    "## 2. Actual Parsing of the Data\n",
    "Now that our parsing functions were defined, we can use them to retrieve the data we need from the website. Every cell will perform the query for one specific field, and the data we retrieve will allow us to go further down into the data tree (cf. the visualisation of the hierarchy of the data with [XOData](http://pragmatiqa.com/xodata/#)) and retrieve the fields we are interested with. We especially need to get the *Transcripts* and *Voting* fields, as the first describes all the discussions that happen during a session at the Parliament and the second all the results of the votes that happen during a session. Those are the two essential components to the machine learning we'll do later on. We process from the highest \"branch\" of the tree of data, namely the Legislative Period. This is the year during which the Parliament met, which each time two sessions. \n",
    "\n",
    "### 2.1. Saving Legislative Data\n",
    "Every cell will roughly work the same, we give first the specific link to access the field if it requires it (otherwise we use the base_url that we described before). We set the directory in which we save our data and then retrieve it. We need to retrieve the IDs from the Legislative Period in order to be able to keep on querying, as querying with an invalid Legislative Period ID will lead to the crashing of the request. "
   ]
  },
  {
   "cell_type": "code",
   "execution_count": null,
   "metadata": {
    "collapsed": false,
    "scrolled": true
   },
   "outputs": [],
   "source": [
    "legislative_url =\"https://ws.parlament.ch/odata.svc/LegislativePeriod?$filter=LegislativePeriodNumber%20gt%20{0}%20and%20LegislativePeriodNumber%20lt%20{1}\"\n",
    "base_legi_directory = directory+ \"/legi\"\n",
    "legi_periode_id, _  = save_data([0,100], base_legi_directory,'legi',None,None,legislative_url)\n",
    "print(legi_periode_id)"
   ]
  },
  {
   "cell_type": "markdown",
   "metadata": {},
   "source": [
    "We see that the IDs are continuous, ranging from 37 to 50. We will then query all the data which have their LegislativePeriodID between those two bounds. The first line gives us the link we build to make the query."
   ]
  },
  {
   "cell_type": "markdown",
   "metadata": {},
   "source": [
    "### 2.2 Saving Vote Data\n",
    "A close field that we can access from the LegislativePeriod is the *Vote* field. It is the interface between an object that is voted at the parliament at a specific time and the results of this vote, which are available in the *Voting* field. We will then query all the votes that happened for the given *Legislative Periods* we're considering. We see below that the IDs range from 1 to 17983, which isn't unique as an object will be voted several times, go between the National Council and the State Council iteratively until the issue is accepted."
   ]
  },
  {
   "cell_type": "code",
   "execution_count": null,
   "metadata": {
    "collapsed": false,
    "scrolled": true
   },
   "outputs": [],
   "source": [
    "base_vote_directory= directory + \"/Vote\"\n",
    "vote_id , _ = save_data(legi_periode_id,base_vote_directory,'legi','IdLegislativePeriod','Vote')\n",
    "print(str(min(vote_id))+' '+str(max(vote_id)))"
   ]
  },
  {
   "cell_type": "markdown",
   "metadata": {},
   "source": [
    "### 2.3. Saving Session Data\n",
    "The *Session* field helps us identify precisely when an object was voted. It is due to the fact that, for a given *Legislative Period*, which basically is a year, there are several *Session*s, usually a winter and a summer one, and there might be some special ones as well."
   ]
  },
  {
   "cell_type": "code",
   "execution_count": null,
   "metadata": {
    "collapsed": false
   },
   "outputs": [],
   "source": [
    "base_session_directory= directory+ \"/Session\"\n",
    "session_id, _ = save_data(legi_periode_id,base_session_directory,'Legi','LegislativePeriodNumber','Session')\n",
    "print(str(min(session_id))+' '+str(max(session_id)))"
   ]
  },
  {
   "cell_type": "markdown",
   "metadata": {},
   "source": [
    "### 2.4 Saving Voting Data.\n",
    "The routine below is not very efficient and is operated manually, being ran several times in order to obtain all the *Voting* items. **This is why it shouldn't be ran just in its current state**. The complications come from the fact that are the *Voting* IDs aren't contiguous, and that querying an unexisting ID will make the query crash. Moreover, we can only query the IDs two by two, we would otherwise receive a timeout as a response. This is why we need to do the following. It is due to the fact that each ID encapsulates a lot of Data."
   ]
  },
  {
   "cell_type": "code",
   "execution_count": null,
   "metadata": {
    "collapsed": false
   },
   "outputs": [],
   "source": [
    "base_voting_directory= directory+ \"/Voting\"\n",
    "\n",
    "# Iterate over some specific range ot data\n",
    "for i in range(np.int16((5005-4811)/2)+1) :\n",
    "    # Particular URL to get the Voting field from.\n",
    "    url =\"https://ws.parlament.ch/odata.svc/Voting/$count?$filter=Language%20eq%20%27FR%27%20and%20IdSession%20ge%20[1]%20and%20IdSession%20le%20[2]\"\n",
    "    session_id.sort()\n",
    "    \n",
    "    # ID of the Voting we query\n",
    "    id_ = 4811+2*i\n",
    "    \n",
    "    # Query items two by two\n",
    "    take_id = [id_,id_+1]\n",
    "    url = url.replace('[1]',str(min(take_id)))\n",
    "    url = url.replace('[2]',str(max(take_id)))\n",
    "    with urllib.request.urlopen(url) as url:\n",
    "        s = url.read()\n",
    "    print(\"count equals ====>\" + str(s))\n",
    "    vote_id , _ = save_data(take_id,base_voting_directory,'Session','IdSession','Voting')\n",
    "print(str(min(vote_id))+' '+str(max(vote_id)))"
   ]
  },
  {
   "cell_type": "markdown",
   "metadata": {},
   "source": [
    "### 2.5 Saving Meeting Data.\n",
    "This field depends on the session, and records every *Meeting* that each chambers of the parliament has during a session. It is necessary for us to have it in order to be able to access the *Transcript* field later, which is the transcription of every *Subject* that is discussed during a *Meeting* of any of the chambers during a *Session* of a *Legislative Period*. Nothing very surprising here. We access it from the *Session* field, that's why we need to record the *session_id*."
   ]
  },
  {
   "cell_type": "code",
   "execution_count": null,
   "metadata": {
    "collapsed": false
   },
   "outputs": [],
   "source": [
    "base_transcript_directory= directory+ \"/Meeting\"\n",
    "meeting_id,_ = save_data(session_id,base_transcript_directory,'Session','IdSession','Meeting')\n",
    "print(str(min(meeting_id))+' '+str(max(meeting_id)))"
   ]
  },
  {
   "cell_type": "markdown",
   "metadata": {},
   "source": [
    "### 2.6 Saving Subject Data.\n",
    "The field, as we described above, contains all the *Subject*s which are discussed during a single *Meeting*, and we hence need the *meeting_id* list to be able to query it. It is the last step before being able to access to the much desired *Transcript* data and retrieve it in a coherent way.."
   ]
  },
  {
   "cell_type": "code",
   "execution_count": null,
   "metadata": {
    "collapsed": false
   },
   "outputs": [],
   "source": [
    "base_subject_directory= directory+ \"/Subject\"\n",
    "subject_id, _ = save_data(meeting_id,base_subject_directory,'Meeting','IdMeeting','Subject')\n",
    "print(str(min(Subject_id))+' '+str(max(Subject_id)))"
   ]
  },
  {
   "cell_type": "markdown",
   "metadata": {},
   "source": [
    "### 2.7. Saving Transcript Data\n",
    "Now that we have the list of the *Subject_id*, we are finally able to get the *Transcript* field, a record that everything discussed at the parliament, on which we will base our Natural Language Processing Analysis later on. The query is a bit complicated.\n",
    "\n",
    "*TODO : Explain why*"
   ]
  },
  {
   "cell_type": "code",
   "execution_count": null,
   "metadata": {
    "collapsed": false
   },
   "outputs": [],
   "source": [
    "base_transcript_directory= directory+ \"/Transcript\"\n",
    "max_transcript_id = 206649\n",
    "transcript_id = [0]\n",
    "while max(transcript) < max_transcript_id :\n",
    "    transcript, transcript = save_data(subject_id,base_transcript_directory,'Subject','IdSubject','Transcript')\n",
    "    max_id = max(list(map(int,transcript['IdSubject'])))\n",
    "    subject_id = [i for i in subject_id if i > max_id]\n",
    "    print(str(min(transcript))+' '+str(max(transcript)))"
   ]
  },
  {
   "cell_type": "code",
   "execution_count": 13,
   "metadata": {
    "collapsed": false
   },
   "outputs": [
    {
     "name": "stdout",
     "output_type": "stream",
     "text": [
      "https://ws.parlament.ch/odata.svc/Person?$top=10000&$filter=Language%20eq%20'FR'\n",
      "[1, 2, 6, 7, 8, 9, 10, 11, 12, 13, 14, 15, 16, 17, 18, 19, 20, 21, 22, 23, 24, 25, 26, 27, 28, 29, 30, 31, 32, 33, 34, 35, 36, 37, 38, 39, 40, 41, 42, 43, 44, 45, 46, 47, 48, 49, 50, 51, 52, 53, 54, 55, 56, 57, 58, 59, 60, 61, 63, 64, 65, 66, 67, 69, 70, 71, 72, 73, 74, 75, 76, 77, 78, 79, 80, 81, 82, 83, 84, 85, 86, 87, 88, 89, 90, 91, 92, 93, 94, 95, 96, 97, 98, 99, 100, 101, 102, 103, 104, 105, 106, 107, 108, 109, 110, 111, 112, 113, 114, 115, 116, 117, 118, 119, 120, 121, 122, 123, 124, 125, 126, 127, 128, 129, 130, 131, 132, 133, 134, 135, 136, 137, 138, 139, 140, 141, 142, 143, 144, 145, 146, 147, 148, 149, 150, 151, 152, 153, 154, 155, 156, 157, 158, 159, 160, 161, 162, 163, 164, 165, 166, 167, 168, 169, 170, 171, 172, 173, 174, 175, 176, 177, 178, 179, 180, 181, 182, 183, 184, 185, 186, 187, 188, 189, 190, 191, 192, 193, 194, 195, 196, 197, 198, 199, 200, 201, 202, 203, 204, 205, 206, 207, 209, 210, 211, 212, 213, 214, 215, 216, 217, 218, 219, 220, 221, 222, 223, 224, 225, 226, 227, 228, 229, 230, 231, 232, 233, 234, 235, 236, 237, 238, 239, 240, 241, 242, 243, 244, 245, 246, 247, 248, 249, 250, 251, 252, 253, 254, 255, 257, 258, 259, 260, 261, 264, 265, 266, 267, 268, 269, 271, 273, 274, 275, 276, 277, 278, 279, 280, 281, 282, 293, 294, 298, 300, 301, 303, 304, 305, 306, 307, 308, 309, 310, 311, 312, 313, 314, 315, 316, 317, 318, 319, 320, 321, 322, 323, 324, 325, 326, 327, 328, 329, 330, 331, 332, 333, 334, 335, 336, 337, 338, 339, 340, 341, 342, 343, 344, 345, 346, 347, 348, 349, 350, 351, 352, 353, 354, 355, 356, 357, 358, 359, 360, 361, 362, 363, 364, 365, 366, 367, 368, 369, 370, 371, 372, 373, 374, 375, 376, 377, 378, 379, 380, 385, 390, 394, 395, 396, 397, 398, 399, 402, 403, 404, 405, 406, 407, 408, 409, 418, 419, 421, 422, 423, 425, 426, 427, 428, 429, 430, 432, 433, 434, 435, 436, 440, 449, 450, 451, 452, 453, 454, 455, 456, 457, 458, 459, 460, 461, 462, 463, 464, 465, 466, 467, 468, 469, 470, 471, 472, 473, 474, 475, 476, 477, 478, 479, 480, 481, 482, 483, 484, 485, 487, 488, 489, 490, 491, 492, 493, 494, 495, 496, 497, 498, 499, 500, 501, 502, 503, 504, 505, 506, 508, 509, 510, 511, 512, 513, 514, 515, 516, 517, 518, 519, 520, 521, 522, 523, 524, 525, 526, 527, 528, 529, 530, 531, 532, 534, 535, 536, 537, 538, 539, 540, 541, 542, 543, 551, 552, 553, 554, 557, 558, 559, 560, 561, 562, 563, 564, 565, 566, 567, 568, 569, 570, 571, 572, 573, 574, 575, 576, 577, 578, 579, 580, 581, 582, 583, 584, 586, 587, 588, 589, 590, 591, 592, 593, 594, 595, 596, 597, 598, 599, 600, 601, 603, 605, 606, 607, 608, 609, 610, 611, 612, 613, 614, 615, 616, 617, 618, 619, 620, 621, 622, 623, 624, 625, 626, 627, 628, 629, 630, 631, 632, 633, 634, 635, 636, 637, 638, 639, 640, 641, 642, 643, 644, 645, 646, 647, 648, 649, 650, 651, 652, 653, 654, 655, 656, 657, 658, 659, 660, 661, 662, 663, 664, 665, 666, 667, 668, 669, 670, 671, 672, 673, 674, 675, 676, 677, 678, 679, 680, 681, 682, 683, 684, 685, 686, 687, 688, 689, 690, 691, 692, 693, 694, 695, 696, 697, 698, 699, 700, 701, 702, 703, 704, 705, 706, 707, 708, 709, 710, 711, 714, 715, 716, 717, 718, 719, 721, 722, 723, 724, 725, 726, 727, 728, 729, 730, 731, 732, 733, 734, 735, 736, 737, 738, 739, 740, 741, 742, 743, 744, 745, 746, 747, 748, 749, 750, 751, 752, 753, 754, 755, 756, 757, 758, 759, 760, 761, 762, 763, 764, 765, 766, 767, 768, 769, 770, 771, 773, 774, 775, 776, 777, 778, 779, 780, 781, 782, 783, 784, 785, 786, 787, 788, 789, 790, 791, 792, 793, 797, 801, 804, 805, 806, 809, 817, 820, 823, 824, 825, 826, 827, 830, 831, 832, 1039, 1059, 1065, 1071, 1103, 1104, 1105, 1106, 1107, 1108, 1109, 1110, 1111, 1112, 1113, 1114, 1115, 1116, 1117, 1118, 1119, 1120, 1121, 1122, 1123, 1124, 1125, 1126, 1127, 1128, 1129, 1130, 1131, 1132, 1133, 1134, 1135, 1136, 1137, 1138, 1139, 1140, 1141, 1142, 1143, 1144, 1145, 1146, 1147, 1148, 1149, 1150, 1151, 1152, 1153, 1154, 1155, 1156, 1157, 1158, 1159, 1160, 1161, 1162, 1163, 1172, 1173, 1174, 1175, 1176, 1177, 1178, 1179, 1180, 1181, 1183, 1184, 1185, 1186, 1187, 1188, 1189, 1190, 1191, 1192, 1193, 1194, 1195, 1196, 1197, 1198, 1199, 1200, 1202, 1203, 1204, 1205, 1206, 1207, 1208, 1209, 1210, 1211, 1212, 1213, 1214, 1215, 1216, 1217, 1218, 1219, 1220, 1221, 1222, 1223, 1224, 1225, 1226, 1227, 1228, 1229, 1230, 1231, 1232, 1233, 1234, 1235, 1236, 1237, 1238, 1239, 1240, 1241, 1242, 1243, 1244, 1245, 1247, 1248, 1249, 1250, 1251, 1252, 1253, 1254, 1255, 1256, 1257, 1267, 1272, 1273, 1279, 1288, 1289, 1293, 1294, 1295, 1309, 1310, 1314, 1318, 1321, 1336, 1337, 1338, 1343, 1344, 1345, 1346, 1352, 1353, 1354, 1355, 1356, 1357, 1358, 1359, 1360, 1361, 1362, 1363, 1364, 1365, 1366, 1367, 1368, 1369, 1370, 1371, 1372, 1373, 1374, 1375, 1376, 1377, 1378, 1379, 1380, 1381, 1382, 1383, 1384, 1385, 1386, 1387, 1388, 1389, 1390, 1391, 1392, 1393, 1394, 1395, 1396, 1397, 1398, 1399, 1400, 1401, 1402, 1403, 1404, 1405, 1406, 1407, 1408, 1409, 1410, 1411, 1412, 1413, 1414, 1415, 1416, 1417, 1418, 1419, 1420, 1421, 1422, 1423, 1424, 1425, 1426, 1427, 1428, 1429, 1430, 1431, 1432, 1433, 1434, 1435, 1436, 1437, 1438, 1439, 1440, 1441, 1442, 1443, 1444, 1445, 1446, 1447, 1448, 1449, 1450, 1451, 1452, 1453]\n"
     ]
    }
   ],
   "source": [
    "legislative_url =\"https://ws.parlament.ch/odata.svc/Person?$top=10000&$filter=Language%20eq%20'FR'\"\n",
    "base_legi_directory = directory+ \"/person\"\n",
    "legi_periode_id, _  = save_data([0,10000], base_legi_directory,'person',None,None,legislative_url)\n",
    "print(legi_periode_id)"
   ]
  },
  {
   "cell_type": "code",
   "execution_count": null,
   "metadata": {
    "collapsed": true
   },
   "outputs": [],
   "source": []
  }
 ],
 "metadata": {
  "anaconda-cloud": {},
  "kernelspec": {
   "display_name": "Python [Root]",
   "language": "python",
   "name": "Python [Root]"
  },
  "language_info": {
   "codemirror_mode": {
    "name": "ipython",
    "version": 3
   },
   "file_extension": ".py",
   "mimetype": "text/x-python",
   "name": "python",
   "nbconvert_exporter": "python",
   "pygments_lexer": "ipython3",
   "version": "3.5.2"
  }
 },
 "nbformat": 4,
 "nbformat_minor": 0
}
