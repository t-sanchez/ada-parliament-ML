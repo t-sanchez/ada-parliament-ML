{
 "cells": [
  {
   "cell_type": "code",
   "execution_count": 71,
   "metadata": {
    "collapsed": true
   },
   "outputs": [],
   "source": [
    "from bs4 import BeautifulSoup\n",
    "import pandas as pd\n",
    "import glob\n",
    "import os"
   ]
  },
  {
   "cell_type": "code",
   "execution_count": 75,
   "metadata": {
    "collapsed": false
   },
   "outputs": [],
   "source": [
    "path = \"datas/Transcript/\"\n",
    "allFiles = glob.glob(os.path.join(path,\"*.csv\"))\n",
    "     \n",
    "for file_ in allFiles:\n",
    "    data = pd.read_csv(file_)\n",
    "    data = data[data['LanguageOfText']==data['LanguageOfText']]\n",
    "    for id_,text in zip(data.index,data['Text']) :\n",
    "        if text == text :\n",
    "            soup = BeautifulSoup(text,'html.parser') \n",
    "            data.loc[id_,'Text']= soup.text\n",
    "    data.to_csv(file_)"
   ]
  }
 ],
 "metadata": {
  "anaconda-cloud": {},
  "kernelspec": {
   "display_name": "Python 3",
   "language": "python",
   "name": "python3"
  },
  "language_info": {
   "codemirror_mode": {
    "name": "ipython",
    "version": 3
   },
   "file_extension": ".py",
   "mimetype": "text/x-python",
   "name": "python",
   "nbconvert_exporter": "python",
   "pygments_lexer": "ipython3",
   "version": "3.5.2"
  }
 },
 "nbformat": 4,
 "nbformat_minor": 0
}
