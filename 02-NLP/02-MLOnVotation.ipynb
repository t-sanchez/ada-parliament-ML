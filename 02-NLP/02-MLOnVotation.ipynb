{
 "cells": [
  {
   "cell_type": "markdown",
   "metadata": {},
   "source": [
    "# 02. Machine Learning on the Votations\n",
    "What we aim to perform now is predict the topics that are treated in a *Vote*, given the short string description of the title of the law (*BillTitle*) and the *BusinessTitle*. We apply our model, saved at `../datas/lda/ldamodel` to the data from the *Voting* field, in order to prepare it for the machine learning we'll do later on.\n",
    "\n",
    "## 0. Usual Imports"
   ]
  },
  {
   "cell_type": "code",
   "execution_count": 1,
   "metadata": {
    "collapsed": false
   },
   "outputs": [
    {
     "name": "stderr",
     "output_type": "stream",
     "text": [
      "/Users/Barry/anaconda/lib/python3.5/site-packages/gensim/utils.py:1015: UserWarning: Pattern library is not installed, lemmatization won't be available.\n",
      "  warnings.warn(\"Pattern library is not installed, lemmatization won't be available.\")\n"
     ]
    }
   ],
   "source": [
    "import pandas as pd\n",
    "import glob\n",
    "import os\n",
    "import numpy as np\n",
    "from time import time\n",
    "import logging\n",
    "import gensim\n",
    "import bz2\n",
    "import re\n",
    "from stop_words import get_stop_words"
   ]
  },
  {
   "cell_type": "markdown",
   "metadata": {},
   "source": [
    "## 1. initialisation of function for topic determination\n",
    "First of all, we define a function, *getTopicForQuery* in order to obtain the topics probability dsistribution for the *lda* model we're currently using. It will be of use mostly to retrieve the topic probability distribution for the attributes from the merged  *BillTitle* and *BusinessTitle*. "
   ]
  },
  {
   "cell_type": "code",
   "execution_count": 2,
   "metadata": {
    "collapsed": true
   },
   "outputs": [],
   "source": [
    "def getTopicForQuery (question,stoplist,dictionary,lda):\n",
    "    \"\"\"\n",
    "        Returns the topic probability distribution for a given input question, filtering with the stoplist \n",
    "        and finding the matches in the dictionary of words we have from our topic modelling algorithm.\n",
    "        @param question : The string from which we want to extract the topic\n",
    "        @param stoplist : The list of common words for the language, that we want to exclude\n",
    "        @param dictionary : The dictionary of all the words we find for a given lda model (associated to lda)\n",
    "        @param lda : the model of lda (Latent Dirichlet Allocation) that we want to model the topics from.\n",
    "        @return the topic probability distribution for the given question\n",
    "    \"\"\"\n",
    "    # 1. Question -> Lower case -> Split -> Exclude common words\n",
    "    temp = question.lower()\n",
    "    words = re.findall(r'\\w+', temp, flags = re.UNICODE | re.LOCALE)\n",
    "    important_words = []\n",
    "    important_words = filter(lambda x: x not in stoplist, words)\n",
    "\n",
    "    # 2. Find matches in the dictionary of words and get the topics\n",
    "    ques_vec = []\n",
    "    ques_vec = dictionary.doc2bow(important_words)\n",
    "    \n",
    "    return ldamodel.get_document_topics(ques_vec,minimum_probability=0)"
   ]
  },
  {
   "cell_type": "markdown",
   "metadata": {},
   "source": [
    "Now we load the lda model we use along with the stop words, in order to have them available for the time we will use them, avoiding to reload them every time we call *getTopicForQuery*. We also load our *lda* model for once."
   ]
  },
  {
   "cell_type": "code",
   "execution_count": 3,
   "metadata": {
    "collapsed": false
   },
   "outputs": [],
   "source": [
    "stop_words_de = get_stop_words('de')\n",
    "\n",
    "with open (\"../datas/stop_dictionaries/French_stop_words_changed.txt\", \"r\") as myfile:\n",
    "    stop_words=myfile.read()  \n",
    "stop_words = stop_words.split(',')\n",
    "\n",
    "stop_words = stop_words_de+stop_words\n",
    "ldamodel = gensim.models.LdaModel.load('../datas/lda/ldamodel', mmap='r')"
   ]
  },
  {
   "cell_type": "markdown",
   "metadata": {},
   "source": [
    "## 2. Creation of the Voting DataFrame\n",
    "We load the Voting DataFrame, take only the relevant fields for us and add the topic probability distribution before exporting it. It will be ready for our Machine Learning algorithm later on."
   ]
  },
  {
   "cell_type": "code",
   "execution_count": 4,
   "metadata": {
    "collapsed": false
   },
   "outputs": [
    {
     "name": "stdout",
     "output_type": "stream",
     "text": [
      "../datas/scrap/Voting/Sessionid_4811-4812.csv\n",
      "../datas/scrap/Voting/Sessionid_4813-4814.csv\n",
      "../datas/scrap/Voting/Sessionid_4815-4817.csv\n",
      "../datas/scrap/Voting/Sessionid_4818-4820.csv\n",
      "../datas/scrap/Voting/Sessionid_4901-4903.csv\n",
      "../datas/scrap/Voting/Sessionid_4904-4906.csv\n",
      "../datas/scrap/Voting/Sessionid_4907-4909.csv\n",
      "../datas/scrap/Voting/Sessionid_4910-4912.csv\n",
      "../datas/scrap/Voting/Sessionid_4913-4915.csv\n",
      "../datas/scrap/Voting/Sessionid_4916-4918.csv\n",
      "../datas/scrap/Voting/Sessionid_4919-5001.csv\n",
      "../datas/scrap/Voting/Sessionid_5002-5004.csv\n",
      "../datas/scrap/Voting/Sessionid_5005-5005.csv\n"
     ]
    }
   ],
   "source": [
    "dataset_tmp = []\n",
    "path = '../datas/scrap/Voting'\n",
    "allFiles = glob.glob(os.path.join(path, 'Session*.csv'))\n",
    "\n",
    "for file_ in allFiles:\n",
    "    print(file_)\n",
    "    data_tmp = pd.read_csv(file_)\n",
    "    dataset_tmp += [data_tmp] \n",
    "data_frame = pd.concat(dataset_tmp)"
   ]
  },
  {
   "cell_type": "markdown",
   "metadata": {},
   "source": [
    "### 2.1 slection of interesting fields in data_frame\n",
    "We take only the relevant fields to us, that is \n",
    "- *BillTitle* : The name of the voted law\n",
    "- *BusinessTitle* : The description of what is talked about at the parliament\n",
    "- *FirstName* and *LastName* : The name of the persone voting\n",
    "- *Decision* : The vote of the person\n",
    "- *text* : a field which combine *BillTitle* and *BusinessTitle*, we will have a better NLP clustering using this field with our LDA model."
   ]
  },
  {
   "cell_type": "code",
   "execution_count": 5,
   "metadata": {
    "collapsed": false
   },
   "outputs": [],
   "source": [
    "parl = data_frame.ParlGroupCode.unique().tolist()\n",
    "#for group in parl :\n",
    "#    data_frame.loc[data_frame.ParlGroupCode==group,'ParlGroupCode']= parl.index(group)\n"
   ]
  },
  {
   "cell_type": "code",
   "execution_count": 6,
   "metadata": {
    "collapsed": false
   },
   "outputs": [
    {
     "data": {
      "text/html": [
       "<div>\n",
       "<table border=\"1\" class=\"dataframe\">\n",
       "  <thead>\n",
       "    <tr style=\"text-align: right;\">\n",
       "      <th></th>\n",
       "      <th>Unnamed: 0</th>\n",
       "      <th>BillTitle</th>\n",
       "      <th>BusinessNumber</th>\n",
       "      <th>BusinessShortNumber</th>\n",
       "      <th>BusinessTitle</th>\n",
       "      <th>Canton</th>\n",
       "      <th>CantonID</th>\n",
       "      <th>CantonName</th>\n",
       "      <th>Decision</th>\n",
       "      <th>DecisionText</th>\n",
       "      <th>...</th>\n",
       "      <th>MeaningNo</th>\n",
       "      <th>MeaningYes</th>\n",
       "      <th>ParlGroupCode</th>\n",
       "      <th>ParlGroupColour</th>\n",
       "      <th>ParlGroupName</th>\n",
       "      <th>ParlGroupNameAbbreviation</th>\n",
       "      <th>PersonNumber</th>\n",
       "      <th>RegistrationNumber</th>\n",
       "      <th>Subject</th>\n",
       "      <th>VoteEnd</th>\n",
       "    </tr>\n",
       "  </thead>\n",
       "  <tbody>\n",
       "    <tr>\n",
       "      <th>0</th>\n",
       "      <td>0</td>\n",
       "      <td>Arrêté fédéral concernant la contribution de l...</td>\n",
       "      <td>20090055</td>\n",
       "      <td>9.055</td>\n",
       "      <td>Réduction des disparités économiques et social...</td>\n",
       "      <td>TI</td>\n",
       "      <td>21</td>\n",
       "      <td>Tessin</td>\n",
       "      <td>7</td>\n",
       "      <td>Die Präsidentin/der Präsident stimmt nicht</td>\n",
       "      <td>...</td>\n",
       "      <td>Proposition de la minorité Stamm (ne pas entre...</td>\n",
       "      <td>Proposition de la majorité (entrer en matière)</td>\n",
       "      <td>CEg</td>\n",
       "      <td>#FFFFA500</td>\n",
       "      <td>Groupe conservateur-catholique</td>\n",
       "      <td>Groupe K</td>\n",
       "      <td>511</td>\n",
       "      <td>2652</td>\n",
       "      <td>Entrer en matière</td>\n",
       "      <td>2009-09-07T15:44:26.69</td>\n",
       "    </tr>\n",
       "    <tr>\n",
       "      <th>1</th>\n",
       "      <td>1</td>\n",
       "      <td>Arrêté fédéral concernant la contribution de l...</td>\n",
       "      <td>20090055</td>\n",
       "      <td>9.055</td>\n",
       "      <td>Réduction des disparités économiques et social...</td>\n",
       "      <td>AG</td>\n",
       "      <td>1</td>\n",
       "      <td>Aargau</td>\n",
       "      <td>5</td>\n",
       "      <td>Hat nicht teilgenommen</td>\n",
       "      <td>...</td>\n",
       "      <td>Proposition de la minorité Stamm (ne pas entre...</td>\n",
       "      <td>Proposition de la majorité (entrer en matière)</td>\n",
       "      <td>S</td>\n",
       "      <td>#FFFF0000</td>\n",
       "      <td>Groupe socialiste</td>\n",
       "      <td>Groupe S</td>\n",
       "      <td>823</td>\n",
       "      <td>2652</td>\n",
       "      <td>Entrer en matière</td>\n",
       "      <td>2009-09-07T15:44:26.69</td>\n",
       "    </tr>\n",
       "    <tr>\n",
       "      <th>2</th>\n",
       "      <td>2</td>\n",
       "      <td>Arrêté fédéral concernant la contribution de l...</td>\n",
       "      <td>20090055</td>\n",
       "      <td>9.055</td>\n",
       "      <td>Réduction des disparités économiques et social...</td>\n",
       "      <td>VD</td>\n",
       "      <td>23</td>\n",
       "      <td>Waadt</td>\n",
       "      <td>5</td>\n",
       "      <td>Hat nicht teilgenommen</td>\n",
       "      <td>...</td>\n",
       "      <td>Proposition de la minorité Stamm (ne pas entre...</td>\n",
       "      <td>Proposition de la majorité (entrer en matière)</td>\n",
       "      <td>V</td>\n",
       "      <td>#FF006400</td>\n",
       "      <td>Groupe des Paysans, Artisans et Bourgeois</td>\n",
       "      <td>Groupe B</td>\n",
       "      <td>1108</td>\n",
       "      <td>2652</td>\n",
       "      <td>Entrer en matière</td>\n",
       "      <td>2009-09-07T15:44:26.69</td>\n",
       "    </tr>\n",
       "    <tr>\n",
       "      <th>3</th>\n",
       "      <td>3</td>\n",
       "      <td>Arrêté fédéral concernant la contribution de l...</td>\n",
       "      <td>20090055</td>\n",
       "      <td>9.055</td>\n",
       "      <td>Réduction des disparités économiques et social...</td>\n",
       "      <td>VS</td>\n",
       "      <td>24</td>\n",
       "      <td>Wallis</td>\n",
       "      <td>5</td>\n",
       "      <td>Hat nicht teilgenommen</td>\n",
       "      <td>...</td>\n",
       "      <td>Proposition de la minorité Stamm (ne pas entre...</td>\n",
       "      <td>Proposition de la majorité (entrer en matière)</td>\n",
       "      <td>RL</td>\n",
       "      <td>#FF00BFFF</td>\n",
       "      <td>Groupe radical-démocratique</td>\n",
       "      <td>Groupe R</td>\n",
       "      <td>1117</td>\n",
       "      <td>2652</td>\n",
       "      <td>Entrer en matière</td>\n",
       "      <td>2009-09-07T15:44:26.69</td>\n",
       "    </tr>\n",
       "    <tr>\n",
       "      <th>4</th>\n",
       "      <td>4</td>\n",
       "      <td>Arrêté fédéral concernant la contribution de l...</td>\n",
       "      <td>20090055</td>\n",
       "      <td>9.055</td>\n",
       "      <td>Réduction des disparités économiques et social...</td>\n",
       "      <td>NW</td>\n",
       "      <td>14</td>\n",
       "      <td>Nidwalden</td>\n",
       "      <td>5</td>\n",
       "      <td>Hat nicht teilgenommen</td>\n",
       "      <td>...</td>\n",
       "      <td>Proposition de la minorité Stamm (ne pas entre...</td>\n",
       "      <td>Proposition de la majorité (entrer en matière)</td>\n",
       "      <td>RL</td>\n",
       "      <td>#FF00BFFF</td>\n",
       "      <td>Groupe radical-démocratique</td>\n",
       "      <td>Groupe R</td>\n",
       "      <td>318</td>\n",
       "      <td>2652</td>\n",
       "      <td>Entrer en matière</td>\n",
       "      <td>2009-09-07T15:44:26.69</td>\n",
       "    </tr>\n",
       "  </tbody>\n",
       "</table>\n",
       "<p>5 rows × 27 columns</p>\n",
       "</div>"
      ],
      "text/plain": [
       "   Unnamed: 0                                          BillTitle  \\\n",
       "0           0  Arrêté fédéral concernant la contribution de l...   \n",
       "1           1  Arrêté fédéral concernant la contribution de l...   \n",
       "2           2  Arrêté fédéral concernant la contribution de l...   \n",
       "3           3  Arrêté fédéral concernant la contribution de l...   \n",
       "4           4  Arrêté fédéral concernant la contribution de l...   \n",
       "\n",
       "   BusinessNumber  BusinessShortNumber  \\\n",
       "0        20090055                9.055   \n",
       "1        20090055                9.055   \n",
       "2        20090055                9.055   \n",
       "3        20090055                9.055   \n",
       "4        20090055                9.055   \n",
       "\n",
       "                                       BusinessTitle Canton  CantonID  \\\n",
       "0  Réduction des disparités économiques et social...     TI        21   \n",
       "1  Réduction des disparités économiques et social...     AG         1   \n",
       "2  Réduction des disparités économiques et social...     VD        23   \n",
       "3  Réduction des disparités économiques et social...     VS        24   \n",
       "4  Réduction des disparités économiques et social...     NW        14   \n",
       "\n",
       "  CantonName  Decision                                DecisionText  \\\n",
       "0     Tessin         7  Die Präsidentin/der Präsident stimmt nicht   \n",
       "1     Aargau         5                      Hat nicht teilgenommen   \n",
       "2      Waadt         5                      Hat nicht teilgenommen   \n",
       "3     Wallis         5                      Hat nicht teilgenommen   \n",
       "4  Nidwalden         5                      Hat nicht teilgenommen   \n",
       "\n",
       "            ...                                                    MeaningNo  \\\n",
       "0           ...            Proposition de la minorité Stamm (ne pas entre...   \n",
       "1           ...            Proposition de la minorité Stamm (ne pas entre...   \n",
       "2           ...            Proposition de la minorité Stamm (ne pas entre...   \n",
       "3           ...            Proposition de la minorité Stamm (ne pas entre...   \n",
       "4           ...            Proposition de la minorité Stamm (ne pas entre...   \n",
       "\n",
       "                                       MeaningYes  ParlGroupCode  \\\n",
       "0  Proposition de la majorité (entrer en matière)            CEg   \n",
       "1  Proposition de la majorité (entrer en matière)              S   \n",
       "2  Proposition de la majorité (entrer en matière)              V   \n",
       "3  Proposition de la majorité (entrer en matière)             RL   \n",
       "4  Proposition de la majorité (entrer en matière)             RL   \n",
       "\n",
       "   ParlGroupColour                              ParlGroupName  \\\n",
       "0        #FFFFA500             Groupe conservateur-catholique   \n",
       "1        #FFFF0000                          Groupe socialiste   \n",
       "2        #FF006400  Groupe des Paysans, Artisans et Bourgeois   \n",
       "3        #FF00BFFF                Groupe radical-démocratique   \n",
       "4        #FF00BFFF                Groupe radical-démocratique   \n",
       "\n",
       "  ParlGroupNameAbbreviation PersonNumber RegistrationNumber  \\\n",
       "0                  Groupe K          511               2652   \n",
       "1                  Groupe S          823               2652   \n",
       "2                  Groupe B         1108               2652   \n",
       "3                  Groupe R         1117               2652   \n",
       "4                  Groupe R          318               2652   \n",
       "\n",
       "             Subject                 VoteEnd  \n",
       "0  Entrer en matière  2009-09-07T15:44:26.69  \n",
       "1  Entrer en matière  2009-09-07T15:44:26.69  \n",
       "2  Entrer en matière  2009-09-07T15:44:26.69  \n",
       "3  Entrer en matière  2009-09-07T15:44:26.69  \n",
       "4  Entrer en matière  2009-09-07T15:44:26.69  \n",
       "\n",
       "[5 rows x 27 columns]"
      ]
     },
     "execution_count": 6,
     "metadata": {},
     "output_type": "execute_result"
    }
   ],
   "source": [
    "data_frame.head()"
   ]
  },
  {
   "cell_type": "code",
   "execution_count": 7,
   "metadata": {
    "collapsed": false
   },
   "outputs": [],
   "source": [
    "votation_frame = data_frame#[['BillTitle','BusinessTitle','FirstName','LastName','Decision','ParlGroupCode','VoteEnd']]\n",
    "votation_frame = votation_frame.fillna(value='')\n",
    "votation_frame['text'] = votation_frame['BillTitle']+' '+votation_frame['BusinessTitle']"
   ]
  },
  {
   "cell_type": "markdown",
   "metadata": {},
   "source": [
    "We create a smaller DataFrame which contains only the subjects that are voted, we do not repeat the text each time for each person who votes. Hence we will perform the NLP once on each unique entry."
   ]
  },
  {
   "cell_type": "code",
   "execution_count": 8,
   "metadata": {
    "collapsed": false
   },
   "outputs": [
    {
     "data": {
      "text/html": [
       "<div>\n",
       "<table border=\"1\" class=\"dataframe\">\n",
       "  <thead>\n",
       "    <tr style=\"text-align: right;\">\n",
       "      <th></th>\n",
       "      <th>text</th>\n",
       "    </tr>\n",
       "  </thead>\n",
       "  <tbody>\n",
       "    <tr>\n",
       "      <th>0</th>\n",
       "      <td>Arrêté fédéral concernant la contribution de l...</td>\n",
       "    </tr>\n",
       "    <tr>\n",
       "      <th>1</th>\n",
       "      <td>Renforcement du Traité sur la non-proliférati...</td>\n",
       "    </tr>\n",
       "    <tr>\n",
       "      <th>2</th>\n",
       "      <td>Une zone exempte d'armes nucléaires au coeur ...</td>\n",
       "    </tr>\n",
       "    <tr>\n",
       "      <th>3</th>\n",
       "      <td>Boycott de la liste des terroristes établie p...</td>\n",
       "    </tr>\n",
       "    <tr>\n",
       "      <th>4</th>\n",
       "      <td>Ratification du Protocole de l'ONU sur les ar...</td>\n",
       "    </tr>\n",
       "  </tbody>\n",
       "</table>\n",
       "</div>"
      ],
      "text/plain": [
       "                                                text\n",
       "0  Arrêté fédéral concernant la contribution de l...\n",
       "1   Renforcement du Traité sur la non-proliférati...\n",
       "2   Une zone exempte d'armes nucléaires au coeur ...\n",
       "3   Boycott de la liste des terroristes établie p...\n",
       "4   Ratification du Protocole de l'ONU sur les ar..."
      ]
     },
     "execution_count": 8,
     "metadata": {},
     "output_type": "execute_result"
    }
   ],
   "source": [
    "text_dict = {'text': votation_frame.text.unique()}\n",
    "topic_learning_frame = pd.DataFrame(text_dict)\n",
    "topic_learning_frame.head()"
   ]
  },
  {
   "cell_type": "markdown",
   "metadata": {},
   "source": [
    "## 3 Topic Clustering\n",
    "\n",
    "We define first the function *insert_topic*, which creates a dictionary containing the topics for all texts in a *data_frame*."
   ]
  },
  {
   "cell_type": "code",
   "execution_count": null,
   "metadata": {
    "collapsed": false
   },
   "outputs": [],
   "source": [
    "def insert_topic(data_frame) :\n",
    "    dict_ = {}\n",
    "    dict_['text'] =data_frame['text'].values\n",
    "    with open (\"../datas/lda/topics.txt\", \"r\") as myfile:\n",
    "        s=myfile.read()  \n",
    "    topics = s.split('\\n')\n",
    "    topics_dic = {}\n",
    "    for topic in topics :\n",
    "        if len(topic)>1 :\n",
    "            name = topic.split(':')\n",
    "        topics_dic[name[0]] = name[1]\n",
    "    dictionary = gensim.corpora.Dictionary.load('../datas/lda/ldaDictionary')\n",
    "    for index, text in zip(data_frame.index,data_frame['text'].values) :\n",
    "        if index%1000 == 0 :\n",
    "             print(index)\n",
    "        for topic in getTopicForQuery(text,stop_words,dictionary,ldamodel) :\n",
    "            if (topics_dic[str(topic[0])]) in dict_ :\n",
    "                dict_[topics_dic[str(topic[0])]] +=[topic[1]]\n",
    "            else :\n",
    "                dict_[topics_dic[str(topic[0])]] =[topic[1]]\n",
    "    return dict_"
   ]
  },
  {
   "cell_type": "code",
   "execution_count": null,
   "metadata": {
    "collapsed": true
   },
   "outputs": [],
   "source": [
    "if not os.path.exists(\"../datas/nlp_results\"):\n",
    "    os.makedirs(\"../datas/nlp_results\")"
   ]
  },
  {
   "cell_type": "markdown",
   "metadata": {},
   "source": [
    "We now create a frame using the topics found using *insert_topic*"
   ]
  },
  {
   "cell_type": "code",
   "execution_count": null,
   "metadata": {
    "collapsed": false
   },
   "outputs": [],
   "source": [
    "from yandex_translate import YandexTranslate\n",
    "translate = YandexTranslate('trnsl.1.1.20161208T132730Z.fe490b34d7db4e4f.0a4c7781a0273d520073a1550b6a6624c1c3fd0a')\n",
    "text_eng = []\n",
    "for text in topic_learning_frame.text:\n",
    "    s = translate.translate(text, 'fr-en')\n",
    "    text_eng += [s['text'][0]]\n"
   ]
  },
  {
   "cell_type": "code",
   "execution_count": null,
   "metadata": {
    "collapsed": false
   },
   "outputs": [],
   "source": [
    "topics_dict = insert_topic(topic_learning_frame)\n",
    "topics_frame = pd.DataFrame(topics_dict)\n",
    "#topics_frame['text_eng'] =  text_eng\n"
   ]
  },
  {
   "cell_type": "code",
   "execution_count": null,
   "metadata": {
    "collapsed": false
   },
   "outputs": [],
   "source": [
    "topics_frame.head()\n",
    "#topics_frame.to_csv('../datas/nlp_results/voting_with_topics_unique.csv',index=False)"
   ]
  },
  {
   "cell_type": "markdown",
   "metadata": {},
   "source": [
    "Finally merging the topics with the original frame containing the name and decision of parlementeer ?"
   ]
  },
  {
   "cell_type": "code",
   "execution_count": null,
   "metadata": {
    "collapsed": false
   },
   "outputs": [],
   "source": [
    "(pd.merge(votation_frame,topics_frame)).to_csv('../datas/nlp_results/voting_with_topics.csv',index=False)"
   ]
  },
  {
   "cell_type": "code",
   "execution_count": 10,
   "metadata": {
    "collapsed": false
   },
   "outputs": [],
   "source": [
    "def insert_topic_unique(data_frame) :\n",
    "    dict_ = {}\n",
    "    dict_['text'] =data_frame['text'].values\n",
    "    dict_['Topic'] = []\n",
    "    with open (\"../datas/lda/topics.txt\", \"r\") as myfile:\n",
    "        s=myfile.read()  \n",
    "    topics = s.split('\\n')\n",
    "    topics_dic = {}\n",
    "    for topic in topics :\n",
    "        if len(topic)>1 :\n",
    "            name = topic.split(':')\n",
    "        topics_dic[name[0]] = name[1]\n",
    "    dictionary = gensim.corpora.Dictionary.load('../datas/lda/ldaDictionary')\n",
    "    for index, text in zip(data_frame.index,data_frame['text'].values) :\n",
    "        if index%1000 == 0 :\n",
    "            print(index)\n",
    "        max_ = 0\n",
    "        for topic in getTopicForQuery(text,stop_words,dictionary,ldamodel) :\n",
    "            max_old = max_\n",
    "            max_ = max(max_,topic[1])\n",
    "            if max_old != max_ :\n",
    "                topic_id = topic[0]\n",
    "    \n",
    "        dict_['Topic'] += [topics_dic[str(topic_id)]]\n",
    "    return dict_"
   ]
  },
  {
   "cell_type": "code",
   "execution_count": 11,
   "metadata": {
    "collapsed": false,
    "scrolled": true
   },
   "outputs": [
    {
     "name": "stdout",
     "output_type": "stream",
     "text": [
      "0\n"
     ]
    },
    {
     "name": "stderr",
     "output_type": "stream",
     "text": [
      "/Users/Barry/anaconda/lib/python3.5/site-packages/ipykernel/__main__.py:13: DeprecationWarning: LOCALE flag with a str pattern is deprecated. Will be an error in 3.6\n"
     ]
    },
    {
     "name": "stdout",
     "output_type": "stream",
     "text": [
      "1000\n",
      "2000\n",
      "3000\n"
     ]
    },
    {
     "data": {
      "text/html": [
       "<div>\n",
       "<table border=\"1\" class=\"dataframe\">\n",
       "  <thead>\n",
       "    <tr style=\"text-align: right;\">\n",
       "      <th></th>\n",
       "      <th>Topic</th>\n",
       "      <th>text</th>\n",
       "    </tr>\n",
       "  </thead>\n",
       "  <tbody>\n",
       "    <tr>\n",
       "      <th>0</th>\n",
       "      <td>asile / immigration</td>\n",
       "      <td>Arrêté fédéral concernant la contribution de l...</td>\n",
       "    </tr>\n",
       "    <tr>\n",
       "      <th>1</th>\n",
       "      <td>dunno</td>\n",
       "      <td>Renforcement du Traité sur la non-proliférati...</td>\n",
       "    </tr>\n",
       "    <tr>\n",
       "      <th>2</th>\n",
       "      <td>asile / immigration</td>\n",
       "      <td>Une zone exempte d'armes nucléaires au coeur ...</td>\n",
       "    </tr>\n",
       "    <tr>\n",
       "      <th>3</th>\n",
       "      <td>asile / immigration</td>\n",
       "      <td>Boycott de la liste des terroristes établie p...</td>\n",
       "    </tr>\n",
       "    <tr>\n",
       "      <th>4</th>\n",
       "      <td>asile / immigration</td>\n",
       "      <td>Ratification du Protocole de l'ONU sur les ar...</td>\n",
       "    </tr>\n",
       "  </tbody>\n",
       "</table>\n",
       "</div>"
      ],
      "text/plain": [
       "                  Topic                                               text\n",
       "0   asile / immigration  Arrêté fédéral concernant la contribution de l...\n",
       "1                 dunno   Renforcement du Traité sur la non-proliférati...\n",
       "2   asile / immigration   Une zone exempte d'armes nucléaires au coeur ...\n",
       "3   asile / immigration   Boycott de la liste des terroristes établie p...\n",
       "4   asile / immigration   Ratification du Protocole de l'ONU sur les ar..."
      ]
     },
     "execution_count": 11,
     "metadata": {},
     "output_type": "execute_result"
    }
   ],
   "source": [
    "topics_s = insert_topic_unique(topic_learning_frame)\n",
    "topics_ss = pd.DataFrame(topics_s)\n",
    "topics_ss.head()\n"
   ]
  },
  {
   "cell_type": "code",
   "execution_count": 13,
   "metadata": {
    "collapsed": true
   },
   "outputs": [],
   "source": [
    "topics_ss.to_csv(\"../datas/nlp_results/voting_single_topic.csv\")"
   ]
  },
  {
   "cell_type": "code",
   "execution_count": 12,
   "metadata": {
    "collapsed": false
   },
   "outputs": [
    {
     "data": {
      "text/html": [
       "<div>\n",
       "<table border=\"1\" class=\"dataframe\">\n",
       "  <thead>\n",
       "    <tr style=\"text-align: right;\">\n",
       "      <th></th>\n",
       "      <th>Unnamed: 0</th>\n",
       "      <th>BillTitle</th>\n",
       "      <th>BusinessNumber</th>\n",
       "      <th>BusinessShortNumber</th>\n",
       "      <th>BusinessTitle</th>\n",
       "      <th>Canton</th>\n",
       "      <th>CantonID</th>\n",
       "      <th>CantonName</th>\n",
       "      <th>Decision</th>\n",
       "      <th>DecisionText</th>\n",
       "      <th>...</th>\n",
       "      <th>ParlGroupCode</th>\n",
       "      <th>ParlGroupColour</th>\n",
       "      <th>ParlGroupName</th>\n",
       "      <th>ParlGroupNameAbbreviation</th>\n",
       "      <th>PersonNumber</th>\n",
       "      <th>RegistrationNumber</th>\n",
       "      <th>Subject</th>\n",
       "      <th>VoteEnd</th>\n",
       "      <th>text</th>\n",
       "      <th>Topic</th>\n",
       "    </tr>\n",
       "  </thead>\n",
       "  <tbody>\n",
       "    <tr>\n",
       "      <th>0</th>\n",
       "      <td>0</td>\n",
       "      <td>Arrêté fédéral concernant la contribution de l...</td>\n",
       "      <td>20090055</td>\n",
       "      <td>9.055</td>\n",
       "      <td>Réduction des disparités économiques et social...</td>\n",
       "      <td>TI</td>\n",
       "      <td>21</td>\n",
       "      <td>Tessin</td>\n",
       "      <td>7</td>\n",
       "      <td>Die Präsidentin/der Präsident stimmt nicht</td>\n",
       "      <td>...</td>\n",
       "      <td>CEg</td>\n",
       "      <td>#FFFFA500</td>\n",
       "      <td>Groupe conservateur-catholique</td>\n",
       "      <td>Groupe K</td>\n",
       "      <td>511</td>\n",
       "      <td>2652</td>\n",
       "      <td>Entrer en matière</td>\n",
       "      <td>2009-09-07T15:44:26.69</td>\n",
       "      <td>Arrêté fédéral concernant la contribution de l...</td>\n",
       "      <td>asile / immigration</td>\n",
       "    </tr>\n",
       "    <tr>\n",
       "      <th>1</th>\n",
       "      <td>1</td>\n",
       "      <td>Arrêté fédéral concernant la contribution de l...</td>\n",
       "      <td>20090055</td>\n",
       "      <td>9.055</td>\n",
       "      <td>Réduction des disparités économiques et social...</td>\n",
       "      <td>AG</td>\n",
       "      <td>1</td>\n",
       "      <td>Aargau</td>\n",
       "      <td>5</td>\n",
       "      <td>Hat nicht teilgenommen</td>\n",
       "      <td>...</td>\n",
       "      <td>S</td>\n",
       "      <td>#FFFF0000</td>\n",
       "      <td>Groupe socialiste</td>\n",
       "      <td>Groupe S</td>\n",
       "      <td>823</td>\n",
       "      <td>2652</td>\n",
       "      <td>Entrer en matière</td>\n",
       "      <td>2009-09-07T15:44:26.69</td>\n",
       "      <td>Arrêté fédéral concernant la contribution de l...</td>\n",
       "      <td>asile / immigration</td>\n",
       "    </tr>\n",
       "  </tbody>\n",
       "</table>\n",
       "<p>2 rows × 29 columns</p>\n",
       "</div>"
      ],
      "text/plain": [
       "   Unnamed: 0                                          BillTitle  \\\n",
       "0           0  Arrêté fédéral concernant la contribution de l...   \n",
       "1           1  Arrêté fédéral concernant la contribution de l...   \n",
       "\n",
       "   BusinessNumber  BusinessShortNumber  \\\n",
       "0        20090055                9.055   \n",
       "1        20090055                9.055   \n",
       "\n",
       "                                       BusinessTitle Canton  CantonID  \\\n",
       "0  Réduction des disparités économiques et social...     TI        21   \n",
       "1  Réduction des disparités économiques et social...     AG         1   \n",
       "\n",
       "  CantonName  Decision                                DecisionText  \\\n",
       "0     Tessin         7  Die Präsidentin/der Präsident stimmt nicht   \n",
       "1     Aargau         5                      Hat nicht teilgenommen   \n",
       "\n",
       "           ...          ParlGroupCode  ParlGroupColour  \\\n",
       "0          ...                    CEg        #FFFFA500   \n",
       "1          ...                      S        #FFFF0000   \n",
       "\n",
       "                    ParlGroupName  ParlGroupNameAbbreviation  PersonNumber  \\\n",
       "0  Groupe conservateur-catholique                   Groupe K           511   \n",
       "1               Groupe socialiste                   Groupe S           823   \n",
       "\n",
       "  RegistrationNumber            Subject                 VoteEnd  \\\n",
       "0               2652  Entrer en matière  2009-09-07T15:44:26.69   \n",
       "1               2652  Entrer en matière  2009-09-07T15:44:26.69   \n",
       "\n",
       "                                                text                 Topic  \n",
       "0  Arrêté fédéral concernant la contribution de l...   asile / immigration  \n",
       "1  Arrêté fédéral concernant la contribution de l...   asile / immigration  \n",
       "\n",
       "[2 rows x 29 columns]"
      ]
     },
     "execution_count": 12,
     "metadata": {},
     "output_type": "execute_result"
    }
   ],
   "source": [
    "data_complete = (pd.merge(votation_frame,topics_ss))\n",
    "data_complete.head(2)\n"
   ]
  },
  {
   "cell_type": "code",
   "execution_count": 14,
   "metadata": {
    "collapsed": false
   },
   "outputs": [
    {
     "data": {
      "text/html": [
       "<div>\n",
       "<table border=\"1\" class=\"dataframe\">\n",
       "  <thead>\n",
       "    <tr style=\"text-align: right;\">\n",
       "      <th></th>\n",
       "      <th>Unnamed: 0</th>\n",
       "      <th>BillTitle</th>\n",
       "      <th>BusinessNumber</th>\n",
       "      <th>BusinessShortNumber</th>\n",
       "      <th>BusinessTitle</th>\n",
       "      <th>Canton</th>\n",
       "      <th>CantonID</th>\n",
       "      <th>CantonName</th>\n",
       "      <th>Decision</th>\n",
       "      <th>DecisionText</th>\n",
       "      <th>...</th>\n",
       "      <th>ParlGroupCode</th>\n",
       "      <th>ParlGroupColour</th>\n",
       "      <th>ParlGroupName</th>\n",
       "      <th>ParlGroupNameAbbreviation</th>\n",
       "      <th>PersonNumber</th>\n",
       "      <th>RegistrationNumber</th>\n",
       "      <th>Subject</th>\n",
       "      <th>VoteEnd</th>\n",
       "      <th>text</th>\n",
       "      <th>Topic</th>\n",
       "    </tr>\n",
       "  </thead>\n",
       "  <tbody>\n",
       "    <tr>\n",
       "      <th>0</th>\n",
       "      <td>0</td>\n",
       "      <td>Arrêté fédéral concernant la contribution de l...</td>\n",
       "      <td>20090055</td>\n",
       "      <td>9.055</td>\n",
       "      <td>Réduction des disparités économiques et social...</td>\n",
       "      <td>TI</td>\n",
       "      <td>21</td>\n",
       "      <td>Tessin</td>\n",
       "      <td>7</td>\n",
       "      <td>Die Präsidentin/der Präsident stimmt nicht</td>\n",
       "      <td>...</td>\n",
       "      <td>CEg</td>\n",
       "      <td>#FFFFA500</td>\n",
       "      <td>Groupe conservateur-catholique</td>\n",
       "      <td>Groupe K</td>\n",
       "      <td>511</td>\n",
       "      <td>2652</td>\n",
       "      <td>Entrer en matière</td>\n",
       "      <td>2009-09-07</td>\n",
       "      <td>Arrêté fédéral concernant la contribution de l...</td>\n",
       "      <td>asile / immigration</td>\n",
       "    </tr>\n",
       "    <tr>\n",
       "      <th>1</th>\n",
       "      <td>1</td>\n",
       "      <td>Arrêté fédéral concernant la contribution de l...</td>\n",
       "      <td>20090055</td>\n",
       "      <td>9.055</td>\n",
       "      <td>Réduction des disparités économiques et social...</td>\n",
       "      <td>AG</td>\n",
       "      <td>1</td>\n",
       "      <td>Aargau</td>\n",
       "      <td>5</td>\n",
       "      <td>Hat nicht teilgenommen</td>\n",
       "      <td>...</td>\n",
       "      <td>S</td>\n",
       "      <td>#FFFF0000</td>\n",
       "      <td>Groupe socialiste</td>\n",
       "      <td>Groupe S</td>\n",
       "      <td>823</td>\n",
       "      <td>2652</td>\n",
       "      <td>Entrer en matière</td>\n",
       "      <td>2009-09-07</td>\n",
       "      <td>Arrêté fédéral concernant la contribution de l...</td>\n",
       "      <td>asile / immigration</td>\n",
       "    </tr>\n",
       "  </tbody>\n",
       "</table>\n",
       "<p>2 rows × 29 columns</p>\n",
       "</div>"
      ],
      "text/plain": [
       "   Unnamed: 0                                          BillTitle  \\\n",
       "0           0  Arrêté fédéral concernant la contribution de l...   \n",
       "1           1  Arrêté fédéral concernant la contribution de l...   \n",
       "\n",
       "   BusinessNumber  BusinessShortNumber  \\\n",
       "0        20090055                9.055   \n",
       "1        20090055                9.055   \n",
       "\n",
       "                                       BusinessTitle Canton  CantonID  \\\n",
       "0  Réduction des disparités économiques et social...     TI        21   \n",
       "1  Réduction des disparités économiques et social...     AG         1   \n",
       "\n",
       "  CantonName  Decision                                DecisionText  \\\n",
       "0     Tessin         7  Die Präsidentin/der Präsident stimmt nicht   \n",
       "1     Aargau         5                      Hat nicht teilgenommen   \n",
       "\n",
       "           ...          ParlGroupCode  ParlGroupColour  \\\n",
       "0          ...                    CEg        #FFFFA500   \n",
       "1          ...                      S        #FFFF0000   \n",
       "\n",
       "                    ParlGroupName  ParlGroupNameAbbreviation  PersonNumber  \\\n",
       "0  Groupe conservateur-catholique                   Groupe K           511   \n",
       "1               Groupe socialiste                   Groupe S           823   \n",
       "\n",
       "  RegistrationNumber            Subject     VoteEnd  \\\n",
       "0               2652  Entrer en matière  2009-09-07   \n",
       "1               2652  Entrer en matière  2009-09-07   \n",
       "\n",
       "                                                text                 Topic  \n",
       "0  Arrêté fédéral concernant la contribution de l...   asile / immigration  \n",
       "1  Arrêté fédéral concernant la contribution de l...   asile / immigration  \n",
       "\n",
       "[2 rows x 29 columns]"
      ]
     },
     "execution_count": 14,
     "metadata": {},
     "output_type": "execute_result"
    }
   ],
   "source": [
    "data_complete.VoteEnd = [x[:10] for x in data_complete.VoteEnd]\n",
    "data_complete.head(2)"
   ]
  },
  {
   "cell_type": "code",
   "execution_count": 15,
   "metadata": {
    "collapsed": false
   },
   "outputs": [],
   "source": [
    "not_used = ['Unnamed: 0','BusinessNumber','BusinessShortNumber','CantonID','ID','IdLegislativePeriod',\n",
    "           'IdSession','IdVote','PersonNumber','RegistrationNumber','BillTitle','BusinessTitle','DecisionText',\n",
    "           'Language','MeaningNo','MeaningYes','ParlGroupColour','ParlGroupCode','ParlGroupNameAbbreviation',\n",
    "           'Subject','text']\n",
    "data_used = data_complete.drop(not_used ,axis=1)\n",
    "#data_used.head()\n",
    "data_mean = data_used.set_index(['VoteEnd','Topic','FirstName'])"
   ]
  },
  {
   "cell_type": "code",
   "execution_count": 17,
   "metadata": {
    "collapsed": false
   },
   "outputs": [],
   "source": [
    "data_mean.head(1000)\n",
    "data_used.to_csv(\"../datas/nlp_results/voting_single_topic_not_unique.csv\")"
   ]
  },
  {
   "cell_type": "code",
   "execution_count": null,
   "metadata": {
    "collapsed": false
   },
   "outputs": [],
   "source": [
    "for year in data_mean.index.get_level_values('VoteEnd').unique() :\n",
    "    for Topic in data_mean.loc[year].index.get_level_values('Topic').unique() :\n",
    "        print(\"the {0} the subject : {1} had a result of {2}\".format(\n",
    "                year,Topic,data_mean.loc[year,Topic].Decision.mean()))"
   ]
  }
 ],
 "metadata": {
  "anaconda-cloud": {},
  "kernelspec": {
   "display_name": "Python [Root]",
   "language": "python",
   "name": "Python [Root]"
  },
  "language_info": {
   "codemirror_mode": {
    "name": "ipython",
    "version": 3
   },
   "file_extension": ".py",
   "mimetype": "text/x-python",
   "name": "python",
   "nbconvert_exporter": "python",
   "pygments_lexer": "ipython3",
   "version": "3.5.2"
  }
 },
 "nbformat": 4,
 "nbformat_minor": 0
}
