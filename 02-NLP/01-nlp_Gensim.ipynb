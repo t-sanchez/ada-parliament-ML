{
 "cells": [
  {
   "cell_type": "markdown",
   "metadata": {},
   "source": [
    "# 01. Topic Modelling using the Gensim Library\n",
    "\n",
    "Usual imports come first."
   ]
  },
  {
   "cell_type": "code",
   "execution_count": 145,
   "metadata": {
    "collapsed": false
   },
   "outputs": [],
   "source": [
    "import pandas as pd\n",
    "import glob\n",
    "import os\n",
    "import numpy as np\n",
    "from time import time\n",
    "import logging\n",
    "import gensim\n",
    "import bz2"
   ]
  },
  {
   "cell_type": "markdown",
   "metadata": {},
   "source": [
    "## 1. Load the data from the Transcript files\n",
    "At the moment, we only consider the entries for which the field `LanguageOfText` is `FR`, namely the ones in French. We will consider the text in German later on. We show below one example of the text we consider."
   ]
  },
  {
   "cell_type": "code",
   "execution_count": 146,
   "metadata": {
    "collapsed": false
   },
   "outputs": [
    {
     "name": "stdout",
     "output_type": "stream",
     "text": [
      "Length of the dataset 38428\n"
     ]
    }
   ],
   "source": [
    "dataset = []\n",
    "\n",
    "path = '../datas/treated_data/Transcript/'\n",
    "#path = 'datas/Vote/'\n",
    "allFiles = glob.glob(os.path.join(path, 'DE*.csv'))\n",
    "\n",
    "for file_ in allFiles:\n",
    "    data = pd.read_csv(file_)\n",
    "    dataset = dataset + list(data[(data['Text'] == data['Text'])]['Text'].values)\n",
    "    #dataset = dataset + list(data[(data['BusinessTitle'] == data['BusinessTitle'])]['BusinessTitle'].values+' ')\n",
    "\n",
    "    \n",
    "print('Length of the dataset', len(dataset))\n",
    "#print(dataset[0],'\\n',dataset[1])\n",
    "#data.head()"
   ]
  },
  {
   "cell_type": "markdown",
   "metadata": {},
   "source": [
    "The length of the transcripts largely vary from an entry to another, but it reflects exactly what is discussed at the federal parliament. Processing them correctly will allow us to grasp the topic which are discussed at the parliament."
   ]
  },
  {
   "cell_type": "markdown",
   "metadata": {},
   "source": [
    "## 2. Format the data in order to use LDA with Gensim\n",
    "First of all, we load the `stop_words`, a list which refers all the common words for French, and that we must not take into accoung when doing the topic modelling, as they do not convey any useful information. The pipeline we follow is the following :\n",
    " 1. Load the `stop_words` (using the [stop_words](https://pypi.python.org/pypi/stop-words) package) : We do not load the package as we loaded it once and save the resulting stop words into a .txt file. We do that in order to be able to add some stop words of our own."
   ]
  },
  {
   "cell_type": "code",
   "execution_count": 147,
   "metadata": {
    "collapsed": false
   },
   "outputs": [],
   "source": [
    "def stop_words():\n",
    "    \"\"\"\n",
    "        Loads and concatenates the stop_words list of both french and german languages \n",
    "        (due to the fact that there are some german words in the french transcript and vice-versa)\n",
    "    \"\"\"\n",
    "    #1. Load the custom French stop words dictionary\n",
    "    with open (\"../datas/stop_dictionaries/French_stop_words_changed.txt\", \"r\") as myfile:\n",
    "        stop_words_fr=myfile.read()  \n",
    "    stop_words_fr = stop_words_fr.split(',')\n",
    "\n",
    "    #2. Load the custom German stop words dictionary    \n",
    "    with open (\"../datas/stop_dictionaries/German_stop_words.txt\", \"r\") as myfile:\n",
    "        stop_words_de=myfile.read()  \n",
    "    stop_words_de = stop_words_de.split(', ')\n",
    "    \n",
    "    return stop_words_de+stop_words_fr\n",
    "stop_words = stop_words()        "
   ]
  },
  {
   "cell_type": "markdown",
   "metadata": {},
   "source": [
    " 2. Remove those common words and tokenize our dataset (break it down into words) \n",
    " 3. We count the frequency of the words and remove the ones that appear only once in total.\n",
    " 4. (Implement the *Stemming* of the data (cf. [a French stemming algorithm](http://snowball.tartarus.org/algorithms/french/stemmer.html)). (Done with the [nltk](http://www.nltk.org/api/nltk.stem.html) library) ) -> Not implemented at the moment\n",
    " 5.  Remove all the words of length <= 2.\n",
    " \n",
    " **N.B. THIS ALGORITHM IS VERY SLOW !!!!**"
   ]
  },
  {
   "cell_type": "code",
   "execution_count": 148,
   "metadata": {
    "collapsed": false,
    "scrolled": true
   },
   "outputs": [],
   "source": [
    "import re\n",
    "from collections import defaultdict\n",
    "from nltk.stem.snowball import FrenchStemmer\n",
    "from nltk.stem import WordNetLemmatizer\n",
    "\n",
    "def format_text(dataset, stop_words, stemming = False):\n",
    "    \"\"\"\n",
    "    Here, we remove the common words in our document corpus and tokenize it, before \n",
    "    \"\"\" \n",
    "    # The re.split function takes as first arguments everything we split at. At the moment, this is \n",
    "    # ' ' - '\\'- '/' - ''' (apostrophe) -  '\\n' - '(', ')' - ',' - '.' - ':' - ';' -'[' - ']' and - '´'\n",
    "    # We also filter the words which are shorter than 3 letters, as they are very unlikely \n",
    "    #to provide any information,  and finally, we remove the common words.\n",
    "    \n",
    "    texts = [[word for word in re.split(' |\\'|\\n|\\(|\\)|,|;|:|\\.|\\[|\\]|\\’|\\/',\n",
    "                                    document.lower()) if (len(word) > 4 and (word not in stop_words))] \n",
    "             for document in dataset]\n",
    "\n",
    "    # Thirdly we remove the words that appear only once in a text    \n",
    "    if stemming:\n",
    "        #Consider the stemmed version\n",
    "        FS = FrenchStemmer()\n",
    "\n",
    "        frequency = defaultdict(int)\n",
    "        for text in texts:\n",
    "            for token in text:\n",
    "                frequency[FS.stem(token)] += 1\n",
    "\n",
    "        texts = [[FS.stem(token) for token in text if frequency[FS.stem(token)] > 1]\n",
    "                 for text in texts]\n",
    "    else:\n",
    "        \n",
    "        frequency = defaultdict(int)\n",
    "        for text in texts:\n",
    "            for token in text:\n",
    "                frequency[token] += 1\n",
    "\n",
    "\n",
    "        texts = [[token for token in text if frequency[token] > 1]\n",
    "                 for text in texts]\n",
    "    return texts"
   ]
  },
  {
   "cell_type": "code",
   "execution_count": 149,
   "metadata": {
    "collapsed": false
   },
   "outputs": [],
   "source": [
    "texts = format_text(dataset,stop_words)"
   ]
  },
  {
   "cell_type": "markdown",
   "metadata": {},
   "source": [
    "## 3. Perform the LDA topic modelling and print the results."
   ]
  },
  {
   "cell_type": "markdown",
   "metadata": {},
   "source": [
    "Formatting the data into a dictionnary and a corpus, necessary entries for the LdaModel function of Gensim."
   ]
  },
  {
   "cell_type": "code",
   "execution_count": 150,
   "metadata": {
    "collapsed": false
   },
   "outputs": [],
   "source": [
    "dictionary = gensim.corpora.Dictionary(texts)\n",
    "# Converts a collection of words to its bag of word representation (list of word_id, word_frequency 2-tuples$)\n",
    "corpus = [dictionary.doc2bow(text) for text in texts]"
   ]
  },
  {
   "cell_type": "code",
   "execution_count": 151,
   "metadata": {
    "collapsed": true
   },
   "outputs": [],
   "source": [
    "if not os.path.exists(\"../datas/lda\"):\n",
    "    os.makedirs(\"../datas/lda\")"
   ]
  },
  {
   "cell_type": "code",
   "execution_count": 152,
   "metadata": {
    "collapsed": false
   },
   "outputs": [],
   "source": [
    "dictionary.save('../datas/lda/ldaDictionaryDE')"
   ]
  },
  {
   "cell_type": "markdown",
   "metadata": {},
   "source": [
    "Note that in the algorithm below, we need to choose the number of topics, which is the number of clusters of data that we want to find. Note that the accuracy of our algorithm depends a lot on picking a good number of topics."
   ]
  },
  {
   "cell_type": "code",
   "execution_count": 153,
   "metadata": {
    "collapsed": false
   },
   "outputs": [],
   "source": [
    "ldamodel = gensim.models.ldamodel.LdaModel(corpus,num_topics=11,id2word = dictionary)#, passes=1)\n",
    "#ldamodel = gensim.models.hdpmodel.HdpModel(corpus, id2word=dictionary)\n"
   ]
  },
  {
   "cell_type": "code",
   "execution_count": 154,
   "metadata": {
    "collapsed": false,
    "scrolled": true
   },
   "outputs": [
    {
     "name": "stdout",
     "output_type": "stream",
     "text": [
      "============\n",
      "Cluster  0 :  (0, '0.006*\"abkommen\" + 0.005*\"internationalen\" + 0.003*\"bilateralen\" + 0.003*\"zusammenarbeit\" + 0.003*\"europäischen\" + 0.003*\"länder\" + 0.003*\"ländern\" + 0.003*\"internationale\"')\n",
      "============\n",
      "Cluster  1 :  (1, '0.004*\"landwirtschaft\" + 0.003*\"markt\" + 0.002*\"unterstützen\" + 0.002*\"produkte\" + 0.002*\"massnahmen\" + 0.002*\"konsumenten\" + 0.002*\"bauern\" + 0.002*\"bevölkerung\"')\n",
      "============\n",
      "Cluster  2 :  (2, '0.005*\"verfahren\" + 0.002*\"möglichkeit\" + 0.002*\"besteht\" + 0.002*\"praxis\" + 0.002*\"fällen\" + 0.002*\"bundesverfassung\" + 0.002*\"entscheid\" + 0.002*\"fälle\"')\n",
      "============\n",
      "Cluster  3 :  (3, '0.003*\"ausgaben\" + 0.003*\"budget\" + 0.003*\"wirtschaft\" + 0.002*\"finanzkommission\" + 0.002*\"forschung\" + 0.002*\"zukunft\" + 0.002*\"nationalbank\" + 0.002*\"wachstum\"')\n",
      "============\n",
      "Cluster  4 :  (4, '0.002*\"unterstützen\" + 0.002*\"fraktion\" + 0.002*\"tourismus\" + 0.002*\"unseres\" + 0.001*\"unterstützt\" + 0.001*\"forschung\" + 0.001*\"arbeit\" + 0.001*\"beiden\"')\n",
      "============\n",
      "Cluster  5 :  (5, '0.005*\"massnahmen\" + 0.004*\"verkehr\" + 0.003*\"finanzierung\" + 0.003*\"kosten\" + 0.003*\"energien\" + 0.002*\"öffentlichen\" + 0.002*\"strasse\" + 0.002*\"energie\"')\n",
      "============\n",
      "Cluster  6 :  (6, '0.003*\"standesinitiative\" + 0.003*\"besteuerung\" + 0.002*\"abgelehnt\" + 0.002*\"initiativen\" + 0.002*\"einkommen\" + 0.002*\"direkten\" + 0.002*\"steuer\" + 0.002*\"systemwechsel\"')\n",
      "============\n",
      "Cluster  7 :  (7, '0.002*\"transparenz\" + 0.002*\"richtig\" + 0.002*\"unternehmungen\" + 0.002*\"beispiel\" + 0.002*\"überwiesen\" + 0.002*\"sollten\" + 0.002*\"praxis\" + 0.002*\"besteht\"')\n",
      "============\n",
      "Cluster  8 :  (8, '0.011*\"armee\" + 0.006*\"sicherheit\" + 0.003*\"ausbildung\" + 0.002*\"botschaft\" + 0.002*\"kosten\" + 0.002*\"zivilen\" + 0.002*\"aufgaben\" + 0.002*\"unterstützung\"')\n",
      "============\n",
      "Cluster  9 :  (9, '0.003*\"kinder\" + 0.003*\"einkommen\" + 0.003*\"arbeitgeber\" + 0.003*\"massnahmen\" + 0.002*\"kosten\" + 0.002*\"arbeitnehmer\" + 0.002*\"familien\" + 0.002*\"unterstützen\"')\n",
      "============\n",
      "Cluster  10 :  (10, '0.008*\"beilage\" + 0.003*\"aufsicht\" + 0.003*\"kosten\" + 0.003*\"patienten\" + 0.002*\"arbeit\" + 0.002*\"gesundheitswesen\" + 0.002*\"prämien\" + 0.002*\"sitzung\"')\n"
     ]
    }
   ],
   "source": [
    "for i, bag in enumerate(ldamodel.print_topics(num_words=8)):\n",
    "    print(\"============\")\n",
    "    print(\"Cluster \", i, \": \", bag)"
   ]
  },
  {
   "cell_type": "code",
   "execution_count": 155,
   "metadata": {
    "collapsed": true
   },
   "outputs": [],
   "source": [
    "ldamodel.save('../datas/lda/ldamodelDE')"
   ]
  },
  {
   "cell_type": "code",
   "execution_count": null,
   "metadata": {
    "collapsed": true
   },
   "outputs": [],
   "source": []
  }
 ],
 "metadata": {
  "anaconda-cloud": {},
  "kernelspec": {
   "display_name": "Python [Root]",
   "language": "python",
   "name": "Python [Root]"
  },
  "language_info": {
   "codemirror_mode": {
    "name": "ipython",
    "version": 3
   },
   "file_extension": ".py",
   "mimetype": "text/x-python",
   "name": "python",
   "nbconvert_exporter": "python",
   "pygments_lexer": "ipython3",
   "version": "3.5.2"
  }
 },
 "nbformat": 4,
 "nbformat_minor": 1
}
