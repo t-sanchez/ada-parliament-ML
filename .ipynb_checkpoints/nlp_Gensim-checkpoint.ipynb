{
 "cells": [
  {
   "cell_type": "markdown",
   "metadata": {},
   "source": [
    "# Testing the Topic Modelling using the Gensim Library\n",
    "\n",
    "Usual imports come first."
   ]
  },
  {
   "cell_type": "code",
   "execution_count": 1,
   "metadata": {
    "collapsed": false
   },
   "outputs": [
    {
     "name": "stderr",
     "output_type": "stream",
     "text": [
      "/home/thomas/anaconda3/lib/python3.5/site-packages/gensim/utils.py:1015: UserWarning: Pattern library is not installed, lemmatization won't be available.\n",
      "  warnings.warn(\"Pattern library is not installed, lemmatization won't be available.\")\n"
     ]
    }
   ],
   "source": [
    "import pandas as pd\n",
    "import glob\n",
    "import os\n",
    "import numpy as np\n",
    "from time import time\n",
    "import logging\n",
    "import gensim\n",
    "import bz2"
   ]
  },
  {
   "cell_type": "markdown",
   "metadata": {},
   "source": [
    "# 1. Load the data from the Transcript files\n",
    "At the moment, we only consider the entries for which the field `LanguageOfText` is `FR`, namely the ones in French. We will consider the text in German later on. We show below one example of the text we consider."
   ]
  },
  {
   "cell_type": "code",
   "execution_count": 2,
   "metadata": {
    "collapsed": false
   },
   "outputs": [
    {
     "name": "stdout",
     "output_type": "stream",
     "text": [
      "Length of the dataset 15353\n",
      "La délégation vous propose de prendre acte de son rapport écrit.\n",
      "[VS]\n",
      "Vom Bericht wird Kenntnis genommen\n",
      "Il est pris acte du rapport\n",
      " \n",
      " La première chose que j'aimerais rappeler à cette assemblée, c'est que l'initiative populaire dont nous débattons aujourd'hui est soutenue par le Conseil fédéral qui représente tout de même l'ensemble des colorations politiques de ce Parlement - (Brouhaha) je dis bien l'ensemble puisque, effectivement, nous avons deux conseillers fédéraux UDC qui, forcément, soutiennent cette initiative. La majorité des parlementaires, la majorité des cantons également soutiennent le principe d'une limitation du droit de recours des organisations.\n",
      "Même si l'initiative est acceptée, ce droit de recours des organisations contre les décisions administratives continuera d'exister. Lors des décisions prises par le peuple et/ou par les représentants du peuple que sont les parlements, les organisations sont certes privées du droit de recours, mais elles disposent encore d'une arme puissante: le référendum. Les autorités, les personnes privées continuent, elles, de disposer du droit de recours, de sorte que la préservation et le maintien de l'Etat de droit sont pleinement garantis. Ces mêmes autorités disposent aujourd'hui d'un arsenal législatif complet en matière de protection de l'environnement, de la nature, du paysage, de l'aménagement du territoire, de l'air, de l'eau, et les lois permettent de régler exhaustivement tous les problèmes qui concernent l'environnement.\n",
      "Or nous sommes tous d'accord ici pour dire que les autorités, dont vous faites tous partie, ont pour but et pour mission de respecter la loi. Et tout le monde est d'accord pour dire que les autorités respectent la loi de bonne foi.\n",
      "Cette initiative populaire, dont il faut rappeler qu'elle est directement applicable, aura pour effet de garantir une saine application du droit et en même temps le respect de la volonté populaire, pilier de notre démocratie. \n",
      "Le groupe radical-libéral vous demande donc de recommander au peuple et aux cantons d'accepter cette initiative et il tient à relever que, pour l'instant, il n'existe aucun contre-projet indirect qui permettrait de satisfaire les buts des initiants. Il n'est donc en l'état pas question de dire qu'il existe un contre-projet satisfaisant. Cela n'est pas vrai. Il est certain - et nous l'avons déjà dit - que l'initiative est un moyen et non pas un but en soi. Le jour où il y aura un contre-projet indirect qui puisse satisfaire les initiants, il pourrait être envisagé que cette initiative soit retirée. En l'état, ceux qui vous disent que tel est déjà le cas ne vous disent pas la vérité. Il n'y a aucun contre-projet indirect satisfaisant à ce jour.\n",
      "C'est la raison pour laquelle nous vous invitons à recommander au peuple et aux cantons d'accepter cette initiative populaire. (Applaudissements partiels)\n",
      "\n"
     ]
    }
   ],
   "source": [
    "dataset = []\n",
    "\n",
    "path = 'datas/Transcript/'\n",
    "allFiles = glob.glob(os.path.join(path, '*.csv'))\n",
    "\n",
    "for file_ in allFiles:\n",
    "    data = pd.read_csv(file_)\n",
    "    dataset = dataset + list(data[(data['Text'] == data['Text']) & (data['LanguageOfText'] == 'FR')]['Text'].values)\n",
    "    \n",
    "print('Length of the dataset', len(dataset))\n",
    "print(dataset[0],'\\n',dataset[1])"
   ]
  },
  {
   "cell_type": "markdown",
   "metadata": {},
   "source": [
    "The length of the transcripts largely vary from an entry to another, but it reflects exactly what is discussed at the federal parliament. Processing them correctly will allow us to grasp the topic which are discussed at the parliament."
   ]
  },
  {
   "cell_type": "markdown",
   "metadata": {},
   "source": [
    "# 2. Format the data in order to use LDA with Gensim\n",
    "First of all, we load the `stop_words`, a list which refers all the common words for French, and that we must not take into accoung when doing the topic modelling, as they do not convey any useful information. The pipeline we follow is the following :\n",
    " 1. Load the `stop_words`\n",
    " 2. Remove those common words and tokenize our dataset (break it down into words) \n",
    " 3. We count the frequency of the words and remove the ones that appear only once in total.\n",
    " 4. Implement the *Stemming* of the data (cf. [a French stemming algorithm](http://snowball.tartarus.org/algorithms/french/stemmer.html)). (Done with the [nltk](http://www.nltk.org/api/nltk.stem.html) library)\n",
    " 5.  Remove all the words of length <= 2.\n",
    " \n",
    " **N.B. THIS ALGORITHM IS VER SLOW !!!!**"
   ]
  },
  {
   "cell_type": "code",
   "execution_count": 17,
   "metadata": {
    "collapsed": false,
    "scrolled": true
   },
   "outputs": [
    {
     "name": "stdout",
     "output_type": "stream",
     "text": [
      "[['déleg', 'acte', 'écrit', 'bericht', 'kenntn', 'genommen', 'acte'], ['rappel', 'assembl', 'populair', 'débatton', 'soutenu', 'représent', 'color', 'polit', 'brouhah', 'puisqu', 'effect', 'conseiller', 'fédéral', 'udc', 'forc', 'soutiennent', 'parlementair', 'soutiennent', 'princip', 'limit', 'recour', 'organis', 'accept', 'recour', 'organis', 'décis', 'administr', 'continu', 'exist', 'lor', 'décis', 'pris', 'et/ou', 'représent', 'parl', 'organis', 'cert', 'priv', 'recour', 'disposent', 'arme', 'puiss', 'référendum', 'autor', 'priv', 'continuent', 'dispos', 'recour', 'sort', 'préserv', 'maintien', 'etat', 'plein', 'garant', 'mêm', 'autor', 'disposent', 'arsenal', 'législ', 'complet', 'protect', 'environ', 'natur', 'paysag', 'aménag', 'territoir', 'eau', 'lois', 'permettent', 'regl', 'exhaust', 'problem', 'concernent', 'environ', 'autor', 'but', 'mission', 'respect', 'autor', 'respectent', 'foi', 'populair', 'rappel', 'direct', 'applic', 'garant', 'sain', 'appliqu', 'respect', 'volont', 'populair', 'pili', 'démocrat', 'radical-libéral', 'recommand', 'accept', 'tient', 'relev', 'exist', 'indirect', 'permettr', 'satisfair', 'but', 'initi', 'état', 'exist', 'satisfais', 'certain', 'moyen', 'but', 'soi', 'indirect', 'puiss', 'satisfair', 'initi', 'envisag', 'retir', 'état', 'disent', 'tel', 'disent', 'indirect', 'satisfais', 'laquel', 'inviton', 'recommand', 'accept', 'populair', 'applaud', 'partiel']]\n"
     ]
    }
   ],
   "source": [
    "## First of all we load the stop_words list\n",
    "import re\n",
    "from stop_words import get_stop_words\n",
    "\n",
    "# German stop words because there are some german words even in the french transcript\n",
    "stop_words_de = get_stop_words('de')\n",
    "\n",
    "# Loading the custom french stop-words list\n",
    "with open (\"French_stop_words_changed.txt\", \"r\") as myfile:\n",
    "    stop_words=myfile.read()  \n",
    "stop_words = stop_words.split(',')\n",
    "\n",
    "stop_words = stop_words_de+stop_words\n",
    "\n",
    "## Secondly we remove the common words in our document corpus and tokenize \n",
    "# The re.split function takes as first arguments everything we split at. At the moment, this is \n",
    "# ' ' - '\\' - ''' (apostrophe) -  '\\n' - '(', ')' - ',' - '.' - ':' - ';'\n",
    "# We also filter the words which are shorter than 3 letters, as they are very unlikely to provide any information, \n",
    "# and finally, we remove the common words.\n",
    "texts = [[word for word in re.split(' |\\'|\\n|\\(|\\)|,|;|:|\\.|\\[|\\]',\n",
    "                                    document.lower()) if (len(word) > 2 and (word not in stop_words))] \n",
    "         for document in dataset]\n",
    "\n",
    "# Thirdly we remove the words that appear only once in a text - Consider the stemmed version\n",
    "from collections import defaultdict\n",
    "from nltk.stem.snowball import FrenchStemmer\n",
    "FS = FrenchStemmer()\n",
    "\n",
    "frequency = defaultdict(int)\n",
    "for text in texts:\n",
    "    for token in text:\n",
    "        frequency[FS.stem(token)] += 1\n",
    "\n",
    "\n",
    "texts = [[FS.stem(token) for token in text if frequency[FS.stem(token)] > 1]\n",
    "         for text in texts]\n",
    "\n",
    "print(texts[0:2])"
   ]
  },
  {
   "cell_type": "markdown",
   "metadata": {},
   "source": [
    "# 3. Perform the LDA topic modelling and print the results."
   ]
  },
  {
   "cell_type": "markdown",
   "metadata": {},
   "source": [
    "Formatting the data into a dictionnary and a corpus, necessary entries for the LdaModel function of Gensim."
   ]
  },
  {
   "cell_type": "code",
   "execution_count": 18,
   "metadata": {
    "collapsed": false
   },
   "outputs": [],
   "source": [
    "dictionary = gensim.corpora.Dictionary(texts)\n",
    "# Converts a collection of words to its bag of word representation (list of word_id, word_frequency 2-tuples$)\n",
    "corpus = [dictionary.doc2bow(text) for text in texts]"
   ]
  },
  {
   "cell_type": "markdown",
   "metadata": {},
   "source": [
    "Note that in the algorithm below, we need to choose the number of topics, which is the number of clusters of data that we want to find. Note that the accuracy of our algorithm depends a lot on picking a good number of topics."
   ]
  },
  {
   "cell_type": "code",
   "execution_count": 19,
   "metadata": {
    "collapsed": false
   },
   "outputs": [],
   "source": [
    "ldamodel = gensim.models.ldamodel.LdaModel(corpus, num_topics=6, id2word = dictionary, passes=1)\n",
    "ldamodel.print_topics()"
   ]
  },
  {
   "cell_type": "code",
   "execution_count": 20,
   "metadata": {
    "collapsed": false
   },
   "outputs": [
    {
     "data": {
      "text/plain": [
       "[(0,\n",
       "  '0.010*\"polit\" + 0.007*\"européen\" + 0.006*\"certain\" + 0.005*\"international\" + 0.005*\"etat\" + 0.005*\"travail\" + 0.005*\"concern\" + 0.004*\"union\" + 0.004*\"relat\" + 0.004*\"droit\"'),\n",
       " (1,\n",
       "  '0.006*\"mesur\" + 0.005*\"certain\" + 0.005*\"médecin\" + 0.004*\"protect\" + 0.004*\"national\" + 0.004*\"tribunal\" + 0.004*\"domain\" + 0.004*\"pénal\" + 0.004*\"rejet\" + 0.004*\"concern\"'),\n",
       " (2,\n",
       "  '0.010*\"fiscal\" + 0.005*\"impôt\" + 0.005*\"imposit\" + 0.005*\"entrepris\" + 0.005*\"system\" + 0.005*\"économ\" + 0.004*\"certain\" + 0.004*\"etat\" + 0.004*\"rent\" + 0.004*\"taux\"'),\n",
       " (3,\n",
       "  '0.008*\"etat\" + 0.007*\"trait\" + 0.006*\"national\" + 0.006*\"voix\" + 0.006*\"concern\" + 0.006*\"décis\" + 0.006*\"adopt\" + 0.005*\"enfant\" + 0.005*\"propos\" + 0.005*\"disposit\"'),\n",
       " (4,\n",
       "  '0.020*\"franc\" + 0.013*\"million\" + 0.007*\"économ\" + 0.007*\"augment\" + 0.006*\"développ\" + 0.005*\"financ\" + 0.005*\"dépens\" + 0.005*\"mesur\" + 0.005*\"budget\" + 0.005*\"milliard\"'),\n",
       " (5,\n",
       "  '0.011*\"assur\" + 0.006*\"coût\" + 0.006*\"system\" + 0.006*\"mesur\" + 0.005*\"financ\" + 0.005*\"concern\" + 0.005*\"prestat\" + 0.005*\"prim\" + 0.005*\"format\" + 0.004*\"entrepris\"')]"
      ]
     },
     "execution_count": 20,
     "metadata": {},
     "output_type": "execute_result"
    }
   ],
   "source": []
  },
  {
   "cell_type": "code",
   "execution_count": 22,
   "metadata": {
    "collapsed": false
   },
   "outputs": [
    {
     "data": {
      "text/plain": [
       "[(0,\n",
       "  '0.027*\"franc\" + 0.013*\"financ\" + 0.013*\"million\" + 0.011*\"milliard\" + 0.009*\"augment\" + 0.008*\"dépens\" + 0.008*\"financi\" + 0.008*\"transport\" + 0.006*\"mont\" + 0.006*\"budget\"'),\n",
       " (1,\n",
       "  '0.013*\"pénal\" + 0.011*\"armé\" + 0.011*\"civil\" + 0.011*\"cod\" + 0.010*\"victim\" + 0.009*\"militair\" + 0.007*\"certain\" + 0.007*\"acte\" + 0.007*\"interdict\" + 0.006*\"infract\"'),\n",
       " (2,\n",
       "  '0.011*\"produit\" + 0.011*\"agricol\" + 0.010*\"agricultur\" + 0.009*\"prix\" + 0.007*\"déleg\" + 0.006*\"alimentair\" + 0.006*\"polit\" + 0.006*\"représent\" + 0.006*\"product\" + 0.006*\"import\"'),\n",
       " (3,\n",
       "  '0.016*\"autor\" + 0.013*\"pénal\" + 0.012*\"banqu\" + 0.009*\"etat\" + 0.008*\"inform\" + 0.007*\"tribunal\" + 0.007*\"surveil\" + 0.007*\"financi\" + 0.007*\"administr\" + 0.005*\"system\"'),\n",
       " (4,\n",
       "  '0.013*\"asil\" + 0.012*\"travail\" + 0.012*\"mesur\" + 0.008*\"étranger\" + 0.007*\"integr\" + 0.007*\"dur\" + 0.007*\"certain\" + 0.005*\"social\" + 0.005*\"révis\" + 0.005*\"économ\"'),\n",
       " (5,\n",
       "  '0.016*\"social\" + 0.012*\"travail\" + 0.012*\"salair\" + 0.010*\"assur\" + 0.009*\"rent\" + 0.007*\"av\" + 0.006*\"prestat\" + 0.006*\"emploi\" + 0.006*\"taux\" + 0.006*\"prévoi\"'),\n",
       " (6,\n",
       "  '0.018*\"président\" + 0.007*\"antrag\" + 0.006*\"adopt\" + 0.005*\"etat\" + 0.005*\"bundesrat\" + 0.005*\"del\" + 0.005*\"kommiss\" + 0.004*\"unser\" + 0.004*\"langu\" + 0.004*\"applaud\"'),\n",
       " (7,\n",
       "  '0.018*\"polit\" + 0.011*\"international\" + 0.011*\"développ\" + 0.007*\"européen\" + 0.007*\"engag\" + 0.007*\"sécur\" + 0.007*\"économ\" + 0.006*\"etat\" + 0.005*\"concern\" + 0.005*\"particuli\"'),\n",
       " (8,\n",
       "  '0.017*\"entrepris\" + 0.014*\"européen\" + 0.013*\"économ\" + 0.010*\"union\" + 0.007*\"accord\" + 0.007*\"march\" + 0.006*\"négoci\" + 0.005*\"certain\" + 0.005*\"convent\" + 0.005*\"mesur\"'),\n",
       " (9,\n",
       "  '0.013*\"assur\" + 0.012*\"sant\" + 0.009*\"coût\" + 0.007*\"system\" + 0.007*\"soin\" + 0.007*\"domain\" + 0.007*\"prestat\" + 0.006*\"assureur\" + 0.006*\"qualit\" + 0.006*\"prim\"'),\n",
       " (10,\n",
       "  '0.011*\"national\" + 0.007*\"certain\" + 0.005*\"don\" + 0.005*\"trait\" + 0.005*\"débat\" + 0.005*\"concern\" + 0.005*\"polit\" + 0.004*\"souhait\" + 0.004*\"décis\" + 0.004*\"vot\"'),\n",
       " (11,\n",
       "  '0.021*\"énerg\" + 0.011*\"énerget\" + 0.011*\"nucléair\" + 0.009*\"central\" + 0.009*\"électr\" + 0.008*\"renouvel\" + 0.007*\"bât\" + 0.007*\"install\" + 0.007*\"économ\" + 0.007*\"object\"'),\n",
       " (12,\n",
       "  '0.010*\"tribunal\" + 0.008*\"débat\" + 0.007*\"jug\" + 0.006*\"décis\" + 0.006*\"solut\" + 0.005*\"certain\" + 0.005*\"concern\" + 0.005*\"discuss\" + 0.005*\"propos\" + 0.004*\"vot\"'),\n",
       " (13,\n",
       "  '0.018*\"etat\" + 0.017*\"voix\" + 0.012*\"version\" + 0.011*\"del\" + 0.010*\"médic\" + 0.010*\"divergent\" + 0.010*\"rejet\" + 0.009*\"décis\" + 0.008*\"abstent\" + 0.008*\"lettr\"'),\n",
       " (14,\n",
       "  '0.033*\"format\" + 0.028*\"recherch\" + 0.025*\"écol\" + 0.019*\"haut\" + 0.010*\"étudi\" + 0.010*\"domain\" + 0.010*\"étud\" + 0.007*\"professionnel\" + 0.006*\"innov\" + 0.006*\"univers\"'),\n",
       " (15,\n",
       "  '0.011*\"arme\" + 0.008*\"européen\" + 0.008*\"etat\" + 0.006*\"droit\" + 0.006*\"mesur\" + 0.005*\"trait\" + 0.005*\"animal\" + 0.005*\"international\" + 0.004*\"contrôl\" + 0.004*\"concern\"'),\n",
       " (16,\n",
       "  '0.016*\"enfant\" + 0.010*\"famill\" + 0.010*\"parent\" + 0.009*\"populair\" + 0.006*\"log\" + 0.006*\"coupl\" + 0.006*\"droit\" + 0.005*\"égal\" + 0.005*\"commun\" + 0.005*\"constitu\"'),\n",
       " (17,\n",
       "  '0.014*\"impôt\" + 0.012*\"fiscal\" + 0.009*\"pai\" + 0.009*\"assur\" + 0.008*\"imposit\" + 0.007*\"prim\" + 0.006*\"direct\" + 0.005*\"contribu\" + 0.005*\"franc\" + 0.005*\"frais\"'),\n",
       " (18,\n",
       "  '0.011*\"médecin\" + 0.011*\"convent\" + 0.009*\"adopt\" + 0.008*\"révis\" + 0.008*\"modif\" + 0.007*\"mesur\" + 0.006*\"enfant\" + 0.006*\"concern\" + 0.006*\"vigueur\" + 0.005*\"etat\"'),\n",
       " (19,\n",
       "  '0.039*\"franc\" + 0.036*\"million\" + 0.013*\"mont\" + 0.012*\"budget\" + 0.012*\"augment\" + 0.010*\"cred\" + 0.009*\"concern\" + 0.008*\"posit\" + 0.007*\"dépens\" + 0.007*\"programm\"')]"
      ]
     },
     "execution_count": 22,
     "metadata": {},
     "output_type": "execute_result"
    }
   ],
   "source": [
    "ldamodel = gensim.models.ldamodel.LdaModel(corpus, num_topics=20, id2word = dictionary, passes=1)\n",
    "ldamodel.print_topics()"
   ]
  }
 ],
 "metadata": {
  "anaconda-cloud": {},
  "kernelspec": {
   "display_name": "Python [Root]",
   "language": "python",
   "name": "Python [Root]"
  },
  "language_info": {
   "codemirror_mode": {
    "name": "ipython",
    "version": 3
   },
   "file_extension": ".py",
   "mimetype": "text/x-python",
   "name": "python",
   "nbconvert_exporter": "python",
   "pygments_lexer": "ipython3",
   "version": "3.5.2"
  }
 },
 "nbformat": 4,
 "nbformat_minor": 1
}
