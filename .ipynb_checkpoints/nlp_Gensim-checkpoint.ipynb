{
 "cells": [
  {
   "cell_type": "markdown",
   "metadata": {},
   "source": [
    "# Testing the Topic Modelling using the Gensim Library\n",
    "\n",
    "Usual imports come first."
   ]
  },
  {
   "cell_type": "code",
   "execution_count": 9,
   "metadata": {
    "collapsed": false
   },
   "outputs": [],
   "source": [
    "import pandas as pd\n",
    "import glob\n",
    "import os\n",
    "import numpy as np\n",
    "from time import time\n",
    "import logging\n",
    "import gensim\n",
    "import bz2"
   ]
  },
  {
   "cell_type": "markdown",
   "metadata": {},
   "source": [
    "# 1. Load the data from the Transcript files\n",
    "At the moment, we only consider the entries for which the field `LanguageOfText` is `FR`, namely the ones in French. We will consider the text in German later on."
   ]
  },
  {
   "cell_type": "code",
   "execution_count": 7,
   "metadata": {
    "collapsed": false
   },
   "outputs": [
    {
     "name": "stdout",
     "output_type": "stream",
     "text": [
      "Length of the dataset 15353\n",
      "La délégation vous propose de prendre acte de son rapport écrit.\n",
      "[VS]\n",
      "Vom Bericht wird Kenntnis genommen\n",
      "Il est pris acte du rapport\n",
      " \n",
      " La première chose que j'aimerais rappeler à cette assemblée, c'est que l'initiative populaire dont nous débattons aujourd'hui est soutenue par le Conseil fédéral qui représente tout de même l'ensemble des colorations politiques de ce Parlement - (Brouhaha) je dis bien l'ensemble puisque, effectivement, nous avons deux conseillers fédéraux UDC qui, forcément, soutiennent cette initiative. La majorité des parlementaires, la majorité des cantons également soutiennent le principe d'une limitation du droit de recours des organisations.\n",
      "Même si l'initiative est acceptée, ce droit de recours des organisations contre les décisions administratives continuera d'exister. Lors des décisions prises par le peuple et/ou par les représentants du peuple que sont les parlements, les organisations sont certes privées du droit de recours, mais elles disposent encore d'une arme puissante: le référendum. Les autorités, les personnes privées continuent, elles, de disposer du droit de recours, de sorte que la préservation et le maintien de l'Etat de droit sont pleinement garantis. Ces mêmes autorités disposent aujourd'hui d'un arsenal législatif complet en matière de protection de l'environnement, de la nature, du paysage, de l'aménagement du territoire, de l'air, de l'eau, et les lois permettent de régler exhaustivement tous les problèmes qui concernent l'environnement.\n",
      "Or nous sommes tous d'accord ici pour dire que les autorités, dont vous faites tous partie, ont pour but et pour mission de respecter la loi. Et tout le monde est d'accord pour dire que les autorités respectent la loi de bonne foi.\n",
      "Cette initiative populaire, dont il faut rappeler qu'elle est directement applicable, aura pour effet de garantir une saine application du droit et en même temps le respect de la volonté populaire, pilier de notre démocratie. \n",
      "Le groupe radical-libéral vous demande donc de recommander au peuple et aux cantons d'accepter cette initiative et il tient à relever que, pour l'instant, il n'existe aucun contre-projet indirect qui permettrait de satisfaire les buts des initiants. Il n'est donc en l'état pas question de dire qu'il existe un contre-projet satisfaisant. Cela n'est pas vrai. Il est certain - et nous l'avons déjà dit - que l'initiative est un moyen et non pas un but en soi. Le jour où il y aura un contre-projet indirect qui puisse satisfaire les initiants, il pourrait être envisagé que cette initiative soit retirée. En l'état, ceux qui vous disent que tel est déjà le cas ne vous disent pas la vérité. Il n'y a aucun contre-projet indirect satisfaisant à ce jour.\n",
      "C'est la raison pour laquelle nous vous invitons à recommander au peuple et aux cantons d'accepter cette initiative populaire. (Applaudissements partiels)\n",
      " \n",
      " Vous avez reçu un rapport écrit. La commission propose de proroger jusqu'à la session de printemps 2010 le délai qui lui avait été imparti pour l'élaboration d'un projet.\n",
      "[VS]\n",
      "Angenommen - Adopté\n",
      "\n"
     ]
    }
   ],
   "source": [
    "dataset = []\n",
    "\n",
    "path = 'datas/Transcript/'\n",
    "allFiles = glob.glob(os.path.join(path, '*.csv'))\n",
    "\n",
    "for file_ in allFiles:\n",
    "    data = pd.read_csv(file_)\n",
    "    dataset = dataset + list(data[(data['Text'] == data['Text']) & (data['LanguageOfText'] == 'FR')]['Text'].values)\n",
    "    \n",
    "print('Length of the dataset', len(dataset))\n",
    "print(dataset[0],'\\n',dataset[1],'\\n',dataset[2])"
   ]
  },
  {
   "cell_type": "markdown",
   "metadata": {},
   "source": [
    "The length of the transcripts largely vary from an entry to another, but it reflects exactly what is discussed at the federal parliament."
   ]
  },
  {
   "cell_type": "markdown",
   "metadata": {},
   "source": [
    "# 2. Format the data in order to use LDA with Gensim\n",
    "First of all, we load the `stop_words`, a list which refers all the common words for French, and that we must not take into accoung when doing the topic modelling, as they do not convey any useful information. The pipeline we follow is the following :\n",
    " 1. Load the `stop_words`\n",
    " 2. Remove those common words and tokenize our dataset (break it down into words) \n",
    " 3. We count the frequency of the words and remove the ones that appear only once in total.\n",
    " 4. **TODO - ** Implement the *Stemming* of the data (cf. [a French stemming algorithm](http://snowball.tartarus.org/algorithms/french/stemmer.html))."
   ]
  },
  {
   "cell_type": "code",
   "execution_count": 51,
   "metadata": {
    "collapsed": false
   },
   "outputs": [
    {
     "name": "stdout",
     "output_type": "stream",
     "text": [
      "[['délégation', 'propose', 'acte', 'rapport', 'écrit.', '[vs]', 'vom', 'bericht', 'wird', 'kenntnis', 'genommen', 'acte', 'rapport'], [\"j'aimerais\", 'rappeler', 'assemblée,', \"c'est\", \"l'initiative\", 'populaire', 'débattons', \"aujourd'hui\", 'soutenue', 'conseil', 'fédéral', 'représente', \"l'ensemble\", 'politiques', 'parlement', '-', '(brouhaha)', \"l'ensemble\", 'puisque,', 'effectivement,', 'conseillers', 'fédéraux', 'udc', 'qui,', 'forcément,', 'soutiennent', 'initiative.', 'majorité', 'parlementaires,', 'majorité', 'cantons', 'également', 'soutiennent', 'principe', \"d'une\", 'limitation', 'recours', 'organisations.', \"l'initiative\", 'acceptée,', 'recours', 'organisations', 'décisions', 'administratives', 'continuera', \"d'exister.\", 'lors', 'décisions', 'prises', 'peuple', 'et/ou', 'représentants', 'peuple', 'parlements,', 'organisations', 'certes', 'privées', 'recours,', 'disposent', \"d'une\", 'arme', 'référendum.', 'autorités,', 'personnes', 'privées', 'elles,', 'disposer', 'recours,', 'sorte', 'préservation', 'maintien', \"l'etat\", 'pleinement', 'garantis.', 'mêmes', 'autorités', 'disposent', \"aujourd'hui\", \"d'un\", 'arsenal', 'législatif', 'complet', 'matière', 'protection', \"l'environnement,\", 'nature,', 'paysage,', \"l'aménagement\", 'territoire,', \"l'air,\", \"l'eau,\", 'lois', 'permettent', 'régler', 'exhaustivement', 'problèmes', 'concernent', \"l'environnement.\", 'or', \"d'accord\", 'autorités,', 'partie,', 'but', 'mission', 'respecter', 'loi.', \"d'accord\", 'autorités', 'respectent', 'loi', 'foi.', 'initiative', 'populaire,', 'rappeler', \"qu'elle\", 'directement', 'applicable,', 'effet', 'garantir', 'saine', 'application', 'respect', 'volonté', 'populaire,', 'pilier', 'démocratie.', 'groupe', 'radical-libéral', 'recommander', 'peuple', 'cantons', \"d'accepter\", 'initiative', 'tient', 'relever', 'que,', \"l'instant,\", \"n'existe\", 'contre-projet', 'indirect', 'permettrait', 'satisfaire', 'buts', 'initiants.', \"n'est\", \"l'état\", \"qu'il\", 'existe', 'contre-projet', 'satisfaisant.', \"n'est\", 'vrai.', 'certain', '-', \"l'avons\", '-', \"l'initiative\", 'moyen', 'but', 'soi.', 'contre-projet', 'indirect', 'puisse', 'satisfaire', 'initiants,', 'envisagé', 'initiative', 'retirée.', \"l'état,\", 'disent', 'tel', 'disent', 'vérité.', \"n'y\", 'contre-projet', 'indirect', 'satisfaisant', 'jour.', \"c'est\", 'laquelle', 'invitons', 'recommander', 'peuple', 'cantons', \"d'accepter\", 'initiative', 'populaire.', '(applaudissements', 'partiels)'], ['reçu', 'rapport', 'écrit.', 'commission', 'propose', 'proroger', \"jusqu'à\", 'session', 'printemps', '2010', 'délai', 'imparti', \"l'élaboration\", \"d'un\", 'projet.', '[vs]', 'angenommen', '-', 'adopté'], ['rapports', 'situe', \"l'âge\", 'ordinaire', 'retraite', 'reçoit', 'indemnités', 'chômage', \"jusqu'à\", 'date', '[page', '465]', 'laquelle', 'prétendre', 'prestations', 'vieillesse.', 'théorie.', 'réalité,', \"s'avère\", \"n'est\", 'cas,', 'notamment', 'personnes', 'qui,', \"l'assurance-chômage,\", 'préfèrent', 'retirer', 'active', 'retraite', 'anticipée', \"l'admet\", 'loi', \"l'avs,\", 'année', \"l'âge\", 'ordinaire', 'retraite.', 'licenciement', \"n'est\", 'choix,', 'épreuve', 'douloureuse', 'laquelle', 'personnes', '62,', 'voire', '63', 'ans,', 'doivent', 'parfois', 'composer', 'réorganiser', 'vie.', 'cependant,', 'âge,', 'retrouver', 'emploi', \"n'est\", 'aisée,', 'surtout', 'personnes', 'concernées', 'bénéficient', \"d'une\", 'formation', 'base', 'exercé', 'fonction.', 'dès', 'lors,', \"d'être\", 'chômage,', 'personnes', 'préfèrent', 'parfois', 'choix', \"d'une\", 'retraite', 'anticipée.', 'pourtant,', 'dès', 'lors', 'personnes', 'entrepris', 'démarches', 'auprès', \"l'avs,\", 'considérées', 'chômage', 'inaptes', 'placement', 'simplement', 'chômage', 'assimile', 'renoncement', 'exercer', 'emploi,', \"n'est\", 'clairement', 'forcément', 'cas.', 'simplement', 'personnes,', 'prestations', 'retraite,', \"l'obligation\", \"s'annoncer\", \"l'avs\", 'plusieurs', \"l'avance.\", 'retrouvent', 'emploi,', 'pourront', 'différer', \"d'un\", 'an', 'date', 'retraite.', 'contre,', \"l'inverse\", \"n'est\", 'possible:', 'bénéficier', \"d'une\", 'retraite', 'anticipée', \"l'obtenir\", \"n'a\", 'entrepris', 'démarches', 'temps,', \"c'est-à-dire\", 'plusieurs', \"l'âge\", 'requis.', 'dépôt', 'avs', \"l'octroi\", 'rente,', 'souvent', 'nombreux', 'durant', 'lesquels', 'personnes', 'devraient', 'bénéficier', \"l'assurance-chômage.\", 'pourtant,', 'exclues', 'raisons', \"d'inaptitude\", 'placement.', 'chômage', 'interprète', 'dépôt', \"d'une\", 'préretraite', \"l'expression\", 'claire', 'renoncement', 'exercer', 'activité', 'lucrative,', 'personnes', 'concernées,', \"c'est\", 'devants', 'chômage,', 'retrouveraient', 'emploi.', 'différence', \"d'interprétation\", 'faits', 'pénalisante', 'personnes', 'cherchent', 'solutions', 'pragmatiques', 'problème,', 'vaut', 'entrepris', 'démarches', 'auprès', \"l'avs,\", 'peuvent', \"s'avérer\", 'inutiles,', 'chômage', 'demi', 'recherches', \"d'emploi\", 'infructueuses.', 'solution', 'profondément', 'injuste:', \"d'une\", 'part,', 'personnes', 'cotisé', \"l'assurance-chômage,\", \"n'y\", 'droit,', 'et,', \"d'autre\", 'part,', \"n'ont\", 'moyen', 'modifier', 'date', \"d'intervention\", \"l'avs.\", \"c'est\", 'effet', 'atteint', \"l'âge\", '62', '63', 'prétendre', 'retraite', 'anticipée,', \"n'y\", 'moyen', 'modifier', 'date.', 'contre,', \"l'assurance-chômage,\", 'autant', 'conditions', 'soient', 'remplies,', 'payer', 'indemnités', 'chômage', \"jusqu'à\", 'personnes', 'soient', 'toucher', 'prestations', 'retraite.', \"qu'à\", 'âge', 'retour', 'rapide', 'emploi', 'personnes', 'pourtant', 'cotisé', 'exclues', \"l'assurance-chômage,\", \"l'ai\", 'répète,', \"d'inaptitude\", 'placement.', 'plus,', 'pénaliser', 'davantage', 'chômeurs', 'âgés,', \"l'assurance-chômage\", 'décidé', \"d'une\", 'manière', 'unilatérale', 'chômage', 'intervient', 'retraite,', 'demandeurs', \"d'emploi\", \"n'ont\", 'prestation', 'durant', 'période.', 'situation', 'profondément', 'injuste.', \"s'agit\", \"d'un\", 'manque', 'coordination', 'assurances', 'sociales,', 'assurés', \"n'ont\", 'frais.', 'mais,', 'étant', 'complexité', 'problématique', \"d'ordre\", 'technique,', 'préfère', 'retirer', 'initiative', 'parlementaire', 'profit', \"d'une\", 'proposition', 'présenterai', 'cadre', 'révision', 'loi', \"l'assurance-chômage.\"], ['minorité', 'commission,', \"l'initiative\", 'parlementaire', 'john-calame.', 'que,', 'développement,', 'collègue', 'système', 'actuel', 'maintient', 'certaines', 'inégalités', 'traitement', 'prennent', 'retraite', \"l'âge\", 'ordinaire', 'certes,', 'loi', \"l'assurance-chômage\", \"n'a\", 'but', 'favoriser', 'souligner', 'que,', 'logique', 'départs', 'anticipés', 'retraite,', 'figure', 'préretraites', 'choisies', \"d'une\", 'part,', \"d'autre\", 'celles', 'contraintes.', 'evidemment,', 'licenciements', 'massifs', 'entreprise', 'région,', 'clair', \"qu'une\", 'solution', 'salariés', 'âgés.', 'personnes', 'satisfaites', 'situation', 'résulte', 'telles', 'décisions.', 'complexité', 'buman', \"lorsqu'il\", \"qu'on\", 'traiter', 'cadre', '11e', 'révision', \"l'avs.\", \"j'avais\", 'déposé', 'commission', 'proposition', 'solution', 'allant', 'direction,', 'demandant', 'suspendre', 'travaux', 'initiative', 'parlementaire', \"jusqu'à\", \"l'examen\", '11e', 'révision', \"l'avs.\", 'malheureusement,', 'majorité', 'bourgeoise', 'commission', \"m'a\", 'suivi.', \"qu'aujourd'hui,\", \"n'ai\", \"d'autre\", 'choix,', \"l'ensemble\", 'minorité', 'commission,', 'initiative', 'parlementaire.']]\n"
     ]
    }
   ],
   "source": [
    "## First of all we load the stop_words list\n",
    "import re\n",
    "\n",
    "with open (\"French_stop_words_changed.txt\", \"r\") as myfile:\n",
    "    stop_words=myfile.read()  \n",
    "stop_words = stop_words.split(',')\n",
    "## Secondly we remove the common words in our document corpus and tokenize \n",
    "texts = [[word for word in document.lower().split() if word not in stop_words]\n",
    "         for document in dataset]\n",
    "\n",
    "# Thirdly we remove the words that appear only once in a text\n",
    "from collections import defaultdict\n",
    "frequency = defaultdict(int)\n",
    "for text in texts:\n",
    "    for token in text:\n",
    "        frequency[token] += 1\n",
    "    \n",
    "texts = [[token for token in text if frequency[token] > 1]\n",
    "         for text in texts]\n",
    "print(texts[0:5])"
   ]
  },
  {
   "cell_type": "code",
   "execution_count": 52,
   "metadata": {
    "collapsed": false
   },
   "outputs": [
    {
     "name": "stdout",
     "output_type": "stream",
     "text": [
      "[\"j\\\\'\", \"d\\\\'\", \"n\\\\'\", \"qu\\\\'\", \"m\\\\'\", 'je', 'de', 'est', 'pas']\n"
     ]
    }
   ],
   "source": [
    "print(stop_words[1:10])"
   ]
  },
  {
   "cell_type": "markdown",
   "metadata": {},
   "source": [
    "Formatting the data into a dictionnary and a corpus, necessary entries for the LdaModel function of Gensim."
   ]
  },
  {
   "cell_type": "code",
   "execution_count": 53,
   "metadata": {
    "collapsed": true
   },
   "outputs": [],
   "source": [
    "dictionary = gensim.corpora.Dictionary(texts)\n",
    "corpus = [dictionary.doc2bow(text) for text in texts]"
   ]
  },
  {
   "cell_type": "markdown",
   "metadata": {},
   "source": [
    "# 3. Perform the LDA topic modelling and print the results."
   ]
  },
  {
   "cell_type": "code",
   "execution_count": 54,
   "metadata": {
    "collapsed": false
   },
   "outputs": [],
   "source": [
    "ldamodel = gensim.models.ldamodel.LdaModel(corpus, num_topics=10, id2word = dictionary, passes=1)"
   ]
  },
  {
   "cell_type": "code",
   "execution_count": 55,
   "metadata": {
    "collapsed": false
   },
   "outputs": [
    {
     "name": "stdout",
     "output_type": "stream",
     "text": [
      "[(9, '0.017*\"c\\'est\" + 0.015*\"-\" + 0.008*\"qu\\'il\"'), (6, '0.028*\"conseil\" + 0.018*\"commission\" + 0.011*\"proposition\"'), (5, '0.022*\"die\" + 0.019*\"der\" + 0.015*\"und\"')]\n"
     ]
    },
    {
     "data": {
      "text/plain": [
       "[(0,\n",
       "  '0.007*\"c\\'est\" + 0.006*\"proposition\" + 0.005*\"l\\'initiative\" + 0.005*\"-\" + 0.005*\"minorité\" + 0.004*\"[vs]\" + 0.004*\"d\\'une\" + 0.004*\"prix\" + 0.004*\"groupe\" + 0.004*\"cantons\"'),\n",
       " (1,\n",
       "  '0.011*\"conseil\" + 0.009*\"fédéral\" + 0.008*\"motion\" + 0.007*\"commission\" + 0.005*\"c\\'est\" + 0.005*\"l\\'initiative\" + 0.004*\"politique\" + 0.004*\"suisse\" + 0.003*\"d\\'une\" + 0.003*\"qu\\'il\"'),\n",
       " (2,\n",
       "  '0.009*\"[vs]\" + 0.006*\"-\" + 0.005*\"...\" + 0.005*\"c\\'est\" + 0.004*\"canton\" + 0.004*\"qu\\'il\" + 0.004*\"d\\'un\" + 0.004*\"d\\'une\" + 0.003*\"conseil\" + 0.003*\"art.\"'),\n",
       " (3,\n",
       "  '0.016*\"millions\" + 0.014*\"francs\" + 0.006*\"fédéral\" + 0.006*\"commission\" + 0.006*\"cent\" + 0.006*\"budget\" + 0.006*\"-\" + 0.006*\"milliards\" + 0.006*\"dépenses\" + 0.005*\"francs.\"'),\n",
       " (4,\n",
       "  '0.010*\"loi\" + 0.009*\"conseil\" + 0.008*\"personnes\" + 0.007*\"c\\'est\" + 0.006*\"l\\'article\" + 0.006*\"fédéral\" + 0.006*\"d\\'une\" + 0.005*\"formation\" + 0.005*\"commission\" + 0.005*\"minorité\"'),\n",
       " (5,\n",
       "  '0.022*\"die\" + 0.019*\"der\" + 0.015*\"und\" + 0.010*\"in\" + 0.008*\"zu\" + 0.007*\"das\" + 0.006*\"-\" + 0.006*\"wir\" + 0.006*\"ist\" + 0.005*\"den\"'),\n",
       " (6,\n",
       "  '0.028*\"conseil\" + 0.018*\"commission\" + 0.011*\"proposition\" + 0.009*\"fédéral\" + 0.009*\"l\\'article\" + 0.008*\"minorité\" + 0.008*\"majorité\" + 0.007*\"voix\" + 0.007*\"projet\" + 0.006*\"c\\'est\"'),\n",
       " (7,\n",
       "  '0.015*\"conseil\" + 0.014*\"c\\'est\" + 0.011*\"qu\\'il\" + 0.008*\"-\" + 0.007*\"fédéral\" + 0.006*\"d\\'une\" + 0.004*\"n\\'est\" + 0.004*\"d\\'un\" + 0.004*\"cantons\" + 0.004*\"projet\"'),\n",
       " (8,\n",
       "  '0.014*\"suisse\" + 0.013*\"conseil\" + 0.012*\"fédéral\" + 0.007*\"-\" + 0.007*\"c\\'est\" + 0.005*\"politique\" + 0.005*\"d\\'une\" + 0.004*\"commission\" + 0.004*\"d\\'un\" + 0.004*\"l\\'union\"'),\n",
       " (9,\n",
       "  '0.017*\"c\\'est\" + 0.015*\"-\" + 0.008*\"qu\\'il\" + 0.007*\"conseil\" + 0.007*\"n\\'est\" + 0.006*\"fédéral\" + 0.005*\"l\\'on\" + 0.004*\"d\\'une\" + 0.004*\"qu\\'on\" + 0.004*\"cantons\"')]"
      ]
     },
     "execution_count": 55,
     "metadata": {},
     "output_type": "execute_result"
    }
   ],
   "source": [
    "print(ldamodel.print_topics(num_topics=3, num_words=3))\n",
    "ldamodel.print_topics()"
   ]
  },
  {
   "cell_type": "code",
   "execution_count": null,
   "metadata": {
    "collapsed": true
   },
   "outputs": [],
   "source": []
  }
 ],
 "metadata": {
  "anaconda-cloud": {},
  "kernelspec": {
   "display_name": "Python [Root]",
   "language": "python",
   "name": "Python [Root]"
  },
  "language_info": {
   "codemirror_mode": {
    "name": "ipython",
    "version": 3
   },
   "file_extension": ".py",
   "mimetype": "text/x-python",
   "name": "python",
   "nbconvert_exporter": "python",
   "pygments_lexer": "ipython3",
   "version": "3.5.2"
  }
 },
 "nbformat": 4,
 "nbformat_minor": 1
}
