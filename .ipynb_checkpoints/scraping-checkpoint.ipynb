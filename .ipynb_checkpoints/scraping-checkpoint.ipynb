{
 "cells": [
  {
   "cell_type": "code",
   "execution_count": 1,
   "metadata": {
    "collapsed": false
   },
   "outputs": [],
   "source": [
    "from bs4 import BeautifulSoup\n",
    "import urllib.request\n",
    "import pandas as pd\n",
    "import html5lib \n",
    "from lxml import *\n",
    "import numpy as np\n",
    "import xmljson \n",
    "from xmljson import badgerfish as bf\n",
    "from json import *\n",
    "import xml.etree.ElementTree as ET\n",
    "from io import StringIO\n",
    "import webbrowser\n",
    "import requests\n",
    "import os as os"
   ]
  },
  {
   "cell_type": "code",
   "execution_count": 2,
   "metadata": {
    "collapsed": true
   },
   "outputs": [],
   "source": [
    "if not os.path.exists(\"datas\"):\n",
    "    os.makedirs(\"datas\")\n",
    "directory = 'datas'"
   ]
  },
  {
   "cell_type": "code",
   "execution_count": 3,
   "metadata": {
    "collapsed": false
   },
   "outputs": [],
   "source": [
    "def parsing_datas(base_url) :\n",
    "    with urllib.request.urlopen(base_url) as url:\n",
    "        s = url.read()\n",
    "    root = ET.fromstring(s)\n",
    "\n",
    "    dict_ = {}\n",
    "    base = \"{http://www.w3.org/2005/Atom}\"\n",
    "    for child in root.iter(base+'entry'):\n",
    "        for children in child.iter(base+'content') :\n",
    "            for properties in children :\n",
    "                for subject in properties : \n",
    "                        #print(subject.text)\n",
    "                    s = subject.tag.split('}')\n",
    "                    if s[1] in dict_ :\n",
    "                        dict_[s[1]].append(subject.text)\n",
    "                    else : \n",
    "                        dict_[s[1]] = [subject.text]\n",
    "    data = pd.DataFrame(dict_)\n",
    "    return data"
   ]
  },
  {
   "cell_type": "markdown",
   "metadata": {},
   "source": [
    "## saving_datas definition function \n",
    "- return ids of of session/vote .... "
   ]
  },
  {
   "cell_type": "code",
   "execution_count": 4,
   "metadata": {
    "collapsed": false
   },
   "outputs": [],
   "source": [
    "def save_datas(url, paths, paths_id,directory,final_index,change_url = False) :\n",
    "        if len(paths_id[paths[0]]) == 0 :\n",
    "            \n",
    "            data = parsing_datas(url)\n",
    "            if not data.empty :\n",
    "\n",
    "                directory += '/'+ paths[0]\n",
    "                if not os.path.exists(directory):\n",
    "                    os.makedirs(directory)\n",
    "                id_  = data['ID'].unique()[1:].tolist()\n",
    "                final_index = final_index+id_\n",
    "                data.to_csv(directory+'/'+paths[-1]+\".csv\")\n",
    "                \n",
    "        else :\n",
    "            \n",
    "            for index in paths_id[paths[0]] :\n",
    "                new_directory = directory\n",
    "                new_paths = paths_id.copy()\n",
    "                new_paths.pop(paths[0],None)\n",
    "                new_directory += '/'+paths[0]+'_id_'+str(index)\n",
    "                if not os.path.exists(new_directory):\n",
    "                    os.makedirs(new_directory)\n",
    "                new_url = url\n",
    "                new_change_url = change_url\n",
    "                if change_url and len(paths)==2 :\n",
    "                    new_url = new_url.replace('{}',index)  \n",
    "                    new_change_url = False\n",
    "                    print(new_url)\n",
    "                final_index = save_data(new_url,paths[1:],new_paths,new_directory,final_index,new_change_url)\n",
    "        return final_index    "
   ]
  },
  {
   "cell_type": "code",
   "execution_count": 5,
   "metadata": {
    "collapsed": false
   },
   "outputs": [],
   "source": [
    "def save_data(id_,directory,id_name,parent_id= None,subject=None, url = None) :\n",
    "    if url == None :\n",
    "        with open('base_url.txt', 'r') as myfile:\n",
    "            url=myfile.read()\n",
    "    if subject != None :\n",
    "        url = url.replace('[]',subject)\n",
    "    if parent_id != None :   \n",
    "        url = url.replace('()',parent_id)\n",
    "    url = url.replace('{0}',str(np.maximum(min(id_)-1,0)))\n",
    "    url = url.replace('{1}',str(max(id_)+1))\n",
    "    print(url)\n",
    "    data = parsing_datas(url)\n",
    "    if not data.empty :\n",
    "        if not os.path.exists(directory):\n",
    "            os.makedirs(directory)\n",
    "        index = list(map(int, data['ID'].unique().tolist()))\n",
    "        data.to_csv(directory+'/'+id_name+ 'id_'+str(min(id_))+'-'+str(max(id_))+'.csv')\n",
    "        return index ,data\n",
    "    else :\n",
    "        return None"
   ]
  },
  {
   "cell_type": "markdown",
   "metadata": {},
   "source": [
    "### saving legislative datas"
   ]
  },
  {
   "cell_type": "code",
   "execution_count": 6,
   "metadata": {
    "collapsed": false
   },
   "outputs": [
    {
     "name": "stdout",
     "output_type": "stream",
     "text": [
      "https://ws.parlament.ch/odata.svc/LegislativePeriod?$filter=LegislativePeriodNumber%20gt%200%20and%20LegislativePeriodNumber%20lt%20101\n",
      "[42, 38, 44, 37, 41, 47, 43, 39, 40, 49, 50, 48, 45, 46]\n"
     ]
    }
   ],
   "source": [
    "legislative_url =\"https://ws.parlament.ch/odata.svc/LegislativePeriod?$filter=LegislativePeriodNumber%20gt%20{0}%20and%20LegislativePeriodNumber%20lt%20{1}\"\n",
    "base_legi_directory = \"datas/legi\"\n",
    "legi_periode_id, _  = save_data([0,100], base_legi_directory,'legi',None,None,legislative_url)\n",
    "print(legi_periode_id)"
   ]
  },
  {
   "cell_type": "markdown",
   "metadata": {},
   "source": [
    "### saving vote datas "
   ]
  },
  {
   "cell_type": "code",
   "execution_count": 7,
   "metadata": {
    "collapsed": false
   },
   "outputs": [
    {
     "name": "stdout",
     "output_type": "stream",
     "text": [
      "https://ws.parlament.ch/odata.svc/Vote?$filter=IdLegislativePeriod%20gt%2036L%20and%20IdLegislativePeriod%20lt%2051L%20and%20Language%20eq%20%27FR%27\n",
      "1 17983\n"
     ]
    }
   ],
   "source": [
    "base_vote_directory= \"datas/Vote\"\n",
    "vote_id , _ = save_data(legi_periode_id,base_vote_directory,'legi','IdLegislativePeriod','Vote')\n",
    "print(str(min(vote_id))+' '+str(max(vote_id)))"
   ]
  },
  {
   "cell_type": "code",
   "execution_count": 8,
   "metadata": {
    "collapsed": false
   },
   "outputs": [
    {
     "name": "stdout",
     "output_type": "stream",
     "text": [
      "https://ws.parlament.ch/odata.svc/Session?$filter=LegislativePeriodNumber%20gt%2036L%20and%20LegislativePeriodNumber%20lt%2051L%20and%20Language%20eq%20%27FR%27\n",
      "4311 5005\n"
     ]
    }
   ],
   "source": [
    "base_session_directory= \"datas/Session\"\n",
    "session_id, _ = save_data(legi_periode_id,base_session_directory,'Legi','LegislativePeriodNumber','Session')\n",
    "print(str(min(session_id))+' '+str(max(session_id)))"
   ]
  },
  {
   "cell_type": "code",
   "execution_count": 9,
   "metadata": {
    "collapsed": false
   },
   "outputs": [
    {
     "name": "stdout",
     "output_type": "stream",
     "text": [
      "https://ws.parlament.ch/odata.svc/Meeting?$filter=IdSession%20gt%204310L%20and%20IdSession%20lt%205006L%20and%20Language%20eq%20%27FR%27\n",
      "1 3860\n"
     ]
    }
   ],
   "source": [
    "base_transcript_directory= \"datas/Meeting\"\n",
    "meeting_id,_ = save_data(session_id,base_transcript_directory,'Session','IdSession','Meeting')\n",
    "print(str(min(meeting_id))+' '+str(max(meeting_id)))"
   ]
  },
  {
   "cell_type": "code",
   "execution_count": 16,
   "metadata": {
    "collapsed": false
   },
   "outputs": [
    {
     "name": "stdout",
     "output_type": "stream",
     "text": [
      "https://ws.parlament.ch/odata.svc/Subject?$filter=IdMeeting%20gt%200L%20and%20IdMeeting%20lt%203861L%20and%20Language%20eq%20%27FR%27\n",
      "1 38660\n"
     ]
    }
   ],
   "source": [
    "base_subject_directory= \"datas/Subject\"\n",
    "Subject_id, _ = save_data(meeting_id,base_subject_directory,'Meeting','IdMeeting','Subject')\n",
    "print(str(min(Subject_id))+' '+str(max(Subject_id)))"
   ]
  },
  {
   "cell_type": "code",
   "execution_count": 18,
   "metadata": {
    "collapsed": false
   },
   "outputs": [
    {
     "name": "stdout",
     "output_type": "stream",
     "text": [
      "https://ws.parlament.ch/odata.svc/Transcript?$filter=IdSubject%20gt%206952L%20and%20IdSubject%20lt%2038661L%20and%20Language%20eq%20%27FR%27\n",
      "40673 41672\n",
      "https://ws.parlament.ch/odata.svc/Transcript?$filter=IdSubject%20gt%207018L%20and%20IdSubject%20lt%2038661L%20and%20Language%20eq%20%27FR%27\n",
      "41694 42693\n",
      "https://ws.parlament.ch/odata.svc/Transcript?$filter=IdSubject%20gt%207243L%20and%20IdSubject%20lt%2038661L%20and%20Language%20eq%20%27FR%27\n",
      "42764 43763\n",
      "https://ws.parlament.ch/odata.svc/Transcript?$filter=IdSubject%20gt%207281L%20and%20IdSubject%20lt%2038661L%20and%20Language%20eq%20%27FR%27\n",
      "43767 44766\n",
      "https://ws.parlament.ch/odata.svc/Transcript?$filter=IdSubject%20gt%207392L%20and%20IdSubject%20lt%2038661L%20and%20Language%20eq%20%27FR%27\n",
      "44777 45776\n",
      "https://ws.parlament.ch/odata.svc/Transcript?$filter=IdSubject%20gt%207603L%20and%20IdSubject%20lt%2038661L%20and%20Language%20eq%20%27FR%27\n",
      "45783 46782\n",
      "https://ws.parlament.ch/odata.svc/Transcript?$filter=IdSubject%20gt%207888L%20and%20IdSubject%20lt%2038661L%20and%20Language%20eq%20%27FR%27\n",
      "46793 47792\n",
      "https://ws.parlament.ch/odata.svc/Transcript?$filter=IdSubject%20gt%207964L%20and%20IdSubject%20lt%2038661L%20and%20Language%20eq%20%27FR%27\n",
      "47812 48811\n",
      "https://ws.parlament.ch/odata.svc/Transcript?$filter=IdSubject%20gt%208193L%20and%20IdSubject%20lt%2038661L%20and%20Language%20eq%20%27FR%27\n",
      "48886 49885\n",
      "https://ws.parlament.ch/odata.svc/Transcript?$filter=IdSubject%20gt%208301L%20and%20IdSubject%20lt%2038661L%20and%20Language%20eq%20%27FR%27\n",
      "49886 50885\n",
      "https://ws.parlament.ch/odata.svc/Transcript?$filter=IdSubject%20gt%208381L%20and%20IdSubject%20lt%2038661L%20and%20Language%20eq%20%27FR%27\n",
      "50932 51931\n",
      "https://ws.parlament.ch/odata.svc/Transcript?$filter=IdSubject%20gt%208486L%20and%20IdSubject%20lt%2038661L%20and%20Language%20eq%20%27FR%27\n",
      "51934 52933\n",
      "https://ws.parlament.ch/odata.svc/Transcript?$filter=IdSubject%20gt%208606L%20and%20IdSubject%20lt%2038661L%20and%20Language%20eq%20%27FR%27\n",
      "52935 53934\n",
      "https://ws.parlament.ch/odata.svc/Transcript?$filter=IdSubject%20gt%208832L%20and%20IdSubject%20lt%2038661L%20and%20Language%20eq%20%27FR%27\n",
      "53945 54944\n",
      "https://ws.parlament.ch/odata.svc/Transcript?$filter=IdSubject%20gt%208949L%20and%20IdSubject%20lt%2038661L%20and%20Language%20eq%20%27FR%27\n",
      "54975 55974\n",
      "https://ws.parlament.ch/odata.svc/Transcript?$filter=IdSubject%20gt%209196L%20and%20IdSubject%20lt%2038661L%20and%20Language%20eq%20%27FR%27\n",
      "55975 56974\n",
      "https://ws.parlament.ch/odata.svc/Transcript?$filter=IdSubject%20gt%209348L%20and%20IdSubject%20lt%2038661L%20and%20Language%20eq%20%27FR%27\n",
      "57006 58005\n",
      "https://ws.parlament.ch/odata.svc/Transcript?$filter=IdSubject%20gt%209400L%20and%20IdSubject%20lt%2038661L%20and%20Language%20eq%20%27FR%27\n",
      "58012 59011\n",
      "https://ws.parlament.ch/odata.svc/Transcript?$filter=IdSubject%20gt%209694L%20and%20IdSubject%20lt%2038661L%20and%20Language%20eq%20%27FR%27\n",
      "59047 60046\n",
      "https://ws.parlament.ch/odata.svc/Transcript?$filter=IdSubject%20gt%209808L%20and%20IdSubject%20lt%2038661L%20and%20Language%20eq%20%27FR%27\n",
      "60185 61184\n",
      "https://ws.parlament.ch/odata.svc/Transcript?$filter=IdSubject%20gt%209893L%20and%20IdSubject%20lt%2038661L%20and%20Language%20eq%20%27FR%27\n",
      "61189 62188\n",
      "https://ws.parlament.ch/odata.svc/Transcript?$filter=IdSubject%20gt%2010166L%20and%20IdSubject%20lt%2038661L%20and%20Language%20eq%20%27FR%27\n",
      "62189 63188\n",
      "https://ws.parlament.ch/odata.svc/Transcript?$filter=IdSubject%20gt%2010314L%20and%20IdSubject%20lt%2038661L%20and%20Language%20eq%20%27FR%27\n",
      "63212 64211\n",
      "https://ws.parlament.ch/odata.svc/Transcript?$filter=IdSubject%20gt%2010404L%20and%20IdSubject%20lt%2038661L%20and%20Language%20eq%20%27FR%27\n",
      "64215 65214\n",
      "https://ws.parlament.ch/odata.svc/Transcript?$filter=IdSubject%20gt%2010535L%20and%20IdSubject%20lt%2038661L%20and%20Language%20eq%20%27FR%27\n",
      "65217 66216\n",
      "https://ws.parlament.ch/odata.svc/Transcript?$filter=IdSubject%20gt%2010666L%20and%20IdSubject%20lt%2038661L%20and%20Language%20eq%20%27FR%27\n",
      "66226 67225\n",
      "https://ws.parlament.ch/odata.svc/Transcript?$filter=IdSubject%20gt%2010750L%20and%20IdSubject%20lt%2038661L%20and%20Language%20eq%20%27FR%27\n",
      "67228 68227\n",
      "https://ws.parlament.ch/odata.svc/Transcript?$filter=IdSubject%20gt%2011079L%20and%20IdSubject%20lt%2038661L%20and%20Language%20eq%20%27FR%27\n",
      "68231 69230\n",
      "https://ws.parlament.ch/odata.svc/Transcript?$filter=IdSubject%20gt%2011156L%20and%20IdSubject%20lt%2038661L%20and%20Language%20eq%20%27FR%27\n",
      "69338 70337\n",
      "https://ws.parlament.ch/odata.svc/Transcript?$filter=IdSubject%20gt%2011284L%20and%20IdSubject%20lt%2038661L%20and%20Language%20eq%20%27FR%27\n",
      "70552 71551\n",
      "https://ws.parlament.ch/odata.svc/Transcript?$filter=IdSubject%20gt%2011367L%20and%20IdSubject%20lt%2038661L%20and%20Language%20eq%20%27FR%27\n",
      "71565 72564\n",
      "https://ws.parlament.ch/odata.svc/Transcript?$filter=IdSubject%20gt%2011487L%20and%20IdSubject%20lt%2038661L%20and%20Language%20eq%20%27FR%27\n",
      "72565 73564\n",
      "https://ws.parlament.ch/odata.svc/Transcript?$filter=IdSubject%20gt%2011590L%20and%20IdSubject%20lt%2038661L%20and%20Language%20eq%20%27FR%27\n",
      "73569 74568\n",
      "https://ws.parlament.ch/odata.svc/Transcript?$filter=IdSubject%20gt%2011756L%20and%20IdSubject%20lt%2038661L%20and%20Language%20eq%20%27FR%27\n",
      "74571 75570\n",
      "https://ws.parlament.ch/odata.svc/Transcript?$filter=IdSubject%20gt%2011832L%20and%20IdSubject%20lt%2038661L%20and%20Language%20eq%20%27FR%27\n",
      "75597 76596\n",
      "https://ws.parlament.ch/odata.svc/Transcript?$filter=IdSubject%20gt%2011972L%20and%20IdSubject%20lt%2038661L%20and%20Language%20eq%20%27FR%27\n",
      "76599 77598\n",
      "https://ws.parlament.ch/odata.svc/Transcript?$filter=IdSubject%20gt%2012152L%20and%20IdSubject%20lt%2038661L%20and%20Language%20eq%20%27FR%27\n",
      "77605 78604\n",
      "https://ws.parlament.ch/odata.svc/Transcript?$filter=IdSubject%20gt%2012419L%20and%20IdSubject%20lt%2038661L%20and%20Language%20eq%20%27FR%27\n",
      "78605 79604\n",
      "https://ws.parlament.ch/odata.svc/Transcript?$filter=IdSubject%20gt%2012568L%20and%20IdSubject%20lt%2038661L%20and%20Language%20eq%20%27FR%27\n",
      "79605 80604\n",
      "https://ws.parlament.ch/odata.svc/Transcript?$filter=IdSubject%20gt%2012706L%20and%20IdSubject%20lt%2038661L%20and%20Language%20eq%20%27FR%27\n",
      "80605 81604\n",
      "https://ws.parlament.ch/odata.svc/Transcript?$filter=IdSubject%20gt%2012852L%20and%20IdSubject%20lt%2038661L%20and%20Language%20eq%20%27FR%27\n",
      "81607 82606\n",
      "https://ws.parlament.ch/odata.svc/Transcript?$filter=IdSubject%20gt%2013064L%20and%20IdSubject%20lt%2038661L%20and%20Language%20eq%20%27FR%27\n",
      "82612 83611\n",
      "https://ws.parlament.ch/odata.svc/Transcript?$filter=IdSubject%20gt%2013211L%20and%20IdSubject%20lt%2038661L%20and%20Language%20eq%20%27FR%27\n",
      "83623 84622\n",
      "https://ws.parlament.ch/odata.svc/Transcript?$filter=IdSubject%20gt%2013341L%20and%20IdSubject%20lt%2038661L%20and%20Language%20eq%20%27FR%27\n",
      "84646 85645\n",
      "https://ws.parlament.ch/odata.svc/Transcript?$filter=IdSubject%20gt%2013462L%20and%20IdSubject%20lt%2038661L%20and%20Language%20eq%20%27FR%27\n",
      "85676 86675\n",
      "https://ws.parlament.ch/odata.svc/Transcript?$filter=IdSubject%20gt%2013690L%20and%20IdSubject%20lt%2038661L%20and%20Language%20eq%20%27FR%27\n",
      "86753 87752\n",
      "https://ws.parlament.ch/odata.svc/Transcript?$filter=IdSubject%20gt%2013864L%20and%20IdSubject%20lt%2038661L%20and%20Language%20eq%20%27FR%27\n",
      "87754 88753\n",
      "https://ws.parlament.ch/odata.svc/Transcript?$filter=IdSubject%20gt%2013992L%20and%20IdSubject%20lt%2038661L%20and%20Language%20eq%20%27FR%27\n",
      "88797 89796\n",
      "https://ws.parlament.ch/odata.svc/Transcript?$filter=IdSubject%20gt%2014200L%20and%20IdSubject%20lt%2038661L%20and%20Language%20eq%20%27FR%27\n",
      "89799 90798\n",
      "https://ws.parlament.ch/odata.svc/Transcript?$filter=IdSubject%20gt%2014277L%20and%20IdSubject%20lt%2038661L%20and%20Language%20eq%20%27FR%27\n",
      "90809 91808\n",
      "https://ws.parlament.ch/odata.svc/Transcript?$filter=IdSubject%20gt%2014441L%20and%20IdSubject%20lt%2038661L%20and%20Language%20eq%20%27FR%27\n",
      "91827 92826\n",
      "https://ws.parlament.ch/odata.svc/Transcript?$filter=IdSubject%20gt%2014745L%20and%20IdSubject%20lt%2038661L%20and%20Language%20eq%20%27FR%27\n",
      "92827 93826\n",
      "https://ws.parlament.ch/odata.svc/Transcript?$filter=IdSubject%20gt%2014854L%20and%20IdSubject%20lt%2038661L%20and%20Language%20eq%20%27FR%27\n",
      "93876 94875\n",
      "https://ws.parlament.ch/odata.svc/Transcript?$filter=IdSubject%20gt%2015189L%20and%20IdSubject%20lt%2038661L%20and%20Language%20eq%20%27FR%27\n",
      "94877 95876\n",
      "https://ws.parlament.ch/odata.svc/Transcript?$filter=IdSubject%20gt%2015305L%20and%20IdSubject%20lt%2038661L%20and%20Language%20eq%20%27FR%27\n",
      "95885 96884\n",
      "https://ws.parlament.ch/odata.svc/Transcript?$filter=IdSubject%20gt%2015420L%20and%20IdSubject%20lt%2038661L%20and%20Language%20eq%20%27FR%27\n",
      "96887 97886\n",
      "https://ws.parlament.ch/odata.svc/Transcript?$filter=IdSubject%20gt%2015591L%20and%20IdSubject%20lt%2038661L%20and%20Language%20eq%20%27FR%27\n",
      "97887 98886\n",
      "https://ws.parlament.ch/odata.svc/Transcript?$filter=IdSubject%20gt%2015713L%20and%20IdSubject%20lt%2038661L%20and%20Language%20eq%20%27FR%27\n",
      "98889 99888\n",
      "https://ws.parlament.ch/odata.svc/Transcript?$filter=IdSubject%20gt%2015835L%20and%20IdSubject%20lt%2038661L%20and%20Language%20eq%20%27FR%27\n",
      "99951 100950\n",
      "https://ws.parlament.ch/odata.svc/Transcript?$filter=IdSubject%20gt%2016032L%20and%20IdSubject%20lt%2038661L%20and%20Language%20eq%20%27FR%27\n",
      "100956 101955\n",
      "https://ws.parlament.ch/odata.svc/Transcript?$filter=IdSubject%20gt%2016193L%20and%20IdSubject%20lt%2038661L%20and%20Language%20eq%20%27FR%27\n",
      "101964 102963\n",
      "https://ws.parlament.ch/odata.svc/Transcript?$filter=IdSubject%20gt%2016380L%20and%20IdSubject%20lt%2038661L%20and%20Language%20eq%20%27FR%27\n",
      "102964 103963\n",
      "https://ws.parlament.ch/odata.svc/Transcript?$filter=IdSubject%20gt%2016630L%20and%20IdSubject%20lt%2038661L%20and%20Language%20eq%20%27FR%27\n",
      "104009 105008\n",
      "https://ws.parlament.ch/odata.svc/Transcript?$filter=IdSubject%20gt%2016881L%20and%20IdSubject%20lt%2038661L%20and%20Language%20eq%20%27FR%27\n",
      "105025 106024\n",
      "https://ws.parlament.ch/odata.svc/Transcript?$filter=IdSubject%20gt%2017141L%20and%20IdSubject%20lt%2038661L%20and%20Language%20eq%20%27FR%27\n",
      "106087 107086\n",
      "https://ws.parlament.ch/odata.svc/Transcript?$filter=IdSubject%20gt%2017386L%20and%20IdSubject%20lt%2038661L%20and%20Language%20eq%20%27FR%27\n",
      "107089 108088\n",
      "https://ws.parlament.ch/odata.svc/Transcript?$filter=IdSubject%20gt%2017509L%20and%20IdSubject%20lt%2038661L%20and%20Language%20eq%20%27FR%27\n",
      "108098 109097\n",
      "https://ws.parlament.ch/odata.svc/Transcript?$filter=IdSubject%20gt%2017646L%20and%20IdSubject%20lt%2038661L%20and%20Language%20eq%20%27FR%27\n",
      "109098 110097\n",
      "https://ws.parlament.ch/odata.svc/Transcript?$filter=IdSubject%20gt%2017846L%20and%20IdSubject%20lt%2038661L%20and%20Language%20eq%20%27FR%27\n",
      "110100 111099\n",
      "https://ws.parlament.ch/odata.svc/Transcript?$filter=IdSubject%20gt%2017970L%20and%20IdSubject%20lt%2038661L%20and%20Language%20eq%20%27FR%27\n",
      "111102 112101\n",
      "https://ws.parlament.ch/odata.svc/Transcript?$filter=IdSubject%20gt%2018157L%20and%20IdSubject%20lt%2038661L%20and%20Language%20eq%20%27FR%27\n",
      "112136 113135\n",
      "https://ws.parlament.ch/odata.svc/Transcript?$filter=IdSubject%20gt%2018298L%20and%20IdSubject%20lt%2038661L%20and%20Language%20eq%20%27FR%27\n",
      "113136 114135\n",
      "https://ws.parlament.ch/odata.svc/Transcript?$filter=IdSubject%20gt%2018434L%20and%20IdSubject%20lt%2038661L%20and%20Language%20eq%20%27FR%27\n",
      "114191 115190\n",
      "https://ws.parlament.ch/odata.svc/Transcript?$filter=IdSubject%20gt%2018586L%20and%20IdSubject%20lt%2038661L%20and%20Language%20eq%20%27FR%27\n",
      "115230 116229\n",
      "https://ws.parlament.ch/odata.svc/Transcript?$filter=IdSubject%20gt%2018706L%20and%20IdSubject%20lt%2038661L%20and%20Language%20eq%20%27FR%27\n",
      "116230 117229\n",
      "https://ws.parlament.ch/odata.svc/Transcript?$filter=IdSubject%20gt%2018883L%20and%20IdSubject%20lt%2038661L%20and%20Language%20eq%20%27FR%27\n",
      "117304 118303\n",
      "https://ws.parlament.ch/odata.svc/Transcript?$filter=IdSubject%20gt%2019006L%20and%20IdSubject%20lt%2038661L%20and%20Language%20eq%20%27FR%27\n",
      "118314 119313\n",
      "https://ws.parlament.ch/odata.svc/Transcript?$filter=IdSubject%20gt%2019292L%20and%20IdSubject%20lt%2038661L%20and%20Language%20eq%20%27FR%27\n",
      "119314 120313\n",
      "https://ws.parlament.ch/odata.svc/Transcript?$filter=IdSubject%20gt%2019416L%20and%20IdSubject%20lt%2038661L%20and%20Language%20eq%20%27FR%27\n",
      "120319 121318\n",
      "https://ws.parlament.ch/odata.svc/Transcript?$filter=IdSubject%20gt%2019716L%20and%20IdSubject%20lt%2038661L%20and%20Language%20eq%20%27FR%27\n",
      "121319 122318\n",
      "https://ws.parlament.ch/odata.svc/Transcript?$filter=IdSubject%20gt%2019906L%20and%20IdSubject%20lt%2038661L%20and%20Language%20eq%20%27FR%27\n",
      "122319 123318\n",
      "https://ws.parlament.ch/odata.svc/Transcript?$filter=IdSubject%20gt%2020048L%20and%20IdSubject%20lt%2038661L%20and%20Language%20eq%20%27FR%27\n",
      "123319 124318\n",
      "https://ws.parlament.ch/odata.svc/Transcript?$filter=IdSubject%20gt%2020215L%20and%20IdSubject%20lt%2038661L%20and%20Language%20eq%20%27FR%27\n",
      "124326 125325\n",
      "https://ws.parlament.ch/odata.svc/Transcript?$filter=IdSubject%20gt%2020364L%20and%20IdSubject%20lt%2038661L%20and%20Language%20eq%20%27FR%27\n",
      "125328 126327\n",
      "https://ws.parlament.ch/odata.svc/Transcript?$filter=IdSubject%20gt%2020492L%20and%20IdSubject%20lt%2038661L%20and%20Language%20eq%20%27FR%27\n",
      "126329 127328\n",
      "https://ws.parlament.ch/odata.svc/Transcript?$filter=IdSubject%20gt%2020626L%20and%20IdSubject%20lt%2038661L%20and%20Language%20eq%20%27FR%27\n",
      "127338 128342\n",
      "https://ws.parlament.ch/odata.svc/Transcript?$filter=IdSubject%20gt%2020961L%20and%20IdSubject%20lt%2038661L%20and%20Language%20eq%20%27FR%27\n",
      "128343 129342\n",
      "https://ws.parlament.ch/odata.svc/Transcript?$filter=IdSubject%20gt%2021100L%20and%20IdSubject%20lt%2038661L%20and%20Language%20eq%20%27FR%27\n",
      "129382 130381\n",
      "https://ws.parlament.ch/odata.svc/Transcript?$filter=IdSubject%20gt%2021163L%20and%20IdSubject%20lt%2038661L%20and%20Language%20eq%20%27FR%27\n",
      "130383 131388\n",
      "https://ws.parlament.ch/odata.svc/Transcript?$filter=IdSubject%20gt%2021336L%20and%20IdSubject%20lt%2038661L%20and%20Language%20eq%20%27FR%27\n",
      "131415 132414\n",
      "https://ws.parlament.ch/odata.svc/Transcript?$filter=IdSubject%20gt%2021728L%20and%20IdSubject%20lt%2038661L%20and%20Language%20eq%20%27FR%27\n",
      "132415 133414\n",
      "https://ws.parlament.ch/odata.svc/Transcript?$filter=IdSubject%20gt%2022199L%20and%20IdSubject%20lt%2038661L%20and%20Language%20eq%20%27FR%27\n",
      "133474 134473\n",
      "https://ws.parlament.ch/odata.svc/Transcript?$filter=IdSubject%20gt%2022539L%20and%20IdSubject%20lt%2038661L%20and%20Language%20eq%20%27FR%27\n",
      "134486 135485\n",
      "https://ws.parlament.ch/odata.svc/Transcript?$filter=IdSubject%20gt%2022727L%20and%20IdSubject%20lt%2038661L%20and%20Language%20eq%20%27FR%27\n",
      "135486 136485\n",
      "https://ws.parlament.ch/odata.svc/Transcript?$filter=IdSubject%20gt%2022871L%20and%20IdSubject%20lt%2038661L%20and%20Language%20eq%20%27FR%27\n",
      "136506 137505\n",
      "https://ws.parlament.ch/odata.svc/Transcript?$filter=IdSubject%20gt%2023132L%20and%20IdSubject%20lt%2038661L%20and%20Language%20eq%20%27FR%27\n",
      "137509 138508\n",
      "https://ws.parlament.ch/odata.svc/Transcript?$filter=IdSubject%20gt%2023314L%20and%20IdSubject%20lt%2038661L%20and%20Language%20eq%20%27FR%27\n",
      "138510 139509\n",
      "https://ws.parlament.ch/odata.svc/Transcript?$filter=IdSubject%20gt%2023532L%20and%20IdSubject%20lt%2038661L%20and%20Language%20eq%20%27FR%27\n",
      "139526 140525\n",
      "https://ws.parlament.ch/odata.svc/Transcript?$filter=IdSubject%20gt%2023808L%20and%20IdSubject%20lt%2038661L%20and%20Language%20eq%20%27FR%27\n",
      "140527 141534\n",
      "https://ws.parlament.ch/odata.svc/Transcript?$filter=IdSubject%20gt%2024082L%20and%20IdSubject%20lt%2038661L%20and%20Language%20eq%20%27FR%27\n",
      "141535 142538\n",
      "https://ws.parlament.ch/odata.svc/Transcript?$filter=IdSubject%20gt%2024230L%20and%20IdSubject%20lt%2038661L%20and%20Language%20eq%20%27FR%27\n",
      "142553 143552\n",
      "https://ws.parlament.ch/odata.svc/Transcript?$filter=IdSubject%20gt%2024629L%20and%20IdSubject%20lt%2038661L%20and%20Language%20eq%20%27FR%27\n",
      "143553 144552\n",
      "https://ws.parlament.ch/odata.svc/Transcript?$filter=IdSubject%20gt%2024711L%20and%20IdSubject%20lt%2038661L%20and%20Language%20eq%20%27FR%27\n",
      "144577 145576\n",
      "https://ws.parlament.ch/odata.svc/Transcript?$filter=IdSubject%20gt%2024873L%20and%20IdSubject%20lt%2038661L%20and%20Language%20eq%20%27FR%27\n",
      "145577 146578\n",
      "https://ws.parlament.ch/odata.svc/Transcript?$filter=IdSubject%20gt%2025001L%20and%20IdSubject%20lt%2038661L%20and%20Language%20eq%20%27FR%27\n",
      "146588 147598\n",
      "https://ws.parlament.ch/odata.svc/Transcript?$filter=IdSubject%20gt%2025076L%20and%20IdSubject%20lt%2038661L%20and%20Language%20eq%20%27FR%27\n",
      "147626 148625\n",
      "https://ws.parlament.ch/odata.svc/Transcript?$filter=IdSubject%20gt%2025234L%20and%20IdSubject%20lt%2038661L%20and%20Language%20eq%20%27FR%27\n",
      "148639 149638\n",
      "https://ws.parlament.ch/odata.svc/Transcript?$filter=IdSubject%20gt%2025684L%20and%20IdSubject%20lt%2038661L%20and%20Language%20eq%20%27FR%27\n",
      "149639 150638\n",
      "https://ws.parlament.ch/odata.svc/Transcript?$filter=IdSubject%20gt%2025748L%20and%20IdSubject%20lt%2038661L%20and%20Language%20eq%20%27FR%27\n",
      "150640 151677\n",
      "https://ws.parlament.ch/odata.svc/Transcript?$filter=IdSubject%20gt%2025852L%20and%20IdSubject%20lt%2038661L%20and%20Language%20eq%20%27FR%27\n",
      "151696 152695\n",
      "https://ws.parlament.ch/odata.svc/Transcript?$filter=IdSubject%20gt%2025975L%20and%20IdSubject%20lt%2038661L%20and%20Language%20eq%20%27FR%27\n",
      "152765 153764\n",
      "https://ws.parlament.ch/odata.svc/Transcript?$filter=IdSubject%20gt%2026152L%20and%20IdSubject%20lt%2038661L%20and%20Language%20eq%20%27FR%27\n",
      "153765 154764\n",
      "https://ws.parlament.ch/odata.svc/Transcript?$filter=IdSubject%20gt%2026822L%20and%20IdSubject%20lt%2038661L%20and%20Language%20eq%20%27FR%27\n",
      "154766 155765\n",
      "https://ws.parlament.ch/odata.svc/Transcript?$filter=IdSubject%20gt%2027100L%20and%20IdSubject%20lt%2038661L%20and%20Language%20eq%20%27FR%27\n",
      "155766 156779\n",
      "https://ws.parlament.ch/odata.svc/Transcript?$filter=IdSubject%20gt%2027324L%20and%20IdSubject%20lt%2038661L%20and%20Language%20eq%20%27FR%27\n",
      "156780 157779\n",
      "https://ws.parlament.ch/odata.svc/Transcript?$filter=IdSubject%20gt%2027472L%20and%20IdSubject%20lt%2038661L%20and%20Language%20eq%20%27FR%27\n",
      "157780 158797\n",
      "https://ws.parlament.ch/odata.svc/Transcript?$filter=IdSubject%20gt%2027750L%20and%20IdSubject%20lt%2038661L%20and%20Language%20eq%20%27FR%27\n",
      "158798 159797\n",
      "https://ws.parlament.ch/odata.svc/Transcript?$filter=IdSubject%20gt%2027994L%20and%20IdSubject%20lt%2038661L%20and%20Language%20eq%20%27FR%27\n",
      "159803 160802\n",
      "https://ws.parlament.ch/odata.svc/Transcript?$filter=IdSubject%20gt%2028114L%20and%20IdSubject%20lt%2038661L%20and%20Language%20eq%20%27FR%27\n",
      "160809 161808\n",
      "https://ws.parlament.ch/odata.svc/Transcript?$filter=IdSubject%20gt%2028465L%20and%20IdSubject%20lt%2038661L%20and%20Language%20eq%20%27FR%27\n",
      "161840 162839\n",
      "https://ws.parlament.ch/odata.svc/Transcript?$filter=IdSubject%20gt%2028972L%20and%20IdSubject%20lt%2038661L%20and%20Language%20eq%20%27FR%27\n",
      "162840 163839\n",
      "https://ws.parlament.ch/odata.svc/Transcript?$filter=IdSubject%20gt%2029030L%20and%20IdSubject%20lt%2038661L%20and%20Language%20eq%20%27FR%27\n",
      "163922 164935\n",
      "https://ws.parlament.ch/odata.svc/Transcript?$filter=IdSubject%20gt%2029358L%20and%20IdSubject%20lt%2038661L%20and%20Language%20eq%20%27FR%27\n",
      "164947 165946\n",
      "https://ws.parlament.ch/odata.svc/Transcript?$filter=IdSubject%20gt%2029476L%20and%20IdSubject%20lt%2038661L%20and%20Language%20eq%20%27FR%27\n",
      "166010 167009\n",
      "https://ws.parlament.ch/odata.svc/Transcript?$filter=IdSubject%20gt%2030018L%20and%20IdSubject%20lt%2038661L%20and%20Language%20eq%20%27FR%27\n",
      "167010 168009\n",
      "https://ws.parlament.ch/odata.svc/Transcript?$filter=IdSubject%20gt%2030269L%20and%20IdSubject%20lt%2038661L%20and%20Language%20eq%20%27FR%27\n",
      "168016 169015\n",
      "https://ws.parlament.ch/odata.svc/Transcript?$filter=IdSubject%20gt%2030350L%20and%20IdSubject%20lt%2038661L%20and%20Language%20eq%20%27FR%27\n",
      "169018 170017\n",
      "https://ws.parlament.ch/odata.svc/Transcript?$filter=IdSubject%20gt%2030490L%20and%20IdSubject%20lt%2038661L%20and%20Language%20eq%20%27FR%27\n",
      "170049 171122\n",
      "https://ws.parlament.ch/odata.svc/Transcript?$filter=IdSubject%20gt%2030585L%20and%20IdSubject%20lt%2038661L%20and%20Language%20eq%20%27FR%27\n",
      "171123 172122\n",
      "https://ws.parlament.ch/odata.svc/Transcript?$filter=IdSubject%20gt%2030687L%20and%20IdSubject%20lt%2038661L%20and%20Language%20eq%20%27FR%27\n",
      "172125 173124\n",
      "https://ws.parlament.ch/odata.svc/Transcript?$filter=IdSubject%20gt%2030845L%20and%20IdSubject%20lt%2038661L%20and%20Language%20eq%20%27FR%27\n",
      "173154 174160\n",
      "https://ws.parlament.ch/odata.svc/Transcript?$filter=IdSubject%20gt%2030935L%20and%20IdSubject%20lt%2038661L%20and%20Language%20eq%20%27FR%27\n",
      "174164 175163\n",
      "https://ws.parlament.ch/odata.svc/Transcript?$filter=IdSubject%20gt%2031312L%20and%20IdSubject%20lt%2038661L%20and%20Language%20eq%20%27FR%27\n",
      "175237 176236\n",
      "https://ws.parlament.ch/odata.svc/Transcript?$filter=IdSubject%20gt%2031678L%20and%20IdSubject%20lt%2038661L%20and%20Language%20eq%20%27FR%27\n",
      "176240 177239\n",
      "https://ws.parlament.ch/odata.svc/Transcript?$filter=IdSubject%20gt%2032007L%20and%20IdSubject%20lt%2038661L%20and%20Language%20eq%20%27FR%27\n",
      "177242 178241\n",
      "https://ws.parlament.ch/odata.svc/Transcript?$filter=IdSubject%20gt%2032140L%20and%20IdSubject%20lt%2038661L%20and%20Language%20eq%20%27FR%27\n",
      "178297 179296\n",
      "https://ws.parlament.ch/odata.svc/Transcript?$filter=IdSubject%20gt%2032540L%20and%20IdSubject%20lt%2038661L%20and%20Language%20eq%20%27FR%27\n",
      "179297 180296\n",
      "https://ws.parlament.ch/odata.svc/Transcript?$filter=IdSubject%20gt%2032723L%20and%20IdSubject%20lt%2038661L%20and%20Language%20eq%20%27FR%27\n",
      "180299 181298\n",
      "https://ws.parlament.ch/odata.svc/Transcript?$filter=IdSubject%20gt%2033086L%20and%20IdSubject%20lt%2038661L%20and%20Language%20eq%20%27FR%27\n",
      "181372 182386\n",
      "https://ws.parlament.ch/odata.svc/Transcript?$filter=IdSubject%20gt%2033496L%20and%20IdSubject%20lt%2038661L%20and%20Language%20eq%20%27FR%27\n",
      "182427 183426\n",
      "https://ws.parlament.ch/odata.svc/Transcript?$filter=IdSubject%20gt%2034085L%20and%20IdSubject%20lt%2038661L%20and%20Language%20eq%20%27FR%27\n",
      "183427 184426\n",
      "https://ws.parlament.ch/odata.svc/Transcript?$filter=IdSubject%20gt%2034574L%20and%20IdSubject%20lt%2038661L%20and%20Language%20eq%20%27FR%27\n",
      "184444 185443\n",
      "https://ws.parlament.ch/odata.svc/Transcript?$filter=IdSubject%20gt%2034750L%20and%20IdSubject%20lt%2038661L%20and%20Language%20eq%20%27FR%27\n",
      "185466 186465\n",
      "https://ws.parlament.ch/odata.svc/Transcript?$filter=IdSubject%20gt%2034893L%20and%20IdSubject%20lt%2038661L%20and%20Language%20eq%20%27FR%27\n",
      "186466 187465\n",
      "https://ws.parlament.ch/odata.svc/Transcript?$filter=IdSubject%20gt%2034980L%20and%20IdSubject%20lt%2038661L%20and%20Language%20eq%20%27FR%27\n",
      "187493 188492\n",
      "https://ws.parlament.ch/odata.svc/Transcript?$filter=IdSubject%20gt%2035062L%20and%20IdSubject%20lt%2038661L%20and%20Language%20eq%20%27FR%27\n",
      "188515 189514\n",
      "https://ws.parlament.ch/odata.svc/Transcript?$filter=IdSubject%20gt%2035314L%20and%20IdSubject%20lt%2038661L%20and%20Language%20eq%20%27FR%27\n",
      "189524 190523\n",
      "https://ws.parlament.ch/odata.svc/Transcript?$filter=IdSubject%20gt%2035836L%20and%20IdSubject%20lt%2038661L%20and%20Language%20eq%20%27FR%27\n",
      "190524 191685\n",
      "https://ws.parlament.ch/odata.svc/Transcript?$filter=IdSubject%20gt%2036064L%20and%20IdSubject%20lt%2038661L%20and%20Language%20eq%20%27FR%27\n",
      "191745 193004\n",
      "https://ws.parlament.ch/odata.svc/Transcript?$filter=IdSubject%20gt%2036251L%20and%20IdSubject%20lt%2038661L%20and%20Language%20eq%20%27FR%27\n",
      "193012 194372\n",
      "https://ws.parlament.ch/odata.svc/Transcript?$filter=IdSubject%20gt%2036603L%20and%20IdSubject%20lt%2038661L%20and%20Language%20eq%20%27FR%27\n",
      "194379 195650\n",
      "https://ws.parlament.ch/odata.svc/Transcript?$filter=IdSubject%20gt%2036768L%20and%20IdSubject%20lt%2038661L%20and%20Language%20eq%20%27FR%27\n",
      "195651 196936\n",
      "https://ws.parlament.ch/odata.svc/Transcript?$filter=IdSubject%20gt%2036943L%20and%20IdSubject%20lt%2038661L%20and%20Language%20eq%20%27FR%27\n",
      "196980 198205\n",
      "https://ws.parlament.ch/odata.svc/Transcript?$filter=IdSubject%20gt%2037187L%20and%20IdSubject%20lt%2038661L%20and%20Language%20eq%20%27FR%27\n",
      "198266 199527\n",
      "https://ws.parlament.ch/odata.svc/Transcript?$filter=IdSubject%20gt%2037309L%20and%20IdSubject%20lt%2038661L%20and%20Language%20eq%20%27FR%27\n",
      "199624 200824\n",
      "https://ws.parlament.ch/odata.svc/Transcript?$filter=IdSubject%20gt%2037474L%20and%20IdSubject%20lt%2038661L%20and%20Language%20eq%20%27FR%27\n",
      "200826 202093\n",
      "https://ws.parlament.ch/odata.svc/Transcript?$filter=IdSubject%20gt%2037660L%20and%20IdSubject%20lt%2038661L%20and%20Language%20eq%20%27FR%27\n",
      "202094 203330\n",
      "https://ws.parlament.ch/odata.svc/Transcript?$filter=IdSubject%20gt%2037975L%20and%20IdSubject%20lt%2038661L%20and%20Language%20eq%20%27FR%27\n",
      "203384 204661\n",
      "https://ws.parlament.ch/odata.svc/Transcript?$filter=IdSubject%20gt%2038171L%20and%20IdSubject%20lt%2038661L%20and%20Language%20eq%20%27FR%27\n",
      "204666 205876\n",
      "https://ws.parlament.ch/odata.svc/Transcript?$filter=IdSubject%20gt%2038328L%20and%20IdSubject%20lt%2038661L%20and%20Language%20eq%20%27FR%27\n",
      "205885 206649\n"
     ]
    },
    {
     "ename": "ValueError",
     "evalue": "min() arg is an empty sequence",
     "output_type": "error",
     "traceback": [
      "\u001b[0;31m---------------------------------------------------------------------------\u001b[0m",
      "\u001b[0;31mValueError\u001b[0m                                Traceback (most recent call last)",
      "\u001b[0;32m<ipython-input-18-ab6f9eab4daf>\u001b[0m in \u001b[0;36m<module>\u001b[0;34m()\u001b[0m\n\u001b[1;32m      3\u001b[0m \u001b[0mTranscript_id\u001b[0m \u001b[0;34m=\u001b[0m \u001b[0;34m[\u001b[0m\u001b[0;36m0\u001b[0m\u001b[0;34m]\u001b[0m\u001b[0;34m\u001b[0m\u001b[0m\n\u001b[1;32m      4\u001b[0m \u001b[0;32mwhile\u001b[0m \u001b[0mmax\u001b[0m\u001b[0;34m(\u001b[0m\u001b[0mTranscript_id\u001b[0m\u001b[0;34m)\u001b[0m \u001b[0;34m<\u001b[0m \u001b[0mmax_Transcript_id\u001b[0m \u001b[0;34m:\u001b[0m\u001b[0;34m\u001b[0m\u001b[0m\n\u001b[0;32m----> 5\u001b[0;31m     \u001b[0mTranscript_id\u001b[0m\u001b[0;34m,\u001b[0m \u001b[0mTranscript\u001b[0m \u001b[0;34m=\u001b[0m \u001b[0msave_data\u001b[0m\u001b[0;34m(\u001b[0m\u001b[0mSubject_id\u001b[0m\u001b[0;34m,\u001b[0m\u001b[0mbase_transcript_directory\u001b[0m\u001b[0;34m,\u001b[0m\u001b[0;34m'Subject'\u001b[0m\u001b[0;34m,\u001b[0m\u001b[0;34m'IdSubject'\u001b[0m\u001b[0;34m,\u001b[0m\u001b[0;34m'Transcript'\u001b[0m\u001b[0;34m)\u001b[0m\u001b[0;34m\u001b[0m\u001b[0m\n\u001b[0m\u001b[1;32m      6\u001b[0m     \u001b[0mmax_id\u001b[0m \u001b[0;34m=\u001b[0m \u001b[0mmax\u001b[0m\u001b[0;34m(\u001b[0m\u001b[0mlist\u001b[0m\u001b[0;34m(\u001b[0m\u001b[0mmap\u001b[0m\u001b[0;34m(\u001b[0m\u001b[0mint\u001b[0m\u001b[0;34m,\u001b[0m\u001b[0mTranscript\u001b[0m\u001b[0;34m[\u001b[0m\u001b[0;34m'IdSubject'\u001b[0m\u001b[0;34m]\u001b[0m\u001b[0;34m)\u001b[0m\u001b[0;34m)\u001b[0m\u001b[0;34m)\u001b[0m\u001b[0;34m\u001b[0m\u001b[0m\n\u001b[1;32m      7\u001b[0m     \u001b[0mSubject_id\u001b[0m \u001b[0;34m=\u001b[0m \u001b[0;34m[\u001b[0m\u001b[0mi\u001b[0m \u001b[0;32mfor\u001b[0m \u001b[0mi\u001b[0m \u001b[0;32min\u001b[0m \u001b[0mSubject_id\u001b[0m \u001b[0;32mif\u001b[0m \u001b[0mi\u001b[0m \u001b[0;34m>\u001b[0m \u001b[0mmax_id\u001b[0m\u001b[0;34m]\u001b[0m\u001b[0;34m\u001b[0m\u001b[0m\n",
      "\u001b[0;32m<ipython-input-5-b67a8ce734b4>\u001b[0m in \u001b[0;36msave_data\u001b[0;34m(id_, directory, id_name, parent_id, subject, url)\u001b[0m\n\u001b[1;32m      7\u001b[0m     \u001b[0;32mif\u001b[0m \u001b[0mparent_id\u001b[0m \u001b[0;34m!=\u001b[0m \u001b[0;32mNone\u001b[0m \u001b[0;34m:\u001b[0m\u001b[0;34m\u001b[0m\u001b[0m\n\u001b[1;32m      8\u001b[0m         \u001b[0murl\u001b[0m \u001b[0;34m=\u001b[0m \u001b[0murl\u001b[0m\u001b[0;34m.\u001b[0m\u001b[0mreplace\u001b[0m\u001b[0;34m(\u001b[0m\u001b[0;34m'()'\u001b[0m\u001b[0;34m,\u001b[0m\u001b[0mparent_id\u001b[0m\u001b[0;34m)\u001b[0m\u001b[0;34m\u001b[0m\u001b[0m\n\u001b[0;32m----> 9\u001b[0;31m     \u001b[0murl\u001b[0m \u001b[0;34m=\u001b[0m \u001b[0murl\u001b[0m\u001b[0;34m.\u001b[0m\u001b[0mreplace\u001b[0m\u001b[0;34m(\u001b[0m\u001b[0;34m'{0}'\u001b[0m\u001b[0;34m,\u001b[0m\u001b[0mstr\u001b[0m\u001b[0;34m(\u001b[0m\u001b[0mnp\u001b[0m\u001b[0;34m.\u001b[0m\u001b[0mmaximum\u001b[0m\u001b[0;34m(\u001b[0m\u001b[0mmin\u001b[0m\u001b[0;34m(\u001b[0m\u001b[0mid_\u001b[0m\u001b[0;34m)\u001b[0m\u001b[0;34m-\u001b[0m\u001b[0;36m1\u001b[0m\u001b[0;34m,\u001b[0m\u001b[0;36m0\u001b[0m\u001b[0;34m)\u001b[0m\u001b[0;34m)\u001b[0m\u001b[0;34m)\u001b[0m\u001b[0;34m\u001b[0m\u001b[0m\n\u001b[0m\u001b[1;32m     10\u001b[0m     \u001b[0murl\u001b[0m \u001b[0;34m=\u001b[0m \u001b[0murl\u001b[0m\u001b[0;34m.\u001b[0m\u001b[0mreplace\u001b[0m\u001b[0;34m(\u001b[0m\u001b[0;34m'{1}'\u001b[0m\u001b[0;34m,\u001b[0m\u001b[0mstr\u001b[0m\u001b[0;34m(\u001b[0m\u001b[0mmax\u001b[0m\u001b[0;34m(\u001b[0m\u001b[0mid_\u001b[0m\u001b[0;34m)\u001b[0m\u001b[0;34m+\u001b[0m\u001b[0;36m1\u001b[0m\u001b[0;34m)\u001b[0m\u001b[0;34m)\u001b[0m\u001b[0;34m\u001b[0m\u001b[0m\n\u001b[1;32m     11\u001b[0m     \u001b[0mprint\u001b[0m\u001b[0;34m(\u001b[0m\u001b[0murl\u001b[0m\u001b[0;34m)\u001b[0m\u001b[0;34m\u001b[0m\u001b[0m\n",
      "\u001b[0;31mValueError\u001b[0m: min() arg is an empty sequence"
     ]
    }
   ],
   "source": [
    "base_transcript_directory= \"datas/Transcript\"\n",
    "max_Transcript_id = 206649\n",
    "Transcript_id = [0]\n",
    "while max(Transcript_id) < max_Transcript_id :\n",
    "    Transcript_id, Transcript = save_data(Subject_id,base_transcript_directory,'Subject','IdSubject','Transcript')\n",
    "    max_id = max(list(map(int,Transcript['IdSubject'])))\n",
    "    Subject_id = [i for i in Subject_id if i > max_id]\n",
    "    print(str(min(Transcript_id))+' '+str(max(Transcript_id)))"
   ]
  },
  {
   "cell_type": "code",
   "execution_count": null,
   "metadata": {
    "collapsed": true
   },
   "outputs": [],
   "source": []
  }
 ],
 "metadata": {
  "anaconda-cloud": {},
  "kernelspec": {
   "display_name": "Python [Root]",
   "language": "python",
   "name": "Python [Root]"
  },
  "language_info": {
   "codemirror_mode": {
    "name": "ipython",
    "version": 3
   },
   "file_extension": ".py",
   "mimetype": "text/x-python",
   "name": "python",
   "nbconvert_exporter": "python",
   "pygments_lexer": "ipython3",
   "version": "3.5.2"
  }
 },
 "nbformat": 4,
 "nbformat_minor": 0
}
