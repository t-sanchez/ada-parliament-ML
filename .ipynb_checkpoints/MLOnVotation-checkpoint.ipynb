{
 "cells": [
  {
   "cell_type": "code",
   "execution_count": null,
   "metadata": {
    "collapsed": false
   },
   "outputs": [],
   "source": [
    "import pandas as pd\n",
    "import glob\n",
    "import os\n",
    "import numpy as np\n",
    "from time import time\n",
    "import logging\n",
    "import gensim\n",
    "import bz2\n",
    "import re\n",
    "from stop_words import get_stop_words"
   ]
  },
  {
   "cell_type": "markdown",
   "metadata": {},
   "source": [
    "# 1. initialisation of function for topic determination\n",
    "- reuse of fonction getTopicForQuery in order to obtain the topics probability from billTitle and BusinessTitle"
   ]
  },
  {
   "cell_type": "code",
   "execution_count": null,
   "metadata": {
    "collapsed": true
   },
   "outputs": [],
   "source": [
    "def getTopicForQuery (question,stoplist,dictionary,lda):\n",
    "    temp = question.lower()\n",
    "    words = re.findall(r'\\w+', temp, flags = re.UNICODE | re.LOCALE)\n",
    "    \n",
    "    important_words = []\n",
    "    important_words = filter(lambda x: x not in stoplist, words)\n",
    "\n",
    "\n",
    "    ques_vec = []\n",
    "    ques_vec = dictionary.doc2bow(important_words)\n",
    "    \n",
    "    return ldamodel.get_document_topics(ques_vec,minimum_probability=0)"
   ]
  },
  {
   "cell_type": "markdown",
   "metadata": {},
   "source": [
    "- loading the stopwords outside of the function \"getTopicForQuery\" in order not to reload on each iteration\n",
    "- same for the lda model generated in previous code"
   ]
  },
  {
   "cell_type": "code",
   "execution_count": null,
   "metadata": {
    "collapsed": false
   },
   "outputs": [],
   "source": [
    "stop_words_de = get_stop_words('de')\n",
    "\n",
    "with open (\"stop_dictionaries/French_stop_words_changed.txt\", \"r\") as myfile:\n",
    "    stop_words=myfile.read()  \n",
    "stop_words = stop_words.split(',')\n",
    "\n",
    "stop_words = stop_words_de+stop_words\n",
    "ldamodel = gensim.models.LdaModel.load('datas/ldamodel', mmap='r')"
   ]
  },
  {
   "cell_type": "markdown",
   "metadata": {},
   "source": [
    "# 2. creation of voting data frame\n",
    "- loading voting files and create a big data frame containing all votings"
   ]
  },
  {
   "cell_type": "code",
   "execution_count": null,
   "metadata": {
    "collapsed": false
   },
   "outputs": [],
   "source": [
    "dataset_tmp = []\n",
    "path = 'datas/Voting'\n",
    "allFiles = glob.glob(os.path.join(path, 'Session*.csv'))\n",
    "\n",
    "for file_ in allFiles:\n",
    "    print(file_)\n",
    "    data_tmp = pd.read_csv(file_)\n",
    "    dataset_tmp += [data_tmp] \n",
    "data_frame = pd.concat(dataset_tmp)"
   ]
  },
  {
   "cell_type": "markdown",
   "metadata": {},
   "source": [
    "## 2.1 slection of interesting fields in data_frame\n",
    "- adding also a field 'text' combining 'BillTitle'and'BusinessTitle' for a better nlp clustering"
   ]
  },
  {
   "cell_type": "code",
   "execution_count": null,
   "metadata": {
    "collapsed": false
   },
   "outputs": [],
   "source": [
    "votation_frame = data_frame[['BillTitle','BusinessTitle','FirstName','LastName','Decision']]\n",
    "votation_frame = votation_frame.fillna(value='')\n",
    "votation_frame['text'] = votation_frame['BillTitle']+' '+votation_frame['BusinessTitle']"
   ]
  },
  {
   "cell_type": "markdown",
   "metadata": {},
   "source": [
    "- creation of a smaller dataframe containing only unique texts to accelerate the nlp"
   ]
  },
  {
   "cell_type": "code",
   "execution_count": null,
   "metadata": {
    "collapsed": false
   },
   "outputs": [],
   "source": [
    "text_dict = {'text': votation_frame.text.unique()}\n",
    "topic_learning_frame = pd.DataFrame(text_dict)\n",
    "topic_learning_frame.head()"
   ]
  },
  {
   "cell_type": "markdown",
   "metadata": {},
   "source": [
    "# 3 Topic Clustering\n",
    "\n",
    "#1 reuse of \"insert_topic\" that create a dictionnary containing the topics for all texts in a data_frame"
   ]
  },
  {
   "cell_type": "code",
   "execution_count": null,
   "metadata": {
    "collapsed": false
   },
   "outputs": [],
   "source": [
    "def insert_topic(data_frame) :\n",
    "    dict_ = {}\n",
    "    dict_['text'] =data_frame['text'].values\n",
    "    with open (\"datas/topics.txt\", \"r\") as myfile:\n",
    "        s=myfile.read()  \n",
    "    topics = s.split('\\n')\n",
    "    topics_dic = {}\n",
    "    for topic in topics :\n",
    "        if len(topic)>1 :\n",
    "            name = topic.split(':')\n",
    "        topics_dic[name[0]] = name[1]\n",
    "    dictionary = gensim.corpora.Dictionary.load('datas/ldaDictionary')\n",
    "    for index, text in zip(data_frame.index,data_frame['text'].values) :\n",
    "        if index%1000 == 0 :\n",
    "             print(index)\n",
    "        for topic in getTopicForQuery(text,stop_words,dictionary,ldamodel) :\n",
    "            if (topics_dic[str(topic[0])]) in dict_ :\n",
    "                dict_[topics_dic[str(topic[0])]] +=[topic[1]]\n",
    "            else :\n",
    "                dict_[topics_dic[str(topic[0])]] =[topic[1]]\n",
    "    return dict_"
   ]
  },
  {
   "cell_type": "markdown",
   "metadata": {},
   "source": [
    "#2 create a frame using the topics found using \"insert_topic\""
   ]
  },
  {
   "cell_type": "code",
   "execution_count": null,
   "metadata": {
    "collapsed": false
   },
   "outputs": [],
   "source": [
    "topics_dict = insert_topic(topic_learning_frame)\n",
    "topics_frame = pd.DataFrame(topics_dict)\n",
    "topics_frame.head()"
   ]
  },
  {
   "cell_type": "markdown",
   "metadata": {},
   "source": [
    "#3 Finally merging the topics with the original frame containing the name and decision of parlemnteer ?"
   ]
  },
  {
   "cell_type": "code",
   "execution_count": null,
   "metadata": {
    "collapsed": false
   },
   "outputs": [],
   "source": [
    "(pd.merge(votation_frame,topics_frame)).to_csv('datas/Voting/voting_with_topics.csv')"
   ]
  }
 ],
 "metadata": {
  "anaconda-cloud": {},
  "kernelspec": {
   "display_name": "Python [Root]",
   "language": "python",
   "name": "Python [Root]"
  },
  "language_info": {
   "codemirror_mode": {
    "name": "ipython",
    "version": 3
   },
   "file_extension": ".py",
   "mimetype": "text/x-python",
   "name": "python",
   "nbconvert_exporter": "python",
   "pygments_lexer": "ipython3",
   "version": "3.5.2"
  }
 },
 "nbformat": 4,
 "nbformat_minor": 0
}
