{
 "cells": [
  {
   "cell_type": "markdown",
   "metadata": {},
   "source": [
    "# Description of the useful data we can get from the parliament website \n",
    "Start from this webpage : the metadata of the [metadata of the parliament website](https://ws.parlament.ch/odata.svc/$metadata)"
   ]
  },
  {
   "cell_type": "markdown",
   "metadata": {},
   "source": [
    "From the **Voting** class of the data, one can get :\n",
    "- The ID of the Voting\n",
    "- The language of the voting entry (*DE*,*FR*,*EN*,*RM*,*IT*)\n",
    "- The first and last name of the person who voted, as well as what they voted. We know also the group they represent in the parliament.\n",
    "- BusinessTitle : the \"topic\" of the object which is voted.\n",
    "- BillTitle : the name of the law which is voted.\n"
   ]
  },
  {
   "cell_type": "code",
   "execution_count": null,
   "metadata": {
    "collapsed": true
   },
   "outputs": [],
   "source": []
  }
 ],
 "metadata": {
  "anaconda-cloud": {},
  "kernelspec": {
   "display_name": "Python [Root]",
   "language": "python",
   "name": "Python [Root]"
  },
  "language_info": {
   "codemirror_mode": {
    "name": "ipython",
    "version": 3
   },
   "file_extension": ".py",
   "mimetype": "text/x-python",
   "name": "python",
   "nbconvert_exporter": "python",
   "pygments_lexer": "ipython3",
   "version": "3.5.2"
  }
 },
 "nbformat": 4,
 "nbformat_minor": 0
}
