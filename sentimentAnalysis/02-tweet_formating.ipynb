{
 "cells": [
  {
   "cell_type": "code",
   "execution_count": 27,
   "metadata": {
    "collapsed": false
   },
   "outputs": [],
   "source": [
    "import pandas as pd\n",
    "import glob\n",
    "import os\n",
    "import numpy as np\n",
    "from time import time\n",
    "import logging\n",
    "import gensim\n",
    "import bz2\n",
    "import re"
   ]
  },
  {
   "cell_type": "code",
   "execution_count": 28,
   "metadata": {
    "collapsed": true
   },
   "outputs": [],
   "source": [
    "filename = 'positive.txt'\n",
    "with open(filename) as f:\n",
    "    datas = f.readlines()"
   ]
  },
  {
   "cell_type": "code",
   "execution_count": 29,
   "metadata": {
    "collapsed": false
   },
   "outputs": [],
   "source": [
    "treated  = []\n",
    "for data in datas :\n",
    "    no_at = \" \".join(filter(lambda x:x[0]!='@', data.split()))\n",
    "    no_hash = \" \".join(filter(lambda x:x[0]!='#', no_at.split()))\n",
    "    no_web = \" \".join(filter(lambda x:x[0:4]!='http', no_hash.split()))\n",
    "    if len(no_web)>1 :\n",
    "        treated += [no_web]"
   ]
  },
  {
   "cell_type": "code",
   "execution_count": 30,
   "metadata": {
    "collapsed": false
   },
   "outputs": [
    {
     "data": {
      "text/html": [
       "<div>\n",
       "<table border=\"1\" class=\"dataframe\">\n",
       "  <thead>\n",
       "    <tr style=\"text-align: right;\">\n",
       "      <th></th>\n",
       "      <th>Text</th>\n",
       "      <th>sentiment</th>\n",
       "    </tr>\n",
       "  </thead>\n",
       "  <tbody>\n",
       "    <tr>\n",
       "      <th>0</th>\n",
       "      <td>Je vous présente sensuellement: Marvel Comique...</td>\n",
       "      <td>1</td>\n",
       "    </tr>\n",
       "    <tr>\n",
       "      <th>1</th>\n",
       "      <td>RT Il envoie le de ! Pour le gagner c'est le m...</td>\n",
       "      <td>1</td>\n",
       "    </tr>\n",
       "    <tr>\n",
       "      <th>2</th>\n",
       "      <td>C'est et je lis Le chant du rossignol de Krist...</td>\n",
       "      <td>1</td>\n",
       "    </tr>\n",
       "    <tr>\n",
       "      <th>3</th>\n",
       "      <td>coucou :)</td>\n",
       "      <td>1</td>\n",
       "    </tr>\n",
       "    <tr>\n",
       "      <th>4</th>\n",
       "      <td>Bonjour, je participe avec plaisir :) Merci et...</td>\n",
       "      <td>1</td>\n",
       "    </tr>\n",
       "  </tbody>\n",
       "</table>\n",
       "</div>"
      ],
      "text/plain": [
       "                                                Text  sentiment\n",
       "0  Je vous présente sensuellement: Marvel Comique...          1\n",
       "1  RT Il envoie le de ! Pour le gagner c'est le m...          1\n",
       "2  C'est et je lis Le chant du rossignol de Krist...          1\n",
       "3                                          coucou :)          1\n",
       "4  Bonjour, je participe avec plaisir :) Merci et...          1"
      ]
     },
     "execution_count": 30,
     "metadata": {},
     "output_type": "execute_result"
    }
   ],
   "source": [
    "dict_ = {}\n",
    "dict_['Text'] = list(set(treated))\n",
    "dict_['sentiment'] = [1]*len(list(set(treated)))\n",
    "pos_df = pd.DataFrame(dict_)\n",
    "pos_df.head()"
   ]
  },
  {
   "cell_type": "code",
   "execution_count": 31,
   "metadata": {
    "collapsed": true
   },
   "outputs": [],
   "source": [
    "filename = 'negative.txt'\n",
    "with open(filename) as f:\n",
    "    datas = f.readlines()"
   ]
  },
  {
   "cell_type": "code",
   "execution_count": 32,
   "metadata": {
    "collapsed": true
   },
   "outputs": [],
   "source": [
    "treated  = []\n",
    "for data in datas :\n",
    "    no_at = \" \".join(filter(lambda x:x[0]!='@', data.split()))\n",
    "    no_hash = \" \".join(filter(lambda x:x[0]!='#', no_at.split()))\n",
    "    no_web = \" \".join(filter(lambda x:x[0:4]!='http', no_hash.split()))\n",
    "    if len(no_web)>1 :\n",
    "        treated += [no_web]"
   ]
  },
  {
   "cell_type": "code",
   "execution_count": 33,
   "metadata": {
    "collapsed": false
   },
   "outputs": [
    {
     "data": {
      "text/html": [
       "<div>\n",
       "<table border=\"1\" class=\"dataframe\">\n",
       "  <thead>\n",
       "    <tr style=\"text-align: right;\">\n",
       "      <th></th>\n",
       "      <th>Text</th>\n",
       "      <th>sentiment</th>\n",
       "    </tr>\n",
       "  </thead>\n",
       "  <tbody>\n",
       "    <tr>\n",
       "      <th>0</th>\n",
       "      <td>Et quand est arrivée avec sa wifi dans la criq...</td>\n",
       "      <td>0</td>\n",
       "    </tr>\n",
       "    <tr>\n",
       "      <th>1</th>\n",
       "      <td>RT L'histoire des fans de kpop en Europe , Afr...</td>\n",
       "      <td>0</td>\n",
       "    </tr>\n",
       "    <tr>\n",
       "      <th>2</th>\n",
       "      <td>Plus le temps pour le moment :(</td>\n",
       "      <td>0</td>\n",
       "    </tr>\n",
       "    <tr>\n",
       "      <th>3</th>\n",
       "      <td>je l'aide du mieux que je peux par message mai...</td>\n",
       "      <td>0</td>\n",
       "    </tr>\n",
       "    <tr>\n",
       "      <th>4</th>\n",
       "      <td>J'ai rien fait de la journée et je suis fatigu...</td>\n",
       "      <td>0</td>\n",
       "    </tr>\n",
       "  </tbody>\n",
       "</table>\n",
       "</div>"
      ],
      "text/plain": [
       "                                                Text  sentiment\n",
       "0  Et quand est arrivée avec sa wifi dans la criq...          0\n",
       "1  RT L'histoire des fans de kpop en Europe , Afr...          0\n",
       "2                    Plus le temps pour le moment :(          0\n",
       "3  je l'aide du mieux que je peux par message mai...          0\n",
       "4  J'ai rien fait de la journée et je suis fatigu...          0"
      ]
     },
     "execution_count": 33,
     "metadata": {},
     "output_type": "execute_result"
    }
   ],
   "source": [
    "dict_ = {}\n",
    "dict_['Text'] = list(set(treated))\n",
    "dict_['sentiment'] = [0]*len(list(set(treated)))\n",
    "neg_df = pd.DataFrame(dict_)\n",
    "neg_df.head()"
   ]
  },
  {
   "cell_type": "code",
   "execution_count": 34,
   "metadata": {
    "collapsed": true
   },
   "outputs": [],
   "source": [
    "df_neg_pos = pd.concat([neg_df,pos_df])"
   ]
  },
  {
   "cell_type": "code",
   "execution_count": 35,
   "metadata": {
    "collapsed": false
   },
   "outputs": [],
   "source": [
    "df_neg_pos.to_csv('../datas/tweet/dataset.csv',index=False)"
   ]
  },
  {
   "cell_type": "code",
   "execution_count": null,
   "metadata": {
    "collapsed": true
   },
   "outputs": [],
   "source": []
  }
 ],
 "metadata": {
  "anaconda-cloud": {},
  "kernelspec": {
   "display_name": "Python [Root]",
   "language": "python",
   "name": "Python [Root]"
  },
  "language_info": {
   "codemirror_mode": {
    "name": "ipython",
    "version": 3
   },
   "file_extension": ".py",
   "mimetype": "text/x-python",
   "name": "python",
   "nbconvert_exporter": "python",
   "pygments_lexer": "ipython3",
   "version": "3.5.2"
  }
 },
 "nbformat": 4,
 "nbformat_minor": 0
}
