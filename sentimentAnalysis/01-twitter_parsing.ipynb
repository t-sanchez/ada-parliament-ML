{
 "cells": [
  {
   "cell_type": "code",
   "execution_count": null,
   "metadata": {
    "collapsed": false
   },
   "outputs": [],
   "source": [
    "import pandas as pd\n",
    "import glob\n",
    "import os\n",
    "import numpy as np\n",
    "from time import time\n",
    "import logging\n",
    "import gensim\n",
    "import bz2\n",
    "import re\n",
    "from stop_words import get_stop_words\n",
    "from TwitterSearch import *\n",
    "import time\n"
   ]
  },
  {
   "cell_type": "code",
   "execution_count": null,
   "metadata": {
    "collapsed": false
   },
   "outputs": [],
   "source": [
    "def twitt_search(keywords) :\n",
    "    tweets = []\n",
    "    try:\n",
    "        tso = TwitterSearchOrder() # create a TwitterSearchOrder object\n",
    "        tso.set_keywords(keywords) # let's define all words we would like to have a look for\n",
    "        tso.set_language('fr') # we want to see German tweets only\n",
    "        tso.set_include_entities(False) # and don't give us all those entity information\n",
    "        def my_callback_closure(current_ts_instance): # accepts ONE argument: an instance of TwitterSearch\n",
    "            queries, tweets_seen = current_ts_instance.get_statistics()\n",
    "            if queries > 0 and (queries % 20) == 0: # trigger delay every 5th query\n",
    "                time.sleep # sleep for 60 seconds\n",
    "\n",
    "        # it's about time to create a TwitterSearch object with our secret tokens\n",
    "        ts = TwitterSearch(\n",
    "            consumer_key = 'ZGgMdwkVCiW66ZXAuRw7AAUtZ',\n",
    "            consumer_secret = 'ClOD11TS56QT3PSEji3qZ1NSlFyk7rEhDGKyUAkspC2KhIWJuU',\n",
    "            access_token = '569383936-JlqSc4HTACjyKfvADq3fwo9Kc6YFSP24vieS57Sh',\n",
    "            access_token_secret = '7onklrm4WAtJoJBWw0bbUgPPISWbXUQNgfqQRDLXseUiG'\n",
    "         )\n",
    "\n",
    "         # this is where the fun actually starts :)\n",
    "        for tweet in ts.search_tweets_iterable(tso, callback=my_callback_closure):\n",
    "            tweets +=[tweet['text']]\n",
    "    \n",
    "    except TwitterSearchException as e: # take care of all those ugly errors if there are some\n",
    "        print(e)\n",
    "    return tweets"
   ]
  },
  {
   "cell_type": "code",
   "execution_count": null,
   "metadata": {
    "collapsed": false
   },
   "outputs": [],
   "source": [
    "keywords =['#loi']\n",
    "pos_tweet = []\n",
    "pos_tweet += twitt_search(keywords)"
   ]
  },
  {
   "cell_type": "code",
   "execution_count": null,
   "metadata": {
    "collapsed": false
   },
   "outputs": [],
   "source": [
    "len(pos_tweet)"
   ]
  },
  {
   "cell_type": "code",
   "execution_count": null,
   "metadata": {
    "collapsed": false
   },
   "outputs": [],
   "source": [
    "pos_tweet"
   ]
  },
  {
   "cell_type": "code",
   "execution_count": null,
   "metadata": {
    "collapsed": true
   },
   "outputs": [],
   "source": [
    "thefile = open('negative.txt', 'w')\n",
    "for item in pos_tweet:\n",
    "    thefile.write(\"%s\\n\" % item)"
   ]
  },
  {
   "cell_type": "code",
   "execution_count": null,
   "metadata": {
    "collapsed": true
   },
   "outputs": [],
   "source": []
  }
 ],
 "metadata": {
  "anaconda-cloud": {},
  "kernelspec": {
   "display_name": "Python [Root]",
   "language": "python",
   "name": "Python [Root]"
  },
  "language_info": {
   "codemirror_mode": {
    "name": "ipython",
    "version": 3
   },
   "file_extension": ".py",
   "mimetype": "text/x-python",
   "name": "python",
   "nbconvert_exporter": "python",
   "pygments_lexer": "ipython3",
   "version": "3.5.2"
  }
 },
 "nbformat": 4,
 "nbformat_minor": 0
}
