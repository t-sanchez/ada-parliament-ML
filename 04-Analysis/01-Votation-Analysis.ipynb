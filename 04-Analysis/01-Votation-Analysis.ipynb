{
 "cells": [
  {
   "cell_type": "code",
   "execution_count": 1,
   "metadata": {
    "collapsed": false
   },
   "outputs": [],
   "source": [
    "import pandas as pd\n",
    "import glob\n",
    "import os\n",
    "import numpy as np\n",
    "import matplotlib.pyplot as plt\n",
    "import sklearn\n",
    "import sklearn.ensemble\n",
    "from sklearn.ensemble import RandomForestClassifier\n",
    "from sklearn.model_selection import cross_val_score, train_test_split, cross_val_predict, learning_curve\n",
    "import sklearn.metrics\n",
    "\n",
    "%matplotlib inline\n",
    "%load_ext autoreload\n",
    "%autoreload 2\n",
    "\n",
    "# There's a lot of columns in the DF. \n",
    "# Therefore, we add this option so that we can see more columns\n",
    "pd.options.display.max_columns = 100"
   ]
  },
  {
   "cell_type": "code",
   "execution_count": 2,
   "metadata": {
    "collapsed": false
   },
   "outputs": [
    {
     "name": "stdout",
     "output_type": "stream",
     "text": [
      "Entries in the DataFrame (3470, 17)\n"
     ]
    },
    {
     "data": {
      "text/html": [
       "<div>\n",
       "<table border=\"1\" class=\"dataframe\">\n",
       "  <thead>\n",
       "    <tr style=\"text-align: right;\">\n",
       "      <th></th>\n",
       "      <th>armée</th>\n",
       "      <th>asile / immigration</th>\n",
       "      <th>assurances</th>\n",
       "      <th>budget</th>\n",
       "      <th>dunno</th>\n",
       "      <th>entreprise/ finance</th>\n",
       "      <th>environnement</th>\n",
       "      <th>famille / enfants</th>\n",
       "      <th>imposition</th>\n",
       "      <th>politique internationale</th>\n",
       "      <th>retraite</th>\n",
       "      <th>text</th>\n",
       "      <th>text_eng</th>\n",
       "      <th>positive</th>\n",
       "      <th>negative</th>\n",
       "      <th>neutral</th>\n",
       "      <th>compound</th>\n",
       "    </tr>\n",
       "  </thead>\n",
       "  <tbody>\n",
       "    <tr>\n",
       "      <th>0</th>\n",
       "      <td>0.006995</td>\n",
       "      <td>0.930066</td>\n",
       "      <td>0.006993</td>\n",
       "      <td>0.006993</td>\n",
       "      <td>0.006993</td>\n",
       "      <td>0.006994</td>\n",
       "      <td>0.006993</td>\n",
       "      <td>0.006993</td>\n",
       "      <td>0.006993</td>\n",
       "      <td>0.006993</td>\n",
       "      <td>0.006993</td>\n",
       "      <td>Arrêté fédéral concernant la contribution de l...</td>\n",
       "      <td>Federal decree on Switzerland's contribution i...</td>\n",
       "      <td>0.075</td>\n",
       "      <td>0.000</td>\n",
       "      <td>0.925</td>\n",
       "      <td>0.4404</td>\n",
       "    </tr>\n",
       "    <tr>\n",
       "      <th>1</th>\n",
       "      <td>0.018182</td>\n",
       "      <td>0.018185</td>\n",
       "      <td>0.018183</td>\n",
       "      <td>0.271557</td>\n",
       "      <td>0.564795</td>\n",
       "      <td>0.018183</td>\n",
       "      <td>0.018182</td>\n",
       "      <td>0.018183</td>\n",
       "      <td>0.018183</td>\n",
       "      <td>0.018183</td>\n",
       "      <td>0.018184</td>\n",
       "      <td>Renforcement du Traité sur la non-proliférati...</td>\n",
       "      <td>Strengthening of the Treaty on the non-prolif...</td>\n",
       "      <td>0.227</td>\n",
       "      <td>0.206</td>\n",
       "      <td>0.567</td>\n",
       "      <td>0.0772</td>\n",
       "    </tr>\n",
       "    <tr>\n",
       "      <th>2</th>\n",
       "      <td>0.015152</td>\n",
       "      <td>0.389858</td>\n",
       "      <td>0.015152</td>\n",
       "      <td>0.232520</td>\n",
       "      <td>0.256405</td>\n",
       "      <td>0.015152</td>\n",
       "      <td>0.015152</td>\n",
       "      <td>0.015152</td>\n",
       "      <td>0.015152</td>\n",
       "      <td>0.015154</td>\n",
       "      <td>0.015152</td>\n",
       "      <td>Une zone exempte d'armes nucléaires au coeur ...</td>\n",
       "      <td>A nuclear weapon free zone in the heart of Eu...</td>\n",
       "      <td>0.264</td>\n",
       "      <td>0.176</td>\n",
       "      <td>0.560</td>\n",
       "      <td>0.2732</td>\n",
       "    </tr>\n",
       "  </tbody>\n",
       "</table>\n",
       "</div>"
      ],
      "text/plain": [
       "      armée   asile / immigration   assurances    budget     dunno  \\\n",
       "0  0.006995              0.930066     0.006993  0.006993  0.006993   \n",
       "1  0.018182              0.018185     0.018183  0.271557  0.564795   \n",
       "2  0.015152              0.389858     0.015152  0.232520  0.256405   \n",
       "\n",
       "    entreprise/ finance   environnement   famille / enfants   imposition  \\\n",
       "0              0.006994        0.006993            0.006993     0.006993   \n",
       "1              0.018183        0.018182            0.018183     0.018183   \n",
       "2              0.015152        0.015152            0.015152     0.015152   \n",
       "\n",
       "    politique internationale   retraite    \\\n",
       "0                   0.006993     0.006993   \n",
       "1                   0.018183     0.018184   \n",
       "2                   0.015154     0.015152   \n",
       "\n",
       "                                                text  \\\n",
       "0  Arrêté fédéral concernant la contribution de l...   \n",
       "1   Renforcement du Traité sur la non-proliférati...   \n",
       "2   Une zone exempte d'armes nucléaires au coeur ...   \n",
       "\n",
       "                                            text_eng  positive  negative  \\\n",
       "0  Federal decree on Switzerland's contribution i...     0.075     0.000   \n",
       "1   Strengthening of the Treaty on the non-prolif...     0.227     0.206   \n",
       "2   A nuclear weapon free zone in the heart of Eu...     0.264     0.176   \n",
       "\n",
       "   neutral  compound  \n",
       "0    0.925    0.4404  \n",
       "1    0.567    0.0772  \n",
       "2    0.560    0.2732  "
      ]
     },
     "execution_count": 2,
     "metadata": {},
     "output_type": "execute_result"
    }
   ],
   "source": [
    "path = '../datas/nlp_results/'\n",
    "voting_df = pd.read_csv(path+'voting_with_topics_unique_sentiment.csv')\n",
    "print('Entries in the DataFrame',voting_df.shape)\n",
    "\n",
    "#Dropping the useless column\n",
    "#voting_df = voting_df.drop('Unnamed: 0',1)\n",
    "\n",
    "#Putting numerical values into the columns that should have numerical values\n",
    "\n",
    "#num_cols = ['BillTitle', 'BusinessTitle','text','text_eng','FirstName','LastName']\n",
    "#voting = voting_df.drop(num_cols,axis=1).apply(pd.to_numeric)\n",
    "#voting['text'] = voting_df.text\n",
    "#Inserting the full name at the second position\n",
    "#voting.insert(1,'Name', voting_df['FirstName'] + ' ' + voting_df['LastName'])\n",
    "\n",
    "voting_df.head(3)"
   ]
  },
  {
   "cell_type": "code",
   "execution_count": null,
   "metadata": {
    "collapsed": false
   },
   "outputs": [],
   "source": [
    "def split_df(df, field):\n",
    "    \"\"\"\n",
    "        Splits the input df along a certain field into multiple dictionaries which links each unique\n",
    "        entry of the field to the entries in the dataframe\n",
    "    \"\"\"\n",
    "    # Retrieve first all the unique Name entries\n",
    "    unique_field = df[field].unique()\n",
    "    print('Number of unique entries in',field,':',len(unique_field))\n",
    "    #Create a dictionary of DataFrames which stores all the info relative to a single deputee\n",
    "    df_dict = {elem : pd.DataFrame for elem in unique_field}\n",
    "\n",
    "    for key in df_dict.keys():\n",
    "        df_dict[key] = df.loc[df[field] == key]\n",
    "    \n",
    "    return df_dict\n",
    "\n",
    "voting_dict = split_df(voting, 'Name')"
   ]
  },
  {
   "cell_type": "code",
   "execution_count": null,
   "metadata": {
    "collapsed": false,
    "scrolled": false
   },
   "outputs": [],
   "source": [
    "depute_dict = {}\n",
    "for deputee in voting_dict :\n",
    "    df_deputee = voting_dict[deputee]\n",
    "    df = df_deputee.groupby('Decision')['Decision'].count()\n",
    "    #df.plot(kind='bar',title=deputee)\n",
    "    plt.show()\n",
    "    depute_dict[deputee] = df\n"
   ]
  },
  {
   "cell_type": "code",
   "execution_count": null,
   "metadata": {
    "collapsed": false
   },
   "outputs": [],
   "source": [
    "max_ = [0]*7\n",
    "frequency = [0]*7\n",
    "winner_max = ['']*7\n",
    "winner_freq = ['']*7\n",
    "Decisions = ['Yes','No','Abstention','','Away','Excused','President']\n",
    "for deputee_frame in depute_dict :\n",
    "    for i in range(1,8) :\n",
    "        if i in depute_dict[deputee_frame].index :\n",
    "            frequency_old = frequency[i-1]\n",
    "            max_old = max_[i-1]\n",
    "            max_[i-1] = max(max_[i-1],depute_dict[deputee_frame][i])\n",
    "            frequency[i-1] = max(frequency[i-1],depute_dict[deputee_frame][i]/depute_dict[deputee_frame].sum())\n",
    "            if frequency_old != frequency[i-1]:\n",
    "                winner_freq[i-1] = deputee_frame\n",
    "            if max_old != max_[i-1]:\n",
    "                winner_max[i-1] = deputee_frame\n",
    "for i in range(7) : \n",
    "    if max_[i]!=0 :\n",
    "        print(\"for {0} :\".format(Decisions[i]) )\n",
    "        print(\"{0} as the highest frequency:{1}\".format(winner_freq[i],frequency[i],i+1))\n",
    "        print(\"{0} as the highest value:{1}\".format(winner_max[i],max_[i],i+1))\n",
    "        print()"
   ]
  },
  {
   "cell_type": "code",
   "execution_count": null,
   "metadata": {
    "collapsed": false
   },
   "outputs": [],
   "source": [
    "dataset_tmp = []\n",
    "path = '../datas/scrap/Voting'\n",
    "allFiles = glob.glob(os.path.join(path, 'Session*.csv'))\n",
    "\n",
    "for file_ in allFiles:\n",
    "    print(file_)\n",
    "    data_tmp = pd.read_csv(file_)\n",
    "    print(data_tmp.shape)\n",
    "    dataset_tmp += [data_tmp] \n",
    "data_frame = pd.concat(dataset_tmp)\n",
    "print(data_frame.shape)\n",
    "data_tmp.drop('Unnamed: 0',1,inplace=True)"
   ]
  },
  {
   "cell_type": "code",
   "execution_count": null,
   "metadata": {
    "collapsed": false
   },
   "outputs": [],
   "source": [
    "columns = ['BillTitle','BusinessTitle','Canton','Decision','FirstName','LastName','ParlGroupName','VoteEnd']\n",
    "treated_data =data_frame[columns]\n",
    "treated_data['text'] =  treated_data['BillTitle'] + ' ' + treated_data['BusinessTitle']\n",
    "treated_data.head()"
   ]
  },
  {
   "cell_type": "code",
   "execution_count": null,
   "metadata": {
    "collapsed": false
   },
   "outputs": [],
   "source": [
    "#columns = ['Decision','Name','ParlGroupCode','positive','negative','neutral','compound','text']\n",
    "columns= ['text','text_eng','positive','negative','neutral','compound']\n",
    "vote  = voting_df.drop(columns,1)\n",
    "to_merge = voting_df[['text']]\n",
    "to_merge['subject']= vote.idxmax(axis=1)"
   ]
  },
  {
   "cell_type": "code",
   "execution_count": null,
   "metadata": {
    "collapsed": false
   },
   "outputs": [],
   "source": [
    "to_merge.head()"
   ]
  },
  {
   "cell_type": "code",
   "execution_count": null,
   "metadata": {
    "collapsed": false
   },
   "outputs": [],
   "source": [
    "data_for_viz = pd.merge(treated_data,to_merge)"
   ]
  },
  {
   "cell_type": "code",
   "execution_count": null,
   "metadata": {
    "collapsed": false
   },
   "outputs": [],
   "source": [
    "data_for_viz['VoteEnd'] = [x[0:7] for x in data_for_viz.VoteEnd]"
   ]
  },
  {
   "cell_type": "code",
   "execution_count": null,
   "metadata": {
    "collapsed": false
   },
   "outputs": [],
   "source": [
    "data_for_viz.head()"
   ]
  },
  {
   "cell_type": "code",
   "execution_count": null,
   "metadata": {
    "collapsed": false
   },
   "outputs": [],
   "source": [
    "data_for_viz[['VoteEnd']].to_json('viz_data_vote_month.json')"
   ]
  },
  {
   "cell_type": "code",
   "execution_count": null,
   "metadata": {
    "collapsed": false
   },
   "outputs": [],
   "source": [
    "data_for_viz.sort_values('VoteEnd', ascending = ['True'])"
   ]
  },
  {
   "cell_type": "code",
   "execution_count": null,
   "metadata": {
    "collapsed": true
   },
   "outputs": [],
   "source": []
  }
 ],
 "metadata": {
  "anaconda-cloud": {},
  "kernelspec": {
   "display_name": "Python 3",
   "language": "python",
   "name": "python3"
  },
  "language_info": {
   "codemirror_mode": {
    "name": "ipython",
    "version": 3
   },
   "file_extension": ".py",
   "mimetype": "text/x-python",
   "name": "python",
   "nbconvert_exporter": "python",
   "pygments_lexer": "ipython3",
   "version": "3.5.2"
  }
 },
 "nbformat": 4,
 "nbformat_minor": 0
}
