{
 "cells": [
  {
   "cell_type": "markdown",
   "metadata": {},
   "source": [
    "# Person Analysis\n",
    "**Aims :**\n",
    "\n",
    "1. We want to see how a person behaves at each vote -> Create a DataFrame that records whether the person voted like the average of the party (Could be a good thing to have what the party instructs to vote at this time), and whether the person was present.\n",
    "2. We want to compute some global statistics about each person :\n",
    "    - Percentage of the time during which a person votes like his party\n",
    "    - Percentage of abstention\n",
    "    - Percentage of absence (Days or vote the person did not take ?)\n",
    "    - Time at which he entered the parliament.\n",
    "    \n",
    "    \n",
    "To do so, we need a few things :\n",
    "\n",
    "1. The *Vote* file that we parsed, that records all the votations taking place at the parliament. We will need to find the earliest law that each person votes, and then, from this, count all the laws that have been voted, and count the number of votes the person did not attend.\n",
    "2. The *Voting* file will be our primary source of informations, recording all the votes of every person at the parliament. We will need to split it by each person, which was already done beforehand in the `01-ML` folder.\n",
    "\n",
    "**Ideal visualisation :** \n",
    "Whenever we enter the page about someone -> Some general information (from Gaël's team maybe), and then, a graph with the votes (Q: What to display ?)\n",
    "\n",
    "-> Idea : a vertical bar, which height corresponds to the number of law that the deputee voted on. Inside the vertical bar, show 5 sectors : percentage of yes/no/abstention/absent/president for each period. Then, click on it and a detailled view on a single period appears -> Same kind of graph, except the guy voted yes or no for a law (color for yes/no/abstention, other color for absent) + Color for whether the law was passed or not.\n",
    "\n",
    "Maybe use [stacked bar chart](http://bl.ocks.org/mbostock/3886208) for the overall view (shift it so the bars are horizontal) or alternatively [grouped to stacked](https://bl.ocks.org/mbostock/3943967)\n",
    "\n",
    "\n",
    "When you click on a session, maybe display something like [Table with bar chart](http://bl.ocks.org/llad/3918637) with change to another page, with either again the same chart, or a [grouped bar chart](http://bl.ocks.org/mbostock/3887051), or we could use a mix between [collapsed tree](http://bl.ocks.org/mbostock/1093025) and a [dendrogram with bars](https://bl.ocks.org/dahis39/f28369f0b17b456ac2f1fa9b937c5002)"
   ]
  },
  {
   "cell_type": "code",
   "execution_count": 1,
   "metadata": {
    "collapsed": false
   },
   "outputs": [],
   "source": [
    "import pandas as pd\n",
    "import glob\n",
    "import os\n",
    "import numpy as np\n",
    "import matplotlib.pyplot as plt\n",
    "from helpers import load_vote_df, load_voting,format_voting_session, split_df_dict\n",
    "%matplotlib inline\n",
    "%load_ext autoreload\n",
    "%autoreload 2\n",
    "\n",
    "# There's a lot of columns in the DF. \n",
    "# Therefore, we add this option so that we can see more columns\n",
    "pd.options.display.max_columns = 100"
   ]
  },
  {
   "cell_type": "markdown",
   "metadata": {},
   "source": [
    "# 1. Loading and formatting the Vote DataFrame\n",
    "Convert *date* into *datetime* format with `pd.to_datetime` allows us to sort the dates the way we want.\n",
    "\n",
    "- *Attributes of datetime object:* year, month, day, hour, minute, second, microsecond, and tzinfo.\n",
    "\n",
    "A few useful German words unknown to me.\n",
    "\n",
    "*Antrag* : demande\n"
   ]
  },
  {
   "cell_type": "code",
   "execution_count": 2,
   "metadata": {
    "collapsed": false,
    "scrolled": true
   },
   "outputs": [
    {
     "name": "stdout",
     "output_type": "stream",
     "text": [
      "Entries in the DataFrame (11182, 16)\n"
     ]
    }
   ],
   "source": [
    "vote_df = load_vote_df()"
   ]
  },
  {
   "cell_type": "markdown",
   "metadata": {},
   "source": [
    "N.B. `SessionName` field is rubbish -> The correct session is not the one mentionned in it. Hence we need to merge the Session ID with the one from the scraped session.\n",
    "\n",
    "Looking at the Swiss Parties, their real names and abbreviation are the following:\n",
    "\n",
    "- PLR : Parti libéral-radical (PLR. Les Libéraux-Radicaux)\n",
    "- PDC : Parti démocrate-chrétien suisse\n",
    "- PS  : Parti socialiste suisse\n",
    "- UDC :\tUnion démocratique du centre\n",
    "- PES :\tParti écologiste suisse (Les Verts)\n",
    "- PVL :\tParti vert-libéral\n",
    "- PBD :\tParti Bourgeois-Démocratique"
   ]
  },
  {
   "cell_type": "markdown",
   "metadata": {},
   "source": [
    "# 2. Load the Voting DataFrame"
   ]
  },
  {
   "cell_type": "markdown",
   "metadata": {},
   "source": [
    "**format_voting_session :** Appends session related fields to the voting data, preparing for aggregation."
   ]
  },
  {
   "cell_type": "code",
   "execution_count": 3,
   "metadata": {
    "collapsed": false
   },
   "outputs": [
    {
     "name": "stdout",
     "output_type": "stream",
     "text": [
      "Entries in the DataFrame (1713854, 26)\n"
     ]
    },
    {
     "data": {
      "text/html": [
       "<div>\n",
       "<table border=\"1\" class=\"dataframe\">\n",
       "  <thead>\n",
       "    <tr style=\"text-align: right;\">\n",
       "      <th></th>\n",
       "      <th>Name</th>\n",
       "      <th>BillTitle</th>\n",
       "      <th>BusinessTitle</th>\n",
       "      <th>Decision</th>\n",
       "      <th>DecisionText</th>\n",
       "      <th>BusinessShortNumber</th>\n",
       "      <th>Canton</th>\n",
       "      <th>ParlGroupCode</th>\n",
       "      <th>ParlGroupName</th>\n",
       "      <th>ID</th>\n",
       "      <th>IdVote</th>\n",
       "      <th>IdSession</th>\n",
       "      <th>VoteEnd</th>\n",
       "      <th>SessionName</th>\n",
       "      <th>Date</th>\n",
       "    </tr>\n",
       "  </thead>\n",
       "  <tbody>\n",
       "    <tr>\n",
       "      <th>0</th>\n",
       "      <td>Adèle Thorens Goumaz</td>\n",
       "      <td>Arrêté fédéral relatif à l’initiative populair...</td>\n",
       "      <td>Sauvez l’or de la Suisse (Initiative sur l'or)...</td>\n",
       "      <td>1</td>\n",
       "      <td>Ja</td>\n",
       "      <td>13.093</td>\n",
       "      <td>VD</td>\n",
       "      <td>PES</td>\n",
       "      <td>Parti écologiste suisse (Les Verts)</td>\n",
       "      <td>2429390</td>\n",
       "      <td>13907</td>\n",
       "      <td>4913</td>\n",
       "      <td>2014-05-05</td>\n",
       "      <td>Session spéciale mai 2014</td>\n",
       "      <td>2014-05-05</td>\n",
       "    </tr>\n",
       "    <tr>\n",
       "      <th>1</th>\n",
       "      <td>Ada Marra</td>\n",
       "      <td>Arrêté fédéral relatif à l’initiative populair...</td>\n",
       "      <td>Sauvez l’or de la Suisse (Initiative sur l'or)...</td>\n",
       "      <td>1</td>\n",
       "      <td>Ja</td>\n",
       "      <td>13.093</td>\n",
       "      <td>VD</td>\n",
       "      <td>PS</td>\n",
       "      <td>Parti socialiste</td>\n",
       "      <td>2429391</td>\n",
       "      <td>13907</td>\n",
       "      <td>4913</td>\n",
       "      <td>2014-05-05</td>\n",
       "      <td>Session spéciale mai 2014</td>\n",
       "      <td>2014-05-05</td>\n",
       "    </tr>\n",
       "    <tr>\n",
       "      <th>2</th>\n",
       "      <td>Tiana Angelina Moser</td>\n",
       "      <td>Arrêté fédéral relatif à l’initiative populair...</td>\n",
       "      <td>Sauvez l’or de la Suisse (Initiative sur l'or)...</td>\n",
       "      <td>5</td>\n",
       "      <td>Hat nicht teilgenommen</td>\n",
       "      <td>13.093</td>\n",
       "      <td>ZH</td>\n",
       "      <td>PVL</td>\n",
       "      <td>Parti vert-libéral</td>\n",
       "      <td>2429392</td>\n",
       "      <td>13907</td>\n",
       "      <td>4913</td>\n",
       "      <td>2014-05-05</td>\n",
       "      <td>Session spéciale mai 2014</td>\n",
       "      <td>2014-05-05</td>\n",
       "    </tr>\n",
       "    <tr>\n",
       "      <th>3</th>\n",
       "      <td>Sylvie Perrinjaquet</td>\n",
       "      <td>Arrêté fédéral relatif à l’initiative populair...</td>\n",
       "      <td>Sauvez l’or de la Suisse (Initiative sur l'or)...</td>\n",
       "      <td>1</td>\n",
       "      <td>Ja</td>\n",
       "      <td>13.093</td>\n",
       "      <td>NE</td>\n",
       "      <td>PLR</td>\n",
       "      <td>Parti libéral-radical</td>\n",
       "      <td>2429393</td>\n",
       "      <td>13907</td>\n",
       "      <td>4913</td>\n",
       "      <td>2014-05-05</td>\n",
       "      <td>Session spéciale mai 2014</td>\n",
       "      <td>2014-05-05</td>\n",
       "    </tr>\n",
       "    <tr>\n",
       "      <th>4</th>\n",
       "      <td>Natalie Rickli</td>\n",
       "      <td>Arrêté fédéral relatif à l’initiative populair...</td>\n",
       "      <td>Sauvez l’or de la Suisse (Initiative sur l'or)...</td>\n",
       "      <td>3</td>\n",
       "      <td>Enthaltung</td>\n",
       "      <td>13.093</td>\n",
       "      <td>ZH</td>\n",
       "      <td>UDC</td>\n",
       "      <td>Union démocratique du centre</td>\n",
       "      <td>2429394</td>\n",
       "      <td>13907</td>\n",
       "      <td>4913</td>\n",
       "      <td>2014-05-05</td>\n",
       "      <td>Session spéciale mai 2014</td>\n",
       "      <td>2014-05-05</td>\n",
       "    </tr>\n",
       "  </tbody>\n",
       "</table>\n",
       "</div>"
      ],
      "text/plain": [
       "                   Name                                          BillTitle  \\\n",
       "0  Adèle Thorens Goumaz  Arrêté fédéral relatif à l’initiative populair...   \n",
       "1             Ada Marra  Arrêté fédéral relatif à l’initiative populair...   \n",
       "2  Tiana Angelina Moser  Arrêté fédéral relatif à l’initiative populair...   \n",
       "3   Sylvie Perrinjaquet  Arrêté fédéral relatif à l’initiative populair...   \n",
       "4        Natalie Rickli  Arrêté fédéral relatif à l’initiative populair...   \n",
       "\n",
       "                                       BusinessTitle  Decision  \\\n",
       "0  Sauvez l’or de la Suisse (Initiative sur l'or)...         1   \n",
       "1  Sauvez l’or de la Suisse (Initiative sur l'or)...         1   \n",
       "2  Sauvez l’or de la Suisse (Initiative sur l'or)...         5   \n",
       "3  Sauvez l’or de la Suisse (Initiative sur l'or)...         1   \n",
       "4  Sauvez l’or de la Suisse (Initiative sur l'or)...         3   \n",
       "\n",
       "             DecisionText  BusinessShortNumber Canton ParlGroupCode  \\\n",
       "0                      Ja               13.093     VD           PES   \n",
       "1                      Ja               13.093     VD            PS   \n",
       "2  Hat nicht teilgenommen               13.093     ZH           PVL   \n",
       "3                      Ja               13.093     NE           PLR   \n",
       "4              Enthaltung               13.093     ZH           UDC   \n",
       "\n",
       "                         ParlGroupName       ID  IdVote  IdSession  \\\n",
       "0  Parti écologiste suisse (Les Verts)  2429390   13907       4913   \n",
       "1                     Parti socialiste  2429391   13907       4913   \n",
       "2                   Parti vert-libéral  2429392   13907       4913   \n",
       "3                Parti libéral-radical  2429393   13907       4913   \n",
       "4         Union démocratique du centre  2429394   13907       4913   \n",
       "\n",
       "      VoteEnd                SessionName        Date  \n",
       "0  2014-05-05  Session spéciale mai 2014  2014-05-05  \n",
       "1  2014-05-05  Session spéciale mai 2014  2014-05-05  \n",
       "2  2014-05-05  Session spéciale mai 2014  2014-05-05  \n",
       "3  2014-05-05  Session spéciale mai 2014  2014-05-05  \n",
       "4  2014-05-05  Session spéciale mai 2014  2014-05-05  "
      ]
     },
     "execution_count": 3,
     "metadata": {},
     "output_type": "execute_result"
    }
   ],
   "source": [
    "voting_df = format_voting_session(load_voting())\n",
    "voting_df.head()"
   ]
  },
  {
   "cell_type": "markdown",
   "metadata": {},
   "source": [
    "Still has a lot of data, but we tried to keep a minimum of it to make it readable by a human as well as having all the information we need to display."
   ]
  },
  {
   "cell_type": "markdown",
   "metadata": {},
   "source": [
    "# 3. Format the DataFrame\n",
    "## a) Session level statistics for each of the deputees.\n",
    "Now, format the way we want to for exporting for each person\n",
    "\n",
    "First of all : Global stats -> *Yes/No/Abstention/Absence/Excused/President* at a session level."
   ]
  },
  {
   "cell_type": "code",
   "execution_count": null,
   "metadata": {
    "collapsed": false
   },
   "outputs": [],
   "source": [
    "voting_dict = split_df_dict(voting_df, 'Name')"
   ]
  },
  {
   "cell_type": "markdown",
   "metadata": {},
   "source": [
    "Summary of the different votes possible\n",
    "\n",
    "|**1** | **2** | **3**      | **4**    | **5**               | **6** |                **7**                       |\n",
    "|------|-------|------------|----------|---------------------|-------|--------------------------------------------|\n",
    "| Yes  | No    | Abstention | No entry | Did not participate |Excused| The president of the session does not vote |\n",
    "\n",
    "\n",
    "Counting the percentage of abstention by person, in order to see whether there is a person that would abstain significantly more often than the rest. It does not appear to be the case."
   ]
  },
  {
   "cell_type": "code",
   "execution_count": null,
   "metadata": {
    "collapsed": false,
    "scrolled": true
   },
   "outputs": [],
   "source": [
    "#count_abst = lambda x: \n",
    "voting_test = voting_df[['Name','Decision']].groupby('Name').apply(lambda x: np.sum(x.Decision==3)/len(x.Decision))\n",
    "voting_test.sort_values(ascending=False).head()"
   ]
  },
  {
   "cell_type": "markdown",
   "metadata": {},
   "source": [
    "Simply trying the aggregation at a session level for a deputee in particular, it will have to be done for every single one after, then exporting the resulting DataFrame to a `.csv` or `.json` to make it readable with `javascript`."
   ]
  },
  {
   "cell_type": "code",
   "execution_count": null,
   "metadata": {
    "collapsed": false
   },
   "outputs": [],
   "source": [
    "test = voting_dict['Filippo Leutenegger']\n",
    "test.head()"
   ]
  },
  {
   "cell_type": "code",
   "execution_count": null,
   "metadata": {
    "collapsed": false
   },
   "outputs": [],
   "source": [
    "voting_dict['Filippo Leutenegger'].loc[voting_dict['Filippo Leutenegger'].IdSession==4913].SessionName.unique()[0]"
   ]
  },
  {
   "cell_type": "code",
   "execution_count": null,
   "metadata": {
    "collapsed": false,
    "scrolled": false
   },
   "outputs": [],
   "source": [
    "test = voting_dict['Filippo Leutenegger'].groupby(['IdSession','SessionName','Date'])\n",
    "\n",
    "\n",
    "count_yes = lambda x: np.sum(x==1)\n",
    "count_no = lambda x: np.sum(x==2)\n",
    "count_abstention = lambda x: np.sum(x==3)\n",
    "count_absent = lambda x: np.sum(x==5)\n",
    "count_excused = lambda x: np.sum(x==6)\n",
    "count_president = lambda x: np.sum(x==7)\n",
    "name_session = lambda x: x.unique()[0]\n",
    "year_session = lambda x: x.unique()[0]\n",
    "\n",
    "test = test.agg({'Decision':{'Yes': count_yes, 'No': count_no,'Abstention': count_abstention,\n",
    "                'Excused':count_excused, 'Absent':count_absent, 'President':count_president}})\n",
    "\n",
    "test.columns = test.columns.droplevel(0)\n",
    "#test_grouped = test_grouped.join(test['SessionName','Year'])\n",
    "test = test.reset_index().set_index('IdSession')\n",
    "test = test[['Yes','No','Abstention','Absent','Excused','President','SessionName','Date']]\n",
    "#test['Total'] = test.sum(axis=1)\n",
    "test"
   ]
  },
  {
   "cell_type": "markdown",
   "metadata": {},
   "source": [
    "Aggregating further up at a yearly level and displaying the result."
   ]
  },
  {
   "cell_type": "code",
   "execution_count": null,
   "metadata": {
    "collapsed": false,
    "scrolled": true
   },
   "outputs": [],
   "source": [
    "test = test.drop('SessionName',1).groupby('Date').apply(sum).drop('Date',1)\n",
    "test['Presence'] = test['Yes']+test['No']+test['Abstention']+test['President']\n",
    "test['Absence'] = test['Excused']+test['Absent']\n",
    "\n",
    "test.plot.bar(x=test.index, y=['Yes','No','Abstention','Excused','Absent','President'])\n",
    "#test.plot.bar(x=test.index,y=['Presence','Absence'])"
   ]
  },
  {
   "cell_type": "markdown",
   "metadata": {},
   "source": [
    "N.B. We checked for consistency, and from the time the person is elected, he appears at all subsequent votes (the sum of all the fields will give the total number of votes from the session)"
   ]
  },
  {
   "cell_type": "markdown",
   "metadata": {},
   "source": [
    "### Exporting the results to the `analysis` folder in the datas "
   ]
  },
  {
   "cell_type": "code",
   "execution_count": null,
   "metadata": {
    "collapsed": false,
    "scrolled": false
   },
   "outputs": [],
   "source": [
    "from helpers import export_session_vote_csv\n",
    "directory = '../../datas/analysis/voting_agg/'\n",
    "if not os.path.exists(directory):\n",
    "    os.makedirs(directory)\n",
    "    \n",
    "for deputee, df in voting_dict.items():\n",
    "    export_session_vote_csv(directory,deputee,df,'_vote_session.csv')\n",
    "    \n",
    "     df_grouped = df.groupby(['IdSession','SessionName','Date'])"
   ]
  },
  {
   "cell_type": "markdown",
   "metadata": {
    "collapsed": true
   },
   "source": [
    "## b) Detailled version for the votes of each deputee\n",
    "Here, we store everything, sorted by session and time, that each deputee voted. "
   ]
  },
  {
   "cell_type": "markdown",
   "metadata": {},
   "source": [
    "Before adding fields, let us first merge some parts of the vote `DataFrame` with the voting `DataFrame`"
   ]
  },
  {
   "cell_type": "code",
   "execution_count": 26,
   "metadata": {
    "collapsed": false
   },
   "outputs": [
    {
     "data": {
      "text/html": [
       "<div>\n",
       "<table border=\"1\" class=\"dataframe\">\n",
       "  <thead>\n",
       "    <tr style=\"text-align: right;\">\n",
       "      <th></th>\n",
       "      <th>Name</th>\n",
       "      <th>BillTitle</th>\n",
       "      <th>BusinessTitle</th>\n",
       "      <th>Decision</th>\n",
       "      <th>DecisionText</th>\n",
       "      <th>BusinessShortNumber</th>\n",
       "      <th>Canton</th>\n",
       "      <th>ParlGroupCode</th>\n",
       "      <th>ParlGroupName</th>\n",
       "      <th>ID</th>\n",
       "      <th>IdVote</th>\n",
       "      <th>IdSession</th>\n",
       "      <th>VoteEnd</th>\n",
       "      <th>SessionName</th>\n",
       "      <th>Date</th>\n",
       "      <th>Subject</th>\n",
       "      <th>MeaningNo</th>\n",
       "      <th>MeaningYes</th>\n",
       "    </tr>\n",
       "  </thead>\n",
       "  <tbody>\n",
       "    <tr>\n",
       "      <th>0</th>\n",
       "      <td>Adèle Thorens Goumaz</td>\n",
       "      <td>Arrêté fédéral relatif à l’initiative populair...</td>\n",
       "      <td>Sauvez l’or de la Suisse (Initiative sur l'or)...</td>\n",
       "      <td>1</td>\n",
       "      <td>Ja</td>\n",
       "      <td>13.093</td>\n",
       "      <td>VD</td>\n",
       "      <td>PES</td>\n",
       "      <td>Parti écologiste suisse (Les Verts)</td>\n",
       "      <td>2429390</td>\n",
       "      <td>13907</td>\n",
       "      <td>4913</td>\n",
       "      <td>2014-05-05</td>\n",
       "      <td>Session spéciale mai 2014</td>\n",
       "      <td>2014-05-05</td>\n",
       "      <td>Art. 2</td>\n",
       "      <td>Antrag der SVP-Fraktion (Empfehlung auf Annahm...</td>\n",
       "      <td>Antrag der Kommission (Empfehlung auf Ablehung...</td>\n",
       "    </tr>\n",
       "    <tr>\n",
       "      <th>1</th>\n",
       "      <td>Ada Marra</td>\n",
       "      <td>Arrêté fédéral relatif à l’initiative populair...</td>\n",
       "      <td>Sauvez l’or de la Suisse (Initiative sur l'or)...</td>\n",
       "      <td>1</td>\n",
       "      <td>Ja</td>\n",
       "      <td>13.093</td>\n",
       "      <td>VD</td>\n",
       "      <td>PS</td>\n",
       "      <td>Parti socialiste</td>\n",
       "      <td>2429391</td>\n",
       "      <td>13907</td>\n",
       "      <td>4913</td>\n",
       "      <td>2014-05-05</td>\n",
       "      <td>Session spéciale mai 2014</td>\n",
       "      <td>2014-05-05</td>\n",
       "      <td>Art. 2</td>\n",
       "      <td>Antrag der SVP-Fraktion (Empfehlung auf Annahm...</td>\n",
       "      <td>Antrag der Kommission (Empfehlung auf Ablehung...</td>\n",
       "    </tr>\n",
       "    <tr>\n",
       "      <th>2</th>\n",
       "      <td>Tiana Angelina Moser</td>\n",
       "      <td>Arrêté fédéral relatif à l’initiative populair...</td>\n",
       "      <td>Sauvez l’or de la Suisse (Initiative sur l'or)...</td>\n",
       "      <td>5</td>\n",
       "      <td>Hat nicht teilgenommen</td>\n",
       "      <td>13.093</td>\n",
       "      <td>ZH</td>\n",
       "      <td>PVL</td>\n",
       "      <td>Parti vert-libéral</td>\n",
       "      <td>2429392</td>\n",
       "      <td>13907</td>\n",
       "      <td>4913</td>\n",
       "      <td>2014-05-05</td>\n",
       "      <td>Session spéciale mai 2014</td>\n",
       "      <td>2014-05-05</td>\n",
       "      <td>Art. 2</td>\n",
       "      <td>Antrag der SVP-Fraktion (Empfehlung auf Annahm...</td>\n",
       "      <td>Antrag der Kommission (Empfehlung auf Ablehung...</td>\n",
       "    </tr>\n",
       "    <tr>\n",
       "      <th>3</th>\n",
       "      <td>Sylvie Perrinjaquet</td>\n",
       "      <td>Arrêté fédéral relatif à l’initiative populair...</td>\n",
       "      <td>Sauvez l’or de la Suisse (Initiative sur l'or)...</td>\n",
       "      <td>1</td>\n",
       "      <td>Ja</td>\n",
       "      <td>13.093</td>\n",
       "      <td>NE</td>\n",
       "      <td>PLR</td>\n",
       "      <td>Parti libéral-radical</td>\n",
       "      <td>2429393</td>\n",
       "      <td>13907</td>\n",
       "      <td>4913</td>\n",
       "      <td>2014-05-05</td>\n",
       "      <td>Session spéciale mai 2014</td>\n",
       "      <td>2014-05-05</td>\n",
       "      <td>Art. 2</td>\n",
       "      <td>Antrag der SVP-Fraktion (Empfehlung auf Annahm...</td>\n",
       "      <td>Antrag der Kommission (Empfehlung auf Ablehung...</td>\n",
       "    </tr>\n",
       "    <tr>\n",
       "      <th>4</th>\n",
       "      <td>Natalie Rickli</td>\n",
       "      <td>Arrêté fédéral relatif à l’initiative populair...</td>\n",
       "      <td>Sauvez l’or de la Suisse (Initiative sur l'or)...</td>\n",
       "      <td>3</td>\n",
       "      <td>Enthaltung</td>\n",
       "      <td>13.093</td>\n",
       "      <td>ZH</td>\n",
       "      <td>UDC</td>\n",
       "      <td>Union démocratique du centre</td>\n",
       "      <td>2429394</td>\n",
       "      <td>13907</td>\n",
       "      <td>4913</td>\n",
       "      <td>2014-05-05</td>\n",
       "      <td>Session spéciale mai 2014</td>\n",
       "      <td>2014-05-05</td>\n",
       "      <td>Art. 2</td>\n",
       "      <td>Antrag der SVP-Fraktion (Empfehlung auf Annahm...</td>\n",
       "      <td>Antrag der Kommission (Empfehlung auf Ablehung...</td>\n",
       "    </tr>\n",
       "  </tbody>\n",
       "</table>\n",
       "</div>"
      ],
      "text/plain": [
       "                   Name                                          BillTitle  \\\n",
       "0  Adèle Thorens Goumaz  Arrêté fédéral relatif à l’initiative populair...   \n",
       "1             Ada Marra  Arrêté fédéral relatif à l’initiative populair...   \n",
       "2  Tiana Angelina Moser  Arrêté fédéral relatif à l’initiative populair...   \n",
       "3   Sylvie Perrinjaquet  Arrêté fédéral relatif à l’initiative populair...   \n",
       "4        Natalie Rickli  Arrêté fédéral relatif à l’initiative populair...   \n",
       "\n",
       "                                       BusinessTitle  Decision  \\\n",
       "0  Sauvez l’or de la Suisse (Initiative sur l'or)...         1   \n",
       "1  Sauvez l’or de la Suisse (Initiative sur l'or)...         1   \n",
       "2  Sauvez l’or de la Suisse (Initiative sur l'or)...         5   \n",
       "3  Sauvez l’or de la Suisse (Initiative sur l'or)...         1   \n",
       "4  Sauvez l’or de la Suisse (Initiative sur l'or)...         3   \n",
       "\n",
       "             DecisionText  BusinessShortNumber Canton ParlGroupCode  \\\n",
       "0                      Ja               13.093     VD           PES   \n",
       "1                      Ja               13.093     VD            PS   \n",
       "2  Hat nicht teilgenommen               13.093     ZH           PVL   \n",
       "3                      Ja               13.093     NE           PLR   \n",
       "4              Enthaltung               13.093     ZH           UDC   \n",
       "\n",
       "                         ParlGroupName       ID  IdVote  IdSession  \\\n",
       "0  Parti écologiste suisse (Les Verts)  2429390   13907       4913   \n",
       "1                     Parti socialiste  2429391   13907       4913   \n",
       "2                   Parti vert-libéral  2429392   13907       4913   \n",
       "3                Parti libéral-radical  2429393   13907       4913   \n",
       "4         Union démocratique du centre  2429394   13907       4913   \n",
       "\n",
       "      VoteEnd                SessionName        Date Subject  \\\n",
       "0  2014-05-05  Session spéciale mai 2014  2014-05-05  Art. 2   \n",
       "1  2014-05-05  Session spéciale mai 2014  2014-05-05  Art. 2   \n",
       "2  2014-05-05  Session spéciale mai 2014  2014-05-05  Art. 2   \n",
       "3  2014-05-05  Session spéciale mai 2014  2014-05-05  Art. 2   \n",
       "4  2014-05-05  Session spéciale mai 2014  2014-05-05  Art. 2   \n",
       "\n",
       "                                           MeaningNo  \\\n",
       "0  Antrag der SVP-Fraktion (Empfehlung auf Annahm...   \n",
       "1  Antrag der SVP-Fraktion (Empfehlung auf Annahm...   \n",
       "2  Antrag der SVP-Fraktion (Empfehlung auf Annahm...   \n",
       "3  Antrag der SVP-Fraktion (Empfehlung auf Annahm...   \n",
       "4  Antrag der SVP-Fraktion (Empfehlung auf Annahm...   \n",
       "\n",
       "                                          MeaningYes  \n",
       "0  Antrag der Kommission (Empfehlung auf Ablehung...  \n",
       "1  Antrag der Kommission (Empfehlung auf Ablehung...  \n",
       "2  Antrag der Kommission (Empfehlung auf Ablehung...  \n",
       "3  Antrag der Kommission (Empfehlung auf Ablehung...  \n",
       "4  Antrag der Kommission (Empfehlung auf Ablehung...  "
      ]
     },
     "execution_count": 26,
     "metadata": {},
     "output_type": "execute_result"
    }
   ],
   "source": [
    "def merge_vote_voting(vote_df, voting_df):\n",
    "    vote_info_df = vote_df[['Subject','MeaningNo','MeaningYes','ID']]\n",
    "    vote_info_df.columns = ['Subject','MeaningNo','MeaningYes','IdVote']\n",
    "    \n",
    "    return pd.merge(voting_df, vote_info_df, on ='IdVote')\n",
    "\n",
    "voting_test = merge_vote_voting(vote_df,voting_df)\n",
    "voting_test.head()"
   ]
  },
  {
   "cell_type": "markdown",
   "metadata": {},
   "source": [
    "First of all, count the overall result of the vote for the whole councile considered"
   ]
  },
  {
   "cell_type": "code",
   "execution_count": 27,
   "metadata": {
    "collapsed": true
   },
   "outputs": [],
   "source": [
    "def format_result_vote(voting_df):\n",
    "    # Setting Name, Party and Topic as indices\n",
    "    result_df = voting_df.set_index('IdVote')[['Decision']]\n",
    "\n",
    "    result_df = result_df.groupby(level='IdVote')\n",
    "    \n",
    "    # Functions to count number of yes/no/absentions, same principle as before\n",
    "    count_yes = lambda x: np.sum(x==1)\n",
    "    count_no = lambda x: np.sum(x==2)\n",
    "    count_abstention = lambda x: np.sum(x==3)\n",
    "\n",
    "    result_df = result_df.agg({'Decision':{'Total_Yes': count_yes, 'Total_No': count_no,'Total_Abstention': count_abstention}})\n",
    "    result_df.columns = result_df.columns.droplevel(0)\n",
    "    result_df.reset_index(inplace=True)\n",
    "    return pd.merge(voting_df, result_df, on= 'IdVote')"
   ]
  },
  {
   "cell_type": "markdown",
   "metadata": {},
   "source": [
    "Secondly, compute the voting result aggregated to a party level, to be able to know whetether someone voted like his party"
   ]
  },
  {
   "cell_type": "code",
   "execution_count": 28,
   "metadata": {
    "collapsed": true
   },
   "outputs": [],
   "source": [
    "def format_party_voting(voting_df):\n",
    "    # Setting Name, Party and Topic as indices\n",
    "    party_voting_df = voting_df.set_index(['ParlGroupCode','IdVote'])[['Decision']]\n",
    "\n",
    "    party_voting_df = party_voting_df.groupby(level=['ParlGroupCode','IdVote'])\n",
    "    \n",
    "    # Functions to count number of yes/no/absentions, same principle as before\n",
    "    count_yes = lambda x: np.sum(x==1)\n",
    "    count_no = lambda x: np.sum(x==2)\n",
    "    count_abstention = lambda x: np.sum(x==3)\n",
    "\n",
    "    party_voting_df = party_voting_df.agg({'Decision':{'Party_Yes': count_yes, 'Party_No': count_no,'Party_Abstention': count_abstention}})\n",
    "    party_voting_df.columns = party_voting_df.columns.droplevel(0)\n",
    "    party_voting_df.reset_index(inplace=True)\n",
    "    return pd.merge(voting_df, party_voting_df, on=['ParlGroupCode', 'IdVote'])"
   ]
  },
  {
   "cell_type": "code",
   "execution_count": 29,
   "metadata": {
    "collapsed": false,
    "scrolled": true
   },
   "outputs": [
    {
     "name": "stdout",
     "output_type": "stream",
     "text": [
      "Number of unique entries in Name : 358\n"
     ]
    }
   ],
   "source": [
    "deputee_vote = format_result_vote(voting_df)\n",
    "deputee_vote = format_party_voting(deputee_vote)\n",
    "deputee_dict = split_df_dict(deputee_vote, 'Name')"
   ]
  },
  {
   "cell_type": "code",
   "execution_count": 30,
   "metadata": {
    "collapsed": false
   },
   "outputs": [],
   "source": [
    "from helpers import export_session_vote_csv\n",
    "directory = '../../datas/analysis/voting_deputee/'\n",
    "if not os.path.exists(directory):\n",
    "    os.makedirs(directory)\n",
    "    \n",
    "for deputee, df in deputee_dict.items():\n",
    "    df.to_csv(directory+deputee+'_vote.csv')"
   ]
  }
 ],
 "metadata": {
  "anaconda-cloud": {},
  "kernelspec": {
   "display_name": "Python [Root]",
   "language": "python",
   "name": "Python [Root]"
  },
  "language_info": {
   "codemirror_mode": {
    "name": "ipython",
    "version": 3
   },
   "file_extension": ".py",
   "mimetype": "text/x-python",
   "name": "python",
   "nbconvert_exporter": "python",
   "pygments_lexer": "ipython3",
   "version": "3.5.2"
  }
 },
 "nbformat": 4,
 "nbformat_minor": 0
}
