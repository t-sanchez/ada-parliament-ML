{
 "cells": [
  {
   "cell_type": "markdown",
   "metadata": {},
   "source": [
    "# Dict to Json\n",
    "Dictionnary maps between the party name and its real name, as well as the meaning of the votation"
   ]
  },
  {
   "cell_type": "code",
   "execution_count": 1,
   "metadata": {
    "collapsed": true
   },
   "outputs": [],
   "source": [
    "parties_name_dict = {'Groupe écologiste':'Parti écologiste suisse (Les Verts)', 'Groupe socialiste':'Parti socialiste', \n",
    "        \"Groupe vert'libéral\":'Parti vert-libéral', 'Groupe radical-démocratique':'Parti libéral-radical',\n",
    "        'Groupe des Paysans, Artisans et Bourgeois':'Union démocratique du centre',\n",
    "        'Groupe conservateur-catholique':'Parti démocrate-chrétien', \n",
    "        'Groupe BD':'Parti Bourgeois-Démocratique', 'Non inscrit':'Non inscrit'}\n",
    "parties_dict = {'G':'PES', 'S':'PS', 'GL':'PVL', 'RL':'PLR', \n",
    "                'V':'UDC', 'CE':'PDC', 'BD':'PBD', 'C':'PDC', '-':'Other', 'CEg':'PDC'}\n",
    "\n",
    "vote_dict = {1:'Yes',2:'No',3:'Abstention',5:'Did not participate',6:'Excused',7:'President'}"
   ]
  },
  {
   "cell_type": "code",
   "execution_count": 9,
   "metadata": {
    "collapsed": true
   },
   "outputs": [],
   "source": [
    "import json\n",
    "with open('parties_name.json', 'w') as f:\n",
    "    json.dump(parties_name_dict, f)\n",
    "    \n",
    "with open('parties_abbrev.json', 'w') as f:\n",
    "    json.dump(parties_dict, f)\n",
    "\n",
    "with open('vote_dict.json', 'w') as f:\n",
    "    json.dump(vote_dict, f)"
   ]
  }
 ],
 "metadata": {
  "anaconda-cloud": {},
  "kernelspec": {
   "display_name": "Python [Root]",
   "language": "python",
   "name": "Python [Root]"
  },
  "language_info": {
   "codemirror_mode": {
    "name": "ipython",
    "version": 3
   },
   "file_extension": ".py",
   "mimetype": "text/x-python",
   "name": "python",
   "nbconvert_exporter": "python",
   "pygments_lexer": "ipython3",
   "version": "3.5.2"
  }
 },
 "nbformat": 4,
 "nbformat_minor": 0
}
