{
 "cells": [
  {
   "cell_type": "markdown",
   "metadata": {},
   "source": [
    "# Split Vote and Voting\n",
    "Splits the `Voting` DataFrame by each single vote that was taken in *.csv* files. Each file will have two different IDs together: the one from the law that is voted, and the other from the iteration of the law."
   ]
  },
  {
   "cell_type": "markdown",
   "metadata": {},
   "source": [
    "## 1. Loading the data we will need: vote and voting fields"
   ]
  },
  {
   "cell_type": "code",
   "execution_count": 14,
   "metadata": {
    "collapsed": false
   },
   "outputs": [
    {
     "name": "stdout",
     "output_type": "stream",
     "text": [
      "The autoreload extension is already loaded. To reload it, use:\n",
      "  %reload_ext autoreload\n"
     ]
    }
   ],
   "source": [
    "import pandas as pd\n",
    "import glob\n",
    "import os\n",
    "import numpy as np\n",
    "import matplotlib.pyplot as plt\n",
    "from helpers import load_vote_df, load_voting,format_voting_session, split_df_dict\n",
    "%matplotlib inline\n",
    "%load_ext autoreload\n",
    "%autoreload 2\n",
    "\n",
    "# There's a lot of columns in the DF. \n",
    "# Therefore, we add this option so that we can see more columns\n",
    "pd.options.display.max_columns = 100"
   ]
  },
  {
   "cell_type": "code",
   "execution_count": 2,
   "metadata": {
    "collapsed": false,
    "scrolled": false
   },
   "outputs": [
    {
     "name": "stdout",
     "output_type": "stream",
     "text": [
      "Entries in the DataFrame (1713854, 26)\n"
     ]
    }
   ],
   "source": [
    "voting_df = format_voting_session(load_voting())"
   ]
  },
  {
   "cell_type": "markdown",
   "metadata": {
    "collapsed": true
   },
   "source": [
    "## 2. Map name of the law to an ID\n",
    "Allows to load a light file, which will serve as link between the initial visualisation and the law specific."
   ]
  },
  {
   "cell_type": "markdown",
   "metadata": {},
   "source": [
    "### Aside: Removing the not relevant laws from the Vote file\n",
    "We see here a disparity, as in our *Voting* file, the smallest `IdVote` is 6392, which removes a third of the laws we actually have. This is due to the scraping not retrieving everything, but this is not a bad thing, as it removes the oldest entries, which are not the most relevant ones."
   ]
  },
  {
   "cell_type": "code",
   "execution_count": 3,
   "metadata": {
    "collapsed": false,
    "scrolled": true
   },
   "outputs": [
    {
     "data": {
      "text/plain": [
       "array([ 6392,  6393,  6394, ..., 17979, 17981, 17983])"
      ]
     },
     "execution_count": 3,
     "metadata": {},
     "output_type": "execute_result"
    }
   ],
   "source": [
    "voting_df.IdVote.sort_values().unique()"
   ]
  },
  {
   "cell_type": "code",
   "execution_count": 15,
   "metadata": {
    "collapsed": false
   },
   "outputs": [
    {
     "name": "stdout",
     "output_type": "stream",
     "text": [
      "Entries in the DataFrame (11182, 16)\n"
     ]
    },
    {
     "data": {
      "text/html": [
       "<div>\n",
       "<table border=\"1\" class=\"dataframe\">\n",
       "  <thead>\n",
       "    <tr style=\"text-align: right;\">\n",
       "      <th></th>\n",
       "      <th>VoteEnd</th>\n",
       "      <th>BillTitle</th>\n",
       "      <th>BusinessTitle</th>\n",
       "      <th>Subject</th>\n",
       "      <th>MeaningNo</th>\n",
       "      <th>MeaningYes</th>\n",
       "      <th>BusinessShortNumber</th>\n",
       "      <th>ID</th>\n",
       "      <th>IdLegislativePeriod</th>\n",
       "      <th>IdSession</th>\n",
       "    </tr>\n",
       "  </thead>\n",
       "  <tbody>\n",
       "    <tr>\n",
       "      <th>0</th>\n",
       "      <td>2003-12-01</td>\n",
       "      <td>Loi fédérale sur l'octroi d'aides financières ...</td>\n",
       "      <td>Fondation Bibliomedia. Aide financière 2004-2007</td>\n",
       "      <td>Gesamtabstimmung</td>\n",
       "      <td>NaN</td>\n",
       "      <td>NaN</td>\n",
       "      <td>3.054</td>\n",
       "      <td>1</td>\n",
       "      <td>47</td>\n",
       "      <td>4701</td>\n",
       "    </tr>\n",
       "    <tr>\n",
       "      <th>1</th>\n",
       "      <td>2003-12-01</td>\n",
       "      <td>Arrêté fédéral concernant le plafond de dépens...</td>\n",
       "      <td>Fondation Bibliomedia. Aide financière 2004-2007</td>\n",
       "      <td>Gesamtabstimmung</td>\n",
       "      <td>NaN</td>\n",
       "      <td>NaN</td>\n",
       "      <td>3.054</td>\n",
       "      <td>2</td>\n",
       "      <td>47</td>\n",
       "      <td>4701</td>\n",
       "    </tr>\n",
       "    <tr>\n",
       "      <th>2</th>\n",
       "      <td>2003-12-01</td>\n",
       "      <td>Loi fédérale sur l'octroi d'aides financières ...</td>\n",
       "      <td>Musée suisse des transports. Aide financière 2...</td>\n",
       "      <td>Vote sur l'ensemble</td>\n",
       "      <td>NaN</td>\n",
       "      <td>NaN</td>\n",
       "      <td>3.055</td>\n",
       "      <td>4</td>\n",
       "      <td>47</td>\n",
       "      <td>4701</td>\n",
       "    </tr>\n",
       "    <tr>\n",
       "      <th>3</th>\n",
       "      <td>2003-12-01</td>\n",
       "      <td>Arrêté fédéral concernant le plafond de dépens...</td>\n",
       "      <td>Musée suisse des transports. Aide financière 2...</td>\n",
       "      <td>Vote sur l'ensemble</td>\n",
       "      <td>NaN</td>\n",
       "      <td>NaN</td>\n",
       "      <td>3.055</td>\n",
       "      <td>5</td>\n",
       "      <td>47</td>\n",
       "      <td>4701</td>\n",
       "    </tr>\n",
       "    <tr>\n",
       "      <th>4</th>\n",
       "      <td>2003-12-01</td>\n",
       "      <td>Arrêté fédéral relatif au mandat de prestation...</td>\n",
       "      <td>EPF. Mandat de prestations pour les années 200...</td>\n",
       "      <td>Vote sur l'ensemble</td>\n",
       "      <td>NaN</td>\n",
       "      <td>NaN</td>\n",
       "      <td>3.045</td>\n",
       "      <td>6</td>\n",
       "      <td>47</td>\n",
       "      <td>4701</td>\n",
       "    </tr>\n",
       "  </tbody>\n",
       "</table>\n",
       "</div>"
      ],
      "text/plain": [
       "      VoteEnd                                          BillTitle  \\\n",
       "0  2003-12-01  Loi fédérale sur l'octroi d'aides financières ...   \n",
       "1  2003-12-01  Arrêté fédéral concernant le plafond de dépens...   \n",
       "2  2003-12-01  Loi fédérale sur l'octroi d'aides financières ...   \n",
       "3  2003-12-01  Arrêté fédéral concernant le plafond de dépens...   \n",
       "4  2003-12-01  Arrêté fédéral relatif au mandat de prestation...   \n",
       "\n",
       "                                       BusinessTitle              Subject  \\\n",
       "0   Fondation Bibliomedia. Aide financière 2004-2007     Gesamtabstimmung   \n",
       "1   Fondation Bibliomedia. Aide financière 2004-2007     Gesamtabstimmung   \n",
       "2  Musée suisse des transports. Aide financière 2...  Vote sur l'ensemble   \n",
       "3  Musée suisse des transports. Aide financière 2...  Vote sur l'ensemble   \n",
       "4  EPF. Mandat de prestations pour les années 200...  Vote sur l'ensemble   \n",
       "\n",
       "  MeaningNo MeaningYes  BusinessShortNumber  ID  IdLegislativePeriod  \\\n",
       "0       NaN        NaN                3.054   1                   47   \n",
       "1       NaN        NaN                3.054   2                   47   \n",
       "2       NaN        NaN                3.055   4                   47   \n",
       "3       NaN        NaN                3.055   5                   47   \n",
       "4       NaN        NaN                3.045   6                   47   \n",
       "\n",
       "   IdSession  \n",
       "0       4701  \n",
       "1       4701  \n",
       "2       4701  \n",
       "3       4701  \n",
       "4       4701  "
      ]
     },
     "execution_count": 15,
     "metadata": {},
     "output_type": "execute_result"
    }
   ],
   "source": [
    "vote_df = load_vote_df()\n",
    "vote_df.head()"
   ]
  },
  {
   "cell_type": "markdown",
   "metadata": {},
   "source": [
    "Indeed, we see here that here, the `ID`, which corresponds to the `IdVote` on the *Voting* file, starts from 1, but the subject is about the oldest votes. We will now generate an \"epurated\" version of the *Vote* dataframe, with only the votes which have a counterpart in the *Voting* file."
   ]
  },
  {
   "cell_type": "markdown",
   "metadata": {},
   "source": [
    "Moreover, we know that there are some empty `BillTitle` entries, so we want to put the `BusinessTitle` as `BillTitle` to be able to handle the subject generally."
   ]
  },
  {
   "cell_type": "code",
   "execution_count": 16,
   "metadata": {
    "collapsed": false
   },
   "outputs": [],
   "source": [
    "vote_df = vote_df.loc[vote_df.ID>=6392]\n",
    "\n",
    "# Setting the entries with a null BillTitle to have BusinessTitle as their entry\n",
    "vote_df.loc[vote_df.BillTitle.isnull(),'BillTitle'] =  vote_df.loc[vote_df.BillTitle.isnull(),'BusinessTitle']\n",
    "    \n",
    "directory = '../../datas/treated_data/Vote/'\n",
    "if not os.path.exists(directory):\n",
    "    os.makedirs(directory)\n",
    "    \n",
    "vote_df.to_csv(directory+'legiid_47-50.csv')"
   ]
  },
  {
   "cell_type": "markdown",
   "metadata": {},
   "source": [
    "### End of the aside"
   ]
  },
  {
   "cell_type": "code",
   "execution_count": 17,
   "metadata": {
    "collapsed": false,
    "scrolled": true
   },
   "outputs": [
    {
     "data": {
      "text/html": [
       "<div>\n",
       "<table border=\"1\" class=\"dataframe\">\n",
       "  <thead>\n",
       "    <tr style=\"text-align: right;\">\n",
       "      <th></th>\n",
       "      <th>VoteEnd</th>\n",
       "      <th>BillTitle</th>\n",
       "      <th>BusinessTitle</th>\n",
       "      <th>Subject</th>\n",
       "      <th>MeaningNo</th>\n",
       "      <th>MeaningYes</th>\n",
       "      <th>BusinessShortNumber</th>\n",
       "      <th>ID</th>\n",
       "      <th>IdLegislativePeriod</th>\n",
       "      <th>IdSession</th>\n",
       "      <th>SessionName</th>\n",
       "      <th>Date</th>\n",
       "    </tr>\n",
       "  </thead>\n",
       "  <tbody>\n",
       "    <tr>\n",
       "      <th>2609</th>\n",
       "      <td>2009-09-07</td>\n",
       "      <td>Arrêté fédéral concernant la contribution de l...</td>\n",
       "      <td>Réduction des disparités économiques et social...</td>\n",
       "      <td>Entrer en matière</td>\n",
       "      <td>Proposition de la minorité Stamm (ne pas entre...</td>\n",
       "      <td>Proposition de la majorité (entrer en matière)</td>\n",
       "      <td>9.055</td>\n",
       "      <td>6392</td>\n",
       "      <td>48</td>\n",
       "      <td>4811</td>\n",
       "      <td>Session d'automne 2009</td>\n",
       "      <td>2009-09-07</td>\n",
       "    </tr>\n",
       "    <tr>\n",
       "      <th>2610</th>\n",
       "      <td>2009-09-07</td>\n",
       "      <td>Arrêté fédéral concernant la contribution de l...</td>\n",
       "      <td>Réduction des disparités économiques et social...</td>\n",
       "      <td>Art. 1 (frein aux dépenses)</td>\n",
       "      <td>Not specified</td>\n",
       "      <td>Not specified</td>\n",
       "      <td>9.055</td>\n",
       "      <td>6393</td>\n",
       "      <td>48</td>\n",
       "      <td>4811</td>\n",
       "      <td>Session d'automne 2009</td>\n",
       "      <td>2009-09-07</td>\n",
       "    </tr>\n",
       "    <tr>\n",
       "      <th>2611</th>\n",
       "      <td>2009-09-07</td>\n",
       "      <td>Arrêté fédéral concernant la contribution de l...</td>\n",
       "      <td>Réduction des disparités économiques et social...</td>\n",
       "      <td>Art. 2bis</td>\n",
       "      <td>Proposition de la minorité Stamm</td>\n",
       "      <td>Proposition de la majorité</td>\n",
       "      <td>9.055</td>\n",
       "      <td>6394</td>\n",
       "      <td>48</td>\n",
       "      <td>4811</td>\n",
       "      <td>Session d'automne 2009</td>\n",
       "      <td>2009-09-07</td>\n",
       "    </tr>\n",
       "    <tr>\n",
       "      <th>2612</th>\n",
       "      <td>2009-09-07</td>\n",
       "      <td>Arrêté fédéral concernant la contribution de l...</td>\n",
       "      <td>Réduction des disparités économiques et social...</td>\n",
       "      <td>Art. 2ter</td>\n",
       "      <td>Proposition de la minorité Schlüer</td>\n",
       "      <td>Proposition de la majorité</td>\n",
       "      <td>9.055</td>\n",
       "      <td>6395</td>\n",
       "      <td>48</td>\n",
       "      <td>4811</td>\n",
       "      <td>Session d'automne 2009</td>\n",
       "      <td>2009-09-07</td>\n",
       "    </tr>\n",
       "    <tr>\n",
       "      <th>2613</th>\n",
       "      <td>2009-09-07</td>\n",
       "      <td>Arrêté fédéral concernant la contribution de l...</td>\n",
       "      <td>Réduction des disparités économiques et social...</td>\n",
       "      <td>Art. 2quater</td>\n",
       "      <td>Proposition de la minorité Fehr Hans-Jürg</td>\n",
       "      <td>Proposition de la majorité</td>\n",
       "      <td>9.055</td>\n",
       "      <td>6396</td>\n",
       "      <td>48</td>\n",
       "      <td>4811</td>\n",
       "      <td>Session d'automne 2009</td>\n",
       "      <td>2009-09-07</td>\n",
       "    </tr>\n",
       "  </tbody>\n",
       "</table>\n",
       "</div>"
      ],
      "text/plain": [
       "         VoteEnd                                          BillTitle  \\\n",
       "2609  2009-09-07  Arrêté fédéral concernant la contribution de l...   \n",
       "2610  2009-09-07  Arrêté fédéral concernant la contribution de l...   \n",
       "2611  2009-09-07  Arrêté fédéral concernant la contribution de l...   \n",
       "2612  2009-09-07  Arrêté fédéral concernant la contribution de l...   \n",
       "2613  2009-09-07  Arrêté fédéral concernant la contribution de l...   \n",
       "\n",
       "                                          BusinessTitle  \\\n",
       "2609  Réduction des disparités économiques et social...   \n",
       "2610  Réduction des disparités économiques et social...   \n",
       "2611  Réduction des disparités économiques et social...   \n",
       "2612  Réduction des disparités économiques et social...   \n",
       "2613  Réduction des disparités économiques et social...   \n",
       "\n",
       "                          Subject  \\\n",
       "2609            Entrer en matière   \n",
       "2610  Art. 1 (frein aux dépenses)   \n",
       "2611                    Art. 2bis   \n",
       "2612                    Art. 2ter   \n",
       "2613                 Art. 2quater   \n",
       "\n",
       "                                              MeaningNo  \\\n",
       "2609  Proposition de la minorité Stamm (ne pas entre...   \n",
       "2610                                      Not specified   \n",
       "2611                   Proposition de la minorité Stamm   \n",
       "2612                 Proposition de la minorité Schlüer   \n",
       "2613          Proposition de la minorité Fehr Hans-Jürg   \n",
       "\n",
       "                                          MeaningYes  BusinessShortNumber  \\\n",
       "2609  Proposition de la majorité (entrer en matière)                9.055   \n",
       "2610                                   Not specified                9.055   \n",
       "2611                      Proposition de la majorité                9.055   \n",
       "2612                      Proposition de la majorité                9.055   \n",
       "2613                      Proposition de la majorité                9.055   \n",
       "\n",
       "        ID  IdLegislativePeriod  IdSession             SessionName        Date  \n",
       "2609  6392                   48       4811  Session d'automne 2009  2009-09-07  \n",
       "2610  6393                   48       4811  Session d'automne 2009  2009-09-07  \n",
       "2611  6394                   48       4811  Session d'automne 2009  2009-09-07  \n",
       "2612  6395                   48       4811  Session d'automne 2009  2009-09-07  \n",
       "2613  6396                   48       4811  Session d'automne 2009  2009-09-07  "
      ]
     },
     "execution_count": 17,
     "metadata": {},
     "output_type": "execute_result"
    }
   ],
   "source": [
    "vote_df = format_voting_session(vote_df)\n",
    "#Filling the NaN with some text so the javascript does not crash later on.\n",
    "vote_df = vote_df.fillna('Not specified')\n",
    "vote_df.head()"
   ]
  },
  {
   "cell_type": "markdown",
   "metadata": {},
   "source": [
    "First of all, we associate a unique ID to each `BillTitle`. To do so, we take as ID the one that a given Bill has at the last time it appears in our DataFrame."
   ]
  },
  {
   "cell_type": "code",
   "execution_count": 18,
   "metadata": {
    "collapsed": false
   },
   "outputs": [],
   "source": [
    "def map_BillTitle_Vote(vote_df):\n",
    "    df_link = vote_df[['BillTitle','ID']]\n",
    "    df_link.columns=['BillTitle','ID_Bill']\n",
    "    df_link = df_link.drop_duplicates(['BillTitle'], keep = 'last')\n",
    "    df_link.set_index('BillTitle',inplace=True)\n",
    "    vote_df = vote_df.join(df_link, on='BillTitle')\n",
    "    \n",
    "    return df_link, vote_df\n",
    "\n",
    "df_link,vote_df = map_BillTitle_Vote(vote_df)\n",
    "\n",
    "directory = '../../datas/analysis/'\n",
    "if not os.path.exists(directory):\n",
    "    os.makedirs(directory)\n",
    "    \n",
    "df_link.to_csv(directory+'map_bill_ID.csv')"
   ]
  },
  {
   "cell_type": "markdown",
   "metadata": {},
   "source": [
    "We must first have a table in which we can link the `BillTitle` to the corresponding file, which will contain all the informations regarding a certain `BillTitle`."
   ]
  },
  {
   "cell_type": "code",
   "execution_count": 19,
   "metadata": {
    "collapsed": false
   },
   "outputs": [
    {
     "name": "stdout",
     "output_type": "stream",
     "text": [
      "Number of unique entries in ID_Bill : 3415\n"
     ]
    }
   ],
   "source": [
    "bills_dict = split_df_dict(vote_df, 'ID_Bill')"
   ]
  },
  {
   "cell_type": "code",
   "execution_count": 20,
   "metadata": {
    "collapsed": false
   },
   "outputs": [],
   "source": [
    "directory = '../../datas/analysis/bill_link/'\n",
    "if not os.path.exists(directory):\n",
    "    os.makedirs(directory)\n",
    "\n",
    "for ID_Bill, df in bills_dict.items():\n",
    "    df.to_csv(directory+'bill_'+str(ID_Bill)+'.csv')"
   ]
  },
  {
   "cell_type": "markdown",
   "metadata": {},
   "source": [
    "## 3. Map the ID of a given iteration of a law to the votes on the subject\n",
    "The last task that we have to do is linking the ID of a given iteration of the law (in the file in the `bill_link` folder) to the votes that happened on the subject. We simply need to group each voting by its `IdVote` and export it to a single file."
   ]
  },
  {
   "cell_type": "code",
   "execution_count": 21,
   "metadata": {
    "collapsed": false,
    "scrolled": true
   },
   "outputs": [
    {
     "data": {
      "text/html": [
       "<div>\n",
       "<table border=\"1\" class=\"dataframe\">\n",
       "  <thead>\n",
       "    <tr style=\"text-align: right;\">\n",
       "      <th></th>\n",
       "      <th>Name</th>\n",
       "      <th>BillTitle</th>\n",
       "      <th>Decision</th>\n",
       "      <th>BusinessShortNumber</th>\n",
       "      <th>ParlGroupName</th>\n",
       "      <th>ParlGroupCode</th>\n",
       "      <th>IdVote</th>\n",
       "      <th>IdSession</th>\n",
       "      <th>VoteEnd</th>\n",
       "      <th>SessionName</th>\n",
       "      <th>Date</th>\n",
       "    </tr>\n",
       "  </thead>\n",
       "  <tbody>\n",
       "    <tr>\n",
       "      <th>0</th>\n",
       "      <td>Adèle Thorens Goumaz</td>\n",
       "      <td>Loi fédérale concernant la redevance pour l’ut...</td>\n",
       "      <td>2</td>\n",
       "      <td>12.018</td>\n",
       "      <td>Groupe écologiste</td>\n",
       "      <td>G</td>\n",
       "      <td>12188</td>\n",
       "      <td>4907</td>\n",
       "      <td>2013-03-04</td>\n",
       "      <td>Session de printemps 2013</td>\n",
       "      <td>2013-03-04</td>\n",
       "    </tr>\n",
       "    <tr>\n",
       "      <th>1</th>\n",
       "      <td>Ada Marra</td>\n",
       "      <td>Loi fédérale concernant la redevance pour l’ut...</td>\n",
       "      <td>2</td>\n",
       "      <td>12.018</td>\n",
       "      <td>Groupe socialiste</td>\n",
       "      <td>S</td>\n",
       "      <td>12188</td>\n",
       "      <td>4907</td>\n",
       "      <td>2013-03-04</td>\n",
       "      <td>Session de printemps 2013</td>\n",
       "      <td>2013-03-04</td>\n",
       "    </tr>\n",
       "    <tr>\n",
       "      <th>2</th>\n",
       "      <td>Tiana Angelina Moser</td>\n",
       "      <td>Loi fédérale concernant la redevance pour l’ut...</td>\n",
       "      <td>2</td>\n",
       "      <td>12.018</td>\n",
       "      <td>Groupe vert'libéral</td>\n",
       "      <td>GL</td>\n",
       "      <td>12188</td>\n",
       "      <td>4907</td>\n",
       "      <td>2013-03-04</td>\n",
       "      <td>Session de printemps 2013</td>\n",
       "      <td>2013-03-04</td>\n",
       "    </tr>\n",
       "    <tr>\n",
       "      <th>3</th>\n",
       "      <td>Natalie Rickli</td>\n",
       "      <td>Loi fédérale concernant la redevance pour l’ut...</td>\n",
       "      <td>1</td>\n",
       "      <td>12.018</td>\n",
       "      <td>Groupe des Paysans, Artisans et Bourgeois</td>\n",
       "      <td>V</td>\n",
       "      <td>12188</td>\n",
       "      <td>4907</td>\n",
       "      <td>2013-03-04</td>\n",
       "      <td>Session de printemps 2013</td>\n",
       "      <td>2013-03-04</td>\n",
       "    </tr>\n",
       "    <tr>\n",
       "      <th>4</th>\n",
       "      <td>Barbara Schmid-Federer</td>\n",
       "      <td>Loi fédérale concernant la redevance pour l’ut...</td>\n",
       "      <td>3</td>\n",
       "      <td>12.018</td>\n",
       "      <td>Groupe conservateur-catholique</td>\n",
       "      <td>CE</td>\n",
       "      <td>12188</td>\n",
       "      <td>4907</td>\n",
       "      <td>2013-03-04</td>\n",
       "      <td>Session de printemps 2013</td>\n",
       "      <td>2013-03-04</td>\n",
       "    </tr>\n",
       "  </tbody>\n",
       "</table>\n",
       "</div>"
      ],
      "text/plain": [
       "                     Name                                          BillTitle  \\\n",
       "0    Adèle Thorens Goumaz  Loi fédérale concernant la redevance pour l’ut...   \n",
       "1               Ada Marra  Loi fédérale concernant la redevance pour l’ut...   \n",
       "2    Tiana Angelina Moser  Loi fédérale concernant la redevance pour l’ut...   \n",
       "3          Natalie Rickli  Loi fédérale concernant la redevance pour l’ut...   \n",
       "4  Barbara Schmid-Federer  Loi fédérale concernant la redevance pour l’ut...   \n",
       "\n",
       "   Decision  BusinessShortNumber                              ParlGroupName  \\\n",
       "0         2               12.018                          Groupe écologiste   \n",
       "1         2               12.018                          Groupe socialiste   \n",
       "2         2               12.018                        Groupe vert'libéral   \n",
       "3         1               12.018  Groupe des Paysans, Artisans et Bourgeois   \n",
       "4         3               12.018             Groupe conservateur-catholique   \n",
       "\n",
       "  ParlGroupCode  IdVote  IdSession     VoteEnd                SessionName  \\\n",
       "0             G   12188       4907  2013-03-04  Session de printemps 2013   \n",
       "1             S   12188       4907  2013-03-04  Session de printemps 2013   \n",
       "2            GL   12188       4907  2013-03-04  Session de printemps 2013   \n",
       "3             V   12188       4907  2013-03-04  Session de printemps 2013   \n",
       "4            CE   12188       4907  2013-03-04  Session de printemps 2013   \n",
       "\n",
       "         Date  \n",
       "0  2013-03-04  \n",
       "1  2013-03-04  \n",
       "2  2013-03-04  \n",
       "3  2013-03-04  \n",
       "4  2013-03-04  "
      ]
     },
     "execution_count": 21,
     "metadata": {},
     "output_type": "execute_result"
    }
   ],
   "source": [
    "voting_df.head()"
   ]
  },
  {
   "cell_type": "markdown",
   "metadata": {},
   "source": [
    "Splitting the voting DataFrame by the `Idvote` field in order to get many subdataframes."
   ]
  },
  {
   "cell_type": "code",
   "execution_count": 22,
   "metadata": {
    "collapsed": false,
    "scrolled": true
   },
   "outputs": [
    {
     "name": "stdout",
     "output_type": "stream",
     "text": [
      "Number of unique entries in IdVote : 8573\n"
     ]
    }
   ],
   "source": [
    "voting_dict = split_df_dict(voting_df, 'IdVote')"
   ]
  },
  {
   "cell_type": "markdown",
   "metadata": {},
   "source": [
    "Before exporting it, we remove a lot of redundant columns. Indeed, as we will access this file through the `.csv` in the `bill_link` folder, we will already have access to all the information about the vote itself. We just need to have what each member voted."
   ]
  },
  {
   "cell_type": "code",
   "execution_count": 24,
   "metadata": {
    "collapsed": false
   },
   "outputs": [],
   "source": [
    "directory = '../../datas/analysis/bill_voting/'\n",
    "if not os.path.exists(directory):\n",
    "    os.makedirs(directory)\n",
    "\n",
    "for IdVote, df in voting_dict.items():\n",
    "    df = df.drop(['BillTitle','BusinessShortNumber', 'IdSession', 'VoteEnd', 'SessionName', 'Date'],axis=1)\n",
    "    df.to_csv(directory+'voting_'+str(IdVote)+'.csv')    "
   ]
  }
 ],
 "metadata": {
  "anaconda-cloud": {},
  "kernelspec": {
   "display_name": "Python 3",
   "language": "python",
   "name": "python3"
  },
  "language_info": {
   "codemirror_mode": {
    "name": "ipython",
    "version": 3
   },
   "file_extension": ".py",
   "mimetype": "text/x-python",
   "name": "python",
   "nbconvert_exporter": "python",
   "pygments_lexer": "ipython3",
   "version": "3.5.2"
  }
 },
 "nbformat": 4,
 "nbformat_minor": 0
}
