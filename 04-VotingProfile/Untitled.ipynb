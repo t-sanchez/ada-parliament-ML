{
 "cells": [
  {
   "cell_type": "code",
   "execution_count": null,
   "metadata": {
    "collapsed": false
   },
   "outputs": [],
   "source": [
    "import pandas as pd\n",
    "import glob\n",
    "import os\n",
    "import numpy as np\n",
    "import matplotlib.pyplot as plt\n",
    "import sklearn\n",
    "import sklearn.ensemble\n",
    "from sklearn.ensemble import RandomForestClassifier\n",
    "from sklearn.model_selection import cross_val_score, train_test_split, cross_val_predict, learning_curve\n",
    "import sklearn.metrics\n",
    "\n",
    "%matplotlib inline\n",
    "%load_ext autoreload\n",
    "%autoreload 2\n",
    "\n",
    "# There's a lot of columns in the DF. \n",
    "# Therefore, we add this option so that we can see more columns\n",
    "pd.options.display.max_columns = 100"
   ]
  },
  {
   "cell_type": "code",
   "execution_count": null,
   "metadata": {
    "collapsed": false,
    "scrolled": true
   },
   "outputs": [],
   "source": [
    "path = '../datas/nlp_results/'\n",
    "voting_df = pd.read_csv(path+'voting_with_topics.csv')\n",
    "print('Entries in the DataFrame',voting_df.shape)\n",
    "\n",
    "#Dropping the useless column\n",
    "voting_df = voting_df.drop('Unnamed: 0',1)\n",
    "\n",
    "#Putting numerical values into the columns that should have numerical values\n",
    "#print(voting_df.columns.values)\n",
    "\n",
    "num_cols = ['Decision', ' armée', ' asile / immigration', ' assurances', ' budget', ' dunno', ' entreprise/ finance',\n",
    "           ' environnement', ' famille / enfants', ' imposition', ' politique internationale', ' retraite  ']\n",
    "voting_df[num_cols] = voting_df[num_cols].apply(pd.to_numeric)\n",
    "\n",
    "#Inserting the full name at the second position\n",
    "voting_df.insert(2,'Name', voting_df['FirstName'] + ' ' + voting_df['LastName'])\n",
    "\n",
    "voting_df.head(3)"
   ]
  },
  {
   "cell_type": "markdown",
   "metadata": {},
   "source": [
    "# Evolution of topics in the votes"
   ]
  },
  {
   "cell_type": "markdown",
   "metadata": {},
   "source": [
    "We take a look at the data in order to observe which topics are most talked about in the votes, and see whether or not it changes over the years."
   ]
  },
  {
   "cell_type": "code",
   "execution_count": null,
   "metadata": {
    "collapsed": false
   },
   "outputs": [],
   "source": [
    "voting_df_copy = voting_df\n",
    "voting_df_copy.head(3)"
   ]
  },
  {
   "cell_type": "code",
   "execution_count": null,
   "metadata": {
    "collapsed": false,
    "scrolled": true
   },
   "outputs": [],
   "source": [
    "voting_df_copy['VoteEnd'] = [x[:4] for x in voting_df_copy['VoteEnd']]\n",
    "voting_df_copy.head(3)\n",
    "dates = voting_df_copy['VoteEnd'].drop_duplicates()\n",
    "dates = np.sort(dates)\n",
    "dates"
   ]
  },
  {
   "cell_type": "code",
   "execution_count": null,
   "metadata": {
    "collapsed": false,
    "scrolled": true
   },
   "outputs": [],
   "source": [
    "#voting_df_copy.index = voting_df_copy['VoteEnd']\n",
    "voting_df_copy = voting_df_copy.set_index(['VoteEnd', 'Name'])\n",
    "\n",
    "voting_df_copy.head(3)"
   ]
  },
  {
   "cell_type": "code",
   "execution_count": null,
   "metadata": {
    "collapsed": false
   },
   "outputs": [],
   "source": [
    "voting_df_copy.columns"
   ]
  },
  {
   "cell_type": "code",
   "execution_count": null,
   "metadata": {
    "collapsed": false,
    "scrolled": true
   },
   "outputs": [],
   "source": [
    "#voting_df_copy.loc['2009-09'][' armée']\n",
    "#topicArmee = np.mean(voting_df_copy.loc['2009-09'][' armée'])\n",
    "\n",
    "#print(topicArmee)\n",
    "#indices = voting_df_copy.index[:].values\n",
    "#indices\n",
    "\n",
    "topics = ['armée', 'asile / immigration', 'assurances', 'budget', 'dunno', 'entreprise/ finance', 'environnement', 'famille / enfants', 'imposition', 'politique internationale', 'retraite  ']\n",
    "topicEvolution = pd.DataFrame(index = dates, columns = topics)\n",
    "#topicArmeeEvolution = []\n",
    "\n",
    "for topic in topics:\n",
    "    for date in dates:\n",
    "        topicEvolution.loc[date][topic] = np.mean(voting_df_copy.loc[date][' '+topic])\n",
    "        #topicArmeeEvolution.append(np.mean(voting_df_copy.loc[date][' '+topic]))\n",
    "    #topicEvolution[topic].plot\n",
    "    plt.plot(dates,topicEvolution[topic])\n",
    "\n",
    "plt.legend(topics)\n",
    "topicEvolution"
   ]
  },
  {
   "cell_type": "code",
   "execution_count": null,
   "metadata": {
    "collapsed": true
   },
   "outputs": [],
   "source": [
    "topicEvolution.to_json(\"topicEvolution.json\")"
   ]
  },
  {
   "cell_type": "markdown",
   "metadata": {},
   "source": [
    "# Ratio of acceptation for each topic"
   ]
  },
  {
   "cell_type": "markdown",
   "metadata": {},
   "source": [
    "We now want to see if there is a significant correlation between a vote being accepted and the topic of the vote."
   ]
  },
  {
   "cell_type": "code",
   "execution_count": null,
   "metadata": {
    "collapsed": false
   },
   "outputs": [],
   "source": [
    "voting_df_TopicAcceptation = voting_df\n",
    "#voting_df_TopicAcceptation = voting_df_TopicAcceptation.set_index(['IdVote', 'Name'])\n",
    "voting_df_TopicAcceptation.head(3)"
   ]
  },
  {
   "cell_type": "code",
   "execution_count": null,
   "metadata": {
    "collapsed": false
   },
   "outputs": [],
   "source": [
    "voting_df_TopicAcceptation['Topic'] = 'topic'\n",
    "\n",
    "#voting_df_TopicAcceptation.loc[0]['Topic']\n",
    "for i in range(voting_df_TopicAcceptation.shape[0]):\n",
    "    voting_df_TopicAcceptation.loc[i]['Topic'] = 'topic modif'\n",
    "    \n",
    "voting_df_TopicAcceptation.head(3)"
   ]
  },
  {
   "cell_type": "code",
   "execution_count": null,
   "metadata": {
    "collapsed": true
   },
   "outputs": [],
   "source": []
  }
 ],
 "metadata": {
  "kernelspec": {
   "display_name": "Python 3",
   "language": "python",
   "name": "python3"
  },
  "language_info": {
   "codemirror_mode": {
    "name": "ipython",
    "version": 3
   },
   "file_extension": ".py",
   "mimetype": "text/x-python",
   "name": "python",
   "nbconvert_exporter": "python",
   "pygments_lexer": "ipython3",
   "version": "3.5.2"
  }
 },
 "nbformat": 4,
 "nbformat_minor": 1
}
