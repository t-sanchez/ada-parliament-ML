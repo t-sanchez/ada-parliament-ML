{
 "cells": [
  {
   "cell_type": "markdown",
   "metadata": {},
   "source": [
    "The aim of this notebook is to compute the voting profiles for each person, ie analyze what each person in the parliament voted for each votation. Then we investigate the voting similarities between each person by representing people by vectors based on their votes, and model vote similarities by distances between their corresponding vectors, We finally obtain and save a distance matrix containing all distances between each people."
   ]
  },
  {
   "cell_type": "code",
   "execution_count": null,
   "metadata": {
    "collapsed": true
   },
   "outputs": [],
   "source": [
    "import pandas as pd\n",
    "import glob\n",
    "import os\n",
    "import numpy as np\n",
    "import matplotlib.pyplot as plt\n",
    "import sklearn\n",
    "import sklearn.ensemble\n",
    "from sklearn.ensemble import RandomForestClassifier\n",
    "from sklearn.model_selection import cross_val_score, train_test_split, cross_val_predict, learning_curve\n",
    "import sklearn.metrics\n",
    "\n",
    "%matplotlib inline\n",
    "%load_ext autoreload\n",
    "%autoreload 2\n",
    "\n",
    "# There's a lot of columns in the DF. \n",
    "# Therefore, we add this option so that we can see more columns\n",
    "pd.options.display.max_columns = 100"
   ]
  },
  {
   "cell_type": "code",
   "execution_count": null,
   "metadata": {
    "collapsed": false
   },
   "outputs": [],
   "source": [
    "path = '../../datas/nlp_results/'\n",
    "voting_df = pd.read_csv(path+'voting_with_topics.csv')\n",
    "print('Entries in the DataFrame',voting_df.shape)\n",
    "\n",
    "#Dropping the useless column\n",
    "voting_df = voting_df.drop('Unnamed: 0',1)\n",
    "\n",
    "#Putting numerical values into the columns that should have numerical values\n",
    "#print(voting_df.columns.values)\n",
    "\n",
    "num_cols = ['Decision', ' armée', ' asile / immigration', ' assurances', ' budget', ' dunno', ' entreprise/ finance',\n",
    "           ' environnement', ' famille / enfants', ' imposition', ' politique internationale', ' retraite  ']\n",
    "voting_df[num_cols] = voting_df[num_cols].apply(pd.to_numeric)\n",
    "\n",
    "#Inserting the full name at the second position\n",
    "voting_df.insert(2,'Name', voting_df['FirstName'] + ' ' + voting_df['LastName'])\n",
    "\n",
    "voting_df.head(3)"
   ]
  },
  {
   "cell_type": "code",
   "execution_count": null,
   "metadata": {
    "collapsed": true
   },
   "outputs": [],
   "source": [
    "voting_df_copy = voting_df.drop_duplicates(['text', 'Name'], keep = 'last')"
   ]
  },
  {
   "cell_type": "code",
   "execution_count": null,
   "metadata": {
    "collapsed": false,
    "scrolled": false
   },
   "outputs": [],
   "source": [
    "people = voting_df_copy['Name'].unique()\n",
    "texts = voting_df_copy['text'].unique()\n",
    "print(\"{n} people in the parliament from 2009 to 2015\".format(n=people.shape[0]))\n",
    "voting_df_copy = voting_df_copy.set_index(['Name', 'text'])\n",
    "voting_df_copy.head()"
   ]
  },
  {
   "cell_type": "markdown",
   "metadata": {},
   "source": [
    "In the next step, we create a new dataframe with people as indexes, and all the voting Bill / Business title as column. \n",
    "The profile matrix contains all the voting decisions of each person (one column per person) for all the subjects (one row per subject), with conventions :\n",
    "- 0 : Yes\n",
    "- 1 : No\n",
    "- 0.5 : did not participate\n",
    "- -1 : was not part of the parliament at the time of votation"
   ]
  },
  {
   "cell_type": "code",
   "execution_count": null,
   "metadata": {
    "collapsed": true
   },
   "outputs": [],
   "source": [
    "def processVote(vote):\n",
    "    if vote == 1 or vote == 2:\n",
    "        return vote-1\n",
    "    return 0.5"
   ]
  },
  {
   "cell_type": "code",
   "execution_count": null,
   "metadata": {
    "collapsed": false,
    "scrolled": true
   },
   "outputs": [],
   "source": [
    "profile_df = pd.DataFrame(data = -1, index = people, columns = texts)\n",
    "#profile_df.loc[people[0], voting_df_copy.loc[people[0]].index] = voting_df_copy.loc[people[0]].Decision\n",
    "for p in people:\n",
    "    profile_df.loc[p, voting_df_copy.loc[p].index] = [processVote(x) for x in voting_df_copy.loc[p].Decision]\n",
    "profile_df.head()"
   ]
  },
  {
   "cell_type": "code",
   "execution_count": null,
   "metadata": {
    "collapsed": false
   },
   "outputs": [],
   "source": [
    "profile_df.to_csv(\"profileMatrix.csv\")\n",
    "print(profile_df.loc['Brigitta M. Gadient'].values)\n",
    "profile_df.loc['Duri Campell'].values"
   ]
  },
  {
   "cell_type": "code",
   "execution_count": null,
   "metadata": {
    "collapsed": false,
    "scrolled": true
   },
   "outputs": [],
   "source": [
    "profile_df.loc[people[0]].values"
   ]
  },
  {
   "cell_type": "code",
   "execution_count": null,
   "metadata": {
    "collapsed": true
   },
   "outputs": [],
   "source": [
    "def distance(p1, p2):\n",
    "    d = 0.0\n",
    "    nCommonVotes = 0\n",
    "    for i in range(len(p1)):\n",
    "        if not (p1[i] == -1 or p2[i] == -1):\n",
    "            nCommonVotes += 1\n",
    "            d += (p1[i] - p2[i]) * (p1[i] - p2[i])\n",
    "    if nCommonVotes == 0:\n",
    "        return 100\n",
    "    return np.sqrt(d / nCommonVotes)"
   ]
  },
  {
   "cell_type": "code",
   "execution_count": null,
   "metadata": {
    "collapsed": false,
    "scrolled": true
   },
   "outputs": [],
   "source": [
    "n = people.shape[0]\n",
    "distanceMatrix = np.zeros((n,n))\n",
    "\n",
    "for i in range(n):\n",
    "    if i % 10 == 0:\n",
    "        print(\"Compute distances from person \" + str(i))\n",
    "    for j in range(n):\n",
    "        distanceMatrix[i][j] = distance(profile_df.loc[people[i]].values,\n",
    "                                        profile_df.loc[people[j]].values)"
   ]
  },
  {
   "cell_type": "code",
   "execution_count": null,
   "metadata": {
    "collapsed": false
   },
   "outputs": [],
   "source": [
    "import networkx as nx\n",
    "G = nx.from_numpy_matrix(distanceMatrix)\n",
    "nx.draw(G)\n",
    "\n",
    "import pylab as plt\n",
    "plt.show()"
   ]
  },
  {
   "cell_type": "code",
   "execution_count": null,
   "metadata": {
    "collapsed": false
   },
   "outputs": [],
   "source": [
    "print(\"Mean distance : {d}\".format(d = np.mean(distanceMatrix)))"
   ]
  },
  {
   "cell_type": "code",
   "execution_count": null,
   "metadata": {
    "collapsed": false
   },
   "outputs": [],
   "source": [
    "import pandas as pd \n",
    "df = pd.DataFrame(distanceMatrix, index = people, columns = people)\n",
    "df.to_csv(\"distanceMatrix.csv\")\n",
    "df.head()"
   ]
  },
  {
   "cell_type": "code",
   "execution_count": null,
   "metadata": {
    "collapsed": false
   },
   "outputs": [],
   "source": [
    "#voting_df['ParlGroupName']\n",
    "groupId = {\"Groupe conservateur-catholique\" : 1, \"Groupe socialiste\" : 2, \"Groupe des Paysans, Artisans et Bourgeois\" : 3,\n",
    "           \"Groupe radical-démocratique\" : 4, \"Groupe écologiste\" : 5, \"Groupe BD\" : 6, \"Groupe vert'libéral\" : 7, \"Non inscrit\" : 8}\n",
    "GroupPeople_df = voting_df.drop_duplicates(['Name'], keep = 'last')\n",
    "GroupPeople_df = GroupPeople_df.set_index('Name')\n",
    "GroupPeople_df['ParlGroupName'] = [groupId[x] for x in GroupPeople_df['ParlGroupName'].values]\n",
    "GroupPeople_df = GroupPeople_df['ParlGroupName']\n",
    "#GroupPeople_df['ParlGroupName'] = [groupId[x] for x in GroupPeople_df.values]\n",
    "GroupPeople_df.to_json('GroupList.json')\n",
    "GroupPeople_df\n",
    "\n",
    "#groupId_df = pd.DataFrame.from_dict(groupId, orient='columns')\n",
    "#groupId_df.to_json('GroupId.json')"
   ]
  },
  {
   "cell_type": "code",
   "execution_count": null,
   "metadata": {
    "collapsed": false
   },
   "outputs": [],
   "source": [
    "groupId_inv = {groupId[k] : k for k in groupId}\n",
    "groupId_inv_df = pd.DataFrame.from_dict(groupId_inv, orient='index')\n",
    "groupId_inv_df.to_json('GroupId.json')"
   ]
  },
  {
   "cell_type": "code",
   "execution_count": null,
   "metadata": {
    "collapsed": false
   },
   "outputs": [],
   "source": [
    "GroupPeople_df"
   ]
  },
  {
   "cell_type": "code",
   "execution_count": null,
   "metadata": {
    "collapsed": false
   },
   "outputs": [],
   "source": [
    "Group_df = pd.DataFrame(index = voting_df_copy['ParlGroupName'].unique())\n",
    "Group_df['MeanDistance'] = 0.0\n",
    "Group_df['NumberOfPeople'] = 0# voting_df[voting_df['ParlGroupName'] == Group_df.index].shape[0]\n",
    "Group_df"
   ]
  },
  {
   "cell_type": "code",
   "execution_count": null,
   "metadata": {
    "collapsed": true
   },
   "outputs": [],
   "source": [
    "# Computes the mean distance from people within peopleGroup (list of string)\n",
    "def meanDistance(peopleGroup):\n",
    "    d = 0.0\n",
    "    nbPairs = 0\n",
    "    for p1 in peopleGroup:\n",
    "        for p2 in peopleGroup:\n",
    "            #print(p1+' '+p2)\n",
    "            if not (p1 is p2):\n",
    "                nbPairs += 1\n",
    "                d += distance(profile_df.loc[p1].values, \n",
    "                              profile_df.loc[p2].values)\n",
    "    return d / nbPairs"
   ]
  },
  {
   "cell_type": "code",
   "execution_count": null,
   "metadata": {
    "collapsed": false
   },
   "outputs": [],
   "source": [
    "Group_df.loc['Groupe conservateur-catholique']\n",
    "\n",
    "voting_df[voting_df['ParlGroupName'] == 'Groupe conservateur-catholique']['Name'].unique\n",
    "\n",
    "print(len(list(voting_df[voting_df['ParlGroupName'] == 'Groupe conservateur-catholique']['Name'].unique())))\n",
    "print(meanDistance(list(voting_df[voting_df['ParlGroupName'] == 'Groupe BD']['Name'].unique())))\n",
    "\n",
    "for p in Group_df.index:\n",
    "    print(p)\n",
    "    #Group_df.loc[p].NumberOfPeople = len(list(voting_df[voting_df['ParlGroupName'] == p]['Name'].unique()))\n",
    "    Group_df.set_value(p, 'NumberOfPeople', len(list(voting_df[voting_df['ParlGroupName'] == p]['Name'].unique())))\n",
    "    print(Group_df.loc[p]['NumberOfPeople'])\n",
    "    #Group_df.loc[p]['MeanDistance'] = meanDistance(list(voting_df[voting_df['ParlGroupName'] == p]['Name'].unique()))\n",
    "    Group_df.set_value(p, 'MeanDistance', meanDistance(list(voting_df[voting_df['ParlGroupName'] == p]['Name'].unique())))\n",
    "    print(Group_df.loc[p]['MeanDistance'])"
   ]
  },
  {
   "cell_type": "code",
   "execution_count": null,
   "metadata": {
    "collapsed": false
   },
   "outputs": [],
   "source": [
    "Group_df"
   ]
  },
  {
   "cell_type": "code",
   "execution_count": null,
   "metadata": {
    "collapsed": false
   },
   "outputs": [],
   "source": [
    "meanDistance(list(voting_df['Name'].unique()))"
   ]
  },
  {
   "cell_type": "markdown",
   "metadata": {},
   "source": [
    "We observe that the average distance between all parliament members is 0.53, and that average distance between people belonging to a same partite is always smaller than 0.43, thus it indicates as expected that people belonging to a same partite vote in a similar way."
   ]
  },
  {
   "cell_type": "markdown",
   "metadata": {},
   "source": [
    "We then want to observe the difference between each groups. The difference between 2 groups is defined as the sum of all distances between people from one group to people from the other group (see function GroupDistance). "
   ]
  },
  {
   "cell_type": "code",
   "execution_count": null,
   "metadata": {
    "collapsed": true
   },
   "outputs": [],
   "source": [
    "# Computes the mean distance of people within group1 from one within group2 (lists of string)\n",
    "def GroupDistance(group1, group2):\n",
    "    d = 0.0\n",
    "    nbPairs = 0\n",
    "    for p1 in group1:\n",
    "        for p2 in group2:\n",
    "            nbPairs += 1\n",
    "            d += distance(profile_df.loc[p1].values, \n",
    "                          profile_df.loc[p2].values)\n",
    "    return d / nbPairs\n",
    "    "
   ]
  },
  {
   "cell_type": "code",
   "execution_count": null,
   "metadata": {
    "collapsed": false
   },
   "outputs": [],
   "source": [
    "partite = \"Groupe socialiste\"\n",
    "for p in Group_df.index:\n",
    "    #dist = meanDistance(list(voting_df[voting_df['ParlGroupName'] == p]['Name'].unique()))\n",
    "    dist = GroupDistance(list(voting_df[voting_df['ParlGroupName'] == partite]['Name'].unique()),\n",
    "                        list(voting_df[voting_df['ParlGroupName'] == p]['Name'].unique()))\n",
    "    print(\"Mean distance between partite {p1} and {p2} is : {d}\".format(\n",
    "        p1 = partite, p2 = p, d = dist))"
   ]
  },
  {
   "cell_type": "markdown",
   "metadata": {},
   "source": [
    "We observe that the partite to which the socialist partite is the further from in terms of votation decisions is the \"Groupe des Paysans, Artisans et Bourgeois\" partite, and the one to which it is the closest is the \"Groupe écologiste\" partite."
   ]
  },
  {
   "cell_type": "code",
   "execution_count": null,
   "metadata": {
    "collapsed": false
   },
   "outputs": [],
   "source": [
    "groups = Group_df.index\n",
    "groupDistance_df = pd.DataFrame(index = groups, columns = groups)\n",
    "\n",
    "for g1 in groups:\n",
    "    for g2 in groups:\n",
    "        groupDistance_df.set_value(g1, g2, GroupDistance(list(voting_df[voting_df['ParlGroupName'] == g1]['Name'].unique()),\n",
    "                        list(voting_df[voting_df['ParlGroupName'] == g2]['Name'].unique())))"
   ]
  },
  {
   "cell_type": "code",
   "execution_count": null,
   "metadata": {
    "collapsed": false
   },
   "outputs": [],
   "source": [
    "groupDistance_df"
   ]
  },
  {
   "cell_type": "markdown",
   "metadata": {
    "collapsed": false
   },
   "source": [
    "We now want to detect people that vote very differently from their own groups."
   ]
  },
  {
   "cell_type": "code",
   "execution_count": null,
   "metadata": {
    "collapsed": false
   },
   "outputs": [],
   "source": [
    "\n",
    "groupId_inv"
   ]
  },
  {
   "cell_type": "code",
   "execution_count": null,
   "metadata": {
    "collapsed": false
   },
   "outputs": [],
   "source": [
    "list(voting_df[voting_df['Name'] == 'Didier Berberat']['Name'].unique())"
   ]
  },
  {
   "cell_type": "code",
   "execution_count": null,
   "metadata": {
    "collapsed": false
   },
   "outputs": [],
   "source": [
    "GroupPeople_df.index"
   ]
  },
  {
   "cell_type": "code",
   "execution_count": null,
   "metadata": {
    "collapsed": false
   },
   "outputs": [],
   "source": [
    "partite = \"Groupe écologiste\"\n",
    "GroupPeople_df[GroupPeople_df == groupId[partite]]\n",
    "\n",
    "maxDist = 0\n",
    "furthestPerson = \"\"\n",
    "for p in GroupPeople_df[GroupPeople_df == groupId[partite]].index:\n",
    "    dist = GroupDistance(list(voting_df[voting_df['ParlGroupName'] == partite]['Name'].unique()),\n",
    "                        list(voting_df[voting_df['Name'] == p]['Name'].unique()))\n",
    "    if dist > maxDist:\n",
    "        maxDist = dist\n",
    "        furthestPerson = p\n",
    "    print(\"Mean distance of {person} to its partite {part} : {d}\".format(person = p, part = partite, d = dist))\n",
    "\n",
    "print(\"The person in partite {part} which is the furthest of the others in terms of voting is : {p}\"\n",
    "     .format(part=partite, p = furthestPerson))"
   ]
  },
  {
   "cell_type": "code",
   "execution_count": null,
   "metadata": {
    "collapsed": false
   },
   "outputs": [],
   "source": [
    "partite = \"Groupe écologiste\"\n",
    "GroupPeople_df[GroupPeople_df == groupId[partite]]\n",
    "\n",
    "maxDist = 0\n",
    "furthestPerson = \"\"\n",
    "for partite in groupDistance_df.index:\n",
    "    maxDist = 0\n",
    "    for p in GroupPeople_df[GroupPeople_df == groupId[partite]].index:\n",
    "        dist = GroupDistance(list(voting_df[voting_df['ParlGroupName'] == partite]['Name'].unique()),\n",
    "                            list(voting_df[voting_df['Name'] == p]['Name'].unique()))\n",
    "        if dist > maxDist:\n",
    "            maxDist = dist\n",
    "            furthestPerson = p\n",
    "            #print(\"{pers} {d}\".format(pers=p, d=dist))\n",
    "        #print(\"Mean distance of {person} to its partite {part} : {d}\".format(person = p, part = partite, d = dist))\n",
    "\n",
    "    print(\"The person in partite {part} which is the furthest of the others in terms of voting is : {p} with distance {d}\"\n",
    "         .format(part=partite, p = furthestPerson, d = maxDist))"
   ]
  }
 ],
 "metadata": {
  "anaconda-cloud": {},
  "kernelspec": {
   "display_name": "Python [Root]",
   "language": "python",
   "name": "Python [Root]"
  },
  "language_info": {
   "codemirror_mode": {
    "name": "ipython",
    "version": 3
   },
   "file_extension": ".py",
   "mimetype": "text/x-python",
   "name": "python",
   "nbconvert_exporter": "python",
   "pygments_lexer": "ipython3",
   "version": "3.5.2"
  }
 },
 "nbformat": 4,
 "nbformat_minor": 1
}
