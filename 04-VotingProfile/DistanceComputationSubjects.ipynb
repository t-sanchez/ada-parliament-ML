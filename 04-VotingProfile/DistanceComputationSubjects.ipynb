{
 "cells": [
  {
   "cell_type": "markdown",
   "metadata": {},
   "source": [
    "This notebook performs the same task as DistanceComputtion.ipynb but for the topics, ie it computes the distance matrix for each votation subjects based on the topic modelling results."
   ]
  },
  {
   "cell_type": "code",
   "execution_count": null,
   "metadata": {
    "collapsed": true
   },
   "outputs": [],
   "source": [
    "import pandas as pd\n",
    "import glob\n",
    "import os\n",
    "import numpy as np\n",
    "import matplotlib.pyplot as plt\n",
    "import sklearn\n",
    "import sklearn.ensemble\n",
    "from sklearn.ensemble import RandomForestClassifier\n",
    "from sklearn.model_selection import cross_val_score, train_test_split, cross_val_predict, learning_curve\n",
    "import sklearn.metrics\n",
    "\n",
    "%matplotlib inline\n",
    "%load_ext autoreload\n",
    "%autoreload 2\n",
    "\n",
    "# There's a lot of columns in the DF. \n",
    "# Therefore, we add this option so that we can see more columns\n",
    "pd.options.display.max_columns = 100"
   ]
  },
  {
   "cell_type": "code",
   "execution_count": null,
   "metadata": {
    "collapsed": false
   },
   "outputs": [],
   "source": [
    "path = '../datas/nlp_results/'\n",
    "voting_df = pd.read_csv(path+'voting_with_topics.csv')\n",
    "print('Entries in the DataFrame',voting_df.shape)\n",
    "\n",
    "#Dropping the useless column\n",
    "voting_df = voting_df.drop('Unnamed: 0',1)\n",
    "\n",
    "#Putting numerical values into the columns that should have numerical values\n",
    "#print(voting_df.columns.values)\n",
    "\n",
    "num_cols = ['Decision', ' armée', ' asile / immigration', ' assurances', ' budget', ' dunno', ' entreprise/ finance',\n",
    "           ' environnement', ' famille / enfants', ' imposition', ' politique internationale', ' retraite  ']\n",
    "voting_df[num_cols] = voting_df[num_cols].apply(pd.to_numeric)\n",
    "\n",
    "#Inserting the full name at the second position\n",
    "voting_df.insert(2,'Name', voting_df['FirstName'] + ' ' + voting_df['LastName'])\n",
    "\n",
    "voting_df.head(3)"
   ]
  },
  {
   "cell_type": "markdown",
   "metadata": {},
   "source": [
    "We first erase the duplicates and only collect the results of the topic modelling for each votation"
   ]
  },
  {
   "cell_type": "code",
   "execution_count": null,
   "metadata": {
    "collapsed": false
   },
   "outputs": [],
   "source": [
    "voting_df_copy = voting_df.drop_duplicates(['BillTitle'], keep = 'last')\n",
    "voting_subjects = voting_df_copy['BillTitle'].unique()\n",
    "topics = [' armée', ' asile / immigration', ' assurances', ' budget', ' dunno', ' entreprise/ finance', ' environnement', ' famille / enfants', ' imposition', ' politique internationale', ' retraite  ']\n",
    "print(\"{n} subjects voted in the parliament from 2009 to 2015\".format(n=voting_subjects.shape[0]))\n",
    "voting_df_copy = voting_df_copy.set_index(['BillTitle'])\n",
    "voting_df_copy = voting_df_copy[topics]\n",
    "voting_df_copy.head()"
   ]
  },
  {
   "cell_type": "markdown",
   "metadata": {},
   "source": [
    "We then implement the distance function, which is simply the euclidean distance between the vectors whose entries are the percentage for each topic computed by topic modelling."
   ]
  },
  {
   "cell_type": "code",
   "execution_count": null,
   "metadata": {
    "collapsed": true
   },
   "outputs": [],
   "source": [
    "def distance(p1, p2):\n",
    "    return np.linalg.norm(p1-p2)"
   ]
  },
  {
   "cell_type": "markdown",
   "metadata": {},
   "source": [
    "We then apply it to every pairs of subjects in order to compute the distance matrix."
   ]
  },
  {
   "cell_type": "code",
   "execution_count": null,
   "metadata": {
    "collapsed": false,
    "scrolled": true
   },
   "outputs": [],
   "source": [
    "n = voting_subjects.shape[0]\n",
    "distanceMatrix = np.zeros((n,n))\n",
    "\n",
    "for i in range(n):\n",
    "    if i % 10 == 0:\n",
    "        print(\"Compute distances from subject \" + str(i))\n",
    "    for j in range(n):\n",
    "        distanceMatrix[i][j] = distance(voting_df_copy.loc[voting_subjects[i]].values,\n",
    "                                        voting_df_copy.loc[voting_subjects[j]].values)\n",
    "print(\"Mean distance : {d}\".format(d = np.mean(distanceMatrix)))"
   ]
  },
  {
   "cell_type": "markdown",
   "metadata": {},
   "source": [
    "We save the matrix. We observe as expected that the diagonal of the distance matrix contains only 0 as the distance between some subject and itself is 0."
   ]
  },
  {
   "cell_type": "code",
   "execution_count": null,
   "metadata": {
    "collapsed": false,
    "scrolled": true
   },
   "outputs": [],
   "source": [
    "import pandas as pd \n",
    "df = pd.DataFrame(distanceMatrix, index = voting_subjects, columns = voting_subjects)\n",
    "df.to_csv(\"distanceMatrixSubjects.csv\")\n",
    "df.head()"
   ]
  },
  {
   "cell_type": "markdown",
   "metadata": {},
   "source": [
    "We finally compute for each subject the topic which appears the most."
   ]
  },
  {
   "cell_type": "code",
   "execution_count": null,
   "metadata": {
    "collapsed": false
   },
   "outputs": [],
   "source": [
    "topic_df = pd.DataFrame(index = voting_subjects)\n",
    "topic_df['Topic'] = voting_df_copy[topics].idxmax(axis=1)\n",
    "topic_df.head()"
   ]
  },
  {
   "cell_type": "code",
   "execution_count": null,
   "metadata": {
    "collapsed": true
   },
   "outputs": [],
   "source": [
    "topic_df.to_csv(\"SubjectTopicMapping.csv\")"
   ]
  }
 ],
 "metadata": {
  "kernelspec": {
   "display_name": "Python 3",
   "language": "python",
   "name": "python3"
  },
  "language_info": {
   "codemirror_mode": {
    "name": "ipython",
    "version": 3
   },
   "file_extension": ".py",
   "mimetype": "text/x-python",
   "name": "python",
   "nbconvert_exporter": "python",
   "pygments_lexer": "ipython3",
   "version": "3.5.2"
  }
 },
 "nbformat": 4,
 "nbformat_minor": 1
}
