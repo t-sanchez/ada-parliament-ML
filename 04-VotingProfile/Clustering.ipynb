{
 "cells": [
  {
   "cell_type": "code",
   "execution_count": null,
   "metadata": {
    "collapsed": true
   },
   "outputs": [],
   "source": [
    "import pandas as pd\n",
    "import numpy as np\n",
    "import os\n",
    "import matplotlib.pyplot as plt\n",
    "import sklearn\n",
    "import sklearn.ensemble\n",
    "from sklearn.metrics import silhouette_score\n",
    "from sklearn.cluster import KMeans\n",
    "import csv"
   ]
  },
  {
   "cell_type": "code",
   "execution_count": null,
   "metadata": {
    "collapsed": false
   },
   "outputs": [],
   "source": [
    "path = '../datas/nlp_results/'\n",
    "voting_df = pd.read_csv(path+'voting_with_topics.csv')\n",
    "print('Entries in the DataFrame',voting_df.shape)\n",
    "\n",
    "#Dropping the useless column\n",
    "voting_df = voting_df.drop('Unnamed: 0',1)\n",
    "\n",
    "#Putting numerical values into the columns that should have numerical values\n",
    "#print(voting_df.columns.values)\n",
    "\n",
    "num_cols = ['Decision', ' armée', ' asile / immigration', ' assurances', ' budget', ' dunno', ' entreprise/ finance',\n",
    "           ' environnement', ' famille / enfants', ' imposition', ' politique internationale', ' retraite  ']\n",
    "voting_df[num_cols] = voting_df[num_cols].apply(pd.to_numeric)\n",
    "\n",
    "#Inserting the full name at the second position\n",
    "voting_df.insert(2,'Name', voting_df['FirstName'] + ' ' + voting_df['LastName'])\n",
    "\n",
    "voting_df = voting_df.drop_duplicates(['Name'], keep = 'last')\n",
    "voting_df = voting_df.set_index(['Name'])\n",
    "voting_df.head(3)"
   ]
  },
  {
   "cell_type": "code",
   "execution_count": null,
   "metadata": {
    "collapsed": false
   },
   "outputs": [],
   "source": [
    "profileMatrixFile = 'profileMatrix.csv'\n",
    "profileMatrix = pd.read_csv(profileMatrixFile, index_col = 0)\n",
    "profileArray = profileMatrix.values\n",
    "print(profileArray.shape)\n",
    "profileMatrix.head()"
   ]
  },
  {
   "cell_type": "code",
   "execution_count": null,
   "metadata": {
    "collapsed": false,
    "scrolled": false
   },
   "outputs": [],
   "source": [
    "distanceMatrixFile = 'distanceMatrix.csv'\n",
    "distances = pd.read_csv(distanceMatrixFile, index_col = 0)\n",
    "distances = distances.replace(-0.001, 0)\n",
    "distancesArray = distances.values\n",
    "print(distancesArray.shape)\n",
    "distances.head()"
   ]
  },
  {
   "cell_type": "code",
   "execution_count": null,
   "metadata": {
    "collapsed": false
   },
   "outputs": [],
   "source": [
    "distances.values"
   ]
  },
  {
   "cell_type": "code",
   "execution_count": null,
   "metadata": {
    "collapsed": false
   },
   "outputs": [],
   "source": [
    "from scipy.sparse import csr_matrix\n",
    "distanceSparse = csr_matrix(distances.values)\n",
    "distanceSparse"
   ]
  },
  {
   "cell_type": "code",
   "execution_count": null,
   "metadata": {
    "collapsed": false
   },
   "outputs": [],
   "source": [
    " kmeans = KMeans(n_clusters=8, init = 'k-means++', precompute_distances = True, random_state=0).fit(profileMatrix)"
   ]
  },
  {
   "cell_type": "code",
   "execution_count": null,
   "metadata": {
    "collapsed": false
   },
   "outputs": [],
   "source": [
    "predictions = kmeans.labels_\n",
    "\n",
    "print(\"Silhouette score : {s}\".format(s=silhouette_score(profileMatrix, kmeans.labels_)))"
   ]
  },
  {
   "cell_type": "code",
   "execution_count": null,
   "metadata": {
    "collapsed": false
   },
   "outputs": [],
   "source": [
    "predictions"
   ]
  },
  {
   "cell_type": "code",
   "execution_count": null,
   "metadata": {
    "collapsed": false
   },
   "outputs": [],
   "source": [
    "#spectClust = sklearn.cluster.SpectralClustering(n_clusters = 8, affinity = 'precomputed')\n",
    "\n",
    "nbClust = 3\n",
    "clusterDist = sklearn.cluster.spectral_clustering(affinity = distanceSparse, n_clusters = nbClust)\n",
    "#.fit(profileArray)\n",
    "#spectClust.affinity_matrix_ = distancesArray\n",
    "#spectClust.fit(distancesArray)\n",
    "clusterDist"
   ]
  },
  {
   "cell_type": "code",
   "execution_count": null,
   "metadata": {
    "collapsed": false
   },
   "outputs": [],
   "source": [
    "distances.index[clusterDist == 0]"
   ]
  },
  {
   "cell_type": "markdown",
   "metadata": {},
   "source": [
    "For each cluster, compute the ratio for each partite"
   ]
  },
  {
   "cell_type": "code",
   "execution_count": null,
   "metadata": {
    "collapsed": false,
    "scrolled": true
   },
   "outputs": [],
   "source": [
    "ratio_df = pd.DataFrame(index = voting_df.ParlGroupName.unique())\n",
    "ratio_df['ratio'] = 0\n",
    "np.array(ratio_df.index)"
   ]
  },
  {
   "cell_type": "code",
   "execution_count": null,
   "metadata": {
    "collapsed": false
   },
   "outputs": [],
   "source": [
    "people = distances.index[clusterDist == 2]\n",
    "group = 'Groupe conservateur-catholique'\n",
    "[voting_df.loc[people].ParlGroupName == group]"
   ]
  },
  {
   "cell_type": "code",
   "execution_count": null,
   "metadata": {
    "collapsed": true
   },
   "outputs": [],
   "source": [
    "def ratioPartite(cluster, clusterDist):\n",
    "    # Compute the partites distribution for all people within this cluster\n",
    "    people = distances.index[clusterDist == cluster]\n",
    "    size = len(people)\n",
    "    ratio_df = pd.DataFrame(index = voting_df.ParlGroupName.unique())\n",
    "    ratio_df['ratio'] = 1.0\n",
    "    for group in np.array(ratio_df.index):\n",
    "        print(group)\n",
    "        peopleGroup = [p for p in people[voting_df.loc[people].ParlGroupName == group]]\n",
    "        print(len(peopleGroup) / float(size))\n",
    "        ratio_df.set_value(group, 'ratio', len(peopleGroup) / float(size))\n",
    "    return ratio_df\n",
    "    "
   ]
  },
  {
   "cell_type": "code",
   "execution_count": null,
   "metadata": {
    "collapsed": false,
    "scrolled": true
   },
   "outputs": [],
   "source": [
    "ratio_df = ratioPartite(0, clusterDist)\n",
    "ratio_df.values"
   ]
  },
  {
   "cell_type": "code",
   "execution_count": null,
   "metadata": {
    "collapsed": false
   },
   "outputs": [],
   "source": [
    "ratio_df = pd.DataFrame(index = voting_df.ParlGroupName.unique(), columns = range(nbClust))\n",
    "ratio_df[0] = range(8)\n",
    "ratio_df"
   ]
  },
  {
   "cell_type": "code",
   "execution_count": null,
   "metadata": {
    "collapsed": false
   },
   "outputs": [],
   "source": [
    "ratio_df = pd.DataFrame(index = voting_df.ParlGroupName.unique(), columns = range(nbClust))\n",
    "for cluster in range(nbClust):\n",
    "    ratio = ratioPartite(cluster, clusterDist)\n",
    "    ratio_df[cluster] = ratio.values\n",
    "    \n",
    "ratio_df"
   ]
  },
  {
   "cell_type": "code",
   "execution_count": null,
   "metadata": {
    "collapsed": true
   },
   "outputs": [],
   "source": []
  },
  {
   "cell_type": "code",
   "execution_count": null,
   "metadata": {
    "collapsed": true
   },
   "outputs": [],
   "source": []
  }
 ],
 "metadata": {
  "kernelspec": {
   "display_name": "Python 3",
   "language": "python",
   "name": "python3"
  },
  "language_info": {
   "codemirror_mode": {
    "name": "ipython",
    "version": 3
   },
   "file_extension": ".py",
   "mimetype": "text/x-python",
   "name": "python",
   "nbconvert_exporter": "python",
   "pygments_lexer": "ipython3",
   "version": "3.5.2"
  }
 },
 "nbformat": 4,
 "nbformat_minor": 1
}
