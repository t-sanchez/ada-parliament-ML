{
 "cells": [
  {
   "cell_type": "markdown",
   "metadata": {},
   "source": [
    "# Person Analysis\n",
    "**Aims :**\n",
    "\n",
    "1. We want to see how a person behaves at each vote -> Create a DataFrame that records whether the person voted like the average of the party (Could be a good thing to have what the party instructs to vote at this time), and whether the person was present.\n",
    "2. We want to compute some global statistics about each person :\n",
    "    - Percentage of the time during which a person votes like his party\n",
    "    - Percentage of abstention\n",
    "    - Percentage of absence (Days or vote the person did not take ?)\n",
    "    - Time at which he entered the parliament.\n",
    "    \n",
    "    \n",
    "To do so, we need a few things :\n",
    "\n",
    "1. The *Vote* file that we parsed, that records all the votations taking place at the parliament. We will need to find the earliest law that each person votes, and then, from this, count all the laws that have been voted, and count the number of votes the person did not attend.\n",
    "2. The *Voting* file will be our primary source of informations, recording all the votes of every person at the parliament. We will need to split it by each person, which was already done beforehand in the `01-ML` folder.\n",
    "\n",
    "**Ideal visualisation :** \n",
    "Whenever we enter the page about someone -> Some general information (from Gaël's team maybe), and then, a graph with the votes (Q: What to display ?)\n",
    "\n",
    "-> Idea : a vertical bar, which height corresponds to the number of law that the deputee voted on. Inside the vertical bar, show 5 sectors : percentage of yes/no/abstention/absent/president for each period. Then, click on it and a detailled view on a single period appears -> Same kind of graph, except the guy voted yes or no for a law (color for yes/no/abstention, other color for absent) + Color for whether the law was passed or not.\n",
    "\n",
    "Maybe use [stacked bar chart](http://bl.ocks.org/mbostock/3886208) for the overall view (shift it so the bars are horizontal) or alternatively [grouped to stacked](https://bl.ocks.org/mbostock/3943967)\n",
    "\n",
    "\n",
    "When you click on a session, maybe display something like [Table with bar chart](http://bl.ocks.org/llad/3918637) with change to another page, with either again the same chart, or a [grouped bar chart](http://bl.ocks.org/mbostock/3887051), or we could use a mix between [collapsed tree](http://bl.ocks.org/mbostock/1093025) and a [dendrogram with bars](https://bl.ocks.org/dahis39/f28369f0b17b456ac2f1fa9b937c5002)"
   ]
  },
  {
   "cell_type": "code",
   "execution_count": null,
   "metadata": {
    "collapsed": true
   },
   "outputs": [],
   "source": [
    "import pandas as pd\n",
    "import glob\n",
    "import os\n",
    "import numpy as np\n",
    "import matplotlib.pyplot as plt\n",
    "%matplotlib inline\n",
    "%load_ext autoreload\n",
    "%autoreload 2\n",
    "\n",
    "# There's a lot of columns in the DF. \n",
    "# Therefore, we add this option so that we can see more columns\n",
    "pd.options.display.max_columns = 100"
   ]
  },
  {
   "cell_type": "markdown",
   "metadata": {},
   "source": [
    "# 1. Loading and formatting the Vote DataFrame\n",
    "Convert *date* into *datetime* format with `pd.to_datetime` allows us to sort the dates the way we want.\n",
    "\n",
    "- *Attributes of datetime object:* year, month, day, hour, minute, second, microsecond, and tzinfo.\n",
    "\n",
    "A few useful German words unknown to me.\n",
    "\n",
    "*Antrag* : demande\n"
   ]
  },
  {
   "cell_type": "code",
   "execution_count": null,
   "metadata": {
    "collapsed": false,
    "scrolled": true
   },
   "outputs": [],
   "source": [
    "vote_df = pd.read_csv('../datas/scrap/Vote/legiid_37-50.csv',index_col=0)\n",
    "print('Entries in the DataFrame',vote_df.shape)\n",
    "vote_df = vote_df[['VoteEnd','BillTitle','BusinessTitle','Subject','MeaningNo','MeaningYes','BusinessShortNumber','ID','IdLegislativePeriod','IdSession',\n",
    "                  ]]\n",
    "vote_df['VoteEnd'] = vote_df['VoteEnd'].apply(pd.to_datetime)\n",
    "vote_df.sort_values('VoteEnd',ascending=True).head()"
   ]
  },
  {
   "cell_type": "markdown",
   "metadata": {},
   "source": [
    "N.B. `SessionName` field is rubbish -> The correct session is not the one mentionned in it.\n"
   ]
  },
  {
   "cell_type": "markdown",
   "metadata": {},
   "source": [
    "- PLR : \tParti libéral-radical (PLR. Les Libéraux-Radicaux)\n",
    "- PDC : \tParti démocrate-chrétien suisse\n",
    "- PS : \tParti socialiste suisse\n",
    "- UDC :\tUnion démocratique du centre\n",
    "- PES :\tParti écologiste suisse (Les Verts)\n",
    "- PVL :\tParti vert-libéral\n",
    "- PBD :\tParti Bourgeois-Démocratique"
   ]
  },
  {
   "cell_type": "markdown",
   "metadata": {},
   "source": [
    "# 2. Load the Voting DataFrame"
   ]
  },
  {
   "cell_type": "code",
   "execution_count": null,
   "metadata": {
    "collapsed": false
   },
   "outputs": [],
   "source": [
    "def load_voting():\n",
    "    \"\"\"\n",
    "        Loads the Voting DataFrame and formats it to get the correct name of parties and tags, \n",
    "        as well as only considering the fields we actually need. \n",
    "    \"\"\"\n",
    "    \n",
    "    # 1. Load the Voting files and concatenate them as well as the session dataframe to identify the sessions\n",
    "    dataset_tmp = []\n",
    "    path = '../datas/scrap/Voting'\n",
    "    allFiles = glob.glob(os.path.join(path, 'Session*.csv'))\n",
    "\n",
    "    for file_ in allFiles:\n",
    "        data_tmp = pd.read_csv(file_,index_col=0)\n",
    "        dataset_tmp += [data_tmp] \n",
    "    voting_df = pd.concat(dataset_tmp)\n",
    "\n",
    "    print('Entries in the DataFrame',voting_df.shape)\n",
    "    \n",
    "    session_path = '../datas/scrap/Session/Legiid_37-50.csv'\n",
    "    session_df = pd.read_csv(session_path,index_col=0)\n",
    "    session_df.set_index('ID',inplace=True)\n",
    "    session_df['Year']=session_df['StartDate'].apply(pd.to_datetime).apply(lambda x: x.year)\n",
    "    session_df_name = session_df[['SessionName','Year']]\n",
    "    \n",
    "    # 2. Update the names of the parties\n",
    "    parties_name_dict = {'Groupe écologiste':'Parti écologiste suisse (Les Verts)', 'Groupe socialiste':'Parti socialiste', \n",
    "        \"Groupe vert'libéral\":'Parti vert-libéral', 'Groupe radical-démocratique':'Parti libéral-radical',\n",
    "        'Groupe des Paysans, Artisans et Bourgeois':'Union démocratique du centre',\n",
    "        'Groupe conservateur-catholique':'Parti démocrate-chrétien', \n",
    "        'Groupe BD':'Parti Bourgeois-Démocratique', 'Non inscrit':'Non inscrit'}\n",
    "    parties_dict = {'G':'PES', 'S':'PS', 'GL':'PVL', 'RL':'PLR', \n",
    "                     'V':'UDC', 'CE':'PDC', 'BD':'PBD', 'C':'PDC', '-':'Other', 'CEg':'PDC'}\n",
    "    voting_df['ParlGroupName'].replace(pd.Series(parties_name_dict), inplace=True)\n",
    "    voting_df['ParlGroupCode'].replace(pd.Series(parties_dict), inplace=True)\n",
    "    \n",
    "    # 3. Process some supplementary fields\n",
    "    voting_df.insert(1,'Name', voting_df['FirstName'] + ' ' + voting_df['LastName'])\n",
    "    voting_df['VoteEnd'] = voting_df['VoteEnd'].apply(pd.to_datetime)\n",
    "    \n",
    "    # 4. Keep only the relevant fields\n",
    "    voting_df = voting_df[['Name','BillTitle','BusinessTitle', 'Decision', 'DecisionText','BusinessShortNumber','Canton','ParlGroupCode','ParlGroupName','ID','IdVote','IdSession','VoteEnd']]\n",
    "    voting_df = voting_df.join(session_df_name, on='IdSession')\n",
    "    return voting_df\n",
    "\n",
    "voting_df = load_voting()"
   ]
  },
  {
   "cell_type": "markdown",
   "metadata": {},
   "source": [
    "Still has a lot of data, but we tried to keep a minimum of it to make it readable by a human as well as having all the information we need to display."
   ]
  },
  {
   "cell_type": "code",
   "execution_count": null,
   "metadata": {
    "collapsed": false
   },
   "outputs": [],
   "source": [
    "voting_df.head()"
   ]
  },
  {
   "cell_type": "markdown",
   "metadata": {},
   "source": [
    "# 3. Format the DataFrame\n",
    "## a) Session level statistics for each of the deputees.\n",
    "Now, format the way we want to for exporting for each person\n",
    "\n",
    "First of all : Global stats -> *Yes/No/Abstention/Absence/Excused/President* at a session level."
   ]
  },
  {
   "cell_type": "code",
   "execution_count": null,
   "metadata": {
    "collapsed": false
   },
   "outputs": [],
   "source": [
    "def split_df(df, field):\n",
    "    \"\"\"\n",
    "        Splits the input df along a certain field into multiple dictionaries which links each unique\n",
    "        entry of the field to the entries in the dataframe\n",
    "    \"\"\"\n",
    "    # Retrieve first all the unique Name entries\n",
    "    unique_field = df[field].unique()\n",
    "    print('Number of unique entries in',field,':',len(unique_field))\n",
    "    #Create a dictionary of DataFrames which stores all the info relative to a single deputee\n",
    "    df_dict = {elem : pd.DataFrame for elem in unique_field}\n",
    "\n",
    "    for key in df_dict.keys():\n",
    "        df_dict[key] = df.loc[df[field] == key]\n",
    "    \n",
    "    return df_dict\n",
    "\n",
    "voting_dict = split_df(voting_df, 'Name')"
   ]
  },
  {
   "cell_type": "markdown",
   "metadata": {},
   "source": [
    "Summary of the different votes possible\n",
    "\n",
    "|**1** | **2** | **3**      | **4**    | **5**               | **6** |                **7**                       |\n",
    "|------|-------|------------|----------|---------------------|-------|--------------------------------------------|\n",
    "| Yes  | No    | Abstention | No entry | Did not participate |Excused| The president of the session does not vote |\n",
    "\n",
    "\n",
    "Counting the percentage of abstention by person, in order to see whether there is a person that would abstain significantly more often than the rest. It does not appear to be the case."
   ]
  },
  {
   "cell_type": "code",
   "execution_count": null,
   "metadata": {
    "collapsed": false,
    "scrolled": true
   },
   "outputs": [],
   "source": [
    "#count_abst = lambda x: \n",
    "voting_test = voting_df[['Name','Decision']].groupby('Name').apply(lambda x: np.sum(x.Decision==3)/len(x.Decision))\n",
    "voting_test.sort_values(ascending=False).head()"
   ]
  },
  {
   "cell_type": "markdown",
   "metadata": {},
   "source": [
    "Simply trying the aggregation at a session level for a deputee in particular, it will have to be done for every single one after, then exporting the resulting DataFrame to a `.csv` or `.json` to make it readable with `javascript`."
   ]
  },
  {
   "cell_type": "code",
   "execution_count": null,
   "metadata": {
    "collapsed": false
   },
   "outputs": [],
   "source": [
    "test = voting_dict['Filippo Leutenegger']\n",
    "test.head()"
   ]
  },
  {
   "cell_type": "code",
   "execution_count": null,
   "metadata": {
    "collapsed": false
   },
   "outputs": [],
   "source": [
    "voting_dict['Filippo Leutenegger'].loc[voting_dict['Filippo Leutenegger'].IdSession==4913].SessionName.unique()[0]"
   ]
  },
  {
   "cell_type": "code",
   "execution_count": null,
   "metadata": {
    "collapsed": false,
    "scrolled": false
   },
   "outputs": [],
   "source": [
    "test = voting_dict['Filippo Leutenegger'].groupby('IdSession')\n",
    "\n",
    "\n",
    "count_yes = lambda x: np.sum(x==1)\n",
    "count_no = lambda x: np.sum(x==2)\n",
    "count_abstention = lambda x: np.sum(x==3)\n",
    "count_absent = lambda x: np.sum(x==5)\n",
    "count_excused = lambda x: np.sum(x==6)\n",
    "count_president = lambda x: np.sum(x==7)\n",
    "name_session = lambda x: x.unique()[0]\n",
    "year_session = lambda x: x.unique()[0]\n",
    "\n",
    "test = test.agg({'Decision':{'Yes': count_yes, 'No': count_no,'Abstention': count_abstention,\n",
    "                'Excused':count_excused, 'Absent':count_absent, 'President':count_president},\n",
    "                         'SessionName':{'SessionName':name_session},'Year':{'Year':year_session}})\n",
    "\n",
    "test.columns = test.columns.droplevel(0)\n",
    "#test_grouped = test_grouped.join(test['SessionName','Year'])\n",
    "test = test[['Yes','No','Abstention','Absent','Excused','President','SessionName','Year']]\n",
    "#test['Total'] = test.sum(axis=1)\n",
    "test"
   ]
  },
  {
   "cell_type": "markdown",
   "metadata": {},
   "source": [
    "Aggregating further up at a yearly level"
   ]
  },
  {
   "cell_type": "code",
   "execution_count": null,
   "metadata": {
    "collapsed": false,
    "scrolled": true
   },
   "outputs": [],
   "source": [
    "test = test.drop('SessionName',1).groupby('Year').apply(sum).drop('Year',1)"
   ]
  },
  {
   "cell_type": "markdown",
   "metadata": {},
   "source": [
    "Displaying the result."
   ]
  },
  {
   "cell_type": "code",
   "execution_count": null,
   "metadata": {
    "collapsed": false,
    "scrolled": true
   },
   "outputs": [],
   "source": [
    "test['Presence'] = test['Yes']+test['No']+test['Abstention']+test['President']\n",
    "test['Absence'] = test['Excused']+test['Absent']\n",
    "\n",
    "test.plot.bar(x=test.index, y=['Yes','No','Abstention','Excused','Absent','President'])\n",
    "#test.plot.bar(x=test.index,y=['Presence','Absence'])"
   ]
  },
  {
   "cell_type": "markdown",
   "metadata": {},
   "source": [
    "N.B. We checked for consistency, and from the time the person is elected, he appears at all subsequent votes (the sum of all the fields will give the total number of votes from the session)"
   ]
  },
  {
   "cell_type": "markdown",
   "metadata": {},
   "source": [
    "### Exporting the results to the `analysis` folder in the datas "
   ]
  },
  {
   "cell_type": "code",
   "execution_count": null,
   "metadata": {
    "collapsed": false
   },
   "outputs": [],
   "source": [
    "def export_session_vote_csv(directory, deputee, df):\n",
    "    \"\"\"\n",
    "        Computes the session level aggregation for a deputee and then stores in the directory given as input.\n",
    "        Requires the name of the deputee, its associated dataframe\n",
    "    \"\"\"\n",
    "    df_grouped = df.groupby('IdSession')\n",
    "\n",
    "    count_yes = lambda x: np.sum(x==1); count_no = lambda x: np.sum(x==2); \n",
    "    count_abstention = lambda x: np.sum(x==3); count_absent = lambda x: np.sum(x==5);\n",
    "    count_excused = lambda x: np.sum(x==6); count_president = lambda x: np.sum(x==7);\n",
    "    # There is a unique session name and year as we group by session -> We want to keep it and found\n",
    "    # this kind of dirty way to do it.\n",
    "    name_session = lambda x: x.unique()[0]; year_session = lambda x: x.unique()[0]\n",
    "\n",
    "    df = df_grouped.agg({'Decision':{'Yes': count_yes, 'No': count_no,'Abstention': count_abstention,\n",
    "                    'Excused':count_excused, 'Absent':count_absent, 'President':count_president},\n",
    "                    'SessionName':{'SessionName':name_session},'Year':{'Year':year_session}})\n",
    "\n",
    "    df.columns = df.columns.droplevel(0)\n",
    "    df = df[['Yes','No','Abstention','Absent','Excused','President','SessionName','Year']]\n",
    "    df['Total'] = df.sum(axis=1)\n",
    "    \n",
    "    df.to_csv(directory+deputee+'_vote_session.csv')"
   ]
  },
  {
   "cell_type": "code",
   "execution_count": null,
   "metadata": {
    "collapsed": false
   },
   "outputs": [],
   "source": [
    "directory = '../datas/analysis/'\n",
    "if not os.path.exists(directory):\n",
    "    os.makedirs(directory)\n",
    "    \n",
    "for deputee, df in voting_dict.items():\n",
    "    export_session_vote_csv(directory,deputee,df)"
   ]
  },
  {
   "cell_type": "code",
   "execution_count": null,
   "metadata": {
    "collapsed": true
   },
   "outputs": [],
   "source": []
  }
 ],
 "metadata": {
  "anaconda-cloud": {},
  "kernelspec": {
   "display_name": "Python [Root]",
   "language": "python",
   "name": "Python [Root]"
  },
  "language_info": {
   "codemirror_mode": {
    "name": "ipython",
    "version": 3
   },
   "file_extension": ".py",
   "mimetype": "text/x-python",
   "name": "python",
   "nbconvert_exporter": "python",
   "pygments_lexer": "ipython3",
   "version": "3.5.2"
  }
 },
 "nbformat": 4,
 "nbformat_minor": 0
}
