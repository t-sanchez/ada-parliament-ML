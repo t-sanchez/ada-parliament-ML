{
 "cells": [
  {
   "cell_type": "code",
   "execution_count": null,
   "metadata": {
    "collapsed": false
   },
   "outputs": [],
   "source": [
    "import pandas as pd\n",
    "import glob\n",
    "import os\n",
    "import numpy as np\n",
    "from time import time\n",
    "import logging\n",
    "import gensim\n",
    "import bz2\n",
    "import PyPDF2"
   ]
  },
  {
   "cell_type": "code",
   "execution_count": null,
   "metadata": {
    "collapsed": false
   },
   "outputs": [],
   "source": [
    "dataset = []\n",
    "\n",
    "path = 'datas/scrap/Transcript/'\n",
    "#path = 'datas/Vote/'\n",
    "allFiles = glob.glob(os.path.join(path, '*.csv'))\n",
    "dataset = []\n",
    "for file_ in allFiles:\n",
    "    data = pd.read_csv(file_)\n",
    "    dataset += [data]\n",
    "datas = pd.concat(dataset)\n",
    "\n",
    "print(len(data.columns ) )  \n",
    "#print('Length of the dataset', len(dataset))\n"
   ]
  },
  {
   "cell_type": "markdown",
   "metadata": {},
   "source": [
    "# ! long to run use directly file FRTextfromsubject.csv"
   ]
  },
  {
   "cell_type": "code",
   "execution_count": null,
   "metadata": {
    "collapsed": false
   },
   "outputs": [],
   "source": [
    "subjects = datas.IdSubject.unique()\n",
    "dict_={'Subject Id':[],'Text':[]}\n",
    "text = ''\n",
    "for subject in subjects : \n",
    "    data_tmp = datas[(datas.IdSubject==subject) & (datas.LanguageOfText == 'FR')]\n",
    "    texts = data_tmp[data_tmp.Text == data_tmp.Text]\n",
    "    text = texts.Text.sum()\n",
    "    dict_['Subject Id'] += [subject]\n",
    "    dict_['Text'] += [text]"
   ]
  },
  {
   "cell_type": "code",
   "execution_count": null,
   "metadata": {
    "collapsed": false
   },
   "outputs": [],
   "source": [
    "transcript = pd.DataFrame(dict_)\n",
    "transcript.head(100)"
   ]
  },
  {
   "cell_type": "code",
   "execution_count": null,
   "metadata": {
    "collapsed": false
   },
   "outputs": [],
   "source": [
    "if not os.path.exists(\"datas/treated_data/Transcript\"):\n",
    "    os.makedirs(\"datas/treated_data/Transcript\")\n",
    "transcript.to_csv('datas/treated_data/Transcript/FRTextfromsubject.csv',index=False)"
   ]
  },
  {
   "cell_type": "code",
   "execution_count": null,
   "metadata": {
    "collapsed": true
   },
   "outputs": [],
   "source": []
  }
 ],
 "metadata": {
  "anaconda-cloud": {},
  "kernelspec": {
   "display_name": "Python [Root]",
   "language": "python",
   "name": "Python [Root]"
  },
  "language_info": {
   "codemirror_mode": {
    "name": "ipython",
    "version": 3
   },
   "file_extension": ".py",
   "mimetype": "text/x-python",
   "name": "python",
   "nbconvert_exporter": "python",
   "pygments_lexer": "ipython3",
   "version": "3.5.2"
  }
 },
 "nbformat": 4,
 "nbformat_minor": 0
}
