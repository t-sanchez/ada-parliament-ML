{
 "cells": [
  {
   "cell_type": "code",
   "execution_count": 2,
   "metadata": {
    "collapsed": true
   },
   "outputs": [],
   "source": [
    "import pandas as pd\n",
    "import numpy as np\n",
    "import glob\n",
    "import os\n",
    "# There's a lot of columns in the DF. \n",
    "# Therefore, we add this option so that we can see more columns\n",
    "pd.options.display.max_columns = 100"
   ]
  },
  {
   "cell_type": "code",
   "execution_count": 26,
   "metadata": {
    "collapsed": false
   },
   "outputs": [],
   "source": [
    "dataset_tmp = []\n",
    "path = 'datas/scrap/Voting'\n",
    "allFiles = glob.glob(os.path.join(path, 'Session*.csv'))\n",
    "\n",
    "for file_ in allFiles:\n",
    "    data_tmp = pd.read_csv(file_,index_col=0)\n",
    "    dataset_tmp += [data_tmp] \n",
    "voting_df = pd.concat(dataset_tmp)"
   ]
  },
  {
   "cell_type": "code",
   "execution_count": 27,
   "metadata": {
    "collapsed": false
   },
   "outputs": [
    {
     "name": "stderr",
     "output_type": "stream",
     "text": [
      "/home/paul/anaconda2/lib/python3.5/site-packages/pandas/core/indexing.py:288: SettingWithCopyWarning: \n",
      "A value is trying to be set on a copy of a slice from a DataFrame.\n",
      "Try using .loc[row_indexer,col_indexer] = value instead\n",
      "\n",
      "See the caveats in the documentation: http://pandas.pydata.org/pandas-docs/stable/indexing.html#indexing-view-versus-copy\n",
      "  self.obj[key] = _infer_fill_value(value)\n",
      "/home/paul/anaconda2/lib/python3.5/site-packages/pandas/core/indexing.py:465: SettingWithCopyWarning: \n",
      "A value is trying to be set on a copy of a slice from a DataFrame.\n",
      "Try using .loc[row_indexer,col_indexer] = value instead\n",
      "\n",
      "See the caveats in the documentation: http://pandas.pydata.org/pandas-docs/stable/indexing.html#indexing-view-versus-copy\n",
      "  self.obj[item] = s\n"
     ]
    },
    {
     "data": {
      "text/plain": [
       "Index(['BillTitle', 'BusinessNumber', 'BusinessShortNumber', 'BusinessTitle',\n",
       "       'Canton', 'CantonID', 'CantonName', 'Decision', 'DecisionText',\n",
       "       'FirstName', 'ID', 'IdLegislativePeriod', 'IdSession', 'IdVote',\n",
       "       'Language', 'LastName', 'MeaningNo', 'MeaningYes', 'ParlGroupCode',\n",
       "       'ParlGroupColour', 'ParlGroupName', 'ParlGroupNameAbbreviation',\n",
       "       'PersonNumber', 'RegistrationNumber', 'Subject', 'VoteEnd', 'Name'],\n",
       "      dtype='object')"
      ]
     },
     "execution_count": 27,
     "metadata": {},
     "output_type": "execute_result"
    }
   ],
   "source": [
    "test = voting_df.head(10)\n",
    "test.loc[:,'Name'] = test['FirstName']+\" \"+test['LastName']\n",
    "test.columns"
   ]
  },
  {
   "cell_type": "code",
   "execution_count": 28,
   "metadata": {
    "collapsed": true
   },
   "outputs": [],
   "source": [
    "keep = test[['Name', 'ParlGroupName', 'BillTitle', 'Subject', 'Decision', 'VoteEnd']]"
   ]
  },
  {
   "cell_type": "code",
   "execution_count": 29,
   "metadata": {
    "collapsed": true
   },
   "outputs": [],
   "source": [
    "votedict={1:'Yes',2:'No',3:'Abstention',5:'Absent',6:'Excused',7:'President'}"
   ]
  },
  {
   "cell_type": "code",
   "execution_count": 30,
   "metadata": {
    "collapsed": false
   },
   "outputs": [
    {
     "name": "stderr",
     "output_type": "stream",
     "text": [
      "/home/paul/anaconda2/lib/python3.5/site-packages/pandas/core/indexing.py:465: SettingWithCopyWarning: \n",
      "A value is trying to be set on a copy of a slice from a DataFrame.\n",
      "Try using .loc[row_indexer,col_indexer] = value instead\n",
      "\n",
      "See the caveats in the documentation: http://pandas.pydata.org/pandas-docs/stable/indexing.html#indexing-view-versus-copy\n",
      "  self.obj[item] = s\n",
      "/home/paul/anaconda2/lib/python3.5/site-packages/pandas/core/indexing.py:549: SettingWithCopyWarning: \n",
      "A value is trying to be set on a copy of a slice from a DataFrame.\n",
      "Try using .loc[row_indexer,col_indexer] = value instead\n",
      "\n",
      "See the caveats in the documentation: http://pandas.pydata.org/pandas-docs/stable/indexing.html#indexing-view-versus-copy\n",
      "  self.obj[item_labels[indexer[info_axis]]] = value\n"
     ]
    }
   ],
   "source": [
    "keep.loc[:,'Decision'] = keep['Decision'].replace(votedict)\n",
    "keep.loc[:,'VoteEnd'] = keep['VoteEnd'].apply(pd.to_datetime).apply(lambda x: x.date())"
   ]
  },
  {
   "cell_type": "code",
   "execution_count": 31,
   "metadata": {
    "collapsed": false
   },
   "outputs": [
    {
     "data": {
      "text/html": [
       "<div>\n",
       "<table border=\"1\" class=\"dataframe\">\n",
       "  <thead>\n",
       "    <tr style=\"text-align: right;\">\n",
       "      <th></th>\n",
       "      <th>Name</th>\n",
       "      <th>ParlGroupName</th>\n",
       "      <th>BillTitle</th>\n",
       "      <th>Subject</th>\n",
       "      <th>Decision</th>\n",
       "      <th>VoteEnd</th>\n",
       "    </tr>\n",
       "  </thead>\n",
       "  <tbody>\n",
       "    <tr>\n",
       "      <th>0</th>\n",
       "      <td>Adèle Thorens Goumaz</td>\n",
       "      <td>Groupe écologiste</td>\n",
       "      <td>Loi fédérale concernant la redevance pour l’ut...</td>\n",
       "      <td>Art. 6, Abs. 1, Bst. a</td>\n",
       "      <td>No</td>\n",
       "      <td>2013-03-04</td>\n",
       "    </tr>\n",
       "    <tr>\n",
       "      <th>1</th>\n",
       "      <td>Ada Marra</td>\n",
       "      <td>Groupe socialiste</td>\n",
       "      <td>Loi fédérale concernant la redevance pour l’ut...</td>\n",
       "      <td>Art. 6, Abs. 1, Bst. a</td>\n",
       "      <td>No</td>\n",
       "      <td>2013-03-04</td>\n",
       "    </tr>\n",
       "    <tr>\n",
       "      <th>2</th>\n",
       "      <td>Tiana Angelina Moser</td>\n",
       "      <td>Groupe vert'libéral</td>\n",
       "      <td>Loi fédérale concernant la redevance pour l’ut...</td>\n",
       "      <td>Art. 6, Abs. 1, Bst. a</td>\n",
       "      <td>No</td>\n",
       "      <td>2013-03-04</td>\n",
       "    </tr>\n",
       "    <tr>\n",
       "      <th>3</th>\n",
       "      <td>Natalie Rickli</td>\n",
       "      <td>Groupe des Paysans, Artisans et Bourgeois</td>\n",
       "      <td>Loi fédérale concernant la redevance pour l’ut...</td>\n",
       "      <td>Art. 6, Abs. 1, Bst. a</td>\n",
       "      <td>Yes</td>\n",
       "      <td>2013-03-04</td>\n",
       "    </tr>\n",
       "    <tr>\n",
       "      <th>4</th>\n",
       "      <td>Barbara Schmid-Federer</td>\n",
       "      <td>Groupe conservateur-catholique</td>\n",
       "      <td>Loi fédérale concernant la redevance pour l’ut...</td>\n",
       "      <td>Art. 6, Abs. 1, Bst. a</td>\n",
       "      <td>Abstention</td>\n",
       "      <td>2013-03-04</td>\n",
       "    </tr>\n",
       "  </tbody>\n",
       "</table>\n",
       "</div>"
      ],
      "text/plain": [
       "                     Name                              ParlGroupName  \\\n",
       "0    Adèle Thorens Goumaz                          Groupe écologiste   \n",
       "1               Ada Marra                          Groupe socialiste   \n",
       "2    Tiana Angelina Moser                        Groupe vert'libéral   \n",
       "3          Natalie Rickli  Groupe des Paysans, Artisans et Bourgeois   \n",
       "4  Barbara Schmid-Federer             Groupe conservateur-catholique   \n",
       "\n",
       "                                           BillTitle                 Subject  \\\n",
       "0  Loi fédérale concernant la redevance pour l’ut...  Art. 6, Abs. 1, Bst. a   \n",
       "1  Loi fédérale concernant la redevance pour l’ut...  Art. 6, Abs. 1, Bst. a   \n",
       "2  Loi fédérale concernant la redevance pour l’ut...  Art. 6, Abs. 1, Bst. a   \n",
       "3  Loi fédérale concernant la redevance pour l’ut...  Art. 6, Abs. 1, Bst. a   \n",
       "4  Loi fédérale concernant la redevance pour l’ut...  Art. 6, Abs. 1, Bst. a   \n",
       "\n",
       "     Decision     VoteEnd  \n",
       "0          No  2013-03-04  \n",
       "1          No  2013-03-04  \n",
       "2          No  2013-03-04  \n",
       "3         Yes  2013-03-04  \n",
       "4  Abstention  2013-03-04  "
      ]
     },
     "execution_count": 31,
     "metadata": {},
     "output_type": "execute_result"
    }
   ],
   "source": [
    "keep.head()"
   ]
  },
  {
   "cell_type": "code",
   "execution_count": null,
   "metadata": {
    "collapsed": true
   },
   "outputs": [],
   "source": []
  }
 ],
 "metadata": {
  "kernelspec": {
   "display_name": "Python 3",
   "language": "python",
   "name": "python3"
  },
  "language_info": {
   "codemirror_mode": {
    "name": "ipython",
    "version": 3
   },
   "file_extension": ".py",
   "mimetype": "text/x-python",
   "name": "python",
   "nbconvert_exporter": "python",
   "pygments_lexer": "ipython3",
   "version": "3.5.2"
  }
 },
 "nbformat": 4,
 "nbformat_minor": 1
}
