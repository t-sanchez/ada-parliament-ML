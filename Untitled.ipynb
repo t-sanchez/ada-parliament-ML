{
 "cells": [
  {
   "cell_type": "code",
   "execution_count": 43,
   "metadata": {
    "collapsed": false
   },
   "outputs": [],
   "source": [
    "from bs4 import BeautifulSoup\n",
    "import urllib.request\n",
    "import pandas as pd\n",
    "import html5lib \n",
    "from lxml import *\n",
    "import numpy as np\n",
    "import xmljson \n",
    "from xmljson import badgerfish as bf\n",
    "from json import *\n",
    "import xml.etree.ElementTree as ET\n",
    "from PyPDF2 import PdfFileWriter, PdfFileReader\n",
    "from io import StringIO\n",
    "import webbrowser\n",
    "import requests\n",
    "import os as os"
   ]
  },
  {
   "cell_type": "code",
   "execution_count": 99,
   "metadata": {
    "collapsed": false
   },
   "outputs": [],
   "source": [
    "home_url  =\"https://www.parlament.ch/centers/eparl/curia/2006/20060096/Texte%20pour%20le%20vote%20final%20NS%20F.pdf\"\n",
    "response = requests.get(home_url, stream=True)\n",
    "with open('metadata.pdf', 'wb') as f:\n",
    "    f.write(response.content)\n",
    "#soup = BeautifulSoup(response.text)\n",
    "#local_file = open('some_file.pdf', 'wb')\n",
    "#local_file.write(response.)\n",
    "#local_file.close()\n"
   ]
  },
  {
   "cell_type": "code",
   "execution_count": 5,
   "metadata": {
    "collapsed": false
   },
   "outputs": [
    {
     "name": "stdout",
     "output_type": "stream",
     "text": [
      "b'<?xml version=\"1.0\" encoding=\"utf-8\"?><feed xml:base=\"https://ws.parlament.ch/OData.svc/\" xmlns=\"http://www.w3.org/2005/Atom\" xmlns:d=\"http://schemas.microsoft.com/ado/2007/08/dataservices\" xmlns:m=\"http://schemas.microsoft.com/ado/2007/08/dataservices/metadata\"><id>https://ws.parlament.ch/odata.svc/LegislativePeriod</id><title type=\"text\">LegislativePeriod</title><updated>2016-11-07T17:03:59Z</updated><link rel=\"self\" title=\"LegislativePeriod\" href=\"LegislativePeriod\" /><entry><id>https://ws.parlament.ch/OData.svc/LegislativePeriod(ID=37,Language=\\'DE\\')</id><category term=\"itsystems.Pd.DataServices.DataModel.LegislativePeriod\" scheme=\"http://schemas.microsoft.com/ado/2007/08/dataservices/scheme\" /><link rel=\"edit\" title=\"LegislativePeriod\" href=\"LegislativePeriod(ID=37,Language=\\'DE\\')\" /><link rel=\"http://schemas.microsoft.com/ado/2007/08/dataservices/related/Businesses\" type=\"application/atom+xml;type=feed\" title=\"Businesses\" href=\"LegislativePeriod(ID=37,Language=\\'DE\\')/Businesses\" /><link rel=\"http://schemas.microsoft.com/ado/2007/08/dataservices/related/Sessions\" type=\"application/atom+xml;type=feed\" title=\"Sessions\" href=\"LegislativePeriod(ID=37,Language=\\'DE\\')/Sessions\" /><link rel=\"http://schemas.microsoft.com/ado/2007/08/dataservices/related/Votes\" type=\"application/atom+xml;type=feed\" title=\"Votes\" href=\"LegislativePeriod(ID=37,Language=\\'DE\\')/Votes\" /><title /><updated>2016-11-07T17:03:59Z</updated><author><name /></author><content type=\"application/xml\"><m:properties><d:ID m:type=\"Edm.Int16\">37</d:ID><d:Language>DE</d:Language><d:LegislativePeriodNumber m:type=\"Edm.Int16\">37</d:LegislativePeriodNumber><d:LegislativePeriodName>37. Legislatur</d:LegislativePeriodName><d:LegislativePeriodAbbreviation>Legi. 37</d:LegislativePeriodAbbreviation><d:StartDate m:type=\"Edm.DateTime\">1963-12-02T00:00:00</d:StartDate><d:EndDate m:type=\"Edm.DateTime\">1967-12-03T00:00:00</d:EndDate><d:Modified m:type=\"Edm.DateTime\">2010-12-26T13:06:25.13</d:Modified></m:properties></content></entry></feed>'\n"
     ]
    },
    {
     "ename": "TypeError",
     "evalue": "initial_value must be str or None, not bytes",
     "output_type": "error",
     "traceback": [
      "\u001b[0;31m---------------------------------------------------------------------------\u001b[0m",
      "\u001b[0;31mTypeError\u001b[0m                                 Traceback (most recent call last)",
      "\u001b[0;32m<ipython-input-5-4cdb517c0217>\u001b[0m in \u001b[0;36m<module>\u001b[0;34m()\u001b[0m\n\u001b[1;32m      6\u001b[0m \u001b[0mremoteFile\u001b[0m \u001b[0;34m=\u001b[0m \u001b[0murllib\u001b[0m\u001b[0;34m.\u001b[0m\u001b[0mrequest\u001b[0m\u001b[0;34m.\u001b[0m\u001b[0murlopen\u001b[0m\u001b[0;34m(\u001b[0m\u001b[0;34m(\u001b[0m\u001b[0mhome_url\u001b[0m\u001b[0;34m)\u001b[0m\u001b[0;34m)\u001b[0m\u001b[0;34m.\u001b[0m\u001b[0mread\u001b[0m\u001b[0;34m(\u001b[0m\u001b[0;34m)\u001b[0m\u001b[0;34m\u001b[0m\u001b[0m\n\u001b[1;32m      7\u001b[0m \u001b[0mprint\u001b[0m\u001b[0;34m(\u001b[0m\u001b[0mremoteFile\u001b[0m\u001b[0;34m)\u001b[0m\u001b[0;34m\u001b[0m\u001b[0m\n\u001b[0;32m----> 8\u001b[0;31m \u001b[0mmemoryFile\u001b[0m \u001b[0;34m=\u001b[0m \u001b[0mStringIO\u001b[0m\u001b[0;34m(\u001b[0m\u001b[0mremoteFile\u001b[0m\u001b[0;34m)\u001b[0m\u001b[0;34m\u001b[0m\u001b[0m\n\u001b[0m\u001b[1;32m      9\u001b[0m \u001b[0mpdfFile\u001b[0m \u001b[0;34m=\u001b[0m \u001b[0mPdfFileReader\u001b[0m\u001b[0;34m(\u001b[0m\u001b[0mremoteFile\u001b[0m\u001b[0;34m)\u001b[0m\u001b[0;34m\u001b[0m\u001b[0m\n\u001b[1;32m     10\u001b[0m \u001b[0;34m\u001b[0m\u001b[0m\n",
      "\u001b[0;31mTypeError\u001b[0m: initial_value must be str or None, not bytes"
     ]
    }
   ],
   "source": [
    "#home_url  =\"https://www.parlament.ch/centers/eparl/curia/2006/20060096/Texte%20pour%20le%20vote%20final%20NS%20F.pdf\"\n",
    "#\n",
    "writer = PdfFileWriter()\n",
    "\n",
    "remoteFile = urllib.request.urlopen((home_url)).read()\n",
    "print(remoteFile)\n",
    "memoryFile = StringIO(remoteFile)\n",
    "pdfFile = PdfFileReader(remoteFile)\n",
    "\n",
    "for pageNum in xrange(pdfFile.getNumPages()):\n",
    "        currentPage = pdfFile.getPage(pageNum)\n",
    "        #currentPage.mergePage(watermark.getPage(0))\n",
    "        writer.addPage(currentPage)\n",
    "\n",
    "\n",
    "outputStream = open(\"output.pdf\",\"wb\")\n",
    "writer.write(outputStream)\n",
    "outputStream.close()"
   ]
  },
  {
   "cell_type": "code",
   "execution_count": 115,
   "metadata": {
    "collapsed": false
   },
   "outputs": [],
   "source": [
    "def parsing_datas(base_url) :\n",
    "\n",
    "    print(base_url)\n",
    "    with urllib.request.urlopen(base_url) as url:\n",
    "        s = url.read()\n",
    "    root = ET.fromstring(s)\n",
    "\n",
    "    dict_ = {}\n",
    "    base = \"{http://www.w3.org/2005/Atom}\"\n",
    "    for child in root.iter(base+'entry'):\n",
    "        for children in child.iter(base+'content') :\n",
    "            for properties in children :\n",
    "                for subject in properties : \n",
    "                        #print(subject.text)\n",
    "                    s = subject.tag.split('}')\n",
    "                    if s[1] in dict_ :\n",
    "                        dict_[s[1]].append(subject.text)\n",
    "                    else : \n",
    "                        dict_[s[1]] = [subject.text]\n",
    "    data = pd.DataFrame(dict_)\n",
    "    return data"
   ]
  },
  {
   "cell_type": "code",
   "execution_count": 116,
   "metadata": {
    "collapsed": false
   },
   "outputs": [
    {
     "name": "stdout",
     "output_type": "stream",
     "text": [
      "https://ws.parlament.ch/odata.svc/LegislativePeriod?$top=100\n",
      "['2' '4' '5' '6' '8' '10' '13' '15' '16' '26' '28' '33' '34' '35' '36' '43'\n",
      " '46' '47' '62']\n"
     ]
    }
   ],
   "source": [
    "legislative_url =\"https://ws.parlament.ch/odata.svc/LegislativePeriod?$top=100\"\n",
    "legislative_data = parsing_datas(legislative_url)\n",
    "legi_periode_id  = legislative_data['ID'].unique()[1:]\n",
    "print(legi_periode)"
   ]
  },
  {
   "cell_type": "code",
   "execution_count": 282,
   "metadata": {
    "collapsed": false
   },
   "outputs": [],
   "source": [
    "def save_data(url, paths, paths_id,directory,change_url = False) :\n",
    "        if len(paths_id[paths[0]]) == 0 :\n",
    "            \n",
    "            data = parsing_datas(url)\n",
    "            if not data.empty :\n",
    "                print(directory)\n",
    "\n",
    "                directory += '/'+ paths[0]\n",
    "                if not os.path.exists(directory):\n",
    "                    os.makedirs(directory)\n",
    "                id_  = data['ID'].unique()[1:]\n",
    "                for data_index in id_ :\n",
    "                    data.to_csv(directory+'/'+paths[-1]+str(data_index)+\".csv\")\n",
    "        else :\n",
    "            \n",
    "            for index in paths_id[paths[0]] :\n",
    "                new_directory = directory\n",
    "                new_paths = paths_id.copy()\n",
    "                new_paths.pop(paths[0],None)\n",
    "                new_directory += '/'+paths[0]+'_id_'+str(index)\n",
    "                if not os.path.exists(new_directory):\n",
    "                    os.makedirs(new_directory)\n",
    "                if change_url :\n",
    "                    new_url = url\n",
    "                    new_url = new_url.replace('{}',index)\n",
    "                print(new_url)\n",
    "                save_data(new_url,paths[1:],new_paths,new_directory,False)"
   ]
  },
  {
   "cell_type": "code",
   "execution_count": 283,
   "metadata": {
    "collapsed": false
   },
   "outputs": [
    {
     "name": "stdout",
     "output_type": "stream",
     "text": [
      "https://ws.parlament.ch/odata.svc/Vote?$top=100&$filter=IdLegislativePeriod%20eq%2038\n",
      "https://ws.parlament.ch/odata.svc/Vote?$top=100&$filter=IdLegislativePeriod%20eq%2038\n",
      "https://ws.parlament.ch/odata.svc/Vote?$top=100&$filter=IdLegislativePeriod%20eq%2039\n",
      "https://ws.parlament.ch/odata.svc/Vote?$top=100&$filter=IdLegislativePeriod%20eq%2039\n",
      "https://ws.parlament.ch/odata.svc/Vote?$top=100&$filter=IdLegislativePeriod%20eq%2040\n",
      "https://ws.parlament.ch/odata.svc/Vote?$top=100&$filter=IdLegislativePeriod%20eq%2040\n",
      "https://ws.parlament.ch/odata.svc/Vote?$top=100&$filter=IdLegislativePeriod%20eq%2041\n",
      "https://ws.parlament.ch/odata.svc/Vote?$top=100&$filter=IdLegislativePeriod%20eq%2041\n",
      "https://ws.parlament.ch/odata.svc/Vote?$top=100&$filter=IdLegislativePeriod%20eq%2042\n",
      "https://ws.parlament.ch/odata.svc/Vote?$top=100&$filter=IdLegislativePeriod%20eq%2042\n",
      "https://ws.parlament.ch/odata.svc/Vote?$top=100&$filter=IdLegislativePeriod%20eq%2043\n",
      "https://ws.parlament.ch/odata.svc/Vote?$top=100&$filter=IdLegislativePeriod%20eq%2043\n",
      "https://ws.parlament.ch/odata.svc/Vote?$top=100&$filter=IdLegislativePeriod%20eq%2044\n",
      "https://ws.parlament.ch/odata.svc/Vote?$top=100&$filter=IdLegislativePeriod%20eq%2044\n",
      "https://ws.parlament.ch/odata.svc/Vote?$top=100&$filter=IdLegislativePeriod%20eq%2045\n",
      "https://ws.parlament.ch/odata.svc/Vote?$top=100&$filter=IdLegislativePeriod%20eq%2045\n",
      "https://ws.parlament.ch/odata.svc/Vote?$top=100&$filter=IdLegislativePeriod%20eq%2046\n",
      "https://ws.parlament.ch/odata.svc/Vote?$top=100&$filter=IdLegislativePeriod%20eq%2046\n",
      "https://ws.parlament.ch/odata.svc/Vote?$top=100&$filter=IdLegislativePeriod%20eq%2047\n",
      "https://ws.parlament.ch/odata.svc/Vote?$top=100&$filter=IdLegislativePeriod%20eq%2047\n",
      "test/legi_id_47\n",
      "https://ws.parlament.ch/odata.svc/Vote?$top=100&$filter=IdLegislativePeriod%20eq%2048\n",
      "https://ws.parlament.ch/odata.svc/Vote?$top=100&$filter=IdLegislativePeriod%20eq%2048\n",
      "test/legi_id_48\n",
      "https://ws.parlament.ch/odata.svc/Vote?$top=100&$filter=IdLegislativePeriod%20eq%2049\n",
      "https://ws.parlament.ch/odata.svc/Vote?$top=100&$filter=IdLegislativePeriod%20eq%2049\n",
      "test/legi_id_49\n",
      "https://ws.parlament.ch/odata.svc/Vote?$top=100&$filter=IdLegislativePeriod%20eq%2050\n",
      "https://ws.parlament.ch/odata.svc/Vote?$top=100&$filter=IdLegislativePeriod%20eq%2050\n",
      "test/legi_id_50\n"
     ]
    }
   ],
   "source": [
    "vote_url_base = \"https://ws.parlament.ch/odata.svc/Vote?$top=100&$filter=IdLegislativePeriod%20eq%20{}\"\n",
    "base_vote_directory= \"vote\"\n",
    "base_legi_directory = \"legi\"\n",
    "if not os.path.exists(\"test\"):\n",
    "    os.makedirs(\"test\")\n",
    "directory = 'test'\n",
    "direc = [base_legi_directory,base_vote_directory ]\n",
    "dict_ = {}\n",
    "dict_ [base_legi_directory] = legi_periode_id\n",
    "dict_ [base_vote_directory] = []\n",
    "save_data(vote_url_base,direc,dict_,directory,True)"
   ]
  },
  {
   "cell_type": "code",
   "execution_count": 139,
   "metadata": {
    "collapsed": false
   },
   "outputs": [
    {
     "name": "stdout",
     "output_type": "stream",
     "text": [
      "https://ws.parlament.ch/odata.svc/Vote?$top=100&$filter=IdLegislativePeriod%20eq%2038\n",
      "https://ws.parlament.ch/odata.svc/Vote?$top=100&$filter=IdLegislativePeriod%20eq%2039\n",
      "https://ws.parlament.ch/odata.svc/Vote?$top=100&$filter=IdLegislativePeriod%20eq%2040\n",
      "https://ws.parlament.ch/odata.svc/Vote?$top=100&$filter=IdLegislativePeriod%20eq%2041\n",
      "https://ws.parlament.ch/odata.svc/Vote?$top=100&$filter=IdLegislativePeriod%20eq%2042\n",
      "https://ws.parlament.ch/odata.svc/Vote?$top=100&$filter=IdLegislativePeriod%20eq%2043\n",
      "https://ws.parlament.ch/odata.svc/Vote?$top=100&$filter=IdLegislativePeriod%20eq%2044\n",
      "https://ws.parlament.ch/odata.svc/Vote?$top=100&$filter=IdLegislativePeriod%20eq%2045\n",
      "https://ws.parlament.ch/odata.svc/Vote?$top=100&$filter=IdLegislativePeriod%20eq%2046\n",
      "https://ws.parlament.ch/odata.svc/Vote?$top=100&$filter=IdLegislativePeriod%20eq%2047\n",
      "https://ws.parlament.ch/odata.svc/Vote?$top=100&$filter=IdLegislativePeriod%20eq%2048\n",
      "https://ws.parlament.ch/odata.svc/Vote?$top=100&$filter=IdLegislativePeriod%20eq%2049\n",
      "https://ws.parlament.ch/odata.svc/Vote?$top=100&$filter=IdLegislativePeriod%20eq%2050\n"
     ]
    }
   ],
   "source": [
    "vote_url_base = \"https://ws.parlament.ch/odata.svc/Vote?$top=100&$filter=IdLegislativePeriod%20eq%20{}\"\n",
    "base_vote_directory= \"vote\"\n",
    "base_legi_directory = \"test/legi\"\n",
    "direc = [base_vote_directory , base_legi_directory]\n",
    "for legi_index in legi_periode_id :\n",
    "    vote_url = vote_url_base.replace('{}',legi_index)\n",
    "    vote_data = parsing_datas(vote_url)\n",
    "    if not vote_data.empty :\n",
    "        vote_periode_id  = vote_data['ID'].unique()[1:]\n",
    "        directory = base_legi_directory+'_id_'+str(legi_index)+'/'+base_vote_directory\n",
    "        if not os.path.exists(directory):\n",
    "            os.makedirs(directory)\n",
    "        for vote_index in vote_periode_id :\n",
    "            vote_data.to_csv(directory+'/'+base_vote+str(vote_index)+\".csv\")\n",
    "           "
   ]
  },
  {
   "cell_type": "code",
   "execution_count": 38,
   "metadata": {
    "collapsed": false
   },
   "outputs": [],
   "source": [
    "data.to_csv(\"data.csv\")"
   ]
  },
  {
   "cell_type": "code",
   "execution_count": 39,
   "metadata": {
    "collapsed": false
   },
   "outputs": [
    {
     "ename": "NameError",
     "evalue": "name 'os' is not defined",
     "output_type": "error",
     "traceback": [
      "\u001b[0;31m---------------------------------------------------------------------------\u001b[0m",
      "\u001b[0;31mNameError\u001b[0m                                 Traceback (most recent call last)",
      "\u001b[0;32m<ipython-input-39-c9056e45610a>\u001b[0m in \u001b[0;36m<module>\u001b[0;34m()\u001b[0m\n\u001b[0;32m----> 1\u001b[0;31m \u001b[0mos\u001b[0m\u001b[0;34m.\u001b[0m\u001b[0mmakedirs\u001b[0m\u001b[0;34m(\u001b[0m\u001b[0;34m'directory'\u001b[0m\u001b[0;34m)\u001b[0m\u001b[0;34m\u001b[0m\u001b[0m\n\u001b[0m",
      "\u001b[0;31mNameError\u001b[0m: name 'os' is not defined"
     ]
    }
   ],
   "source": [
    "os.makedirs('directory')"
   ]
  },
  {
   "cell_type": "code",
   "execution_count": 120,
   "metadata": {
    "collapsed": true
   },
   "outputs": [],
   "source": [
    "os.makedirs('directory/lol')"
   ]
  },
  {
   "cell_type": "code",
   "execution_count": null,
   "metadata": {
    "collapsed": true
   },
   "outputs": [],
   "source": []
  }
 ],
 "metadata": {
  "anaconda-cloud": {},
  "kernelspec": {
   "display_name": "Python [Root]",
   "language": "python",
   "name": "Python [Root]"
  },
  "language_info": {
   "codemirror_mode": {
    "name": "ipython",
    "version": 3
   },
   "file_extension": ".py",
   "mimetype": "text/x-python",
   "name": "python",
   "nbconvert_exporter": "python",
   "pygments_lexer": "ipython3",
   "version": "3.5.2"
  }
 },
 "nbformat": 4,
 "nbformat_minor": 0
}
